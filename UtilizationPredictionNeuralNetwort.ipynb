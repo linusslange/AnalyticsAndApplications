{
 "cells": [
  {
   "cell_type": "markdown",
   "id": "99d11f38-080a-4c49-ac45-81d4561a89cb",
   "metadata": {},
   "source": [
    "# Prediction of the utilization using Neural Networks"
   ]
  },
  {
   "cell_type": "code",
   "execution_count": 1,
   "id": "a1a48603-d3e0-4b2a-a2bf-8b729c9d9984",
   "metadata": {},
   "outputs": [],
   "source": [
    "import pandas as pd\n",
    "import numpy as np\n",
    "import matplotlib as mpl\n",
    "import matplotlib.pyplot as plt\n",
    "from datetime import datetime\n",
    "from sklearn.model_selection import train_test_split\n",
    "from sklearn.preprocessing import StandardScaler\n",
    "from sklearn.metrics import mean_squared_error, mean_absolute_error, mean_absolute_percentage_error\n",
    "\n",
    "import os\n",
    "os.environ[\"KERAS_BACKEND\"] = \"torch\"\n",
    "\n",
    "import keras\n",
    "from keras import Sequential\n",
    "from keras.layers import Dense, Dropout\n",
    "\n",
    "%matplotlib inline"
   ]
  },
  {
   "cell_type": "markdown",
   "id": "a8c3b029-80ee-473f-9172-d65613ae52a4",
   "metadata": {},
   "source": [
    "### Cross validation and normalizing"
   ]
  },
  {
   "cell_type": "markdown",
   "id": "f18c5665-a4d9-4a9d-9c43-8cd59d89c85b",
   "metadata": {},
   "source": [
    "We will perform the predictions for site 1 and site 2 separately, because they have different characteristics. \n",
    "The random state parameter means that the cross validation is reproducible and can be performed in the same way for the prediction using polynomial regression."
   ]
  },
  {
   "cell_type": "code",
   "execution_count": 2,
   "id": "5ad835a0-69fc-4b1c-89c4-a1fed90bcd3d",
   "metadata": {},
   "outputs": [],
   "source": [
    "# read in the preprocessed data\n",
    "Input_hourly = pd.read_csv('input_hourly.csv', parse_dates=['date'])\n",
    "\n",
    "# split into input and output\n",
    "X_site1 = Input_hourly.drop([\"time_id\", \"date\", \"site1_utilization_percentage\", \"site2_utilization_percentage\"], axis=1)\n",
    "y_site1 = Input_hourly[\"site1_utilization_percentage\"]\n",
    "\n",
    "X_site2 = Input_hourly.drop([\"time_id\", \"date\", \"site1_utilization_percentage\", \"site2_utilization_percentage\"], axis=1)\n",
    "y_site2 = Input_hourly[\"site2_utilization_percentage\"]\n",
    "\n",
    "# cross-validation\n",
    "X_train_site1, X_test_site1, y_train_site1, y_test_site1 = train_test_split(X_site1, y_site1, test_size=0.3, random_state=42)\n",
    "\n",
    "X_train_site2, X_test_site2, y_train_site2, y_test_site2 = train_test_split(X_site2, y_site2, test_size=0.3, random_state=42)\n",
    "\n",
    "# normalize the data\n",
    "scaler_site1 = StandardScaler()\n",
    "scaler_site1.fit(X_train_site1)\n",
    "X_train_site1 = scaler_site1.transform(X_train_site1)\n",
    "X_test_site1 = scaler_site1.transform(X_test_site1)\n",
    "\n",
    "scaler_site2 = StandardScaler()\n",
    "scaler_site2.fit(X_train_site2)\n",
    "X_train_site2 = scaler_site2.transform(X_train_site2)\n",
    "X_test_site2 = scaler_site2.transform(X_test_site2)"
   ]
  },
  {
   "cell_type": "markdown",
   "id": "4d114f1d-962f-44b5-99a8-f8ed2dfc4624",
   "metadata": {},
   "source": [
    "## Utilization prediction of site 1"
   ]
  },
  {
   "cell_type": "markdown",
   "id": "49a6458d-ee9a-4da3-9888-4c1a9db2df4c",
   "metadata": {},
   "source": [
    "### Model definition (site 1)"
   ]
  },
  {
   "cell_type": "code",
   "execution_count": 3,
   "id": "e567e391-5ca1-4831-b448-49ecc995f790",
   "metadata": {},
   "outputs": [
    {
     "name": "stdout",
     "output_type": "stream",
     "text": [
      "Model: \"sequential\"\n",
      "_________________________________________________________________\n",
      " Layer (type)                Output Shape              Param #   \n",
      "=================================================================\n",
      " dense (Dense)               (None, 36)                1656      \n",
      "                                                                 \n",
      " dense_1 (Dense)             (None, 36)                1332      \n",
      "                                                                 \n",
      " dense_2 (Dense)             (None, 1)                 37        \n",
      "                                                                 \n",
      "=================================================================\n",
      "Total params: 3,025\n",
      "Trainable params: 3,025\n",
      "Non-trainable params: 0\n",
      "_________________________________________________________________\n"
     ]
    }
   ],
   "source": [
    "model_site1 = Sequential(\n",
    "    [Dense(36, activation=\"relu\", input_shape=[X_train_site1.shape[1]]),\n",
    "    Dense(36, activation=\"relu\"),\n",
    "     Dense(1)])\n",
    "model_site1.compile(loss='mse',\n",
    "             optimizer=\"adam\",\n",
    "             metrics=[\"mae\", \"mse\"])\n",
    "model_site1.summary()"
   ]
  },
  {
   "cell_type": "markdown",
   "id": "4538a66e-16a3-4dea-a97a-9f4c5ec552d3",
   "metadata": {},
   "source": [
    "### Training the model (site 1)"
   ]
  },
  {
   "cell_type": "code",
   "execution_count": 4,
   "id": "229f4c3e-a84a-4cf4-bec6-c6fcb89c4e60",
   "metadata": {},
   "outputs": [
    {
     "name": "stdout",
     "output_type": "stream",
     "text": [
      "Epoch 1/20\n",
      "215/215 [==============================] - 2s 6ms/step - loss: 519.8807 - mae: 13.6444 - mse: 519.8807 - val_loss: 251.3384 - val_mae: 11.2461 - val_mse: 251.3384\n",
      "Epoch 2/20\n",
      "215/215 [==============================] - 1s 4ms/step - loss: 148.3217 - mae: 8.0284 - mse: 148.3217 - val_loss: 130.7649 - val_mae: 7.1238 - val_mse: 130.7649\n",
      "Epoch 3/20\n",
      "215/215 [==============================] - 1s 4ms/step - loss: 105.8409 - mae: 5.8928 - mse: 105.8409 - val_loss: 116.5357 - val_mae: 6.0272 - val_mse: 116.5357\n",
      "Epoch 4/20\n",
      "215/215 [==============================] - 1s 3ms/step - loss: 98.6037 - mae: 5.1937 - mse: 98.6037 - val_loss: 111.4088 - val_mae: 5.5284 - val_mse: 111.4088\n",
      "Epoch 5/20\n",
      "215/215 [==============================] - 1s 3ms/step - loss: 96.2118 - mae: 4.8677 - mse: 96.2118 - val_loss: 109.2542 - val_mae: 5.3271 - val_mse: 109.2542\n",
      "Epoch 6/20\n",
      "215/215 [==============================] - 1s 3ms/step - loss: 94.7929 - mae: 4.7538 - mse: 94.7929 - val_loss: 110.3145 - val_mae: 5.3393 - val_mse: 110.3145\n",
      "Epoch 7/20\n",
      "215/215 [==============================] - 1s 3ms/step - loss: 93.8308 - mae: 4.6671 - mse: 93.8308 - val_loss: 107.7115 - val_mae: 5.1420 - val_mse: 107.7115\n",
      "Epoch 8/20\n",
      "215/215 [==============================] - 1s 3ms/step - loss: 92.4561 - mae: 4.5858 - mse: 92.4561 - val_loss: 107.8731 - val_mae: 5.1756 - val_mse: 107.8731\n",
      "Epoch 9/20\n",
      "215/215 [==============================] - 1s 3ms/step - loss: 92.3792 - mae: 4.6102 - mse: 92.3792 - val_loss: 107.4886 - val_mae: 5.1078 - val_mse: 107.4886\n",
      "Epoch 10/20\n",
      "215/215 [==============================] - 1s 3ms/step - loss: 91.2316 - mae: 4.5426 - mse: 91.2316 - val_loss: 106.1557 - val_mae: 4.9712 - val_mse: 106.1557\n",
      "Epoch 11/20\n",
      "215/215 [==============================] - 1s 3ms/step - loss: 90.9791 - mae: 4.5339 - mse: 90.9791 - val_loss: 107.7988 - val_mae: 5.1532 - val_mse: 107.7988\n",
      "Epoch 12/20\n",
      "215/215 [==============================] - 1s 3ms/step - loss: 90.4501 - mae: 4.5379 - mse: 90.4501 - val_loss: 106.5320 - val_mae: 5.0534 - val_mse: 106.5320\n",
      "Epoch 13/20\n",
      "215/215 [==============================] - 1s 3ms/step - loss: 90.0579 - mae: 4.5180 - mse: 90.0579 - val_loss: 105.5525 - val_mae: 4.9928 - val_mse: 105.5525\n",
      "Epoch 14/20\n",
      "215/215 [==============================] - 1s 3ms/step - loss: 89.1726 - mae: 4.4926 - mse: 89.1726 - val_loss: 106.6347 - val_mae: 5.0736 - val_mse: 106.6347\n",
      "Epoch 15/20\n",
      "215/215 [==============================] - 1s 4ms/step - loss: 89.2720 - mae: 4.4784 - mse: 89.2720 - val_loss: 106.4722 - val_mae: 5.0425 - val_mse: 106.4722\n",
      "Epoch 16/20\n",
      "215/215 [==============================] - 1s 4ms/step - loss: 88.8619 - mae: 4.4731 - mse: 88.8619 - val_loss: 105.8322 - val_mae: 4.9964 - val_mse: 105.8322\n",
      "Epoch 17/20\n",
      "215/215 [==============================] - 1s 4ms/step - loss: 88.4521 - mae: 4.4986 - mse: 88.4521 - val_loss: 106.0878 - val_mae: 4.9411 - val_mse: 106.0878\n",
      "Epoch 18/20\n",
      "215/215 [==============================] - 1s 4ms/step - loss: 88.6384 - mae: 4.4813 - mse: 88.6384 - val_loss: 106.2088 - val_mae: 4.9823 - val_mse: 106.2088\n",
      "Epoch 19/20\n",
      "215/215 [==============================] - 1s 3ms/step - loss: 87.1902 - mae: 4.4487 - mse: 87.1902 - val_loss: 107.0260 - val_mae: 4.9942 - val_mse: 107.0260\n",
      "Epoch 20/20\n",
      "215/215 [==============================] - 1s 3ms/step - loss: 87.0974 - mae: 4.4444 - mse: 87.0974 - val_loss: 108.1113 - val_mae: 5.1821 - val_mse: 108.1113\n"
     ]
    },
    {
     "data": {
      "image/png": "[encoded data removed]",
      "text/plain": [
       "<Figure size 640x480 with 1 Axes>"
      ]
     },
     "metadata": {},
     "output_type": "display_data"
    }
   ],
   "source": [
    "epochs_site1 = 20\n",
    "\n",
    "# train the model\n",
    "history_site1 = model_site1.fit(X_train_site1, y_train_site1.values,\n",
    "                   epochs=epochs_site1, validation_split=0.2)\n",
    "history_site1 = pd.DataFrame(history_site1.history)\n",
    "\n",
    "# compute rmse\n",
    "root_metrics_site1 = history_site1[[\"mse\", \"val_mse\"]].apply(np.sqrt)\n",
    "root_metrics_site1.rename({\"mse\":\"rmse\", \"val_mse\":\"val_rmse\"}, axis=1, inplace=True)\n",
    "\n",
    "# plot rmse of the training and validation set per epoch\n",
    "plt.Figure(figsize=(14,6), dpi=100)\n",
    "plt.plot(root_metrics_site1[\"rmse\"], label = 'Training error')\n",
    "plt.plot(root_metrics_site1[\"val_rmse\"], label = 'Validation error')\n",
    "\n",
    "plt.xlabel(\"Epochs\")\n",
    "plt.ylabel(\"Root Mean Squared Error\")\n",
    "\n",
    "plt.xticks(range(1,20))\n",
    "plt.legend()\n",
    "\n",
    "plt.show()"
   ]
  },
  {
   "cell_type": "markdown",
   "id": "7cfd863a-662c-4c73-8808-cab9386e7c0a",
   "metadata": {},
   "source": [
    "### Prediction (site 1)"
   ]
  },
  {
   "cell_type": "code",
   "execution_count": 5,
   "id": "0b0f58ec-de50-4daa-8c1a-37281cfcbb48",
   "metadata": {},
   "outputs": [
    {
     "name": "stdout",
     "output_type": "stream",
     "text": [
      "115/115 [==============================] - 0s 2ms/step\n"
     ]
    }
   ],
   "source": [
    "# prediction using the trained model\n",
    "y_pred_site1 = model_site1.predict(X_test_site1)"
   ]
  },
  {
   "cell_type": "markdown",
   "id": "5a160384-7805-4069-aac0-6146d7e700af",
   "metadata": {},
   "source": [
    "### Evaluation (site 1)"
   ]
  },
  {
   "cell_type": "code",
   "execution_count": 6,
   "id": "fea079b9-01fd-411e-812c-9a666cd8c070",
   "metadata": {},
   "outputs": [
    {
     "name": "stdout",
     "output_type": "stream",
     "text": [
      "RMSE:  9.969991686724043\n",
      "MAE:  4.890667357056707\n",
      "MAPE:  3204729705886587.5\n"
     ]
    }
   ],
   "source": [
    "print(\"RMSE: \", np.sqrt(mean_squared_error(y_test_site1, y_pred_site1)))\n",
    "print(\"MAE: \", mean_absolute_error(y_test_site1, y_pred_site1))\n",
    "print(\"MAPE: \", mean_absolute_percentage_error(y_test_site1, y_pred_site1))"
   ]
  },
  {
   "cell_type": "markdown",
   "id": "1d981fc0-140f-4842-9983-e36feaf6937e",
   "metadata": {},
   "source": [
    "## Utilization prediction of site 2"
   ]
  },
  {
   "cell_type": "markdown",
   "id": "63496dd3-10bd-4c73-b5d8-c3f585a547cc",
   "metadata": {},
   "source": [
    "### Model definition (site 2)"
   ]
  },
  {
   "cell_type": "code",
   "execution_count": 7,
   "id": "3cc71672-98a9-4d20-8442-ca5708a8c000",
   "metadata": {},
   "outputs": [
    {
     "name": "stdout",
     "output_type": "stream",
     "text": [
      "Model: \"sequential_1\"\n",
      "_________________________________________________________________\n",
      " Layer (type)                Output Shape              Param #   \n",
      "=================================================================\n",
      " dense_3 (Dense)             (None, 36)                1656      \n",
      "                                                                 \n",
      " dense_4 (Dense)             (None, 36)                1332      \n",
      "                                                                 \n",
      " dense_5 (Dense)             (None, 1)                 37        \n",
      "                                                                 \n",
      "=================================================================\n",
      "Total params: 3,025\n",
      "Trainable params: 3,025\n",
      "Non-trainable params: 0\n",
      "_________________________________________________________________\n"
     ]
    }
   ],
   "source": [
    "model_site2 = Sequential(\n",
    "    [Dense(36, activation=\"relu\", input_shape=[X_train_site2.shape[1]]),\n",
    "    Dense(36, activation=\"relu\"),\n",
    "     Dense(1)])\n",
    "model_site2.compile(loss='mse',\n",
    "             optimizer=\"adam\",\n",
    "             metrics=[\"mae\", \"mse\"])\n",
    "model_site2.summary()"
   ]
  },
  {
   "cell_type": "markdown",
   "id": "00673d06-8c04-4fb8-844a-bbbda846c185",
   "metadata": {},
   "source": [
    "### Training the model (site 2)"
   ]
  },
  {
   "cell_type": "code",
   "execution_count": 8,
   "id": "eec0ab6c-acb9-435e-9d56-17468c05e414",
   "metadata": {},
   "outputs": [
    {
     "name": "stdout",
     "output_type": "stream",
     "text": [
      "Epoch 1/20\n",
      "215/215 [==============================] - 2s 5ms/step - loss: 82.0813 - mae: 5.6369 - mse: 82.0813 - val_loss: 40.7425 - val_mae: 4.2595 - val_mse: 40.7425\n",
      "Epoch 2/20\n",
      "215/215 [==============================] - 1s 3ms/step - loss: 38.9708 - mae: 4.0477 - mse: 38.9708 - val_loss: 32.5347 - val_mae: 3.7704 - val_mse: 32.5347\n",
      "Epoch 3/20\n",
      "215/215 [==============================] - 1s 3ms/step - loss: 34.9577 - mae: 3.7160 - mse: 34.9577 - val_loss: 30.4115 - val_mae: 3.5161 - val_mse: 30.4115\n",
      "Epoch 4/20\n",
      "215/215 [==============================] - 1s 4ms/step - loss: 33.4281 - mae: 3.5553 - mse: 33.4281 - val_loss: 29.4752 - val_mae: 3.4033 - val_mse: 29.4752\n",
      "Epoch 5/20\n",
      "215/215 [==============================] - 1s 4ms/step - loss: 32.4525 - mae: 3.4915 - mse: 32.4525 - val_loss: 29.1980 - val_mae: 3.3809 - val_mse: 29.1980\n",
      "Epoch 6/20\n",
      "215/215 [==============================] - 1s 3ms/step - loss: 31.9275 - mae: 3.4371 - mse: 31.9275 - val_loss: 29.3352 - val_mae: 3.4053 - val_mse: 29.3352\n",
      "Epoch 7/20\n",
      "215/215 [==============================] - 1s 3ms/step - loss: 31.6063 - mae: 3.4217 - mse: 31.6063 - val_loss: 29.1214 - val_mae: 3.3812 - val_mse: 29.1214\n",
      "Epoch 8/20\n",
      "215/215 [==============================] - 1s 3ms/step - loss: 31.1456 - mae: 3.4082 - mse: 31.1456 - val_loss: 28.5044 - val_mae: 3.3169 - val_mse: 28.5044\n",
      "Epoch 9/20\n",
      "215/215 [==============================] - 1s 3ms/step - loss: 30.8868 - mae: 3.3909 - mse: 30.8868 - val_loss: 28.3268 - val_mae: 3.3044 - val_mse: 28.3268\n",
      "Epoch 10/20\n",
      "215/215 [==============================] - 1s 3ms/step - loss: 30.6613 - mae: 3.3537 - mse: 30.6613 - val_loss: 28.2160 - val_mae: 3.3177 - val_mse: 28.2160\n",
      "Epoch 11/20\n",
      "215/215 [==============================] - 1s 3ms/step - loss: 30.3894 - mae: 3.3503 - mse: 30.3894 - val_loss: 28.3162 - val_mae: 3.3342 - val_mse: 28.3162\n",
      "Epoch 12/20\n",
      "215/215 [==============================] - 1s 3ms/step - loss: 30.0650 - mae: 3.3446 - mse: 30.0650 - val_loss: 28.4342 - val_mae: 3.3306 - val_mse: 28.4342\n",
      "Epoch 13/20\n",
      "215/215 [==============================] - 1s 3ms/step - loss: 29.9344 - mae: 3.3257 - mse: 29.9344 - val_loss: 28.9434 - val_mae: 3.3802 - val_mse: 28.9434\n",
      "Epoch 14/20\n",
      "215/215 [==============================] - 1s 3ms/step - loss: 29.6837 - mae: 3.3101 - mse: 29.6837 - val_loss: 28.3735 - val_mae: 3.3373 - val_mse: 28.3735\n",
      "Epoch 15/20\n",
      "215/215 [==============================] - 1s 3ms/step - loss: 29.6264 - mae: 3.3058 - mse: 29.6264 - val_loss: 28.7187 - val_mae: 3.3507 - val_mse: 28.7187\n",
      "Epoch 16/20\n",
      "215/215 [==============================] - 1s 3ms/step - loss: 29.3947 - mae: 3.3077 - mse: 29.3947 - val_loss: 28.0183 - val_mae: 3.3043 - val_mse: 28.0183\n",
      "Epoch 17/20\n",
      "215/215 [==============================] - 1s 4ms/step - loss: 29.1055 - mae: 3.2842 - mse: 29.1055 - val_loss: 27.7596 - val_mae: 3.3007 - val_mse: 27.7596\n",
      "Epoch 18/20\n",
      "215/215 [==============================] - 1s 4ms/step - loss: 28.9774 - mae: 3.2701 - mse: 28.9774 - val_loss: 28.0682 - val_mae: 3.3013 - val_mse: 28.0682\n",
      "Epoch 19/20\n",
      "215/215 [==============================] - 1s 3ms/step - loss: 29.0120 - mae: 3.2635 - mse: 29.0120 - val_loss: 27.6737 - val_mae: 3.2935 - val_mse: 27.6737\n",
      "Epoch 20/20\n",
      "215/215 [==============================] - 1s 3ms/step - loss: 28.9919 - mae: 3.2653 - mse: 28.9919 - val_loss: 27.7729 - val_mae: 3.2741 - val_mse: 27.7729\n"
     ]
    },
    {
     "data": {
      "image/png": "[encoded data removed]",
      "text/plain": [
       "<Figure size 640x480 with 1 Axes>"
      ]
     },
     "metadata": {},
     "output_type": "display_data"
    }
   ],
   "source": [
    "epochs_site2 = 20\n",
    "\n",
    "# train the model\n",
    "history_site2 = model_site2.fit(X_train_site2, y_train_site2.values,\n",
    "                   epochs=epochs_site2, validation_split=0.2)\n",
    "history_site2 = pd.DataFrame(history_site2.history)\n",
    "\n",
    "# compute rmse\n",
    "root_metrics_site2 = history_site2[[\"mse\", \"val_mse\"]].apply(np.sqrt)\n",
    "root_metrics_site2.rename({\"mse\":\"rmse\", \"val_mse\":\"val_rmse\"}, axis=1, inplace=True)\n",
    "\n",
    "# plot rmse of the training and validation set per epoch\n",
    "plt.Figure(figsize=(14,6), dpi=100)\n",
    "plt.plot(root_metrics_site2[\"rmse\"], label = 'Training error')\n",
    "plt.plot(root_metrics_site2[\"val_rmse\"], label = 'Validation error')\n",
    "\n",
    "plt.xlabel(\"Epochs\")\n",
    "plt.ylabel(\"Root Mean Squared Error\")\n",
    "\n",
    "plt.xticks(range(1,20))\n",
    "plt.legend()\n",
    "\n",
    "plt.show()"
   ]
  },
  {
   "cell_type": "markdown",
   "id": "367e38fe-852b-4824-9ec9-018afdc848fe",
   "metadata": {},
   "source": [
    "### Prediction (site 2)"
   ]
  },
  {
   "cell_type": "code",
   "execution_count": 9,
   "id": "75ec7dd9-105e-4503-b585-99280ac18a6d",
   "metadata": {},
   "outputs": [
    {
     "name": "stdout",
     "output_type": "stream",
     "text": [
      "115/115 [==============================] - 0s 2ms/step\n"
     ]
    }
   ],
   "source": [
    "# prediction using the trained model\n",
    "y_pred_site2 = model_site2.predict(X_test_site2)"
   ]
  },
  {
   "cell_type": "markdown",
   "id": "ed280585-76a0-4214-ad39-19246933135b",
   "metadata": {},
   "source": [
    "### Evaluation (site 2)"
   ]
  },
  {
   "cell_type": "code",
   "execution_count": 10,
   "id": "b822c63e-73e3-40cf-b7aa-d7555e395fb0",
   "metadata": {},
   "outputs": [
    {
     "name": "stdout",
     "output_type": "stream",
     "text": [
      "RMSE:  5.495303571800236\n",
      "MAE:  3.3755191204934962\n",
      "MAPE:  3043288419094096.0\n"
     ]
    }
   ],
   "source": [
    "print(\"RMSE: \", np.sqrt(mean_squared_error(y_test_site2, y_pred_site2)))\n",
    "print(\"MAE: \", mean_absolute_error(y_test_site2, y_pred_site2))\n",
    "print(\"MAPE: \", mean_absolute_percentage_error(y_test_site2, y_pred_site2))"
   ]
  },
  {
   "cell_type": "code",
   "execution_count": null,
   "id": "6e10764e-63dd-4775-bd86-d1917100041b",
   "metadata": {},
   "outputs": [],
   "source": []
  }
 ],
 "metadata": {
  "kernelspec": {
   "display_name": "Python 3 (ipykernel)",
   "language": "python",
   "name": "python3"
  },
  "language_info": {
   "codemirror_mode": {
    "name": "ipython",
    "version": 3
   },
   "file_extension": ".py",
   "mimetype": "text/x-python",
   "name": "python",
   "nbconvert_exporter": "python",
   "pygments_lexer": "ipython3",
   "version": "3.9.18"
  }
 },
 "nbformat": 4,
 "nbformat_minor": 5
}
