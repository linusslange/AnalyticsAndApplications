{
 "cells": [
  {
   "cell_type": "markdown",
   "metadata": {},
   "source": [
    "# Cluster Analysis\n",
    "\n",
    "### Task Description\n",
    "To better understand what typical charging sessions look like, carry out a cluster\n",
    "analysis to provide management with a succinct report of archetypical charging events. Think of an\n",
    "appropriate trade-off between explainability and information content and try to come up with names\n",
    "for these clusters. What is the value of identifying different types of charging sessions?"
   ]
  },
  {
   "cell_type": "code",
   "execution_count": 1,
   "metadata": {},
   "outputs": [],
   "source": [
    "import pandas as pd\n",
    "import matplotlib.pyplot as plt\n",
    "import numpy as np\n"
   ]
  },
  {
   "cell_type": "markdown",
   "metadata": {},
   "source": [
    "### Data Prep"
   ]
  },
  {
   "cell_type": "code",
   "execution_count": 2,
   "metadata": {},
   "outputs": [
    {
     "name": "stdout",
     "output_type": "stream",
     "text": [
      "<class 'pandas.core.frame.DataFrame'>\n",
      "RangeIndex: 60921 entries, 0 to 60920\n",
      "Data columns (total 14 columns):\n",
      " #   Column               Non-Null Count  Dtype                              \n",
      "---  ------               --------------  -----                              \n",
      " 0   id                   60921 non-null  object                             \n",
      " 1   connectionTime       60921 non-null  datetime64[ns, America/Los_Angeles]\n",
      " 2   disconnectTime       60921 non-null  datetime64[ns, America/Los_Angeles]\n",
      " 3   doneChargingTime     60921 non-null  datetime64[ns, America/Los_Angeles]\n",
      " 4   kWhDelivered         60921 non-null  float64                            \n",
      " 5   sessionID            60921 non-null  object                             \n",
      " 6   siteID               60921 non-null  int64                              \n",
      " 7   spaceID              60921 non-null  object                             \n",
      " 8   stationID            60921 non-null  object                             \n",
      " 9   userID               44636 non-null  float64                            \n",
      " 10  userInputs           44636 non-null  object                             \n",
      " 11  totalConnectionTime  60921 non-null  object                             \n",
      " 12  totalChargingTime    60921 non-null  object                             \n",
      " 13  userInformation      60921 non-null  bool                               \n",
      "dtypes: bool(1), datetime64[ns, America/Los_Angeles](3), float64(2), int64(1), object(7)\n",
      "memory usage: 6.1+ MB\n",
      "None\n"
     ]
    }
   ],
   "source": [
    "df_charging_sessions = pd.read_csv(\"charging_sessions_preprocessed.csv\",  parse_dates=['connectionTime','disconnectTime','doneChargingTime']);\n",
    "# convert to local time\n",
    "df_charging_sessions[\"connectionTime\"] = df_charging_sessions[\"connectionTime\"].dt.tz_convert(\"America/Los_Angeles\")\n",
    "df_charging_sessions[\"disconnectTime\"] = df_charging_sessions[\"disconnectTime\"].dt.tz_convert(\"America/Los_Angeles\")\n",
    "df_charging_sessions[\"doneChargingTime\"] = df_charging_sessions[\"doneChargingTime\"].dt.tz_convert(\"America/Los_Angeles\")\n",
    "print(df_charging_sessions.info())\n"
   ]
  },
  {
   "cell_type": "code",
   "execution_count": 3,
   "metadata": {},
   "outputs": [
    {
     "name": "stdout",
     "output_type": "stream",
     "text": [
      "60921\n"
     ]
    },
    {
     "name": "stdout",
     "output_type": "stream",
     "text": [
      "60921\n"
     ]
    }
   ],
   "source": [
    "print(len(df_charging_sessions))\n",
    "charging_sessions_clustering = df_charging_sessions.copy()\n",
    "charging_sessions_clustering = charging_sessions_clustering.drop_duplicates()\n",
    "print(len(charging_sessions_clustering))"
   ]
  },
  {
   "cell_type": "code",
   "execution_count": 4,
   "metadata": {},
   "outputs": [
    {
     "name": "stdout",
     "output_type": "stream",
     "text": [
      "60921\n",
      "60921\n"
     ]
    }
   ],
   "source": [
    "print(len(charging_sessions_clustering['sessionID'].unique()))\n",
    "print(len(charging_sessions_clustering['sessionID']))"
   ]
  },
  {
   "cell_type": "markdown",
   "metadata": {},
   "source": [
    "After dropping the duplicates, sessionIDs are unique."
   ]
  },
  {
   "cell_type": "markdown",
   "metadata": {},
   "source": [
    "For the cluster analysis, we include the weather data as it could provide important information about the types of charging sessions.\n",
    "We merge the two datasets based on the day and hour the charging session started, as we only have hourly information about the weather. We analyse the temperature and the description of the cloud cover. With this information, we know if, for example, it was cold and rainy during a charging session."
   ]
  },
  {
   "cell_type": "code",
   "execution_count": 6,
   "metadata": {},
   "outputs": [
    {
     "name": "stdout",
     "output_type": "stream",
     "text": [
      "<class 'pandas.core.frame.DataFrame'>\n",
      "RangeIndex: 29244 entries, 0 to 29243\n",
      "Data columns (total 8 columns):\n",
      " #   Column                   Non-Null Count  Dtype                              \n",
      "---  ------                   --------------  -----                              \n",
      " 0   timestamp                29244 non-null  datetime64[ns, America/Los_Angeles]\n",
      " 1   temperature              29244 non-null  float64                            \n",
      " 2   cloud_cover              29244 non-null  float64                            \n",
      " 3   cloud_cover_description  29244 non-null  object                             \n",
      " 4   pressure                 29244 non-null  float64                            \n",
      " 5   windspeed                29244 non-null  float64                            \n",
      " 6   precipitation            29244 non-null  float64                            \n",
      " 7   felt_temperature         29244 non-null  float64                            \n",
      "dtypes: datetime64[ns, America/Los_Angeles](1), float64(6), object(1)\n",
      "memory usage: 1.8+ MB\n",
      "None\n"
     ]
    }
   ],
   "source": [
    "# read in weather data\n",
    "weather_set = pd.read_csv('weather_burbank_airport_preprocessed.csv', parse_dates=['timestamp'])\n",
    "\n",
    "# 'timestamp' in datetime umwandeln und Zeitzone zuweisen\n",
    "weather_set['timestamp'] = pd.to_datetime(weather_set['timestamp']).dt.tz_localize('UTC').dt.tz_convert('America/Los_Angeles')\n",
    "\n",
    "# Ergebnisse anzeigen\n",
    "print(weather_set.info())"
   ]
  },
  {
   "cell_type": "code",
   "execution_count": 7,
   "metadata": {},
   "outputs": [
    {
     "name": "stdout",
     "output_type": "stream",
     "text": [
      "<class 'pandas.core.frame.DataFrame'>\n",
      "RangeIndex: 29244 entries, 0 to 29243\n",
      "Data columns (total 3 columns):\n",
      " #   Column         Non-Null Count  Dtype                              \n",
      "---  ------         --------------  -----                              \n",
      " 0   timestamp      29244 non-null  datetime64[ns, America/Los_Angeles]\n",
      " 1   temperature    29244 non-null  float64                            \n",
      " 2   precipitation  29244 non-null  float64                            \n",
      "dtypes: datetime64[ns, America/Los_Angeles](1), float64(2)\n",
      "memory usage: 685.5 KB\n",
      "None\n"
     ]
    }
   ],
   "source": [
    "# drop columns that are not needed\n",
    "weather_set = weather_set.drop(['cloud_cover', 'cloud_cover_description','pressure', 'windspeed', 'felt_temperature'], axis=1)\n",
    "print(weather_set.info())"
   ]
  },
  {
   "cell_type": "code",
   "execution_count": 8,
   "metadata": {},
   "outputs": [
    {
     "name": "stdout",
     "output_type": "stream",
     "text": [
      "26280\n",
      "      connectionDate  connectionHour\n",
      "0         2018-01-01               0\n",
      "1         2018-01-01               1\n",
      "2         2018-01-01               2\n",
      "3         2018-01-01               3\n",
      "4         2018-01-01               4\n",
      "...              ...             ...\n",
      "26275     2020-12-31              19\n",
      "26276     2020-12-31              20\n",
      "26277     2020-12-31              21\n",
      "26278     2020-12-31              22\n",
      "26279     2020-12-31              23\n",
      "\n",
      "[26280 rows x 2 columns]\n"
     ]
    }
   ],
   "source": [
    "weather_set['connectionDate'] = weather_set['timestamp'].dt.date\n",
    "weather_set['connectionHour'] = weather_set['timestamp'].dt.hour\n",
    "days_unique = weather_set['connectionDate'].unique()\n",
    "days = np.repeat(days_unique,24)\n",
    "hours = list(range(0,24))\n",
    "hours = hours*len(days_unique)\n",
    "\n",
    "weather_hourly = pd.DataFrame()\n",
    "weather_hourly['connectionDate'] = days\n",
    "weather_hourly['connectionHour'] = hours\n",
    "print(len(weather_hourly))\n",
    "print(weather_hourly)"
   ]
  },
  {
   "cell_type": "code",
   "execution_count": 9,
   "metadata": {},
   "outputs": [
    {
     "name": "stdout",
     "output_type": "stream",
     "text": [
      "<class 'pandas.core.frame.DataFrame'>\n",
      "RangeIndex: 26280 entries, 0 to 26279\n",
      "Data columns (total 4 columns):\n",
      " #   Column          Non-Null Count  Dtype  \n",
      "---  ------          --------------  -----  \n",
      " 0   connectionDate  26280 non-null  object \n",
      " 1   connectionHour  26280 non-null  int64  \n",
      " 2   temperature     26210 non-null  float64\n",
      " 3   precipitation   26210 non-null  float64\n",
      "dtypes: float64(2), int64(1), object(1)\n",
      "memory usage: 821.4+ KB\n",
      "None\n"
     ]
    }
   ],
   "source": [
    "# add columns temperature and precipitation\n",
    "# if they are several values for an hour of a day, mean is caluclated\n",
    "temperature = []\n",
    "precipitation = []\n",
    "for index, row in weather_hourly.iterrows():\n",
    "    searched_day = row['connectionDate']\n",
    "    searched_hour = row['connectionHour']\n",
    "    temperatures_of_hour = weather_set[(weather_set['connectionDate']==searched_day) & (weather_set['connectionHour']==searched_hour)]['temperature']\n",
    "    temperature.append(temperatures_of_hour.mean())\n",
    "    precipitation_of_hour = weather_set[(weather_set['connectionDate']==searched_day) & (weather_set['connectionHour']==searched_hour)]['precipitation']\n",
    "    precipitation.append(precipitation_of_hour.mean())\n",
    "\n",
    "weather_hourly['temperature'] = temperature\n",
    "weather_hourly['precipitation'] = precipitation\n",
    "print(weather_hourly.info())\n"
   ]
  },
  {
   "cell_type": "markdown",
   "metadata": {},
   "source": [
    "We have some Null values for temperature and perceptibility. This is due to missing data in the weather dataset. The set does not contain information for every hour of every day. For these hours we calculate the average of the day and replace the Null values with the result."
   ]
  },
  {
   "cell_type": "code",
   "execution_count": 10,
   "metadata": {},
   "outputs": [],
   "source": [
    "def fill_in_mean_of_day(df,column):\n",
    "    for index, row in df.iterrows():\n",
    "        value = row[column]\n",
    "        if pd.isna(value):\n",
    "            day_of_null = row['connectionDate']\n",
    "            mean_of_day = df[df['connectionDate']==day_of_null][column].mean()\n",
    "            df.loc[index, column] = mean_of_day\n",
    "    return df  "
   ]
  },
  {
   "cell_type": "code",
   "execution_count": 11,
   "metadata": {},
   "outputs": [
    {
     "name": "stdout",
     "output_type": "stream",
     "text": [
      "<class 'pandas.core.frame.DataFrame'>\n",
      "RangeIndex: 26280 entries, 0 to 26279\n",
      "Data columns (total 4 columns):\n",
      " #   Column          Non-Null Count  Dtype  \n",
      "---  ------          --------------  -----  \n",
      " 0   connectionDate  26280 non-null  object \n",
      " 1   connectionHour  26280 non-null  int64  \n",
      " 2   temperature     26280 non-null  float64\n",
      " 3   precipitation   26280 non-null  float64\n",
      "dtypes: float64(2), int64(1), object(1)\n",
      "memory usage: 821.4+ KB\n",
      "None\n"
     ]
    }
   ],
   "source": [
    "weather_hourly_cleaned = fill_in_mean_of_day(weather_hourly, 'temperature')\n",
    "weather_hourly_cleaned = fill_in_mean_of_day(weather_hourly, 'precipitation')\n",
    "print(weather_hourly_cleaned.info())\n"
   ]
  },
  {
   "cell_type": "code",
   "execution_count": 12,
   "metadata": {},
   "outputs": [],
   "source": [
    "weather_hourly_cleaned.to_csv('weather_for_Prediction.csv', index=False)"
   ]
  },
  {
   "cell_type": "code",
   "execution_count": null,
   "metadata": {},
   "outputs": [],
   "source": []
  }
 ],
 "metadata": {
  "kernelspec": {
   "display_name": "base",
   "language": "python",
   "name": "python3"
  },
  "language_info": {
   "codemirror_mode": {
    "name": "ipython",
    "version": 3
   },
   "file_extension": ".py",
   "mimetype": "text/x-python",
   "name": "python",
   "nbconvert_exporter": "python",
   "pygments_lexer": "ipython3",
   "version": "3.8.18"
  }
 },
 "nbformat": 4,
 "nbformat_minor": 2
}
