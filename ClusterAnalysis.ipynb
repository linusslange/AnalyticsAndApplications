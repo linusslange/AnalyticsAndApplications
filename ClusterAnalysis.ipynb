{
 "cells": [
  {
   "cell_type": "markdown",
   "metadata": {},
   "source": [
    "# Cluster Analysis\n",
    "\n",
    "### Task Description\n",
    "To better understand what typical charging sessions look like, carry out a cluster\n",
    "analysis to provide management with a succinct report of archetypical charging events. Think of an\n",
    "appropriate trade-off between explainability and information content and try to come up with names\n",
    "for these clusters. What is the value of identifying different types of charging sessions?"
   ]
  },
  {
   "cell_type": "code",
   "execution_count": 1,
   "metadata": {},
   "outputs": [],
   "source": [
    "from scipy.cluster.hierarchy import dendrogram\n",
    "from sklearn.cluster import AgglomerativeClustering\n",
    "import pandas as pd\n",
    "import matplotlib.pyplot as plt\n",
    "import numpy as np\n",
    "from sklearn.preprocessing import StandardScaler\n",
    "import seaborn as sns"
   ]
  },
  {
   "cell_type": "markdown",
   "metadata": {},
   "source": [
    "### Data Prep"
   ]
  },
  {
   "cell_type": "code",
   "execution_count": 2,
   "metadata": {},
   "outputs": [
    {
     "name": "stdout",
     "output_type": "stream",
     "text": [
      "<class 'pandas.core.frame.DataFrame'>\n",
      "RangeIndex: 66450 entries, 0 to 66449\n",
      "Data columns (total 14 columns):\n",
      " #   Column               Non-Null Count  Dtype              \n",
      "---  ------               --------------  -----              \n",
      " 0   id                   66450 non-null  object             \n",
      " 1   connectionTime       66450 non-null  datetime64[ns, UTC]\n",
      " 2   disconnectTime       66450 non-null  datetime64[ns, UTC]\n",
      " 3   doneChargingTime     66450 non-null  datetime64[ns, UTC]\n",
      " 4   kWhDelivered         66450 non-null  float64            \n",
      " 5   sessionID            66450 non-null  object             \n",
      " 6   siteID               66450 non-null  int64              \n",
      " 7   spaceID              66450 non-null  object             \n",
      " 8   stationID            66450 non-null  object             \n",
      " 9   userID               49187 non-null  float64            \n",
      " 10  userInputs           49187 non-null  object             \n",
      " 11  totalConnectionTime  66450 non-null  object             \n",
      " 12  totalChargingTime    66450 non-null  object             \n",
      " 13  userInformation      66450 non-null  bool               \n",
      "dtypes: bool(1), datetime64[ns, UTC](3), float64(2), int64(1), object(7)\n",
      "memory usage: 6.7+ MB\n",
      "None\n"
     ]
    }
   ],
   "source": [
    "df_charging_sessions = pd.read_csv(\"charging_sessions_preprocessed.csv\",  parse_dates=['connectionTime','disconnectTime','doneChargingTime']);\n",
    "print(df_charging_sessions.info())\n"
   ]
  },
  {
   "cell_type": "code",
   "execution_count": 3,
   "metadata": {},
   "outputs": [
    {
     "name": "stdout",
     "output_type": "stream",
     "text": [
      "66450\n",
      "65037\n"
     ]
    }
   ],
   "source": [
    "print(len(df_charging_sessions))\n",
    "charging_sessions_clustering = df_charging_sessions.copy()\n",
    "charging_sessions_clustering = charging_sessions_clustering.drop_duplicates()\n",
    "print(len(charging_sessions_clustering))"
   ]
  },
  {
   "cell_type": "markdown",
   "metadata": {},
   "source": [
    "The Data must only contain numeric values so that we can use it for Clustering."
   ]
  },
  {
   "cell_type": "code",
   "execution_count": 4,
   "metadata": {},
   "outputs": [
    {
     "name": "stdout",
     "output_type": "stream",
     "text": [
      "<class 'pandas.core.frame.DataFrame'>\n",
      "Int64Index: 65037 entries, 0 to 65036\n",
      "Data columns (total 14 columns):\n",
      " #   Column               Non-Null Count  Dtype              \n",
      "---  ------               --------------  -----              \n",
      " 0   id                   65037 non-null  int64              \n",
      " 1   connectionTime       65037 non-null  datetime64[ns, UTC]\n",
      " 2   disconnectTime       65037 non-null  datetime64[ns, UTC]\n",
      " 3   doneChargingTime     65037 non-null  datetime64[ns, UTC]\n",
      " 4   kWhDelivered         65037 non-null  float64            \n",
      " 5   sessionID            65037 non-null  object             \n",
      " 6   siteID               65037 non-null  int64              \n",
      " 7   spaceID              65037 non-null  object             \n",
      " 8   stationID            65037 non-null  object             \n",
      " 9   userID               47822 non-null  float64            \n",
      " 10  userInputs           47822 non-null  object             \n",
      " 11  totalConnectionTime  65037 non-null  object             \n",
      " 12  totalChargingTime    65037 non-null  object             \n",
      " 13  userInformation      65037 non-null  bool               \n",
      "dtypes: bool(1), datetime64[ns, UTC](3), float64(2), int64(2), object(6)\n",
      "memory usage: 7.0+ MB\n",
      "None\n"
     ]
    }
   ],
   "source": [
    "# id to an int\n",
    "charging_sessions_clustering['numericID'] = range(1, len(charging_sessions_clustering) + 1)\n",
    "charging_sessions_clustering['id'] = charging_sessions_clustering['numericID']\n",
    "charging_sessions_clustering = charging_sessions_clustering.drop(['numericID'], axis=1)\n",
    "print(charging_sessions_clustering.info())"
   ]
  },
  {
   "cell_type": "code",
   "execution_count": 5,
   "metadata": {},
   "outputs": [
    {
     "name": "stdout",
     "output_type": "stream",
     "text": [
      "<class 'pandas.core.frame.DataFrame'>\n",
      "Int64Index: 65037 entries, 0 to 65036\n",
      "Data columns (total 14 columns):\n",
      " #   Column               Non-Null Count  Dtype  \n",
      "---  ------               --------------  -----  \n",
      " 0   id                   65037 non-null  int64  \n",
      " 1   connectionTime       65037 non-null  int64  \n",
      " 2   disconnectTime       65037 non-null  int64  \n",
      " 3   doneChargingTime     65037 non-null  int64  \n",
      " 4   kWhDelivered         65037 non-null  float64\n",
      " 5   sessionID            65037 non-null  object \n",
      " 6   siteID               65037 non-null  int64  \n",
      " 7   spaceID              65037 non-null  object \n",
      " 8   stationID            65037 non-null  object \n",
      " 9   userID               47822 non-null  float64\n",
      " 10  userInputs           47822 non-null  object \n",
      " 11  totalConnectionTime  65037 non-null  object \n",
      " 12  totalChargingTime    65037 non-null  object \n",
      " 13  userInformation      65037 non-null  bool   \n",
      "dtypes: bool(1), float64(2), int64(5), object(6)\n",
      "memory usage: 7.0+ MB\n",
      "None\n"
     ]
    }
   ],
   "source": [
    "# connectionTime, disconnectTime and doneChargingTime are transformed into seconds after midnight.\n",
    "charging_sessions_clustering['connectionTime'] = df_charging_sessions['connectionTime'].dt.hour * 3600 + df_charging_sessions['connectionTime'].dt.minute * 60 + df_charging_sessions['connectionTime'].dt.second\n",
    "charging_sessions_clustering['disconnectTime'] = df_charging_sessions['disconnectTime'].dt.hour * 3600 + df_charging_sessions['disconnectTime'].dt.minute * 60 + df_charging_sessions['disconnectTime'].dt.second\n",
    "charging_sessions_clustering['doneChargingTime'] = df_charging_sessions['doneChargingTime'].dt.hour * 3600 + df_charging_sessions['doneChargingTime'].dt.minute * 60 + df_charging_sessions['doneChargingTime'].dt.second\n",
    "print(charging_sessions_clustering.info())\n"
   ]
  },
  {
   "cell_type": "code",
   "execution_count": 6,
   "metadata": {},
   "outputs": [
    {
     "name": "stdout",
     "output_type": "stream",
     "text": [
      "<class 'pandas.core.frame.DataFrame'>\n",
      "Int64Index: 65037 entries, 0 to 65036\n",
      "Data columns (total 9 columns):\n",
      " #   Column               Non-Null Count  Dtype  \n",
      "---  ------               --------------  -----  \n",
      " 0   id                   65037 non-null  int64  \n",
      " 1   connectionTime       65037 non-null  int64  \n",
      " 2   disconnectTime       65037 non-null  int64  \n",
      " 3   doneChargingTime     65037 non-null  int64  \n",
      " 4   kWhDelivered         65037 non-null  float64\n",
      " 5   siteID               65037 non-null  int64  \n",
      " 6   totalConnectionTime  65037 non-null  object \n",
      " 7   totalChargingTime    65037 non-null  object \n",
      " 8   userInformation      65037 non-null  bool   \n",
      "dtypes: bool(1), float64(1), int64(5), object(2)\n",
      "memory usage: 4.5+ MB\n",
      "None\n"
     ]
    }
   ],
   "source": [
    "# drop column sessionID, spaceID, stationID, userID, userInputs\n",
    "charging_sessions_clustering = charging_sessions_clustering.drop(['sessionID', 'spaceID', 'stationID', 'userID', 'userInputs'], axis=1)\n",
    "print(charging_sessions_clustering.info())"
   ]
  },
  {
   "cell_type": "code",
   "execution_count": 7,
   "metadata": {},
   "outputs": [
    {
     "name": "stdout",
     "output_type": "stream",
     "text": [
      "<class 'pandas.core.frame.DataFrame'>\n",
      "Int64Index: 65037 entries, 0 to 65036\n",
      "Data columns (total 9 columns):\n",
      " #   Column               Non-Null Count  Dtype  \n",
      "---  ------               --------------  -----  \n",
      " 0   id                   65037 non-null  int64  \n",
      " 1   connectionTime       65037 non-null  int64  \n",
      " 2   disconnectTime       65037 non-null  int64  \n",
      " 3   doneChargingTime     65037 non-null  int64  \n",
      " 4   kWhDelivered         65037 non-null  float64\n",
      " 5   siteID               65037 non-null  int64  \n",
      " 6   totalConnectionTime  65037 non-null  float64\n",
      " 7   totalChargingTime    65037 non-null  float64\n",
      " 8   userInformation      65037 non-null  bool   \n",
      "dtypes: bool(1), float64(3), int64(5)\n",
      "memory usage: 4.5 MB\n",
      "None\n"
     ]
    }
   ],
   "source": [
    "# totalConnectionTime and totalChargingTime into seconds\n",
    "charging_sessions_clustering['totalConnectionTime'] = pd.to_timedelta(charging_sessions_clustering['totalConnectionTime'])\n",
    "charging_sessions_clustering['totalConnectionTime'] = charging_sessions_clustering['totalConnectionTime'].dt.total_seconds()\n",
    "charging_sessions_clustering['totalChargingTime'] = pd.to_timedelta(charging_sessions_clustering['totalChargingTime'])\n",
    "charging_sessions_clustering['totalChargingTime'] = charging_sessions_clustering['totalChargingTime'].dt.total_seconds()\n",
    "print(charging_sessions_clustering.info())\n"
   ]
  },
  {
   "cell_type": "code",
   "execution_count": 8,
   "metadata": {},
   "outputs": [
    {
     "name": "stdout",
     "output_type": "stream",
     "text": [
      "   id  connectionTime  disconnectTime  doneChargingTime  kWhDelivered  siteID  \\\n",
      "0   1           47334           69075             63095        25.016       1   \n",
      "1   2           49010           81501             73085        33.097       1   \n",
      "2   3           50195            2362             59706         6.521       1   \n",
      "3   4           50398           59919             55125         2.355       1   \n",
      "4   5           50401           79720             65850        13.375       1   \n",
      "\n",
      "   totalConnectionTime  totalChargingTime  userInformation  \n",
      "0              21741.0            15761.0                1  \n",
      "1              32491.0            24075.0                1  \n",
      "2              38567.0             9511.0                1  \n",
      "3               9521.0             4727.0                1  \n",
      "4              29319.0            15449.0                1  \n"
     ]
    }
   ],
   "source": [
    "# userInformation into a Flag\n",
    "charging_sessions_clustering['userInformation'] = charging_sessions_clustering['userInformation'].astype(int)\n",
    "print(charging_sessions_clustering.head())"
   ]
  },
  {
   "cell_type": "markdown",
   "metadata": {},
   "source": [
    "Now, we will scale the data."
   ]
  },
  {
   "cell_type": "code",
   "execution_count": 9,
   "metadata": {},
   "outputs": [
    {
     "data": {
      "text/html": [
       "<div>\n",
       "<style scoped>\n",
       "    .dataframe tbody tr th:only-of-type {\n",
       "        vertical-align: middle;\n",
       "    }\n",
       "\n",
       "    .dataframe tbody tr th {\n",
       "        vertical-align: top;\n",
       "    }\n",
       "\n",
       "    .dataframe thead th {\n",
       "        text-align: right;\n",
       "    }\n",
       "</style>\n",
       "<table border=\"1\" class=\"dataframe\">\n",
       "  <thead>\n",
       "    <tr style=\"text-align: right;\">\n",
       "      <th></th>\n",
       "      <th>id</th>\n",
       "      <th>connectionTime</th>\n",
       "      <th>disconnectTime</th>\n",
       "      <th>doneChargingTime</th>\n",
       "      <th>kWhDelivered</th>\n",
       "      <th>siteID</th>\n",
       "      <th>totalConnectionTime</th>\n",
       "      <th>totalChargingTime</th>\n",
       "      <th>userInformation</th>\n",
       "    </tr>\n",
       "  </thead>\n",
       "  <tbody>\n",
       "    <tr>\n",
       "      <th>0</th>\n",
       "      <td>-1.732024</td>\n",
       "      <td>-0.358905</td>\n",
       "      <td>0.825945</td>\n",
       "      <td>0.315564</td>\n",
       "      <td>1.292140</td>\n",
       "      <td>-0.966414</td>\n",
       "      <td>-0.048296</td>\n",
       "      <td>0.182374</td>\n",
       "      <td>0.599984</td>\n",
       "    </tr>\n",
       "    <tr>\n",
       "      <th>1</th>\n",
       "      <td>-1.731971</td>\n",
       "      <td>-0.275252</td>\n",
       "      <td>1.180096</td>\n",
       "      <td>0.670221</td>\n",
       "      <td>2.078317</td>\n",
       "      <td>-0.966414</td>\n",
       "      <td>0.562441</td>\n",
       "      <td>0.854228</td>\n",
       "      <td>0.599984</td>\n",
       "    </tr>\n",
       "    <tr>\n",
       "      <th>2</th>\n",
       "      <td>-1.731918</td>\n",
       "      <td>-0.216106</td>\n",
       "      <td>-1.075426</td>\n",
       "      <td>0.195251</td>\n",
       "      <td>-0.507186</td>\n",
       "      <td>-0.966414</td>\n",
       "      <td>0.907635</td>\n",
       "      <td>-0.322688</td>\n",
       "      <td>0.599984</td>\n",
       "    </tr>\n",
       "    <tr>\n",
       "      <th>3</th>\n",
       "      <td>-1.731864</td>\n",
       "      <td>-0.205974</td>\n",
       "      <td>0.564992</td>\n",
       "      <td>0.032620</td>\n",
       "      <td>-0.912484</td>\n",
       "      <td>-0.966414</td>\n",
       "      <td>-0.742547</td>\n",
       "      <td>-0.709283</td>\n",
       "      <td>0.599984</td>\n",
       "    </tr>\n",
       "    <tr>\n",
       "      <th>4</th>\n",
       "      <td>-1.731811</td>\n",
       "      <td>-0.205824</td>\n",
       "      <td>1.129336</td>\n",
       "      <td>0.413370</td>\n",
       "      <td>0.159620</td>\n",
       "      <td>-0.966414</td>\n",
       "      <td>0.382231</td>\n",
       "      <td>0.157161</td>\n",
       "      <td>0.599984</td>\n",
       "    </tr>\n",
       "  </tbody>\n",
       "</table>\n",
       "</div>"
      ],
      "text/plain": [
       "         id  connectionTime  disconnectTime  doneChargingTime  kWhDelivered  \\\n",
       "0 -1.732024       -0.358905        0.825945          0.315564      1.292140   \n",
       "1 -1.731971       -0.275252        1.180096          0.670221      2.078317   \n",
       "2 -1.731918       -0.216106       -1.075426          0.195251     -0.507186   \n",
       "3 -1.731864       -0.205974        0.564992          0.032620     -0.912484   \n",
       "4 -1.731811       -0.205824        1.129336          0.413370      0.159620   \n",
       "\n",
       "     siteID  totalConnectionTime  totalChargingTime  userInformation  \n",
       "0 -0.966414            -0.048296           0.182374         0.599984  \n",
       "1 -0.966414             0.562441           0.854228         0.599984  \n",
       "2 -0.966414             0.907635          -0.322688         0.599984  \n",
       "3 -0.966414            -0.742547          -0.709283         0.599984  \n",
       "4 -0.966414             0.382231           0.157161         0.599984  "
      ]
     },
     "execution_count": 9,
     "metadata": {},
     "output_type": "execute_result"
    }
   ],
   "source": [
    "scaler = StandardScaler()\n",
    "scaler.fit(charging_sessions_clustering)\n",
    "charging_sessions_scaled = scaler.transform(charging_sessions_clustering)\n",
    "\n",
    "# create a df out of array\n",
    "df_charging_sessions_scaled = pd.DataFrame(charging_sessions_scaled, columns=charging_sessions_clustering.columns, index=charging_sessions_clustering.index)\n",
    "df_charging_sessions_scaled.head()"
   ]
  },
  {
   "cell_type": "code",
   "execution_count": 10,
   "metadata": {},
   "outputs": [],
   "source": [
    "def plot_dendrogram(model, **kwargs):\n",
    "    # Create linkage matrix and then plot the dendrogram\n",
    "\n",
    "    # create the counts of samples under each node\n",
    "    counts = np.zeros(model.children_.shape[0])\n",
    "    n_samples = len(model.labels_)\n",
    "    for i, merge in enumerate(model.children_):\n",
    "        current_count = 0\n",
    "        for child_idx in merge:\n",
    "            if child_idx < n_samples:\n",
    "                current_count += 1  # leaf node\n",
    "            else:\n",
    "                current_count += counts[child_idx - n_samples]\n",
    "        counts[i] = current_count\n",
    "\n",
    "    linkage_matrix = np.column_stack(\n",
    "        [model.children_, model.distances_, counts]\n",
    "    ).astype(float)\n",
    "\n",
    "    # Plot the corresponding dendrogram\n",
    "    dendrogram(linkage_matrix, **kwargs)"
   ]
  },
  {
   "cell_type": "code",
   "execution_count": 11,
   "metadata": {},
   "outputs": [
    {
     "data": {
      "image/png": "[encoded data removed]",
      "text/plain": [
       "<Figure size 1080x720 with 1 Axes>"
      ]
     },
     "metadata": {
      "needs_background": "light"
     },
     "output_type": "display_data"
    }
   ],
   "source": [
    "model = AgglomerativeClustering(distance_threshold=0, n_clusters=None)\n",
    "y_pred_agglo = model.fit(charging_sessions_scaled)\n",
    "\n",
    "plt.figure(figsize=(15,10))\n",
    "plt.title('Hierarchical Clustering Dendrogram')\n",
    "plot_dendrogram(model, labels=model.labels_)\n",
    "plt.show()"
   ]
  },
  {
   "cell_type": "markdown",
   "metadata": {},
   "source": []
  }
 ],
 "metadata": {
  "kernelspec": {
   "display_name": "base",
   "language": "python",
   "name": "python3"
  },
  "language_info": {
   "codemirror_mode": {
    "name": "ipython",
    "version": 3
   },
   "file_extension": ".py",
   "mimetype": "text/x-python",
   "name": "python",
   "nbconvert_exporter": "python",
   "pygments_lexer": "ipython3",
   "version": "3.8.5"
  }
 },
 "nbformat": 4,
 "nbformat_minor": 2
}
