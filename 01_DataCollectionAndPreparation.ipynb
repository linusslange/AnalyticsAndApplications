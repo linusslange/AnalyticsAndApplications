{
 "cells": [
  {
   "cell_type": "markdown",
   "id": "827a722b-0073-462e-aa96-2b603b3544fc",
   "metadata": {},
   "source": [
    "# Task 1: Data Collection and Preparation"
   ]
  },
  {
   "cell_type": "code",
   "execution_count": 1,
   "id": "a50c5213-5731-49cd-be73-66b896fa6f11",
   "metadata": {},
   "outputs": [],
   "source": [
    "import pandas as pd"
   ]
  },
  {
   "cell_type": "markdown",
   "id": "c9f24730-e348-4e17-94a2-d26f37939c58",
   "metadata": {},
   "source": [
    "## Charging Sessions Dataset"
   ]
  },
  {
   "cell_type": "markdown",
   "id": "205e97f0-3292-444e-b9c5-00c5fd55df82",
   "metadata": {},
   "source": [
    "Read in the data as a dataframe. Interpret the date columns as dates."
   ]
  },
  {
   "cell_type": "code",
   "execution_count": 2,
   "id": "d4f6b558-5f33-4982-9d5f-73c74642fa28",
   "metadata": {},
   "outputs": [
    {
     "name": "stdout",
     "output_type": "stream",
     "text": [
      "Columns:  Index(['Unnamed: 0', 'id', 'connectionTime', 'disconnectTime',\n",
      "       'doneChargingTime', 'kWhDelivered', 'sessionID', 'siteID', 'spaceID',\n",
      "       'stationID', 'timezone', 'userID', 'userInputs'],\n",
      "      dtype='object')\n",
      "Number of rows:  66450\n"
     ]
    }
   ],
   "source": [
    "Charging_set = pd.read_csv('charging_sessions.csv', parse_dates=['connectionTime','disconnectTime','doneChargingTime'])\n",
    "print('Columns: ', Charging_set.columns)\n",
    "print('Number of rows: ', Charging_set.shape[0])"
   ]
  },
  {
   "cell_type": "markdown",
   "id": "40b7091b-9419-4cce-a8ff-0387d34b631f",
   "metadata": {},
   "source": [
    "Define functions to analyze the columns."
   ]
  },
  {
   "cell_type": "code",
   "execution_count": 3,
   "id": "e548998d-f4a5-495b-8307-10d685807496",
   "metadata": {},
   "outputs": [],
   "source": [
    "# compute the number of missing values\n",
    "def missingValues(columnName, dataSet) :\n",
    "    if (dataSet[columnName].isnull().any()):\n",
    "        percentage = round(dataSet[columnName].isnull().sum()/dataSet.shape[0]*100, 2)\n",
    "        print('The column contains', dataSet[columnName].isnull().sum(), 'missing values. This corresponds to', percentage, '%.')\n",
    "    else:\n",
    "        print('The column does not contain missing values.')\n",
    "        \n",
    "# compute the value range\n",
    "def valueRange(columnName, dataSet) :\n",
    "    print('Min. value: ', dataSet[columnName].min(), '\\nMax. value: ', dataSet[columnName].max())\n",
    "\n",
    "# compute the data types\n",
    "def dataTypes(columnName, dataSet):\n",
    "    print('Occuring data types: ', dataSet[columnName].apply(type).unique())"
   ]
  },
  {
   "cell_type": "markdown",
   "id": "ec36e172-505c-4090-b2fa-6b52cd317ec1",
   "metadata": {},
   "source": [
    "### deleted Column: unnamed"
   ]
  },
  {
   "cell_type": "code",
   "execution_count": 4,
   "id": "ff87c0eb-386a-44dc-b805-c6e238f2c14b",
   "metadata": {},
   "outputs": [
    {
     "name": "stdout",
     "output_type": "stream",
     "text": [
      "Occuring data types:  [<class 'int'>]\n",
      "Min. value:  0 \n",
      "Max. value:  15291\n",
      "The column does not contain missing values.\n"
     ]
    }
   ],
   "source": [
    "dataTypes('Unnamed: 0', Charging_set)\n",
    "valueRange('Unnamed: 0', Charging_set)\n",
    "missingValues('Unnamed: 0', Charging_set)"
   ]
  },
  {
   "cell_type": "markdown",
   "id": "fa0039b4-59f7-4ae9-8ffc-85c0b24700ad",
   "metadata": {},
   "source": [
    "This column does not provide any information that we can use. Therefore it can be deleted."
   ]
  },
  {
   "cell_type": "code",
   "execution_count": 5,
   "id": "c855d1f4-5838-4b25-839a-b2d1db049e4b",
   "metadata": {},
   "outputs": [],
   "source": [
    "Charging_set = Charging_set.drop(['Unnamed: 0'], axis=1)"
   ]
  },
  {
   "cell_type": "markdown",
   "id": "a9f5acaf-4d25-4b60-bf73-f7e29f118182",
   "metadata": {},
   "source": [
    "### Delete duplicates"
   ]
  },
  {
   "cell_type": "code",
   "execution_count": 6,
   "id": "08df1289-9d23-4bd8-b9ad-978db0ea37ba",
   "metadata": {},
   "outputs": [
    {
     "name": "stdout",
     "output_type": "stream",
     "text": [
      "Number of duplicate rows:  1413\n"
     ]
    }
   ],
   "source": [
    "numRows = Charging_set.shape[0]\n",
    "Charging_set = Charging_set.drop_duplicates()\n",
    "print('Number of duplicate rows: ', numRows-Charging_set.shape[0])"
   ]
  },
  {
   "cell_type": "markdown",
   "id": "3ed4dcd0-3444-43e6-b1d8-e4277c21b112",
   "metadata": {},
   "source": [
    "### Column: id - unique identifier of the session record"
   ]
  },
  {
   "cell_type": "code",
   "execution_count": 7,
   "id": "e22029b7-3865-43cb-a20e-5426b475c0c0",
   "metadata": {},
   "outputs": [
    {
     "name": "stdout",
     "output_type": "stream",
     "text": [
      "Occuring data types:  [<class 'str'>]\n",
      "Min. value:  5bc90cb9f9af8b0d7fe77cd2 \n",
      "Max. value:  6155053bf9af8b76960e16d1\n",
      "The column does not contain missing values.\n"
     ]
    }
   ],
   "source": [
    "dataTypes('id', Charging_set)\n",
    "valueRange('id', Charging_set)\n",
    "missingValues('id', Charging_set)"
   ]
  },
  {
   "cell_type": "markdown",
   "id": "f6222860-4c53-4a52-9c75-2325fe5b5c91",
   "metadata": {},
   "source": [
    "### Column: connectionTime - time when the EV plugged in"
   ]
  },
  {
   "cell_type": "code",
   "execution_count": 8,
   "id": "8c3c2c51-8cdf-436b-8c39-79911cdc4ce9",
   "metadata": {},
   "outputs": [
    {
     "name": "stdout",
     "output_type": "stream",
     "text": [
      "Occuring data types:  [<class 'pandas._libs.tslibs.timestamps.Timestamp'>]\n",
      "Min. value:  2018-04-25 11:08:04+00:00 \n",
      "Max. value:  2021-09-14 05:43:39+00:00\n",
      "The column does not contain missing values.\n"
     ]
    }
   ],
   "source": [
    "dataTypes('connectionTime', Charging_set)\n",
    "valueRange('connectionTime', Charging_set)\n",
    "missingValues('connectionTime', Charging_set)"
   ]
  },
  {
   "cell_type": "markdown",
   "id": "32b72304-0612-4364-b41b-13934e15928f",
   "metadata": {},
   "source": [
    "### Column: disconnectTime - time when the EV unplugged"
   ]
  },
  {
   "cell_type": "code",
   "execution_count": 9,
   "id": "2caa5717-1ef3-45f6-bb10-0a0374275b27",
   "metadata": {},
   "outputs": [
    {
     "name": "stdout",
     "output_type": "stream",
     "text": [
      "Occuring data types:  [<class 'pandas._libs.tslibs.timestamps.Timestamp'>]\n",
      "Min. value:  2018-04-25 13:20:10+00:00 \n",
      "Max. value:  2021-09-14 14:46:28+00:00\n",
      "The column does not contain missing values.\n"
     ]
    }
   ],
   "source": [
    "dataTypes('disconnectTime', Charging_set)\n",
    "valueRange('disconnectTime', Charging_set)\n",
    "missingValues('disconnectTime', Charging_set)"
   ]
  },
  {
   "cell_type": "markdown",
   "id": "443ff470-e5c3-4811-852e-d92c4fc49411",
   "metadata": {},
   "source": [
    "Check for erroneous values:"
   ]
  },
  {
   "cell_type": "code",
   "execution_count": 10,
   "id": "f21d07d3-aee8-4336-aed5-8584b37c6689",
   "metadata": {},
   "outputs": [
    {
     "name": "stdout",
     "output_type": "stream",
     "text": [
      "In  0 rows the disconnectTime is earlier than the connectionTime.\n"
     ]
    }
   ],
   "source": [
    "print('In ', Charging_set[Charging_set['disconnectTime'] < Charging_set['connectionTime']].shape[0], 'rows the disconnectTime is earlier than the connectionTime.')"
   ]
  },
  {
   "cell_type": "markdown",
   "id": "58fa0ed3-586a-46e0-8222-d1c9fb6cccc8",
   "metadata": {},
   "source": [
    "### new Column: totalConnectionTime - total time the EV was plugged in"
   ]
  },
  {
   "cell_type": "code",
   "execution_count": 11,
   "id": "7c828473-5c62-4ab0-89bb-aebcb57c5b6e",
   "metadata": {},
   "outputs": [
    {
     "name": "stdout",
     "output_type": "stream",
     "text": [
      "Occuring data types:  [<class 'pandas._libs.tslibs.timedeltas.Timedelta'>]\n",
      "Min. value:  0 days 00:02:04 \n",
      "Max. value:  10 days 05:16:09\n",
      "The column does not contain missing values.\n"
     ]
    }
   ],
   "source": [
    "Charging_set['totalConnectionTime'] = Charging_set['disconnectTime'] - Charging_set['connectionTime']\n",
    "dataTypes('totalConnectionTime', Charging_set)\n",
    "valueRange('totalConnectionTime', Charging_set)\n",
    "missingValues('totalConnectionTime', Charging_set)"
   ]
  },
  {
   "cell_type": "markdown",
   "id": "0f373286-fecd-477e-b7d6-779686bf8912",
   "metadata": {},
   "source": [
    "### Column: doneChargingTime - time of the last non-zero current draw recorded"
   ]
  },
  {
   "cell_type": "code",
   "execution_count": 12,
   "id": "67453ca3-2595-49f6-8005-6e9e5cea8824",
   "metadata": {},
   "outputs": [
    {
     "name": "stdout",
     "output_type": "stream",
     "text": [
      "Occuring data types:  [<class 'pandas._libs.tslibs.timestamps.Timestamp'>\n",
      " <class 'pandas._libs.tslibs.nattype.NaTType'>]\n",
      "Min. value:  2018-04-25 13:21:10+00:00 \n",
      "Max. value:  2021-09-14 14:46:22+00:00\n",
      "The column contains 4087 missing values. This corresponds to 6.28 %.\n"
     ]
    }
   ],
   "source": [
    "dataTypes('doneChargingTime', Charging_set)\n",
    "valueRange('doneChargingTime', Charging_set)\n",
    "missingValues('doneChargingTime', Charging_set)\n",
    "# Charging_set[Charging_set['kWhDelivered'] == 0] -> not because of no kWh delivered \n",
    "# Charging_set[Charging_set['userInputs'].isnull() & Charging_set['doneChargingTime'].isnull()] -> not because of the userInput"
   ]
  },
  {
   "cell_type": "markdown",
   "id": "abe8bbb1-2b98-486d-abd6-fb9636f55fc1",
   "metadata": {},
   "source": [
    "Check for erroneous values:"
   ]
  },
  {
   "cell_type": "code",
   "execution_count": 13,
   "id": "d7425a58-0966-49fc-829b-b3a42525121f",
   "metadata": {
    "scrolled": true
   },
   "outputs": [
    {
     "name": "stdout",
     "output_type": "stream",
     "text": [
      "In these 27 rows the doneChargingTime is earlier than the connectionTime.\n"
     ]
    },
    {
     "data": {
      "text/html": [
       "<div>\n",
       "<style scoped>\n",
       "    .dataframe tbody tr th:only-of-type {\n",
       "        vertical-align: middle;\n",
       "    }\n",
       "\n",
       "    .dataframe tbody tr th {\n",
       "        vertical-align: top;\n",
       "    }\n",
       "\n",
       "    .dataframe thead th {\n",
       "        text-align: right;\n",
       "    }\n",
       "</style>\n",
       "<table border=\"1\" class=\"dataframe\">\n",
       "  <thead>\n",
       "    <tr style=\"text-align: right;\">\n",
       "      <th></th>\n",
       "      <th>id</th>\n",
       "      <th>connectionTime</th>\n",
       "      <th>disconnectTime</th>\n",
       "      <th>doneChargingTime</th>\n",
       "      <th>kWhDelivered</th>\n",
       "      <th>sessionID</th>\n",
       "      <th>siteID</th>\n",
       "      <th>spaceID</th>\n",
       "      <th>stationID</th>\n",
       "      <th>timezone</th>\n",
       "      <th>userID</th>\n",
       "      <th>userInputs</th>\n",
       "      <th>totalConnectionTime</th>\n",
       "    </tr>\n",
       "  </thead>\n",
       "  <tbody>\n",
       "    <tr>\n",
       "      <th>22219</th>\n",
       "      <td>5c942ca4f9af8b06b04b3bb4</td>\n",
       "      <td>2019-03-05 19:13:55+00:00</td>\n",
       "      <td>2019-03-05 22:50:39+00:00</td>\n",
       "      <td>2019-03-05 19:12:56+00:00</td>\n",
       "      <td>0.706655</td>\n",
       "      <td>2_39_78_367_2019-03-05 19:13:55.113078</td>\n",
       "      <td>2</td>\n",
       "      <td>CA-494</td>\n",
       "      <td>2-39-78-367</td>\n",
       "      <td>America/Los_Angeles</td>\n",
       "      <td>NaN</td>\n",
       "      <td>NaN</td>\n",
       "      <td>0 days 03:36:44</td>\n",
       "    </tr>\n",
       "    <tr>\n",
       "      <th>22253</th>\n",
       "      <td>5c957e1cf9af8b42f440af03</td>\n",
       "      <td>2019-03-06 20:26:30+00:00</td>\n",
       "      <td>2019-03-07 01:48:54+00:00</td>\n",
       "      <td>2019-03-06 20:25:34+00:00</td>\n",
       "      <td>1.046381</td>\n",
       "      <td>2_39_78_367_2019-03-06 20:26:30.479644</td>\n",
       "      <td>2</td>\n",
       "      <td>CA-494</td>\n",
       "      <td>2-39-78-367</td>\n",
       "      <td>America/Los_Angeles</td>\n",
       "      <td>NaN</td>\n",
       "      <td>NaN</td>\n",
       "      <td>0 days 05:22:24</td>\n",
       "    </tr>\n",
       "    <tr>\n",
       "      <th>23562</th>\n",
       "      <td>5cca3a22f9af8b49aaa4cba0</td>\n",
       "      <td>2019-04-15 20:24:13+00:00</td>\n",
       "      <td>2019-04-15 23:39:04+00:00</td>\n",
       "      <td>2019-04-15 20:23:14+00:00</td>\n",
       "      <td>0.635278</td>\n",
       "      <td>2_39_78_367_2019-04-15 20:24:13.365605</td>\n",
       "      <td>2</td>\n",
       "      <td>CA-494</td>\n",
       "      <td>2-39-78-367</td>\n",
       "      <td>America/Los_Angeles</td>\n",
       "      <td>1154.0</td>\n",
       "      <td>[{'WhPerMile': 308, 'kWhRequested': 9.24, 'mil...</td>\n",
       "      <td>0 days 03:14:51</td>\n",
       "    </tr>\n",
       "    <tr>\n",
       "      <th>23586</th>\n",
       "      <td>5ccb8ba6f9af8b4d9721df00</td>\n",
       "      <td>2019-04-16 16:11:08+00:00</td>\n",
       "      <td>2019-04-16 19:10:48+00:00</td>\n",
       "      <td>2019-04-16 16:10:11+00:00</td>\n",
       "      <td>0.585977</td>\n",
       "      <td>2_39_78_367_2019-04-16 16:11:07.939710</td>\n",
       "      <td>2</td>\n",
       "      <td>CA-494</td>\n",
       "      <td>2-39-78-367</td>\n",
       "      <td>America/Los_Angeles</td>\n",
       "      <td>1154.0</td>\n",
       "      <td>[{'WhPerMile': 308, 'kWhRequested': 6.16, 'mil...</td>\n",
       "      <td>0 days 02:59:40</td>\n",
       "    </tr>\n",
       "    <tr>\n",
       "      <th>27689</th>\n",
       "      <td>5d856f1ff9af8b0c7bdf245c</td>\n",
       "      <td>2019-09-04 16:35:04+00:00</td>\n",
       "      <td>2019-09-05 00:44:27+00:00</td>\n",
       "      <td>2019-09-04 16:34:05+00:00</td>\n",
       "      <td>1.584500</td>\n",
       "      <td>2_39_78_367_2019-09-04 16:35:04.129327</td>\n",
       "      <td>2</td>\n",
       "      <td>CA-494</td>\n",
       "      <td>2-39-78-367</td>\n",
       "      <td>America/Los_Angeles</td>\n",
       "      <td>NaN</td>\n",
       "      <td>NaN</td>\n",
       "      <td>0 days 08:09:23</td>\n",
       "    </tr>\n",
       "    <tr>\n",
       "      <th>27740</th>\n",
       "      <td>5d86c0a5f9af8b1022a81870</td>\n",
       "      <td>2019-09-05 18:44:57+00:00</td>\n",
       "      <td>2019-09-06 00:55:19+00:00</td>\n",
       "      <td>2019-09-05 18:43:57+00:00</td>\n",
       "      <td>1.067230</td>\n",
       "      <td>2_39_78_360_2019-09-05 18:44:57.410168</td>\n",
       "      <td>2</td>\n",
       "      <td>CA-322</td>\n",
       "      <td>2-39-78-360</td>\n",
       "      <td>America/Los_Angeles</td>\n",
       "      <td>NaN</td>\n",
       "      <td>NaN</td>\n",
       "      <td>0 days 06:10:22</td>\n",
       "    </tr>\n",
       "    <tr>\n",
       "      <th>29295</th>\n",
       "      <td>5dcdffbdf9af8b220a19be8b</td>\n",
       "      <td>2019-10-29 17:22:32+00:00</td>\n",
       "      <td>2019-10-31 01:57:20+00:00</td>\n",
       "      <td>2019-10-29 17:21:33+00:00</td>\n",
       "      <td>6.316210</td>\n",
       "      <td>2_39_78_367_2019-10-29 17:22:32.086306</td>\n",
       "      <td>2</td>\n",
       "      <td>CA-494</td>\n",
       "      <td>2-39-78-367</td>\n",
       "      <td>America/Los_Angeles</td>\n",
       "      <td>1470.0</td>\n",
       "      <td>[{'WhPerMile': 292, 'kWhRequested': 14.6, 'mil...</td>\n",
       "      <td>1 days 08:34:48</td>\n",
       "    </tr>\n",
       "    <tr>\n",
       "      <th>31285</th>\n",
       "      <td>5bc91740f9af8b0dc677b860</td>\n",
       "      <td>2018-05-04 19:08:37+00:00</td>\n",
       "      <td>2018-05-04 22:07:47+00:00</td>\n",
       "      <td>2018-05-04 19:07:40+00:00</td>\n",
       "      <td>0.551722</td>\n",
       "      <td>2_39_78_363_2018-05-04 19:08:36.642114</td>\n",
       "      <td>2</td>\n",
       "      <td>CA-320</td>\n",
       "      <td>2-39-78-363</td>\n",
       "      <td>America/Los_Angeles</td>\n",
       "      <td>NaN</td>\n",
       "      <td>NaN</td>\n",
       "      <td>0 days 02:59:10</td>\n",
       "    </tr>\n",
       "    <tr>\n",
       "      <th>31287</th>\n",
       "      <td>5bc91740f9af8b0dc677b862</td>\n",
       "      <td>2018-05-04 19:23:52+00:00</td>\n",
       "      <td>2018-05-05 00:04:15+00:00</td>\n",
       "      <td>2018-05-04 19:22:52+00:00</td>\n",
       "      <td>0.912297</td>\n",
       "      <td>2_39_78_367_2018-05-04 19:23:51.897392</td>\n",
       "      <td>2</td>\n",
       "      <td>CA-494</td>\n",
       "      <td>2-39-78-367</td>\n",
       "      <td>America/Los_Angeles</td>\n",
       "      <td>NaN</td>\n",
       "      <td>NaN</td>\n",
       "      <td>0 days 04:40:23</td>\n",
       "    </tr>\n",
       "    <tr>\n",
       "      <th>31403</th>\n",
       "      <td>5bc917d0f9af8b0dc677b8d6</td>\n",
       "      <td>2018-05-07 20:47:51+00:00</td>\n",
       "      <td>2018-05-08 02:16:00+00:00</td>\n",
       "      <td>2018-05-07 20:47:50+00:00</td>\n",
       "      <td>14.967000</td>\n",
       "      <td>2_39_139_567_2018-05-07 20:47:50.862655</td>\n",
       "      <td>2</td>\n",
       "      <td>CA-513</td>\n",
       "      <td>2-39-139-567</td>\n",
       "      <td>America/Los_Angeles</td>\n",
       "      <td>NaN</td>\n",
       "      <td>NaN</td>\n",
       "      <td>0 days 05:28:09</td>\n",
       "    </tr>\n",
       "    <tr>\n",
       "      <th>35840</th>\n",
       "      <td>5bc92c03f9af8b0dc677ca2b</td>\n",
       "      <td>2018-07-19 15:57:19+00:00</td>\n",
       "      <td>2018-07-19 22:49:56+00:00</td>\n",
       "      <td>2018-07-19 15:56:21+00:00</td>\n",
       "      <td>1.336511</td>\n",
       "      <td>2_39_78_366_2018-07-19 15:57:19.401534</td>\n",
       "      <td>2</td>\n",
       "      <td>CA-323</td>\n",
       "      <td>2-39-78-366</td>\n",
       "      <td>America/Los_Angeles</td>\n",
       "      <td>NaN</td>\n",
       "      <td>NaN</td>\n",
       "      <td>0 days 06:52:37</td>\n",
       "    </tr>\n",
       "    <tr>\n",
       "      <th>38884</th>\n",
       "      <td>5bc937f6f9af8b0dc677d60f</td>\n",
       "      <td>2018-08-29 05:25:08+00:00</td>\n",
       "      <td>2018-08-29 13:08:26+00:00</td>\n",
       "      <td>2018-08-29 05:24:11+00:00</td>\n",
       "      <td>1.416971</td>\n",
       "      <td>2_39_78_363_2018-08-29 05:25:08.060741</td>\n",
       "      <td>2</td>\n",
       "      <td>CA-320</td>\n",
       "      <td>2-39-78-363</td>\n",
       "      <td>America/Los_Angeles</td>\n",
       "      <td>NaN</td>\n",
       "      <td>NaN</td>\n",
       "      <td>0 days 07:43:18</td>\n",
       "    </tr>\n",
       "    <tr>\n",
       "      <th>39875</th>\n",
       "      <td>5bc93c1cf9af8b0dc677d9ee</td>\n",
       "      <td>2018-09-11 15:15:01+00:00</td>\n",
       "      <td>2018-09-11 20:38:32+00:00</td>\n",
       "      <td>2018-09-11 15:14:02+00:00</td>\n",
       "      <td>1.050226</td>\n",
       "      <td>2_39_78_367_2018-09-11 15:15:01.134140</td>\n",
       "      <td>2</td>\n",
       "      <td>CA-494</td>\n",
       "      <td>2-39-78-367</td>\n",
       "      <td>America/Los_Angeles</td>\n",
       "      <td>NaN</td>\n",
       "      <td>NaN</td>\n",
       "      <td>0 days 05:23:31</td>\n",
       "    </tr>\n",
       "    <tr>\n",
       "      <th>41263</th>\n",
       "      <td>5bc94185f9af8b0dc677df5a</td>\n",
       "      <td>2018-09-27 22:58:45+00:00</td>\n",
       "      <td>2018-09-28 21:58:26+00:00</td>\n",
       "      <td>2018-09-27 22:57:45+00:00</td>\n",
       "      <td>4.443405</td>\n",
       "      <td>2_39_78_367_2018-09-27 22:58:45.258702</td>\n",
       "      <td>2</td>\n",
       "      <td>CA-494</td>\n",
       "      <td>2-39-78-367</td>\n",
       "      <td>America/Los_Angeles</td>\n",
       "      <td>NaN</td>\n",
       "      <td>NaN</td>\n",
       "      <td>0 days 22:59:41</td>\n",
       "    </tr>\n",
       "    <tr>\n",
       "      <th>42102</th>\n",
       "      <td>5be2fcd7f9af8b2b0edfa0ee</td>\n",
       "      <td>2018-10-08 19:14:32+00:00</td>\n",
       "      <td>2018-10-09 00:54:50+00:00</td>\n",
       "      <td>2018-10-08 19:13:32+00:00</td>\n",
       "      <td>1.104249</td>\n",
       "      <td>2_39_78_361_2018-10-08 19:14:31.785466</td>\n",
       "      <td>2</td>\n",
       "      <td>CA-493</td>\n",
       "      <td>2-39-78-361</td>\n",
       "      <td>America/Los_Angeles</td>\n",
       "      <td>NaN</td>\n",
       "      <td>NaN</td>\n",
       "      <td>0 days 05:40:18</td>\n",
       "    </tr>\n",
       "    <tr>\n",
       "      <th>42342</th>\n",
       "      <td>5be2fdcaf9af8b2b0edfa1de</td>\n",
       "      <td>2018-10-11 15:58:47+00:00</td>\n",
       "      <td>2018-10-11 20:06:02+00:00</td>\n",
       "      <td>2018-10-11 15:57:47+00:00</td>\n",
       "      <td>0.714337</td>\n",
       "      <td>2_39_78_360_2018-10-11 15:58:47.225713</td>\n",
       "      <td>2</td>\n",
       "      <td>CA-322</td>\n",
       "      <td>2-39-78-360</td>\n",
       "      <td>America/Los_Angeles</td>\n",
       "      <td>NaN</td>\n",
       "      <td>NaN</td>\n",
       "      <td>0 days 04:07:15</td>\n",
       "    </tr>\n",
       "    <tr>\n",
       "      <th>42347</th>\n",
       "      <td>5be2fdcaf9af8b2b0edfa1e3</td>\n",
       "      <td>2018-10-11 16:14:05+00:00</td>\n",
       "      <td>2018-10-12 01:39:58+00:00</td>\n",
       "      <td>2018-10-11 16:13:08+00:00</td>\n",
       "      <td>1.831132</td>\n",
       "      <td>2_39_78_365_2018-10-11 16:14:04.947860</td>\n",
       "      <td>2</td>\n",
       "      <td>CA-321</td>\n",
       "      <td>2-39-78-365</td>\n",
       "      <td>America/Los_Angeles</td>\n",
       "      <td>NaN</td>\n",
       "      <td>NaN</td>\n",
       "      <td>0 days 09:25:53</td>\n",
       "    </tr>\n",
       "    <tr>\n",
       "      <th>42434</th>\n",
       "      <td>5be2fe25f9af8b2b0edfa23a</td>\n",
       "      <td>2018-10-12 15:59:07+00:00</td>\n",
       "      <td>2018-10-13 00:19:49+00:00</td>\n",
       "      <td>2018-10-12 15:58:09+00:00</td>\n",
       "      <td>1.441147</td>\n",
       "      <td>2_39_78_360_2018-10-12 15:59:07.388438</td>\n",
       "      <td>2</td>\n",
       "      <td>CA-322</td>\n",
       "      <td>2-39-78-360</td>\n",
       "      <td>America/Los_Angeles</td>\n",
       "      <td>NaN</td>\n",
       "      <td>NaN</td>\n",
       "      <td>0 days 08:20:42</td>\n",
       "    </tr>\n",
       "    <tr>\n",
       "      <th>42452</th>\n",
       "      <td>5be2fe25f9af8b2b0edfa24c</td>\n",
       "      <td>2018-10-12 18:40:37+00:00</td>\n",
       "      <td>2018-10-13 00:34:06+00:00</td>\n",
       "      <td>2018-10-12 18:39:38+00:00</td>\n",
       "      <td>1.145796</td>\n",
       "      <td>2_39_78_365_2018-10-12 18:40:37.245744</td>\n",
       "      <td>2</td>\n",
       "      <td>CA-321</td>\n",
       "      <td>2-39-78-365</td>\n",
       "      <td>America/Los_Angeles</td>\n",
       "      <td>NaN</td>\n",
       "      <td>NaN</td>\n",
       "      <td>0 days 05:53:29</td>\n",
       "    </tr>\n",
       "    <tr>\n",
       "      <th>42618</th>\n",
       "      <td>5be2febbf9af8b2b0edfa2f2</td>\n",
       "      <td>2018-10-15 15:42:14+00:00</td>\n",
       "      <td>2018-10-15 20:39:47+00:00</td>\n",
       "      <td>2018-10-15 15:41:14+00:00</td>\n",
       "      <td>0.858423</td>\n",
       "      <td>2_39_78_360_2018-10-15 15:42:13.677037</td>\n",
       "      <td>2</td>\n",
       "      <td>CA-322</td>\n",
       "      <td>2-39-78-360</td>\n",
       "      <td>America/Los_Angeles</td>\n",
       "      <td>NaN</td>\n",
       "      <td>NaN</td>\n",
       "      <td>0 days 04:57:33</td>\n",
       "    </tr>\n",
       "    <tr>\n",
       "      <th>43484</th>\n",
       "      <td>5be634cdf9af8b34ee236867</td>\n",
       "      <td>2018-10-26 20:27:53+00:00</td>\n",
       "      <td>2018-10-27 00:56:04+00:00</td>\n",
       "      <td>2018-10-26 20:26:53+00:00</td>\n",
       "      <td>0.871274</td>\n",
       "      <td>2_39_78_365_2018-10-26 20:27:53.015524</td>\n",
       "      <td>2</td>\n",
       "      <td>CA-321</td>\n",
       "      <td>2-39-78-365</td>\n",
       "      <td>America/Los_Angeles</td>\n",
       "      <td>NaN</td>\n",
       "      <td>NaN</td>\n",
       "      <td>0 days 04:28:11</td>\n",
       "    </tr>\n",
       "    <tr>\n",
       "      <th>44040</th>\n",
       "      <td>5c2e85daf9af8b13dab07564</td>\n",
       "      <td>2018-11-04 02:10:08+00:00</td>\n",
       "      <td>2018-11-04 02:55:22+00:00</td>\n",
       "      <td>2018-11-04 01:40:31+00:00</td>\n",
       "      <td>0.988647</td>\n",
       "      <td>2_39_78_364_2018-11-04 02:10:08.418061</td>\n",
       "      <td>2</td>\n",
       "      <td>CA-495</td>\n",
       "      <td>2-39-78-364</td>\n",
       "      <td>America/Los_Angeles</td>\n",
       "      <td>NaN</td>\n",
       "      <td>NaN</td>\n",
       "      <td>0 days 00:45:14</td>\n",
       "    </tr>\n",
       "    <tr>\n",
       "      <th>44041</th>\n",
       "      <td>5c2e85daf9af8b13dab07565</td>\n",
       "      <td>2018-11-04 03:56:17+00:00</td>\n",
       "      <td>2018-11-04 04:15:00+00:00</td>\n",
       "      <td>2018-11-04 03:14:55+00:00</td>\n",
       "      <td>0.521000</td>\n",
       "      <td>2_39_129_17_2018-11-04 03:56:16.817298</td>\n",
       "      <td>2</td>\n",
       "      <td>CA-307</td>\n",
       "      <td>2-39-129-17</td>\n",
       "      <td>America/Los_Angeles</td>\n",
       "      <td>NaN</td>\n",
       "      <td>NaN</td>\n",
       "      <td>0 days 00:18:43</td>\n",
       "    </tr>\n",
       "    <tr>\n",
       "      <th>44042</th>\n",
       "      <td>5c2e85daf9af8b13dab07566</td>\n",
       "      <td>2018-11-04 04:33:19+00:00</td>\n",
       "      <td>2018-11-04 04:52:37+00:00</td>\n",
       "      <td>2018-11-04 03:52:29+00:00</td>\n",
       "      <td>2.051000</td>\n",
       "      <td>2_39_139_28_2018-11-04 04:33:18.910858</td>\n",
       "      <td>2</td>\n",
       "      <td>CA-303</td>\n",
       "      <td>2-39-139-28</td>\n",
       "      <td>America/Los_Angeles</td>\n",
       "      <td>516.0</td>\n",
       "      <td>[{'WhPerMile': 250, 'kWhRequested': 12.5, 'mil...</td>\n",
       "      <td>0 days 00:19:18</td>\n",
       "    </tr>\n",
       "    <tr>\n",
       "      <th>44199</th>\n",
       "      <td>5c2e8674f9af8b13dab07603</td>\n",
       "      <td>2018-11-07 03:40:06+00:00</td>\n",
       "      <td>2018-11-10 02:39:58+00:00</td>\n",
       "      <td>2018-11-07 03:39:08+00:00</td>\n",
       "      <td>12.220490</td>\n",
       "      <td>2_39_78_360_2018-11-07 03:40:06.365714</td>\n",
       "      <td>2</td>\n",
       "      <td>CA-322</td>\n",
       "      <td>2-39-78-360</td>\n",
       "      <td>America/Los_Angeles</td>\n",
       "      <td>NaN</td>\n",
       "      <td>NaN</td>\n",
       "      <td>2 days 22:59:52</td>\n",
       "    </tr>\n",
       "    <tr>\n",
       "      <th>51110</th>\n",
       "      <td>5e7fec1af9af8b1fc4c8d3e0</td>\n",
       "      <td>2020-03-12 20:20:15+00:00</td>\n",
       "      <td>2020-03-13 00:22:12+00:00</td>\n",
       "      <td>2020-03-12 20:20:06+00:00</td>\n",
       "      <td>0.773462</td>\n",
       "      <td>2_39_78_366_2020-03-12 20:20:14.592808</td>\n",
       "      <td>2</td>\n",
       "      <td>CA-323</td>\n",
       "      <td>2-39-78-366</td>\n",
       "      <td>America/Los_Angeles</td>\n",
       "      <td>560.0</td>\n",
       "      <td>[{'WhPerMile': 400, 'kWhRequested': 32.0, 'mil...</td>\n",
       "      <td>0 days 04:01:57</td>\n",
       "    </tr>\n",
       "    <tr>\n",
       "      <th>62146</th>\n",
       "      <td>5ce1f55bf9af8b1e78b1315c</td>\n",
       "      <td>2019-05-03 18:35:38+00:00</td>\n",
       "      <td>2019-05-03 22:10:42+00:00</td>\n",
       "      <td>2019-05-03 18:34:40+00:00</td>\n",
       "      <td>5.803000</td>\n",
       "      <td>1_1_191_789_2019-05-03 18:35:38.365680</td>\n",
       "      <td>1</td>\n",
       "      <td>AG-4F52</td>\n",
       "      <td>1-1-191-789</td>\n",
       "      <td>America/Los_Angeles</td>\n",
       "      <td>483.0</td>\n",
       "      <td>[{'WhPerMile': 350, 'kWhRequested': 7.0, 'mile...</td>\n",
       "      <td>0 days 03:35:04</td>\n",
       "    </tr>\n",
       "  </tbody>\n",
       "</table>\n",
       "</div>"
      ],
      "text/plain": [
       "                             id            connectionTime  \\\n",
       "22219  5c942ca4f9af8b06b04b3bb4 2019-03-05 19:13:55+00:00   \n",
       "22253  5c957e1cf9af8b42f440af03 2019-03-06 20:26:30+00:00   \n",
       "23562  5cca3a22f9af8b49aaa4cba0 2019-04-15 20:24:13+00:00   \n",
       "23586  5ccb8ba6f9af8b4d9721df00 2019-04-16 16:11:08+00:00   \n",
       "27689  5d856f1ff9af8b0c7bdf245c 2019-09-04 16:35:04+00:00   \n",
       "27740  5d86c0a5f9af8b1022a81870 2019-09-05 18:44:57+00:00   \n",
       "29295  5dcdffbdf9af8b220a19be8b 2019-10-29 17:22:32+00:00   \n",
       "31285  5bc91740f9af8b0dc677b860 2018-05-04 19:08:37+00:00   \n",
       "31287  5bc91740f9af8b0dc677b862 2018-05-04 19:23:52+00:00   \n",
       "31403  5bc917d0f9af8b0dc677b8d6 2018-05-07 20:47:51+00:00   \n",
       "35840  5bc92c03f9af8b0dc677ca2b 2018-07-19 15:57:19+00:00   \n",
       "38884  5bc937f6f9af8b0dc677d60f 2018-08-29 05:25:08+00:00   \n",
       "39875  5bc93c1cf9af8b0dc677d9ee 2018-09-11 15:15:01+00:00   \n",
       "41263  5bc94185f9af8b0dc677df5a 2018-09-27 22:58:45+00:00   \n",
       "42102  5be2fcd7f9af8b2b0edfa0ee 2018-10-08 19:14:32+00:00   \n",
       "42342  5be2fdcaf9af8b2b0edfa1de 2018-10-11 15:58:47+00:00   \n",
       "42347  5be2fdcaf9af8b2b0edfa1e3 2018-10-11 16:14:05+00:00   \n",
       "42434  5be2fe25f9af8b2b0edfa23a 2018-10-12 15:59:07+00:00   \n",
       "42452  5be2fe25f9af8b2b0edfa24c 2018-10-12 18:40:37+00:00   \n",
       "42618  5be2febbf9af8b2b0edfa2f2 2018-10-15 15:42:14+00:00   \n",
       "43484  5be634cdf9af8b34ee236867 2018-10-26 20:27:53+00:00   \n",
       "44040  5c2e85daf9af8b13dab07564 2018-11-04 02:10:08+00:00   \n",
       "44041  5c2e85daf9af8b13dab07565 2018-11-04 03:56:17+00:00   \n",
       "44042  5c2e85daf9af8b13dab07566 2018-11-04 04:33:19+00:00   \n",
       "44199  5c2e8674f9af8b13dab07603 2018-11-07 03:40:06+00:00   \n",
       "51110  5e7fec1af9af8b1fc4c8d3e0 2020-03-12 20:20:15+00:00   \n",
       "62146  5ce1f55bf9af8b1e78b1315c 2019-05-03 18:35:38+00:00   \n",
       "\n",
       "                 disconnectTime          doneChargingTime  kWhDelivered  \\\n",
       "22219 2019-03-05 22:50:39+00:00 2019-03-05 19:12:56+00:00      0.706655   \n",
       "22253 2019-03-07 01:48:54+00:00 2019-03-06 20:25:34+00:00      1.046381   \n",
       "23562 2019-04-15 23:39:04+00:00 2019-04-15 20:23:14+00:00      0.635278   \n",
       "23586 2019-04-16 19:10:48+00:00 2019-04-16 16:10:11+00:00      0.585977   \n",
       "27689 2019-09-05 00:44:27+00:00 2019-09-04 16:34:05+00:00      1.584500   \n",
       "27740 2019-09-06 00:55:19+00:00 2019-09-05 18:43:57+00:00      1.067230   \n",
       "29295 2019-10-31 01:57:20+00:00 2019-10-29 17:21:33+00:00      6.316210   \n",
       "31285 2018-05-04 22:07:47+00:00 2018-05-04 19:07:40+00:00      0.551722   \n",
       "31287 2018-05-05 00:04:15+00:00 2018-05-04 19:22:52+00:00      0.912297   \n",
       "31403 2018-05-08 02:16:00+00:00 2018-05-07 20:47:50+00:00     14.967000   \n",
       "35840 2018-07-19 22:49:56+00:00 2018-07-19 15:56:21+00:00      1.336511   \n",
       "38884 2018-08-29 13:08:26+00:00 2018-08-29 05:24:11+00:00      1.416971   \n",
       "39875 2018-09-11 20:38:32+00:00 2018-09-11 15:14:02+00:00      1.050226   \n",
       "41263 2018-09-28 21:58:26+00:00 2018-09-27 22:57:45+00:00      4.443405   \n",
       "42102 2018-10-09 00:54:50+00:00 2018-10-08 19:13:32+00:00      1.104249   \n",
       "42342 2018-10-11 20:06:02+00:00 2018-10-11 15:57:47+00:00      0.714337   \n",
       "42347 2018-10-12 01:39:58+00:00 2018-10-11 16:13:08+00:00      1.831132   \n",
       "42434 2018-10-13 00:19:49+00:00 2018-10-12 15:58:09+00:00      1.441147   \n",
       "42452 2018-10-13 00:34:06+00:00 2018-10-12 18:39:38+00:00      1.145796   \n",
       "42618 2018-10-15 20:39:47+00:00 2018-10-15 15:41:14+00:00      0.858423   \n",
       "43484 2018-10-27 00:56:04+00:00 2018-10-26 20:26:53+00:00      0.871274   \n",
       "44040 2018-11-04 02:55:22+00:00 2018-11-04 01:40:31+00:00      0.988647   \n",
       "44041 2018-11-04 04:15:00+00:00 2018-11-04 03:14:55+00:00      0.521000   \n",
       "44042 2018-11-04 04:52:37+00:00 2018-11-04 03:52:29+00:00      2.051000   \n",
       "44199 2018-11-10 02:39:58+00:00 2018-11-07 03:39:08+00:00     12.220490   \n",
       "51110 2020-03-13 00:22:12+00:00 2020-03-12 20:20:06+00:00      0.773462   \n",
       "62146 2019-05-03 22:10:42+00:00 2019-05-03 18:34:40+00:00      5.803000   \n",
       "\n",
       "                                     sessionID  siteID  spaceID     stationID  \\\n",
       "22219   2_39_78_367_2019-03-05 19:13:55.113078       2   CA-494   2-39-78-367   \n",
       "22253   2_39_78_367_2019-03-06 20:26:30.479644       2   CA-494   2-39-78-367   \n",
       "23562   2_39_78_367_2019-04-15 20:24:13.365605       2   CA-494   2-39-78-367   \n",
       "23586   2_39_78_367_2019-04-16 16:11:07.939710       2   CA-494   2-39-78-367   \n",
       "27689   2_39_78_367_2019-09-04 16:35:04.129327       2   CA-494   2-39-78-367   \n",
       "27740   2_39_78_360_2019-09-05 18:44:57.410168       2   CA-322   2-39-78-360   \n",
       "29295   2_39_78_367_2019-10-29 17:22:32.086306       2   CA-494   2-39-78-367   \n",
       "31285   2_39_78_363_2018-05-04 19:08:36.642114       2   CA-320   2-39-78-363   \n",
       "31287   2_39_78_367_2018-05-04 19:23:51.897392       2   CA-494   2-39-78-367   \n",
       "31403  2_39_139_567_2018-05-07 20:47:50.862655       2   CA-513  2-39-139-567   \n",
       "35840   2_39_78_366_2018-07-19 15:57:19.401534       2   CA-323   2-39-78-366   \n",
       "38884   2_39_78_363_2018-08-29 05:25:08.060741       2   CA-320   2-39-78-363   \n",
       "39875   2_39_78_367_2018-09-11 15:15:01.134140       2   CA-494   2-39-78-367   \n",
       "41263   2_39_78_367_2018-09-27 22:58:45.258702       2   CA-494   2-39-78-367   \n",
       "42102   2_39_78_361_2018-10-08 19:14:31.785466       2   CA-493   2-39-78-361   \n",
       "42342   2_39_78_360_2018-10-11 15:58:47.225713       2   CA-322   2-39-78-360   \n",
       "42347   2_39_78_365_2018-10-11 16:14:04.947860       2   CA-321   2-39-78-365   \n",
       "42434   2_39_78_360_2018-10-12 15:59:07.388438       2   CA-322   2-39-78-360   \n",
       "42452   2_39_78_365_2018-10-12 18:40:37.245744       2   CA-321   2-39-78-365   \n",
       "42618   2_39_78_360_2018-10-15 15:42:13.677037       2   CA-322   2-39-78-360   \n",
       "43484   2_39_78_365_2018-10-26 20:27:53.015524       2   CA-321   2-39-78-365   \n",
       "44040   2_39_78_364_2018-11-04 02:10:08.418061       2   CA-495   2-39-78-364   \n",
       "44041   2_39_129_17_2018-11-04 03:56:16.817298       2   CA-307   2-39-129-17   \n",
       "44042   2_39_139_28_2018-11-04 04:33:18.910858       2   CA-303   2-39-139-28   \n",
       "44199   2_39_78_360_2018-11-07 03:40:06.365714       2   CA-322   2-39-78-360   \n",
       "51110   2_39_78_366_2020-03-12 20:20:14.592808       2   CA-323   2-39-78-366   \n",
       "62146   1_1_191_789_2019-05-03 18:35:38.365680       1  AG-4F52   1-1-191-789   \n",
       "\n",
       "                  timezone  userID  \\\n",
       "22219  America/Los_Angeles     NaN   \n",
       "22253  America/Los_Angeles     NaN   \n",
       "23562  America/Los_Angeles  1154.0   \n",
       "23586  America/Los_Angeles  1154.0   \n",
       "27689  America/Los_Angeles     NaN   \n",
       "27740  America/Los_Angeles     NaN   \n",
       "29295  America/Los_Angeles  1470.0   \n",
       "31285  America/Los_Angeles     NaN   \n",
       "31287  America/Los_Angeles     NaN   \n",
       "31403  America/Los_Angeles     NaN   \n",
       "35840  America/Los_Angeles     NaN   \n",
       "38884  America/Los_Angeles     NaN   \n",
       "39875  America/Los_Angeles     NaN   \n",
       "41263  America/Los_Angeles     NaN   \n",
       "42102  America/Los_Angeles     NaN   \n",
       "42342  America/Los_Angeles     NaN   \n",
       "42347  America/Los_Angeles     NaN   \n",
       "42434  America/Los_Angeles     NaN   \n",
       "42452  America/Los_Angeles     NaN   \n",
       "42618  America/Los_Angeles     NaN   \n",
       "43484  America/Los_Angeles     NaN   \n",
       "44040  America/Los_Angeles     NaN   \n",
       "44041  America/Los_Angeles     NaN   \n",
       "44042  America/Los_Angeles   516.0   \n",
       "44199  America/Los_Angeles     NaN   \n",
       "51110  America/Los_Angeles   560.0   \n",
       "62146  America/Los_Angeles   483.0   \n",
       "\n",
       "                                              userInputs totalConnectionTime  \n",
       "22219                                                NaN     0 days 03:36:44  \n",
       "22253                                                NaN     0 days 05:22:24  \n",
       "23562  [{'WhPerMile': 308, 'kWhRequested': 9.24, 'mil...     0 days 03:14:51  \n",
       "23586  [{'WhPerMile': 308, 'kWhRequested': 6.16, 'mil...     0 days 02:59:40  \n",
       "27689                                                NaN     0 days 08:09:23  \n",
       "27740                                                NaN     0 days 06:10:22  \n",
       "29295  [{'WhPerMile': 292, 'kWhRequested': 14.6, 'mil...     1 days 08:34:48  \n",
       "31285                                                NaN     0 days 02:59:10  \n",
       "31287                                                NaN     0 days 04:40:23  \n",
       "31403                                                NaN     0 days 05:28:09  \n",
       "35840                                                NaN     0 days 06:52:37  \n",
       "38884                                                NaN     0 days 07:43:18  \n",
       "39875                                                NaN     0 days 05:23:31  \n",
       "41263                                                NaN     0 days 22:59:41  \n",
       "42102                                                NaN     0 days 05:40:18  \n",
       "42342                                                NaN     0 days 04:07:15  \n",
       "42347                                                NaN     0 days 09:25:53  \n",
       "42434                                                NaN     0 days 08:20:42  \n",
       "42452                                                NaN     0 days 05:53:29  \n",
       "42618                                                NaN     0 days 04:57:33  \n",
       "43484                                                NaN     0 days 04:28:11  \n",
       "44040                                                NaN     0 days 00:45:14  \n",
       "44041                                                NaN     0 days 00:18:43  \n",
       "44042  [{'WhPerMile': 250, 'kWhRequested': 12.5, 'mil...     0 days 00:19:18  \n",
       "44199                                                NaN     2 days 22:59:52  \n",
       "51110  [{'WhPerMile': 400, 'kWhRequested': 32.0, 'mil...     0 days 04:01:57  \n",
       "62146  [{'WhPerMile': 350, 'kWhRequested': 7.0, 'mile...     0 days 03:35:04  "
      ]
     },
     "execution_count": 13,
     "metadata": {},
     "output_type": "execute_result"
    }
   ],
   "source": [
    "print('In these', Charging_set[Charging_set['doneChargingTime'] < Charging_set['connectionTime']].shape[0], 'rows the doneChargingTime is earlier than the connectionTime.')\n",
    "Charging_set[Charging_set['doneChargingTime'] < Charging_set['connectionTime']]\n",
    "# Charging_set[(Charging_set['doneChargingTime'] < Charging_set['connectionTime']) & Charging_set['userInputs'].isnull()] -> not because of the userInput"
   ]
  },
  {
   "cell_type": "markdown",
   "id": "3b04a77c-c2ac-495e-bd3d-cfdfe73d4058",
   "metadata": {},
   "source": [
    "Since doneChargingTime cannot be earier than the connectionTime, these values are incorrect. We can delete the belonging rows, because they only correspond to a very small part of the data set."
   ]
  },
  {
   "cell_type": "code",
   "execution_count": 14,
   "id": "df1a070f-f993-41d1-a817-62decf6196a9",
   "metadata": {},
   "outputs": [],
   "source": [
    "Charging_set = Charging_set[Charging_set['doneChargingTime'] >= Charging_set['connectionTime']]"
   ]
  },
  {
   "cell_type": "code",
   "execution_count": 15,
   "id": "11c23025-e101-4f74-9d46-82c34668c77e",
   "metadata": {
    "scrolled": true
   },
   "outputs": [
    {
     "name": "stdout",
     "output_type": "stream",
     "text": [
      "In these 4387 rows the disconnectTime is earlier than the doneChargingTime.\n"
     ]
    },
    {
     "data": {
      "text/html": [
       "<div>\n",
       "<style scoped>\n",
       "    .dataframe tbody tr th:only-of-type {\n",
       "        vertical-align: middle;\n",
       "    }\n",
       "\n",
       "    .dataframe tbody tr th {\n",
       "        vertical-align: top;\n",
       "    }\n",
       "\n",
       "    .dataframe thead th {\n",
       "        text-align: right;\n",
       "    }\n",
       "</style>\n",
       "<table border=\"1\" class=\"dataframe\">\n",
       "  <thead>\n",
       "    <tr style=\"text-align: right;\">\n",
       "      <th></th>\n",
       "      <th>id</th>\n",
       "      <th>connectionTime</th>\n",
       "      <th>disconnectTime</th>\n",
       "      <th>doneChargingTime</th>\n",
       "      <th>kWhDelivered</th>\n",
       "      <th>sessionID</th>\n",
       "      <th>siteID</th>\n",
       "      <th>spaceID</th>\n",
       "      <th>stationID</th>\n",
       "      <th>timezone</th>\n",
       "      <th>userID</th>\n",
       "      <th>userInputs</th>\n",
       "      <th>totalConnectionTime</th>\n",
       "    </tr>\n",
       "  </thead>\n",
       "  <tbody>\n",
       "    <tr>\n",
       "      <th>12</th>\n",
       "      <td>5e23b149f9af8b5fe4b973db</td>\n",
       "      <td>2020-01-02 15:04:38+00:00</td>\n",
       "      <td>2020-01-02 22:08:39+00:00</td>\n",
       "      <td>2020-01-02 22:09:36+00:00</td>\n",
       "      <td>25.567</td>\n",
       "      <td>1_1_178_824_2020-01-02 15:04:38.051735</td>\n",
       "      <td>1</td>\n",
       "      <td>AG-1F07</td>\n",
       "      <td>1-1-178-824</td>\n",
       "      <td>America/Los_Angeles</td>\n",
       "      <td>528.0</td>\n",
       "      <td>[{'WhPerMile': 250, 'kWhRequested': 50.0, 'mil...</td>\n",
       "      <td>0 days 07:04:01</td>\n",
       "    </tr>\n",
       "    <tr>\n",
       "      <th>20</th>\n",
       "      <td>5e23b149f9af8b5fe4b973e3</td>\n",
       "      <td>2020-01-02 15:28:47+00:00</td>\n",
       "      <td>2020-01-02 19:01:54+00:00</td>\n",
       "      <td>2020-01-02 19:02:51+00:00</td>\n",
       "      <td>7.417</td>\n",
       "      <td>1_1_193_827_2020-01-02 15:28:46.685366</td>\n",
       "      <td>1</td>\n",
       "      <td>AG-1F02</td>\n",
       "      <td>1-1-193-827</td>\n",
       "      <td>America/Los_Angeles</td>\n",
       "      <td>1283.0</td>\n",
       "      <td>[{'WhPerMile': 350, 'kWhRequested': 42.0, 'mil...</td>\n",
       "      <td>0 days 03:33:07</td>\n",
       "    </tr>\n",
       "    <tr>\n",
       "      <th>25</th>\n",
       "      <td>5e23b149f9af8b5fe4b973e8</td>\n",
       "      <td>2020-01-02 15:42:05+00:00</td>\n",
       "      <td>2020-01-02 21:58:45+00:00</td>\n",
       "      <td>2020-01-02 21:59:42+00:00</td>\n",
       "      <td>36.701</td>\n",
       "      <td>1_1_179_797_2020-01-02 15:42:05.217965</td>\n",
       "      <td>1</td>\n",
       "      <td>AG-3F23</td>\n",
       "      <td>1-1-179-797</td>\n",
       "      <td>America/Los_Angeles</td>\n",
       "      <td>474.0</td>\n",
       "      <td>[{'WhPerMile': 400, 'kWhRequested': 32.0, 'mil...</td>\n",
       "      <td>0 days 06:16:40</td>\n",
       "    </tr>\n",
       "    <tr>\n",
       "      <th>26</th>\n",
       "      <td>5e23b149f9af8b5fe4b973e9</td>\n",
       "      <td>2020-01-02 15:57:24+00:00</td>\n",
       "      <td>2020-01-02 16:35:37+00:00</td>\n",
       "      <td>2020-01-02 16:36:34+00:00</td>\n",
       "      <td>3.689</td>\n",
       "      <td>1_1_179_781_2020-01-02 15:57:23.951170</td>\n",
       "      <td>1</td>\n",
       "      <td>AG-3F31</td>\n",
       "      <td>1-1-179-781</td>\n",
       "      <td>America/Los_Angeles</td>\n",
       "      <td>724.0</td>\n",
       "      <td>[{'WhPerMile': 400, 'kWhRequested': 8.0, 'mile...</td>\n",
       "      <td>0 days 00:38:13</td>\n",
       "    </tr>\n",
       "    <tr>\n",
       "      <th>33</th>\n",
       "      <td>5e23b149f9af8b5fe4b973f0</td>\n",
       "      <td>2020-01-02 16:34:35+00:00</td>\n",
       "      <td>2020-01-02 18:49:41+00:00</td>\n",
       "      <td>2020-01-02 18:50:38+00:00</td>\n",
       "      <td>7.120</td>\n",
       "      <td>1_1_179_790_2020-01-02 16:34:34.999200</td>\n",
       "      <td>1</td>\n",
       "      <td>AG-3F19</td>\n",
       "      <td>1-1-179-790</td>\n",
       "      <td>America/Los_Angeles</td>\n",
       "      <td>2276.0</td>\n",
       "      <td>[{'WhPerMile': 600, 'kWhRequested': 18.0, 'mil...</td>\n",
       "      <td>0 days 02:15:06</td>\n",
       "    </tr>\n",
       "    <tr>\n",
       "      <th>...</th>\n",
       "      <td>...</td>\n",
       "      <td>...</td>\n",
       "      <td>...</td>\n",
       "      <td>...</td>\n",
       "      <td>...</td>\n",
       "      <td>...</td>\n",
       "      <td>...</td>\n",
       "      <td>...</td>\n",
       "      <td>...</td>\n",
       "      <td>...</td>\n",
       "      <td>...</td>\n",
       "      <td>...</td>\n",
       "      <td>...</td>\n",
       "    </tr>\n",
       "    <tr>\n",
       "      <th>65028</th>\n",
       "      <td>5d2fbdd3f9af8b4d0dd0d546</td>\n",
       "      <td>2019-07-01 19:20:31+00:00</td>\n",
       "      <td>2019-07-02 00:16:32+00:00</td>\n",
       "      <td>2019-07-02 00:16:42+00:00</td>\n",
       "      <td>26.324</td>\n",
       "      <td>1_1_179_783_2019-07-01 19:20:30.955300</td>\n",
       "      <td>1</td>\n",
       "      <td>AG-3F29</td>\n",
       "      <td>1-1-179-783</td>\n",
       "      <td>America/Los_Angeles</td>\n",
       "      <td>458.0</td>\n",
       "      <td>[{'WhPerMile': 400, 'kWhRequested': 8.0, 'mile...</td>\n",
       "      <td>0 days 04:56:01</td>\n",
       "    </tr>\n",
       "    <tr>\n",
       "      <th>65030</th>\n",
       "      <td>5d2fbdd3f9af8b4d0dd0d548</td>\n",
       "      <td>2019-07-01 20:01:07+00:00</td>\n",
       "      <td>2019-07-02 00:32:26+00:00</td>\n",
       "      <td>2019-07-02 00:32:59+00:00</td>\n",
       "      <td>21.588</td>\n",
       "      <td>1_1_179_800_2019-07-01 20:01:06.782562</td>\n",
       "      <td>1</td>\n",
       "      <td>AG-3F32</td>\n",
       "      <td>1-1-179-800</td>\n",
       "      <td>America/Los_Angeles</td>\n",
       "      <td>1479.0</td>\n",
       "      <td>[{'WhPerMile': 275, 'kWhRequested': 19.25, 'mi...</td>\n",
       "      <td>0 days 04:31:19</td>\n",
       "    </tr>\n",
       "    <tr>\n",
       "      <th>65033</th>\n",
       "      <td>5d2fbdd3f9af8b4d0dd0d54b</td>\n",
       "      <td>2019-07-01 21:58:45+00:00</td>\n",
       "      <td>2019-07-02 00:39:48+00:00</td>\n",
       "      <td>2019-07-02 00:40:21+00:00</td>\n",
       "      <td>16.864</td>\n",
       "      <td>1_1_179_794_2019-07-01 21:58:44.571011</td>\n",
       "      <td>1</td>\n",
       "      <td>AG-3F20</td>\n",
       "      <td>1-1-179-794</td>\n",
       "      <td>America/Los_Angeles</td>\n",
       "      <td>364.0</td>\n",
       "      <td>[{'WhPerMile': 400, 'kWhRequested': 40.0, 'mil...</td>\n",
       "      <td>0 days 02:41:03</td>\n",
       "    </tr>\n",
       "    <tr>\n",
       "      <th>65034</th>\n",
       "      <td>5d2fbdd3f9af8b4d0dd0d54c</td>\n",
       "      <td>2019-07-01 22:02:21+00:00</td>\n",
       "      <td>2019-07-02 00:58:50+00:00</td>\n",
       "      <td>2019-07-02 00:59:23+00:00</td>\n",
       "      <td>18.335</td>\n",
       "      <td>1_1_191_807_2019-07-01 22:02:20.810735</td>\n",
       "      <td>1</td>\n",
       "      <td>AG-4F47</td>\n",
       "      <td>1-1-191-807</td>\n",
       "      <td>America/Los_Angeles</td>\n",
       "      <td>2050.0</td>\n",
       "      <td>[{'WhPerMile': 333, 'kWhRequested': 29.97, 'mi...</td>\n",
       "      <td>0 days 02:56:29</td>\n",
       "    </tr>\n",
       "    <tr>\n",
       "      <th>65035</th>\n",
       "      <td>5d2fbdd3f9af8b4d0dd0d54d</td>\n",
       "      <td>2019-07-01 22:23:44+00:00</td>\n",
       "      <td>2019-07-02 02:03:36+00:00</td>\n",
       "      <td>2019-07-02 02:04:06+00:00</td>\n",
       "      <td>22.815</td>\n",
       "      <td>1_1_179_781_2019-07-01 22:23:32.496137</td>\n",
       "      <td>1</td>\n",
       "      <td>AG-3F31</td>\n",
       "      <td>1-1-179-781</td>\n",
       "      <td>America/Los_Angeles</td>\n",
       "      <td>1626.0</td>\n",
       "      <td>[{'WhPerMile': 200, 'kWhRequested': 34.0, 'mil...</td>\n",
       "      <td>0 days 03:39:52</td>\n",
       "    </tr>\n",
       "  </tbody>\n",
       "</table>\n",
       "<p>4387 rows × 13 columns</p>\n",
       "</div>"
      ],
      "text/plain": [
       "                             id            connectionTime  \\\n",
       "12     5e23b149f9af8b5fe4b973db 2020-01-02 15:04:38+00:00   \n",
       "20     5e23b149f9af8b5fe4b973e3 2020-01-02 15:28:47+00:00   \n",
       "25     5e23b149f9af8b5fe4b973e8 2020-01-02 15:42:05+00:00   \n",
       "26     5e23b149f9af8b5fe4b973e9 2020-01-02 15:57:24+00:00   \n",
       "33     5e23b149f9af8b5fe4b973f0 2020-01-02 16:34:35+00:00   \n",
       "...                         ...                       ...   \n",
       "65028  5d2fbdd3f9af8b4d0dd0d546 2019-07-01 19:20:31+00:00   \n",
       "65030  5d2fbdd3f9af8b4d0dd0d548 2019-07-01 20:01:07+00:00   \n",
       "65033  5d2fbdd3f9af8b4d0dd0d54b 2019-07-01 21:58:45+00:00   \n",
       "65034  5d2fbdd3f9af8b4d0dd0d54c 2019-07-01 22:02:21+00:00   \n",
       "65035  5d2fbdd3f9af8b4d0dd0d54d 2019-07-01 22:23:44+00:00   \n",
       "\n",
       "                 disconnectTime          doneChargingTime  kWhDelivered  \\\n",
       "12    2020-01-02 22:08:39+00:00 2020-01-02 22:09:36+00:00        25.567   \n",
       "20    2020-01-02 19:01:54+00:00 2020-01-02 19:02:51+00:00         7.417   \n",
       "25    2020-01-02 21:58:45+00:00 2020-01-02 21:59:42+00:00        36.701   \n",
       "26    2020-01-02 16:35:37+00:00 2020-01-02 16:36:34+00:00         3.689   \n",
       "33    2020-01-02 18:49:41+00:00 2020-01-02 18:50:38+00:00         7.120   \n",
       "...                         ...                       ...           ...   \n",
       "65028 2019-07-02 00:16:32+00:00 2019-07-02 00:16:42+00:00        26.324   \n",
       "65030 2019-07-02 00:32:26+00:00 2019-07-02 00:32:59+00:00        21.588   \n",
       "65033 2019-07-02 00:39:48+00:00 2019-07-02 00:40:21+00:00        16.864   \n",
       "65034 2019-07-02 00:58:50+00:00 2019-07-02 00:59:23+00:00        18.335   \n",
       "65035 2019-07-02 02:03:36+00:00 2019-07-02 02:04:06+00:00        22.815   \n",
       "\n",
       "                                    sessionID  siteID  spaceID    stationID  \\\n",
       "12     1_1_178_824_2020-01-02 15:04:38.051735       1  AG-1F07  1-1-178-824   \n",
       "20     1_1_193_827_2020-01-02 15:28:46.685366       1  AG-1F02  1-1-193-827   \n",
       "25     1_1_179_797_2020-01-02 15:42:05.217965       1  AG-3F23  1-1-179-797   \n",
       "26     1_1_179_781_2020-01-02 15:57:23.951170       1  AG-3F31  1-1-179-781   \n",
       "33     1_1_179_790_2020-01-02 16:34:34.999200       1  AG-3F19  1-1-179-790   \n",
       "...                                       ...     ...      ...          ...   \n",
       "65028  1_1_179_783_2019-07-01 19:20:30.955300       1  AG-3F29  1-1-179-783   \n",
       "65030  1_1_179_800_2019-07-01 20:01:06.782562       1  AG-3F32  1-1-179-800   \n",
       "65033  1_1_179_794_2019-07-01 21:58:44.571011       1  AG-3F20  1-1-179-794   \n",
       "65034  1_1_191_807_2019-07-01 22:02:20.810735       1  AG-4F47  1-1-191-807   \n",
       "65035  1_1_179_781_2019-07-01 22:23:32.496137       1  AG-3F31  1-1-179-781   \n",
       "\n",
       "                  timezone  userID  \\\n",
       "12     America/Los_Angeles   528.0   \n",
       "20     America/Los_Angeles  1283.0   \n",
       "25     America/Los_Angeles   474.0   \n",
       "26     America/Los_Angeles   724.0   \n",
       "33     America/Los_Angeles  2276.0   \n",
       "...                    ...     ...   \n",
       "65028  America/Los_Angeles   458.0   \n",
       "65030  America/Los_Angeles  1479.0   \n",
       "65033  America/Los_Angeles   364.0   \n",
       "65034  America/Los_Angeles  2050.0   \n",
       "65035  America/Los_Angeles  1626.0   \n",
       "\n",
       "                                              userInputs totalConnectionTime  \n",
       "12     [{'WhPerMile': 250, 'kWhRequested': 50.0, 'mil...     0 days 07:04:01  \n",
       "20     [{'WhPerMile': 350, 'kWhRequested': 42.0, 'mil...     0 days 03:33:07  \n",
       "25     [{'WhPerMile': 400, 'kWhRequested': 32.0, 'mil...     0 days 06:16:40  \n",
       "26     [{'WhPerMile': 400, 'kWhRequested': 8.0, 'mile...     0 days 00:38:13  \n",
       "33     [{'WhPerMile': 600, 'kWhRequested': 18.0, 'mil...     0 days 02:15:06  \n",
       "...                                                  ...                 ...  \n",
       "65028  [{'WhPerMile': 400, 'kWhRequested': 8.0, 'mile...     0 days 04:56:01  \n",
       "65030  [{'WhPerMile': 275, 'kWhRequested': 19.25, 'mi...     0 days 04:31:19  \n",
       "65033  [{'WhPerMile': 400, 'kWhRequested': 40.0, 'mil...     0 days 02:41:03  \n",
       "65034  [{'WhPerMile': 333, 'kWhRequested': 29.97, 'mi...     0 days 02:56:29  \n",
       "65035  [{'WhPerMile': 200, 'kWhRequested': 34.0, 'mil...     0 days 03:39:52  \n",
       "\n",
       "[4387 rows x 13 columns]"
      ]
     },
     "execution_count": 15,
     "metadata": {},
     "output_type": "execute_result"
    }
   ],
   "source": [
    "print('In these', Charging_set[Charging_set['disconnectTime'] < Charging_set['doneChargingTime']].shape[0], 'rows the disconnectTime is earlier than the doneChargingTime.')\n",
    "Charging_set[Charging_set['disconnectTime'] < Charging_set['doneChargingTime']]"
   ]
  },
  {
   "cell_type": "code",
   "execution_count": 16,
   "id": "04624fe2-47c5-4c33-8668-23cc54fb873c",
   "metadata": {},
   "outputs": [
    {
     "name": "stdout",
     "output_type": "stream",
     "text": [
      "Difference between disconnectTime and doneChargingTime when disconnectTime is earlier than doneChargingTime: \n",
      " min:  0 days 00:00:01 \n",
      " max:  0 days 00:59:56 \n",
      " mean:  0 days 00:00:56.017095965\n",
      "Number of rows with a difference between diconnectTime and doneChargingTime that is bigger than two minutes:  2\n"
     ]
    }
   ],
   "source": [
    "Charging_set['timeDifference'] = Charging_set['doneChargingTime'] - Charging_set['disconnectTime']\n",
    "\n",
    "print(\"Difference between disconnectTime and doneChargingTime when disconnectTime is earlier than doneChargingTime: \\n\",\n",
    "      \"min: \", Charging_set.loc[Charging_set['timeDifference'] > pd.Timedelta(minutes=0), 'timeDifference'].min(),\n",
    "      \"\\n max: \", Charging_set.loc[Charging_set['timeDifference'] > pd.Timedelta(minutes=0), 'timeDifference'].max(),\n",
    "      \"\\n mean: \", Charging_set.loc[Charging_set['timeDifference'] > pd.Timedelta(minutes=0), 'timeDifference'].mean())\n",
    "\n",
    "print('Number of rows with a difference between diconnectTime and doneChargingTime that is bigger than two minutes: ', \n",
    "      Charging_set.loc[Charging_set['timeDifference'] >= pd.Timedelta(minutes=2), 'timeDifference'].count())"
   ]
  },
  {
   "cell_type": "markdown",
   "id": "466a30e8-3037-48c9-ac16-974b9f92227e",
   "metadata": {},
   "source": [
    "It can happen that current is still flowing a few minutes after the EV is unplugged. At this point, charging is no longer taking place. In these cases, we therefore set the doneChargingTime equal to the disconnectTime. \n",
    "\n",
    "There are 2 outliers where the doneChargingTime is significantly later than 2 minutes away from the disconnectTime. We delete these rows as there is no explanation for this large difference and therefore the values are incorrect."
   ]
  },
  {
   "cell_type": "code",
   "execution_count": 17,
   "id": "77549e03-4391-45bf-bb05-c986542368cd",
   "metadata": {},
   "outputs": [],
   "source": [
    "# delete outliers\n",
    "Charging_set = Charging_set.loc[Charging_set['timeDifference'] < pd.Timedelta(minutes=2)]\n",
    "\n",
    "# doneChargingTime = disconnectTime\n",
    "Charging_set.loc[Charging_set['timeDifference'] > pd.Timedelta(minutes=0), 'doneChargingTime'] = Charging_set.loc[Charging_set['timeDifference'] > pd.Timedelta(minutes=0), 'disconnectTime']\n",
    "\n",
    "Charging_set.drop(columns=['timeDifference'], inplace=True)"
   ]
  },
  {
   "cell_type": "markdown",
   "id": "59365749-9e48-4591-b055-717298c5c7c2",
   "metadata": {},
   "source": [
    "We estimate the missing values of the doneChargingTime by adding the average charging time per kWh * the kWh that were delivered to the connectionTime."
   ]
  },
  {
   "cell_type": "code",
   "execution_count": 18,
   "id": "f32a1e85-eb36-4e61-a791-d84680d9cc33",
   "metadata": {},
   "outputs": [
    {
     "name": "stdout",
     "output_type": "stream",
     "text": [
      "Occuring data types:  [<class 'pandas._libs.tslibs.timestamps.Timestamp'>]\n",
      "Min. value:  2018-04-25 13:20:10+00:00 \n",
      "Max. value:  2021-09-14 14:46:22+00:00\n",
      "The column does not contain missing values.\n"
     ]
    }
   ],
   "source": [
    "TotalChargingTime = Charging_set['doneChargingTime'] - Charging_set['connectionTime']\n",
    "AverageTimePerKwh = (TotalChargingTime/Charging_set['kWhDelivered']).mean()\n",
    "Charging_set['doneChargingTime'] = Charging_set['doneChargingTime'].fillna(value=Charging_set['connectionTime']+AverageTimePerKwh*Charging_set['kWhDelivered']).dt.round('1s')\n",
    "dataTypes('doneChargingTime', Charging_set)\n",
    "valueRange('doneChargingTime', Charging_set)\n",
    "missingValues('doneChargingTime', Charging_set)"
   ]
  },
  {
   "cell_type": "markdown",
   "id": "8dad0cfb-2159-4a06-b94e-f71b73dca233",
   "metadata": {},
   "source": [
    "We need to check the dependencies between the different time values again."
   ]
  },
  {
   "cell_type": "code",
   "execution_count": 19,
   "id": "294c8621-d23b-495c-ad09-44bff7c01857",
   "metadata": {},
   "outputs": [
    {
     "name": "stdout",
     "output_type": "stream",
     "text": [
      "In  0 rows the disconnectTime is earlier than the connectionTime.\n",
      "In  0 rows the doneChargingTime is earlier than the connectionTime.\n",
      "In  0 rows the disconnectTime is earlier than the doneChargingTime.\n"
     ]
    }
   ],
   "source": [
    "print('In ', Charging_set[Charging_set['disconnectTime'] < Charging_set['connectionTime']].shape[0], 'rows the disconnectTime is earlier than the connectionTime.')\n",
    "print('In ', Charging_set[Charging_set['doneChargingTime'] < Charging_set['connectionTime']].shape[0], 'rows the doneChargingTime is earlier than the connectionTime.')\n",
    "print('In ', Charging_set[Charging_set['disconnectTime'] < Charging_set['doneChargingTime']].shape[0], 'rows the disconnectTime is earlier than the doneChargingTime.')"
   ]
  },
  {
   "cell_type": "markdown",
   "id": "66aeed3b-c04b-4708-bb7e-eb8fcbb60613",
   "metadata": {},
   "source": [
    "### new Column: totalChargingTime - total time the EV was charging"
   ]
  },
  {
   "cell_type": "code",
   "execution_count": 20,
   "id": "ee05acd7-3c52-4404-ae93-a12551c81e0c",
   "metadata": {},
   "outputs": [
    {
     "name": "stdout",
     "output_type": "stream",
     "text": [
      "Occuring data types:  [<class 'pandas._libs.tslibs.timedeltas.Timedelta'>]\n",
      "Min. value:  0 days 00:00:00 \n",
      "Max. value:  8 days 08:00:57\n",
      "The column does not contain missing values.\n"
     ]
    }
   ],
   "source": [
    "Charging_set['totalChargingTime'] = Charging_set['doneChargingTime'] - Charging_set['connectionTime']\n",
    "dataTypes('totalChargingTime', Charging_set)\n",
    "valueRange('totalChargingTime', Charging_set)\n",
    "missingValues('totalChargingTime', Charging_set)"
   ]
  },
  {
   "cell_type": "markdown",
   "id": "18131ff5-662b-4f28-97ba-971674f39316",
   "metadata": {},
   "source": [
    "### Column: kWhDelivered - amount of energy delivered during the session"
   ]
  },
  {
   "cell_type": "code",
   "execution_count": 21,
   "id": "00e058f9-df1c-4a9d-879b-31c75c91e98d",
   "metadata": {},
   "outputs": [
    {
     "name": "stdout",
     "output_type": "stream",
     "text": [
      "Occuring data types:  [<class 'float'>]\n",
      "Min. value:  0.501 \n",
      "Max. value:  108.79724166666666\n",
      "The column does not contain missing values.\n"
     ]
    }
   ],
   "source": [
    "dataTypes('kWhDelivered', Charging_set)\n",
    "valueRange('kWhDelivered', Charging_set)\n",
    "missingValues('kWhDelivered', Charging_set)"
   ]
  },
  {
   "cell_type": "markdown",
   "id": "1a411815-0e11-4711-950d-5e9f7a6b3cbf",
   "metadata": {},
   "source": [
    "### Column: sessionID - unique identifier for the session"
   ]
  },
  {
   "cell_type": "code",
   "execution_count": 22,
   "id": "58fab568-ab0f-4e55-9f19-14799fdecda7",
   "metadata": {},
   "outputs": [
    {
     "name": "stdout",
     "output_type": "stream",
     "text": [
      "Occuring data types:  [<class 'str'>]\n",
      "Min. value:  1_1_178_817_2018-10-08 20:54:24.215877 \n",
      "Max. value:  2_39_95_444_2021-07-14 16:54:32.800222\n",
      "The column does not contain missing values.\n"
     ]
    }
   ],
   "source": [
    "dataTypes('sessionID', Charging_set)\n",
    "valueRange('sessionID', Charging_set)\n",
    "missingValues('sessionID', Charging_set)"
   ]
  },
  {
   "cell_type": "markdown",
   "id": "c7ee9f4c-311e-42be-8e11-dbd577caaae1",
   "metadata": {},
   "source": [
    "Where ist the difference to the column id?"
   ]
  },
  {
   "cell_type": "markdown",
   "id": "4cdeaacb-4d98-491a-973b-8a150410a2c3",
   "metadata": {},
   "source": [
    "### Column: siteID - unique identifier for the site"
   ]
  },
  {
   "cell_type": "code",
   "execution_count": 23,
   "id": "e618e552-5214-474d-9308-8a572a11cc32",
   "metadata": {},
   "outputs": [
    {
     "name": "stdout",
     "output_type": "stream",
     "text": [
      "Occuring data types:  [<class 'int'>]\n",
      "Min. value:  1 \n",
      "Max. value:  2\n",
      "The column does not contain missing values.\n"
     ]
    }
   ],
   "source": [
    "dataTypes('siteID', Charging_set)\n",
    "valueRange('siteID', Charging_set)\n",
    "missingValues('siteID', Charging_set)"
   ]
  },
  {
   "cell_type": "markdown",
   "id": "607cf2d7-eb5a-486e-8f79-baa8f9966c75",
   "metadata": {},
   "source": [
    "### Column: spaceID - unique identifier for the parking space"
   ]
  },
  {
   "cell_type": "code",
   "execution_count": 24,
   "id": "c293aa11-e75c-4687-8ce8-e38f523277aa",
   "metadata": {},
   "outputs": [
    {
     "name": "stdout",
     "output_type": "stream",
     "text": [
      "Occuring data types:  [<class 'str'>]\n",
      "Min. value:  AG-1F01 \n",
      "Max. value:  CA-513\n",
      "The column does not contain missing values.\n"
     ]
    }
   ],
   "source": [
    "dataTypes('spaceID', Charging_set)\n",
    "valueRange('spaceID', Charging_set)\n",
    "missingValues('spaceID', Charging_set)"
   ]
  },
  {
   "cell_type": "markdown",
   "id": "76a1e0d2-2ab0-4938-a79f-e89e5f8ea92e",
   "metadata": {},
   "source": [
    "You can see that the spaceIDs are structured differently (CA..., AG..., numbers)"
   ]
  },
  {
   "cell_type": "markdown",
   "id": "511f1c9a-1417-4846-8bb1-0721262a4997",
   "metadata": {},
   "source": [
    "### Column: stationID - unique identifier for the EVSE"
   ]
  },
  {
   "cell_type": "code",
   "execution_count": 25,
   "id": "44206837-3b90-4e60-bee4-e7af402d0f20",
   "metadata": {},
   "outputs": [
    {
     "name": "stdout",
     "output_type": "stream",
     "text": [
      "Occuring data types:  [<class 'str'>]\n",
      "Min. value:  1-1-178-817 \n",
      "Max. value:  2-39-95-444\n",
      "The column does not contain missing values.\n"
     ]
    }
   ],
   "source": [
    "dataTypes('stationID', Charging_set)\n",
    "valueRange('stationID', Charging_set)\n",
    "missingValues('stationID', Charging_set)"
   ]
  },
  {
   "cell_type": "markdown",
   "id": "7f18154b-6873-4232-bd69-0655b05bebd1",
   "metadata": {},
   "source": [
    "### deleted Column: timezone - timezone of the site, based on pytz format"
   ]
  },
  {
   "cell_type": "code",
   "execution_count": 26,
   "id": "f4f9bc3a-1dda-4e4f-9df0-32bc0ead7f6a",
   "metadata": {},
   "outputs": [
    {
     "name": "stdout",
     "output_type": "stream",
     "text": [
      "Occuring data types:  [<class 'str'>]\n",
      "Min. value:  America/Los_Angeles \n",
      "Max. value:  America/Los_Angeles\n",
      "The column does not contain missing values.\n",
      "Occuring values:  ['America/Los_Angeles']\n"
     ]
    }
   ],
   "source": [
    "dataTypes('timezone', Charging_set)\n",
    "valueRange('timezone', Charging_set)\n",
    "missingValues('timezone', Charging_set)\n",
    "print( 'Occuring values: ', Charging_set['timezone'].unique())"
   ]
  },
  {
   "cell_type": "markdown",
   "id": "cff9c9fd-b604-42c9-9b39-459ef3547e63",
   "metadata": {},
   "source": [
    "The column 'timezone' only contains identical values. Therefore, it can be deleted."
   ]
  },
  {
   "cell_type": "code",
   "execution_count": 27,
   "id": "bd896003-9337-4a87-ab08-b0b191b219cb",
   "metadata": {},
   "outputs": [],
   "source": [
    "Charging_set = Charging_set.drop(['timezone'], axis=1)"
   ]
  },
  {
   "cell_type": "markdown",
   "id": "0fb93329-1946-490a-9140-4ca17269cf02",
   "metadata": {},
   "source": [
    "### new Column: userInformation - indication whether user information is given"
   ]
  },
  {
   "cell_type": "code",
   "execution_count": 28,
   "id": "1cb11043-d143-4008-8886-01c441d35287",
   "metadata": {
    "scrolled": true
   },
   "outputs": [],
   "source": [
    "Charging_set['userInformation'] = Charging_set['userID'].notnull() | Charging_set['userInputs'].notnull()"
   ]
  },
  {
   "cell_type": "markdown",
   "id": "59a4ce6d-5e02-4d37-8b87-0b58922bbec2",
   "metadata": {},
   "source": [
    "The new column indicates whether userID or userInputs is available. Dataset with user information: Charging_set[Charging_set['userInformation']]"
   ]
  },
  {
   "cell_type": "markdown",
   "id": "7f89d232-b8f9-4ca1-9415-123a00ad9813",
   "metadata": {},
   "source": [
    "### Column: userID - unique identifier of the user, if provided"
   ]
  },
  {
   "cell_type": "code",
   "execution_count": 29,
   "id": "26d30880-5a70-4d45-86f5-ee67f379f8ff",
   "metadata": {},
   "outputs": [
    {
     "name": "stdout",
     "output_type": "stream",
     "text": [
      "Occuring data types:  [<class 'float'>]\n",
      "Min. value:  1.0 \n",
      "Max. value:  19923.0\n",
      "The column contains 16285 missing values. This corresponds to 26.73 %.\n",
      "All missing values are NaN values.\n"
     ]
    }
   ],
   "source": [
    "dataTypes('userID', Charging_set)\n",
    "valueRange('userID', Charging_set)\n",
    "missingValues('userID', Charging_set)\n",
    "if Charging_set['userID'].isnull().sum() == Charging_set['userID'].isna().sum() :\n",
    "    print('All missing values are NaN values.')"
   ]
  },
  {
   "cell_type": "markdown",
   "id": "267e96c8-812e-4553-8d7a-89475035ec01",
   "metadata": {},
   "source": [
    "### Column: userInputs - inputs provided by the user"
   ]
  },
  {
   "cell_type": "code",
   "execution_count": 30,
   "id": "2047c911-a8cb-4878-a149-ffe1c5da73db",
   "metadata": {},
   "outputs": [
    {
     "name": "stdout",
     "output_type": "stream",
     "text": [
      "Occuring data types:  [<class 'str'> <class 'float'>]\n",
      "The column contains 16285 missing values. This corresponds to 26.73 %.\n",
      "All missing values are NaN values.\n",
      "Example of a string containing the user input: [{'WhPerMile': 400, 'kWhRequested': 8.0, 'milesRequested': 20, 'minutesAvailable': 65, 'modifiedAt': 'Thu, 02 Jan 2020 14:00:03 GMT', 'paymentRequired': True, 'requestedDeparture': 'Thu, 02 Jan 2020 15:04:58 GMT', 'userID': 1117}, {'WhPerMile': 400, 'kWhRequested': 8.0, 'milesRequested': 20, 'minutesAvailable': 65, 'modifiedAt': 'Thu, 02 Jan 2020 14:00:19 GMT', 'paymentRequired': True, 'requestedDeparture': 'Thu, 02 Jan 2020 15:04:58 GMT', 'userID': 1117}]\n"
     ]
    }
   ],
   "source": [
    "dataTypes('userInputs', Charging_set)\n",
    "missingValues('userInputs', Charging_set)\n",
    "if Charging_set['userInputs'].isnull().sum() == Charging_set['userInputs'].isna().sum() :\n",
    "    print('All missing values are NaN values.')\n",
    "print('Example of a string containing the user input:', Charging_set.at[3, 'userInputs'])"
   ]
  },
  {
   "cell_type": "markdown",
   "id": "e6b81f32-3cac-47c8-8827-723ab66ab8c4",
   "metadata": {},
   "source": [
    "### Dataset description"
   ]
  },
  {
   "cell_type": "code",
   "execution_count": 31,
   "id": "4500ed71-9203-4dfa-8d4b-9752b695f540",
   "metadata": {
    "scrolled": true
   },
   "outputs": [
    {
     "name": "stdout",
     "output_type": "stream",
     "text": [
      "<class 'pandas.core.frame.DataFrame'>\n",
      "Index: 60921 entries, 0 to 65036\n",
      "Data columns (total 14 columns):\n",
      " #   Column               Non-Null Count  Dtype              \n",
      "---  ------               --------------  -----              \n",
      " 0   id                   60921 non-null  object             \n",
      " 1   connectionTime       60921 non-null  datetime64[ns, UTC]\n",
      " 2   disconnectTime       60921 non-null  datetime64[ns, UTC]\n",
      " 3   doneChargingTime     60921 non-null  datetime64[ns, UTC]\n",
      " 4   kWhDelivered         60921 non-null  float64            \n",
      " 5   sessionID            60921 non-null  object             \n",
      " 6   siteID               60921 non-null  int64              \n",
      " 7   spaceID              60921 non-null  object             \n",
      " 8   stationID            60921 non-null  object             \n",
      " 9   userID               44636 non-null  float64            \n",
      " 10  userInputs           44636 non-null  object             \n",
      " 11  totalConnectionTime  60921 non-null  timedelta64[ns]    \n",
      " 12  totalChargingTime    60921 non-null  timedelta64[ns]    \n",
      " 13  userInformation      60921 non-null  bool               \n",
      "dtypes: bool(1), datetime64[ns, UTC](3), float64(2), int64(1), object(5), timedelta64[ns](2)\n",
      "memory usage: 8.6+ MB\n"
     ]
    }
   ],
   "source": [
    "Charging_set.info()\n",
    "Charging_set\n",
    "Charging_set.to_csv('charging_sessions_preprocessed.csv', index=False)"
   ]
  },
  {
   "cell_type": "markdown",
   "id": "622ce60d-d7b9-4dea-9ede-f5d25df628e1",
   "metadata": {},
   "source": [
    "## Weather Burbank Airport Dataset"
   ]
  },
  {
   "cell_type": "markdown",
   "id": "ade3f1db-763c-478a-b325-8125865d57ea",
   "metadata": {},
   "source": [
    "Read in the data as a dataframe. Interpret the date columns as dates."
   ]
  },
  {
   "cell_type": "code",
   "execution_count": 32,
   "id": "1a314334-0512-42f2-90d8-b9cdf191da68",
   "metadata": {},
   "outputs": [
    {
     "name": "stdout",
     "output_type": "stream",
     "text": [
      "Columns:  Index(['city', 'timestamp', 'temperature', 'cloud_cover',\n",
      "       'cloud_cover_description', 'pressure', 'windspeed', 'precipitation',\n",
      "       'felt_temperature'],\n",
      "      dtype='object')\n",
      "Number of rows:  29244\n"
     ]
    }
   ],
   "source": [
    "Weather_set = pd.read_csv('weather_burbank_airport.csv', parse_dates=['timestamp'])\n",
    "print('Columns: ', Weather_set.columns)\n",
    "print('Number of rows: ', Weather_set.shape[0])"
   ]
  },
  {
   "cell_type": "markdown",
   "id": "4853189d-2dec-4664-8cf1-964e93929eab",
   "metadata": {},
   "source": [
    "### Delete duplicates"
   ]
  },
  {
   "cell_type": "code",
   "execution_count": 33,
   "id": "c469ddfd-1312-485d-bc22-9e91767c1a8a",
   "metadata": {},
   "outputs": [
    {
     "name": "stdout",
     "output_type": "stream",
     "text": [
      "Number of duplicate rows:  0\n"
     ]
    }
   ],
   "source": [
    "numRows = Weather_set.shape[0]\n",
    "Weather_set = Weather_set.drop_duplicates()\n",
    "print('Number of duplicate rows: ', numRows-Weather_set.shape[0])"
   ]
  },
  {
   "cell_type": "markdown",
   "id": "8d7a3e08-a4a3-4288-84a2-600df674239d",
   "metadata": {},
   "source": [
    "### deleted Column: city"
   ]
  },
  {
   "cell_type": "code",
   "execution_count": 34,
   "id": "6a9961d9-4264-4feb-8d82-17809aee33a8",
   "metadata": {},
   "outputs": [
    {
     "name": "stdout",
     "output_type": "stream",
     "text": [
      "Occuring data types:  [<class 'str'>]\n",
      "Min. value:  Burbank \n",
      "Max. value:  Burbank\n",
      "The column does not contain missing values.\n",
      "Occuring values:  ['Burbank']\n"
     ]
    }
   ],
   "source": [
    "dataTypes('city', Weather_set)\n",
    "valueRange('city', Weather_set)\n",
    "missingValues('city', Weather_set)\n",
    "print( 'Occuring values: ', Weather_set['city'].unique())"
   ]
  },
  {
   "cell_type": "markdown",
   "id": "b95842ab-93c1-46ee-a74a-a0f08bfeb4d1",
   "metadata": {},
   "source": [
    "The column 'city' only contains identical values. Therefore, it can be deleted."
   ]
  },
  {
   "cell_type": "code",
   "execution_count": 35,
   "id": "17db8dd8-abb0-4c24-9a5d-65b46228ca6a",
   "metadata": {},
   "outputs": [],
   "source": [
    "Weather_set = Weather_set.drop(['city'], axis=1)"
   ]
  },
  {
   "cell_type": "markdown",
   "id": "6aa6685a-03ca-40a9-b962-21da61cf7dda",
   "metadata": {},
   "source": [
    "### Column: timestamp"
   ]
  },
  {
   "cell_type": "code",
   "execution_count": 36,
   "id": "4a10cd7d-8050-4d31-8cda-df7f12dd0754",
   "metadata": {},
   "outputs": [
    {
     "name": "stdout",
     "output_type": "stream",
     "text": [
      "Occuring data types:  [<class 'pandas._libs.tslibs.timestamps.Timestamp'>]\n",
      "Min. value:  2018-01-01 08:53:00 \n",
      "Max. value:  2021-01-01 07:53:00\n",
      "The column does not contain missing values.\n",
      "The rows are ordered by increasing time.\n",
      "Occuring time intervals:  <TimedeltaArray>\n",
      "[              NaT, '0 days 01:00:00', '0 days 00:43:00', '0 days 00:05:00',\n",
      " '0 days 00:12:00', '0 days 00:37:00', '0 days 00:23:00', '0 days 00:31:00',\n",
      " '0 days 00:17:00', '0 days 00:04:00', '0 days 00:11:00', '0 days 00:28:00',\n",
      " '0 days 00:41:00', '0 days 00:19:00', '0 days 00:39:00', '0 days 00:21:00',\n",
      " '0 days 00:38:00', '0 days 00:20:00', '0 days 00:02:00', '0 days 00:08:00',\n",
      " '0 days 00:15:00', '0 days 00:24:00', '0 days 00:14:00', '0 days 00:46:00',\n",
      " '0 days 00:36:00', '0 days 00:10:00', '0 days 00:09:00', '0 days 00:51:00',\n",
      " '0 days 00:48:00', '0 days 00:03:00', '0 days 00:30:00', '0 days 00:16:00',\n",
      " '0 days 00:42:00', '0 days 00:49:00', '0 days 00:29:00', '0 days 00:32:00',\n",
      " '0 days 00:44:00', '0 days 00:07:00', '0 days 00:34:00', '0 days 00:13:00',\n",
      " '0 days 00:26:00', '0 days 00:47:00', '0 days 00:58:00', '0 days 00:50:00',\n",
      " '0 days 00:45:00', '0 days 00:40:00', '0 days 00:52:00', '0 days 00:55:00',\n",
      " '0 days 00:53:00', '0 days 00:57:00', '0 days 00:54:00', '0 days 00:06:00',\n",
      " '0 days 00:35:00', '0 days 00:25:00', '0 days 00:18:00', '0 days 00:33:00',\n",
      " '0 days 00:27:00', '0 days 00:22:00', '0 days 00:01:00', '0 days 00:59:00',\n",
      " '0 days 00:56:00', '0 days 03:00:00', '0 days 04:00:00', '0 days 02:00:00',\n",
      " '0 days 06:00:00', '0 days 17:00:00', '0 days 01:15:00', '0 days 01:03:00',\n",
      " '1 days 14:00:00', '0 days 07:30:00']\n",
      "Length: 70, dtype: timedelta64[ns]\n",
      "Number of rows in the Charging Sessions Dataset with values after 2021-01-01 07:53:00:  7452\n"
     ]
    }
   ],
   "source": [
    "dataTypes('timestamp', Weather_set)\n",
    "valueRange('timestamp', Weather_set)\n",
    "missingValues('timestamp', Weather_set)\n",
    "if Weather_set['timestamp'].is_monotonic_increasing :\n",
    "    print('The rows are ordered by increasing time.')\n",
    "print('Occuring time intervals: ', Weather_set['timestamp'].diff().unique())\n",
    "print('Number of rows in the Charging Sessions Dataset with values after 2021-01-01 07:53:00: ', len(Charging_set[Charging_set['connectionTime'] > '2021-01-01 07:53:00']))"
   ]
  },
  {
   "attachments": {},
   "cell_type": "markdown",
   "id": "81c5ef31-a438-478b-9454-6c15c8a695b8",
   "metadata": {},
   "source": [
    "The Charging Session Dataset contains data between 2018-04-25 11:08:04+00:00 and 2021-09-14 14:46:28+00:00.\n",
    "\n",
    "The Weather Burbank Airport Dataset contains data between 2018-01-01 08:53:00 and 2021-01-01 07:53:00.\n",
    "\n",
    "Problem: this is not the same time span!"
   ]
  },
  {
   "cell_type": "markdown",
   "id": "199227c7-c276-498e-8fd5-1ca42cc4741c",
   "metadata": {},
   "source": [
    "### Column: temperature"
   ]
  },
  {
   "cell_type": "code",
   "execution_count": 37,
   "id": "fa1c6c15-eb2c-426f-9eb6-247b19d21557",
   "metadata": {},
   "outputs": [
    {
     "name": "stdout",
     "output_type": "stream",
     "text": [
      "Occuring data types:  [<class 'float'>]\n",
      "Min. value:  2.0 \n",
      "Max. value:  46.0\n",
      "The column contains 25 missing values. This corresponds to 0.09 %.\n"
     ]
    }
   ],
   "source": [
    "dataTypes('temperature', Weather_set)\n",
    "valueRange('temperature', Weather_set)\n",
    "missingValues('temperature', Weather_set)"
   ]
  },
  {
   "cell_type": "markdown",
   "id": "bbfb210e-1f4b-465e-a412-2ec68bc08da6",
   "metadata": {},
   "source": [
    "In order not to lose rows with missing values, we replace these. As the data ist sorted by time and therefore the true values are close to the surrounding values, we perform a forward fill for the missing values."
   ]
  },
  {
   "cell_type": "code",
   "execution_count": 38,
   "id": "8255d6e6-1bf2-40f6-a235-c0463c60c7e8",
   "metadata": {},
   "outputs": [
    {
     "name": "stdout",
     "output_type": "stream",
     "text": [
      "The column does not contain missing values.\n"
     ]
    }
   ],
   "source": [
    "Weather_set['temperature'] = Weather_set['temperature'].ffill()\n",
    "missingValues('temperature', Weather_set)"
   ]
  },
  {
   "cell_type": "markdown",
   "id": "7904f859-445e-4b08-98de-c52f91f20fae",
   "metadata": {},
   "source": [
    "### Column: cloud_cover"
   ]
  },
  {
   "cell_type": "code",
   "execution_count": 39,
   "id": "e8c9e343-5c9a-4e62-b8e4-4f93207343e4",
   "metadata": {},
   "outputs": [
    {
     "name": "stdout",
     "output_type": "stream",
     "text": [
      "Occuring data types:  [<class 'float'>]\n",
      "Min. value:  4.0 \n",
      "Max. value:  47.0\n",
      "The column contains 20 missing values. This corresponds to 0.07 %.\n"
     ]
    }
   ],
   "source": [
    "dataTypes('cloud_cover', Weather_set)\n",
    "valueRange('cloud_cover', Weather_set)\n",
    "missingValues('cloud_cover', Weather_set)"
   ]
  },
  {
   "cell_type": "markdown",
   "id": "a26e9f19-46b2-4037-b122-e483d65c02ef",
   "metadata": {},
   "source": [
    "In order not to lose rows with missing values, we replace these. As the data ist sorted by time and therefore the true values are close to the surrounding values, we perform a forward fill for the missing values."
   ]
  },
  {
   "cell_type": "code",
   "execution_count": 40,
   "id": "d5fb6e92-5bb1-4cad-b5cc-66f7fc293e95",
   "metadata": {},
   "outputs": [
    {
     "name": "stdout",
     "output_type": "stream",
     "text": [
      "The column does not contain missing values.\n"
     ]
    }
   ],
   "source": [
    "Weather_set['cloud_cover'] = Weather_set['cloud_cover'].ffill()\n",
    "missingValues('cloud_cover', Weather_set)"
   ]
  },
  {
   "cell_type": "markdown",
   "id": "861e2c8f-d8c5-47fe-b90e-a42cb4a486b2",
   "metadata": {},
   "source": [
    "### Column: cloud_cover_description"
   ]
  },
  {
   "cell_type": "code",
   "execution_count": 41,
   "id": "09053086-20aa-4010-b433-aa713685674e",
   "metadata": {},
   "outputs": [
    {
     "name": "stdout",
     "output_type": "stream",
     "text": [
      "Occuring data types:  [<class 'str'> <class 'float'>]\n",
      "The column contains 20 missing values. This corresponds to 0.07 %.\n"
     ]
    }
   ],
   "source": [
    "dataTypes('cloud_cover_description', Weather_set)\n",
    "missingValues('cloud_cover_description', Weather_set)"
   ]
  },
  {
   "cell_type": "markdown",
   "id": "426b1184-28d6-4827-a448-9b3f5e653e66",
   "metadata": {},
   "source": [
    "In order not to lose rows with missing values, we replace these. As the data ist sorted by time and therefore the true values are close to the surrounding values, we perform a forward fill for the missing values."
   ]
  },
  {
   "cell_type": "code",
   "execution_count": 42,
   "id": "3ad57dcd-5975-4fc0-b19a-0d1322c2b85a",
   "metadata": {},
   "outputs": [
    {
     "name": "stdout",
     "output_type": "stream",
     "text": [
      "The column does not contain missing values.\n"
     ]
    }
   ],
   "source": [
    "Weather_set['cloud_cover_description'] = Weather_set['cloud_cover_description'].ffill()\n",
    "missingValues('cloud_cover_description', Weather_set)"
   ]
  },
  {
   "cell_type": "code",
   "execution_count": 43,
   "id": "aef28262-9b23-4818-8e0e-d7425afb7a18",
   "metadata": {},
   "outputs": [
    {
     "data": {
      "text/plain": [
       "cloud_cover_description\n",
       "Fair                       17140\n",
       "Cloudy                      4937\n",
       "Partly Cloudy               2668\n",
       "Mostly Cloudy               1831\n",
       "Light Rain                   896\n",
       "Haze                         579\n",
       "Smoke                        329\n",
       "Fog                          325\n",
       "Rain                         247\n",
       "Heavy Rain                   120\n",
       "Fair / Windy                  74\n",
       "T-Storm                       18\n",
       "Thunder in the Vicinity       17\n",
       "Partly Cloudy / Windy         14\n",
       "Light Rain / Windy            10\n",
       "Mostly Cloudy / Windy         10\n",
       "Cloudy / Windy                 9\n",
       "Heavy Rain / Windy             7\n",
       "Blowing Dust                   5\n",
       "Heavy T-Storm                  4\n",
       "Rain / Windy                   2\n",
       "Thunder                        1\n",
       "Light Rain with Thunder        1\n",
       "Name: count, dtype: int64"
      ]
     },
     "execution_count": 43,
     "metadata": {},
     "output_type": "execute_result"
    }
   ],
   "source": [
    "Weather_set[\"cloud_cover_description\"].value_counts()"
   ]
  },
  {
   "cell_type": "markdown",
   "id": "7d515d0d-d33a-4115-9c2d-c36375856a27",
   "metadata": {},
   "source": [
    "It could be useful to group the classes."
   ]
  },
  {
   "cell_type": "markdown",
   "id": "9745a187-6f57-42cc-ac6f-afa973f45bf6",
   "metadata": {},
   "source": [
    "### Column: pressure"
   ]
  },
  {
   "cell_type": "code",
   "execution_count": 44,
   "id": "33f71ae5-0976-41f2-a694-1a3f34e2791d",
   "metadata": {},
   "outputs": [
    {
     "name": "stdout",
     "output_type": "stream",
     "text": [
      "Occuring data types:  [<class 'float'>]\n",
      "Min. value:  971.0 \n",
      "Max. value:  999.65\n",
      "The column contains 8 missing values. This corresponds to 0.03 %.\n"
     ]
    }
   ],
   "source": [
    "dataTypes('pressure', Weather_set)\n",
    "valueRange('pressure', Weather_set)\n",
    "missingValues('pressure', Weather_set)"
   ]
  },
  {
   "cell_type": "markdown",
   "id": "cf3591da-5ea9-4789-a027-beab72dea509",
   "metadata": {},
   "source": [
    "In order not to lose rows with missing values, we replace these. As the data ist sorted by time and therefore the true values are close to the surrounding values, we perform a forward fill for the missing values."
   ]
  },
  {
   "cell_type": "code",
   "execution_count": 45,
   "id": "665c811f-01de-49fd-b974-07827b087766",
   "metadata": {},
   "outputs": [
    {
     "name": "stdout",
     "output_type": "stream",
     "text": [
      "The column does not contain missing values.\n"
     ]
    }
   ],
   "source": [
    "Weather_set['pressure'] = Weather_set['pressure'].ffill()\n",
    "missingValues('pressure', Weather_set)"
   ]
  },
  {
   "cell_type": "markdown",
   "id": "5cf29649-a5c5-4601-bce1-d9d443ee528b",
   "metadata": {},
   "source": [
    "### Column: windspeed"
   ]
  },
  {
   "cell_type": "code",
   "execution_count": 46,
   "id": "cc0bb97f-9465-43c1-b4a9-d3c1242da42e",
   "metadata": {},
   "outputs": [
    {
     "name": "stdout",
     "output_type": "stream",
     "text": [
      "Occuring data types:  [<class 'float'>]\n",
      "Min. value:  0.0 \n",
      "Max. value:  57.0\n",
      "The column contains 86 missing values. This corresponds to 0.29 %.\n"
     ]
    }
   ],
   "source": [
    "dataTypes('windspeed', Weather_set)\n",
    "valueRange('windspeed', Weather_set)\n",
    "missingValues('windspeed', Weather_set)"
   ]
  },
  {
   "cell_type": "markdown",
   "id": "530cc7c7-d654-4dae-a93a-19d64ac00731",
   "metadata": {},
   "source": [
    "In order not to lose rows with missing values, we replace these. As the data ist sorted by time and therefore the true values are close to the surrounding values, we perform a forward fill for the missing values."
   ]
  },
  {
   "cell_type": "code",
   "execution_count": 47,
   "id": "f708b221-61d4-4dec-9cbb-db93bc0d78e0",
   "metadata": {},
   "outputs": [
    {
     "name": "stdout",
     "output_type": "stream",
     "text": [
      "The column does not contain missing values.\n"
     ]
    }
   ],
   "source": [
    "Weather_set['windspeed'] = Weather_set['windspeed'].ffill()\n",
    "missingValues('windspeed', Weather_set)"
   ]
  },
  {
   "cell_type": "markdown",
   "id": "46c6c420-4209-463a-ab1c-49bc66a10190",
   "metadata": {},
   "source": [
    "### Column: precipitation"
   ]
  },
  {
   "cell_type": "code",
   "execution_count": 48,
   "id": "dc0457f9-cf02-484e-a48c-15acb36f2670",
   "metadata": {},
   "outputs": [
    {
     "name": "stdout",
     "output_type": "stream",
     "text": [
      "Occuring data types:  [<class 'float'>]\n",
      "Min. value:  0.0 \n",
      "Max. value:  18.54\n",
      "The column does not contain missing values.\n"
     ]
    }
   ],
   "source": [
    "dataTypes('precipitation', Weather_set)\n",
    "valueRange('precipitation', Weather_set)\n",
    "missingValues('precipitation', Weather_set)"
   ]
  },
  {
   "cell_type": "markdown",
   "id": "1b42b3c0-ac47-41b0-837f-1944311f8887",
   "metadata": {},
   "source": [
    "### Column: felt_temperature"
   ]
  },
  {
   "cell_type": "code",
   "execution_count": 49,
   "id": "f6074f55-940a-410e-829b-1af8705bcfc1",
   "metadata": {},
   "outputs": [
    {
     "name": "stdout",
     "output_type": "stream",
     "text": [
      "Occuring data types:  [<class 'float'>]\n",
      "Min. value:  0.0 \n",
      "Max. value:  42.0\n",
      "The column contains 26 missing values. This corresponds to 0.09 %.\n"
     ]
    }
   ],
   "source": [
    "dataTypes('felt_temperature', Weather_set)\n",
    "valueRange('felt_temperature', Weather_set)\n",
    "missingValues('felt_temperature', Weather_set)"
   ]
  },
  {
   "cell_type": "markdown",
   "id": "b71da9f4-4f19-4576-a62e-8e159733ff15",
   "metadata": {},
   "source": [
    "In order not to lose rows with missing values, we replace these. As the data ist sorted by time and therefore the true values are close to the surrounding values, we perform a forward fill for the missing values."
   ]
  },
  {
   "cell_type": "code",
   "execution_count": 50,
   "id": "a35a2ad0-5da6-4b9e-a887-d1e2afa9c6da",
   "metadata": {},
   "outputs": [
    {
     "name": "stdout",
     "output_type": "stream",
     "text": [
      "The column does not contain missing values.\n"
     ]
    }
   ],
   "source": [
    "Weather_set['felt_temperature'] = Weather_set['felt_temperature'].ffill()\n",
    "missingValues('felt_temperature', Weather_set)"
   ]
  },
  {
   "cell_type": "markdown",
   "id": "be1112f9-0cb9-4133-9592-029fb5e38a27",
   "metadata": {},
   "source": [
    "### Dataset description"
   ]
  },
  {
   "cell_type": "code",
   "execution_count": 51,
   "id": "2f780826-591e-427e-a8e4-86fa37e71cc4",
   "metadata": {},
   "outputs": [
    {
     "name": "stdout",
     "output_type": "stream",
     "text": [
      "<class 'pandas.core.frame.DataFrame'>\n",
      "RangeIndex: 29244 entries, 0 to 29243\n",
      "Data columns (total 8 columns):\n",
      " #   Column                   Non-Null Count  Dtype         \n",
      "---  ------                   --------------  -----         \n",
      " 0   timestamp                29244 non-null  datetime64[ns]\n",
      " 1   temperature              29244 non-null  float64       \n",
      " 2   cloud_cover              29244 non-null  float64       \n",
      " 3   cloud_cover_description  29244 non-null  object        \n",
      " 4   pressure                 29244 non-null  float64       \n",
      " 5   windspeed                29244 non-null  float64       \n",
      " 6   precipitation            29244 non-null  float64       \n",
      " 7   felt_temperature         29244 non-null  float64       \n",
      "dtypes: datetime64[ns](1), float64(6), object(1)\n",
      "memory usage: 1.8+ MB\n"
     ]
    }
   ],
   "source": [
    "Weather_set.info()\n",
    "Weather_set\n",
    "Weather_set.to_csv('weather_burbank_airport_preprocessed.csv', index=False)"
   ]
  }
 ],
 "metadata": {
  "kernelspec": {
   "display_name": "Python 3 (ipykernel)",
   "language": "python",
   "name": "python3"
  },
  "language_info": {
   "codemirror_mode": {
    "name": "ipython",
    "version": 3
   },
   "file_extension": ".py",
   "mimetype": "text/x-python",
   "name": "python",
   "nbconvert_exporter": "python",
   "pygments_lexer": "ipython3",
   "version": "3.9.18"
  }
 },
 "nbformat": 4,
 "nbformat_minor": 5
}
