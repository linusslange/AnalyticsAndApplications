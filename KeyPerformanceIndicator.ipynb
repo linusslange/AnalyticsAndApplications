{
 "cells": [
  {
   "cell_type": "markdown",
   "id": "827a722b-0073-462e-aa96-2b603b3544fc",
   "metadata": {},
   "source": [
    "# Task 1: Data Collection and Preparation"
   ]
  },
  {
   "cell_type": "code",
   "execution_count": 1,
   "id": "a50c5213-5731-49cd-be73-66b896fa6f11",
   "metadata": {},
   "outputs": [],
   "source": [
    "import pandas as pd\n",
    "import ast\n",
    "import numpy as np"
   ]
  },
  {
   "cell_type": "markdown",
   "id": "c9f24730-e348-4e17-94a2-d26f37939c58",
   "metadata": {},
   "source": [
    "## Charging Sessions Dataset"
   ]
  },
  {
   "cell_type": "markdown",
   "id": "205e97f0-3292-444e-b9c5-00c5fd55df82",
   "metadata": {},
   "source": [
    "Read in the data as a dataframe. Interpret the date columns as dates."
   ]
  },
  {
   "cell_type": "code",
   "execution_count": 2,
   "id": "d4f6b558-5f33-4982-9d5f-73c74642fa28",
   "metadata": {},
   "outputs": [
    {
     "name": "stdout",
     "output_type": "stream",
     "text": [
      "Columns:  Index(['Unnamed: 0', 'id', 'connectionTime', 'disconnectTime',\n",
      "       'doneChargingTime', 'kWhDelivered', 'sessionID', 'siteID', 'spaceID',\n",
      "       'stationID', 'timezone', 'userID', 'userInputs'],\n",
      "      dtype='object')\n",
      "Number of rows:  66450\n"
     ]
    }
   ],
   "source": [
    "Charging_set = pd.read_csv('charging_sessions.csv', parse_dates=['connectionTime','disconnectTime','doneChargingTime'])\n",
    "print('Columns: ', Charging_set.columns)\n",
    "print('Number of rows: ', Charging_set.shape[0])"
   ]
  },
  {
   "cell_type": "code",
   "execution_count": 3,
   "id": "9f8cbfd3",
   "metadata": {},
   "outputs": [
    {
     "data": {
      "text/html": [
       "<div>\n",
       "<style scoped>\n",
       "    .dataframe tbody tr th:only-of-type {\n",
       "        vertical-align: middle;\n",
       "    }\n",
       "\n",
       "    .dataframe tbody tr th {\n",
       "        vertical-align: top;\n",
       "    }\n",
       "\n",
       "    .dataframe thead th {\n",
       "        text-align: right;\n",
       "    }\n",
       "</style>\n",
       "<table border=\"1\" class=\"dataframe\">\n",
       "  <thead>\n",
       "    <tr style=\"text-align: right;\">\n",
       "      <th></th>\n",
       "      <th>Unnamed: 0</th>\n",
       "      <th>id</th>\n",
       "      <th>connectionTime</th>\n",
       "      <th>disconnectTime</th>\n",
       "      <th>doneChargingTime</th>\n",
       "      <th>kWhDelivered</th>\n",
       "      <th>sessionID</th>\n",
       "      <th>siteID</th>\n",
       "      <th>spaceID</th>\n",
       "      <th>stationID</th>\n",
       "      <th>timezone</th>\n",
       "      <th>userID</th>\n",
       "      <th>userInputs</th>\n",
       "    </tr>\n",
       "  </thead>\n",
       "  <tbody>\n",
       "    <tr>\n",
       "      <th>0</th>\n",
       "      <td>0</td>\n",
       "      <td>5e23b149f9af8b5fe4b973cf</td>\n",
       "      <td>2020-01-02 13:08:54+00:00</td>\n",
       "      <td>2020-01-02 19:11:15+00:00</td>\n",
       "      <td>2020-01-02 17:31:35+00:00</td>\n",
       "      <td>25.016</td>\n",
       "      <td>1_1_179_810_2020-01-02 13:08:53.870034</td>\n",
       "      <td>1</td>\n",
       "      <td>AG-3F30</td>\n",
       "      <td>1-1-179-810</td>\n",
       "      <td>America/Los_Angeles</td>\n",
       "      <td>194.0</td>\n",
       "      <td>[{'WhPerMile': 250, 'kWhRequested': 25.0, 'mil...</td>\n",
       "    </tr>\n",
       "    <tr>\n",
       "      <th>1</th>\n",
       "      <td>1</td>\n",
       "      <td>5e23b149f9af8b5fe4b973d0</td>\n",
       "      <td>2020-01-02 13:36:50+00:00</td>\n",
       "      <td>2020-01-02 22:38:21+00:00</td>\n",
       "      <td>2020-01-02 20:18:05+00:00</td>\n",
       "      <td>33.097</td>\n",
       "      <td>1_1_193_825_2020-01-02 13:36:49.599853</td>\n",
       "      <td>1</td>\n",
       "      <td>AG-1F01</td>\n",
       "      <td>1-1-193-825</td>\n",
       "      <td>America/Los_Angeles</td>\n",
       "      <td>4275.0</td>\n",
       "      <td>[{'WhPerMile': 280, 'kWhRequested': 70.0, 'mil...</td>\n",
       "    </tr>\n",
       "    <tr>\n",
       "      <th>2</th>\n",
       "      <td>2</td>\n",
       "      <td>5e23b149f9af8b5fe4b973d1</td>\n",
       "      <td>2020-01-02 13:56:35+00:00</td>\n",
       "      <td>2020-01-03 00:39:22+00:00</td>\n",
       "      <td>2020-01-02 16:35:06+00:00</td>\n",
       "      <td>6.521</td>\n",
       "      <td>1_1_193_829_2020-01-02 13:56:35.214993</td>\n",
       "      <td>1</td>\n",
       "      <td>AG-1F03</td>\n",
       "      <td>1-1-193-829</td>\n",
       "      <td>America/Los_Angeles</td>\n",
       "      <td>344.0</td>\n",
       "      <td>[{'WhPerMile': 400, 'kWhRequested': 8.0, 'mile...</td>\n",
       "    </tr>\n",
       "    <tr>\n",
       "      <th>3</th>\n",
       "      <td>3</td>\n",
       "      <td>5e23b149f9af8b5fe4b973d2</td>\n",
       "      <td>2020-01-02 13:59:58+00:00</td>\n",
       "      <td>2020-01-02 16:38:39+00:00</td>\n",
       "      <td>2020-01-02 15:18:45+00:00</td>\n",
       "      <td>2.355</td>\n",
       "      <td>1_1_193_820_2020-01-02 13:59:58.309319</td>\n",
       "      <td>1</td>\n",
       "      <td>AG-1F04</td>\n",
       "      <td>1-1-193-820</td>\n",
       "      <td>America/Los_Angeles</td>\n",
       "      <td>1117.0</td>\n",
       "      <td>[{'WhPerMile': 400, 'kWhRequested': 8.0, 'mile...</td>\n",
       "    </tr>\n",
       "    <tr>\n",
       "      <th>4</th>\n",
       "      <td>4</td>\n",
       "      <td>5e23b149f9af8b5fe4b973d3</td>\n",
       "      <td>2020-01-02 14:00:01+00:00</td>\n",
       "      <td>2020-01-02 22:08:40+00:00</td>\n",
       "      <td>2020-01-02 18:17:30+00:00</td>\n",
       "      <td>13.375</td>\n",
       "      <td>1_1_193_819_2020-01-02 14:00:00.779967</td>\n",
       "      <td>1</td>\n",
       "      <td>AG-1F06</td>\n",
       "      <td>1-1-193-819</td>\n",
       "      <td>America/Los_Angeles</td>\n",
       "      <td>334.0</td>\n",
       "      <td>[{'WhPerMile': 400, 'kWhRequested': 16.0, 'mil...</td>\n",
       "    </tr>\n",
       "  </tbody>\n",
       "</table>\n",
       "</div>"
      ],
      "text/plain": [
       "   Unnamed: 0                        id            connectionTime  \\\n",
       "0           0  5e23b149f9af8b5fe4b973cf 2020-01-02 13:08:54+00:00   \n",
       "1           1  5e23b149f9af8b5fe4b973d0 2020-01-02 13:36:50+00:00   \n",
       "2           2  5e23b149f9af8b5fe4b973d1 2020-01-02 13:56:35+00:00   \n",
       "3           3  5e23b149f9af8b5fe4b973d2 2020-01-02 13:59:58+00:00   \n",
       "4           4  5e23b149f9af8b5fe4b973d3 2020-01-02 14:00:01+00:00   \n",
       "\n",
       "             disconnectTime          doneChargingTime  kWhDelivered  \\\n",
       "0 2020-01-02 19:11:15+00:00 2020-01-02 17:31:35+00:00        25.016   \n",
       "1 2020-01-02 22:38:21+00:00 2020-01-02 20:18:05+00:00        33.097   \n",
       "2 2020-01-03 00:39:22+00:00 2020-01-02 16:35:06+00:00         6.521   \n",
       "3 2020-01-02 16:38:39+00:00 2020-01-02 15:18:45+00:00         2.355   \n",
       "4 2020-01-02 22:08:40+00:00 2020-01-02 18:17:30+00:00        13.375   \n",
       "\n",
       "                                sessionID  siteID  spaceID    stationID  \\\n",
       "0  1_1_179_810_2020-01-02 13:08:53.870034       1  AG-3F30  1-1-179-810   \n",
       "1  1_1_193_825_2020-01-02 13:36:49.599853       1  AG-1F01  1-1-193-825   \n",
       "2  1_1_193_829_2020-01-02 13:56:35.214993       1  AG-1F03  1-1-193-829   \n",
       "3  1_1_193_820_2020-01-02 13:59:58.309319       1  AG-1F04  1-1-193-820   \n",
       "4  1_1_193_819_2020-01-02 14:00:00.779967       1  AG-1F06  1-1-193-819   \n",
       "\n",
       "              timezone  userID  \\\n",
       "0  America/Los_Angeles   194.0   \n",
       "1  America/Los_Angeles  4275.0   \n",
       "2  America/Los_Angeles   344.0   \n",
       "3  America/Los_Angeles  1117.0   \n",
       "4  America/Los_Angeles   334.0   \n",
       "\n",
       "                                          userInputs  \n",
       "0  [{'WhPerMile': 250, 'kWhRequested': 25.0, 'mil...  \n",
       "1  [{'WhPerMile': 280, 'kWhRequested': 70.0, 'mil...  \n",
       "2  [{'WhPerMile': 400, 'kWhRequested': 8.0, 'mile...  \n",
       "3  [{'WhPerMile': 400, 'kWhRequested': 8.0, 'mile...  \n",
       "4  [{'WhPerMile': 400, 'kWhRequested': 16.0, 'mil...  "
      ]
     },
     "execution_count": 3,
     "metadata": {},
     "output_type": "execute_result"
    }
   ],
   "source": [
    "Charging_set.head()"
   ]
  },
  {
   "cell_type": "markdown",
   "id": "40b7091b-9419-4cce-a8ff-0387d34b631f",
   "metadata": {},
   "source": [
    "Define functions to analyze the columns."
   ]
  },
  {
   "cell_type": "code",
   "execution_count": 4,
   "id": "e548998d-f4a5-495b-8307-10d685807496",
   "metadata": {},
   "outputs": [],
   "source": [
    "def missingValues(columnName, dataSet) :\n",
    "    if (dataSet[columnName].isnull().any()):\n",
    "        percentage = round(dataSet[columnName].isnull().sum()/Charging_set.shape[0]*100, 2)\n",
    "        print('The column contains', dataSet[columnName].isnull().sum(), 'missing values. This corresponds to', percentage, '%.')\n",
    "    else:\n",
    "        print('The column does not contain missing values.')\n",
    "\n",
    "def valueRange(columnName, dataSet) :\n",
    "    print('Min. value: ', dataSet[columnName].min(), '\\nMax. value: ', dataSet[columnName].max())\n",
    "\n",
    "def dataTypes(columnName, dataSet):\n",
    "    print('Occuring data types: ', dataSet[columnName].apply(type).unique())"
   ]
  },
  {
   "cell_type": "markdown",
   "id": "ec36e172-505c-4090-b2fa-6b52cd317ec1",
   "metadata": {},
   "source": [
    "### deleted Column: unnamed"
   ]
  },
  {
   "cell_type": "code",
   "execution_count": 5,
   "id": "ff87c0eb-386a-44dc-b805-c6e238f2c14b",
   "metadata": {},
   "outputs": [
    {
     "name": "stdout",
     "output_type": "stream",
     "text": [
      "Occuring data types:  [<class 'int'>]\n",
      "Min. value:  0 \n",
      "Max. value:  15291\n",
      "The column does not contain missing values.\n"
     ]
    }
   ],
   "source": [
    "dataTypes('Unnamed: 0', Charging_set)\n",
    "valueRange('Unnamed: 0', Charging_set)\n",
    "missingValues('Unnamed: 0', Charging_set)"
   ]
  },
  {
   "cell_type": "markdown",
   "id": "fa0039b4-59f7-4ae9-8ffc-85c0b24700ad",
   "metadata": {},
   "source": [
    "This column does not provide any information that we can use. Therefore it can be deleted."
   ]
  },
  {
   "cell_type": "code",
   "execution_count": 6,
   "id": "c855d1f4-5838-4b25-839a-b2d1db049e4b",
   "metadata": {},
   "outputs": [],
   "source": [
    "Charging_set = Charging_set.drop(['Unnamed: 0'], axis=1)"
   ]
  },
  {
   "cell_type": "markdown",
   "id": "3ed4dcd0-3444-43e6-b1d8-e4277c21b112",
   "metadata": {},
   "source": [
    "### Column: id - unique identifier of the session record"
   ]
  },
  {
   "cell_type": "code",
   "execution_count": 7,
   "id": "e22029b7-3865-43cb-a20e-5426b475c0c0",
   "metadata": {},
   "outputs": [
    {
     "name": "stdout",
     "output_type": "stream",
     "text": [
      "Occuring data types:  [<class 'str'>]\n",
      "Min. value:  5bc90cb9f9af8b0d7fe77cd2 \n",
      "Max. value:  6155053bf9af8b76960e16d1\n",
      "The column does not contain missing values.\n"
     ]
    }
   ],
   "source": [
    "dataTypes('id', Charging_set)\n",
    "valueRange('id', Charging_set)\n",
    "missingValues('id', Charging_set)"
   ]
  },
  {
   "cell_type": "markdown",
   "id": "f6222860-4c53-4a52-9c75-2325fe5b5c91",
   "metadata": {},
   "source": [
    "### Column: connectionTime - time when the EV plugged in"
   ]
  },
  {
   "cell_type": "code",
   "execution_count": 8,
   "id": "8c3c2c51-8cdf-436b-8c39-79911cdc4ce9",
   "metadata": {},
   "outputs": [
    {
     "name": "stdout",
     "output_type": "stream",
     "text": [
      "Occuring data types:  [<class 'pandas._libs.tslibs.timestamps.Timestamp'>]\n",
      "Min. value:  2018-04-25 11:08:04+00:00 \n",
      "Max. value:  2021-09-14 05:43:39+00:00\n",
      "The column does not contain missing values.\n"
     ]
    }
   ],
   "source": [
    "dataTypes('connectionTime', Charging_set)\n",
    "valueRange('connectionTime', Charging_set)\n",
    "missingValues('connectionTime', Charging_set)"
   ]
  },
  {
   "cell_type": "markdown",
   "id": "32b72304-0612-4364-b41b-13934e15928f",
   "metadata": {},
   "source": [
    "### Column: disconnectTime - time when the EV unplugged"
   ]
  },
  {
   "cell_type": "code",
   "execution_count": 9,
   "id": "2caa5717-1ef3-45f6-bb10-0a0374275b27",
   "metadata": {},
   "outputs": [
    {
     "name": "stdout",
     "output_type": "stream",
     "text": [
      "Occuring data types:  [<class 'pandas._libs.tslibs.timestamps.Timestamp'>]\n",
      "Min. value:  2018-04-25 13:20:10+00:00 \n",
      "Max. value:  2021-09-14 14:46:28+00:00\n",
      "The column does not contain missing values.\n"
     ]
    }
   ],
   "source": [
    "dataTypes('disconnectTime', Charging_set)\n",
    "valueRange('disconnectTime', Charging_set)\n",
    "missingValues('disconnectTime', Charging_set)"
   ]
  },
  {
   "cell_type": "markdown",
   "id": "58fa0ed3-586a-46e0-8222-d1c9fb6cccc8",
   "metadata": {},
   "source": [
    "### new Column: totalConnectionTime - total time the EV was plugged in"
   ]
  },
  {
   "cell_type": "code",
   "execution_count": 10,
   "id": "7c828473-5c62-4ab0-89bb-aebcb57c5b6e",
   "metadata": {},
   "outputs": [
    {
     "name": "stdout",
     "output_type": "stream",
     "text": [
      "Occuring data types:  [<class 'pandas._libs.tslibs.timedeltas.Timedelta'>]\n",
      "Min. value:  0 days 00:02:04 \n",
      "Max. value:  10 days 05:16:09\n",
      "The column does not contain missing values.\n"
     ]
    }
   ],
   "source": [
    "Charging_set['totalConnectionTime'] = Charging_set['disconnectTime'] - Charging_set['connectionTime']\n",
    "dataTypes('totalConnectionTime', Charging_set)\n",
    "valueRange('totalConnectionTime', Charging_set)\n",
    "missingValues('totalConnectionTime', Charging_set)"
   ]
  },
  {
   "cell_type": "markdown",
   "id": "0f373286-fecd-477e-b7d6-779686bf8912",
   "metadata": {},
   "source": [
    "### Column: doneChargingTime - time of the last non-zero current draw recorded"
   ]
  },
  {
   "cell_type": "code",
   "execution_count": 11,
   "id": "67453ca3-2595-49f6-8005-6e9e5cea8824",
   "metadata": {},
   "outputs": [
    {
     "name": "stdout",
     "output_type": "stream",
     "text": [
      "Occuring data types:  [<class 'pandas._libs.tslibs.timestamps.Timestamp'>\n",
      " <class 'pandas._libs.tslibs.nattype.NaTType'>]\n",
      "Min. value:  2018-04-25 13:21:10+00:00 \n",
      "Max. value:  2021-09-14 14:46:22+00:00\n",
      "The column contains 4088 missing values. This corresponds to 6.15 %.\n"
     ]
    }
   ],
   "source": [
    "dataTypes('doneChargingTime', Charging_set)\n",
    "valueRange('doneChargingTime', Charging_set)\n",
    "missingValues('doneChargingTime', Charging_set)\n",
    "# Charging_set[Charging_set['kWhDelivered'] == 0] #-> not because of no kWh delivered \n",
    "# Charging_set[Charging_set['userInputs'].isnull() & Charging_set['doneChargingTime'].isnull()] #-> not because of the userInput"
   ]
  },
  {
   "cell_type": "code",
   "execution_count": 12,
   "id": "d7425a58-0966-49fc-829b-b3a42525121f",
   "metadata": {
    "scrolled": true
   },
   "outputs": [
    {
     "name": "stdout",
     "output_type": "stream",
     "text": [
      "In these 27 columns the doneChargingTime is earlier than the connectionTime.\n"
     ]
    },
    {
     "data": {
      "text/html": [
       "<div>\n",
       "<style scoped>\n",
       "    .dataframe tbody tr th:only-of-type {\n",
       "        vertical-align: middle;\n",
       "    }\n",
       "\n",
       "    .dataframe tbody tr th {\n",
       "        vertical-align: top;\n",
       "    }\n",
       "\n",
       "    .dataframe thead th {\n",
       "        text-align: right;\n",
       "    }\n",
       "</style>\n",
       "<table border=\"1\" class=\"dataframe\">\n",
       "  <thead>\n",
       "    <tr style=\"text-align: right;\">\n",
       "      <th></th>\n",
       "      <th>id</th>\n",
       "      <th>connectionTime</th>\n",
       "      <th>disconnectTime</th>\n",
       "      <th>doneChargingTime</th>\n",
       "      <th>kWhDelivered</th>\n",
       "      <th>sessionID</th>\n",
       "      <th>siteID</th>\n",
       "      <th>spaceID</th>\n",
       "      <th>stationID</th>\n",
       "      <th>timezone</th>\n",
       "      <th>userID</th>\n",
       "      <th>userInputs</th>\n",
       "      <th>totalConnectionTime</th>\n",
       "    </tr>\n",
       "  </thead>\n",
       "  <tbody>\n",
       "    <tr>\n",
       "      <th>22219</th>\n",
       "      <td>5c942ca4f9af8b06b04b3bb4</td>\n",
       "      <td>2019-03-05 19:13:55+00:00</td>\n",
       "      <td>2019-03-05 22:50:39+00:00</td>\n",
       "      <td>2019-03-05 19:12:56+00:00</td>\n",
       "      <td>0.706655</td>\n",
       "      <td>2_39_78_367_2019-03-05 19:13:55.113078</td>\n",
       "      <td>2</td>\n",
       "      <td>CA-494</td>\n",
       "      <td>2-39-78-367</td>\n",
       "      <td>America/Los_Angeles</td>\n",
       "      <td>NaN</td>\n",
       "      <td>NaN</td>\n",
       "      <td>0 days 03:36:44</td>\n",
       "    </tr>\n",
       "    <tr>\n",
       "      <th>22253</th>\n",
       "      <td>5c957e1cf9af8b42f440af03</td>\n",
       "      <td>2019-03-06 20:26:30+00:00</td>\n",
       "      <td>2019-03-07 01:48:54+00:00</td>\n",
       "      <td>2019-03-06 20:25:34+00:00</td>\n",
       "      <td>1.046381</td>\n",
       "      <td>2_39_78_367_2019-03-06 20:26:30.479644</td>\n",
       "      <td>2</td>\n",
       "      <td>CA-494</td>\n",
       "      <td>2-39-78-367</td>\n",
       "      <td>America/Los_Angeles</td>\n",
       "      <td>NaN</td>\n",
       "      <td>NaN</td>\n",
       "      <td>0 days 05:22:24</td>\n",
       "    </tr>\n",
       "    <tr>\n",
       "      <th>23562</th>\n",
       "      <td>5cca3a22f9af8b49aaa4cba0</td>\n",
       "      <td>2019-04-15 20:24:13+00:00</td>\n",
       "      <td>2019-04-15 23:39:04+00:00</td>\n",
       "      <td>2019-04-15 20:23:14+00:00</td>\n",
       "      <td>0.635278</td>\n",
       "      <td>2_39_78_367_2019-04-15 20:24:13.365605</td>\n",
       "      <td>2</td>\n",
       "      <td>CA-494</td>\n",
       "      <td>2-39-78-367</td>\n",
       "      <td>America/Los_Angeles</td>\n",
       "      <td>1154.0</td>\n",
       "      <td>[{'WhPerMile': 308, 'kWhRequested': 9.24, 'mil...</td>\n",
       "      <td>0 days 03:14:51</td>\n",
       "    </tr>\n",
       "    <tr>\n",
       "      <th>23586</th>\n",
       "      <td>5ccb8ba6f9af8b4d9721df00</td>\n",
       "      <td>2019-04-16 16:11:08+00:00</td>\n",
       "      <td>2019-04-16 19:10:48+00:00</td>\n",
       "      <td>2019-04-16 16:10:11+00:00</td>\n",
       "      <td>0.585977</td>\n",
       "      <td>2_39_78_367_2019-04-16 16:11:07.939710</td>\n",
       "      <td>2</td>\n",
       "      <td>CA-494</td>\n",
       "      <td>2-39-78-367</td>\n",
       "      <td>America/Los_Angeles</td>\n",
       "      <td>1154.0</td>\n",
       "      <td>[{'WhPerMile': 308, 'kWhRequested': 6.16, 'mil...</td>\n",
       "      <td>0 days 02:59:40</td>\n",
       "    </tr>\n",
       "    <tr>\n",
       "      <th>27689</th>\n",
       "      <td>5d856f1ff9af8b0c7bdf245c</td>\n",
       "      <td>2019-09-04 16:35:04+00:00</td>\n",
       "      <td>2019-09-05 00:44:27+00:00</td>\n",
       "      <td>2019-09-04 16:34:05+00:00</td>\n",
       "      <td>1.584500</td>\n",
       "      <td>2_39_78_367_2019-09-04 16:35:04.129327</td>\n",
       "      <td>2</td>\n",
       "      <td>CA-494</td>\n",
       "      <td>2-39-78-367</td>\n",
       "      <td>America/Los_Angeles</td>\n",
       "      <td>NaN</td>\n",
       "      <td>NaN</td>\n",
       "      <td>0 days 08:09:23</td>\n",
       "    </tr>\n",
       "    <tr>\n",
       "      <th>27740</th>\n",
       "      <td>5d86c0a5f9af8b1022a81870</td>\n",
       "      <td>2019-09-05 18:44:57+00:00</td>\n",
       "      <td>2019-09-06 00:55:19+00:00</td>\n",
       "      <td>2019-09-05 18:43:57+00:00</td>\n",
       "      <td>1.067230</td>\n",
       "      <td>2_39_78_360_2019-09-05 18:44:57.410168</td>\n",
       "      <td>2</td>\n",
       "      <td>CA-322</td>\n",
       "      <td>2-39-78-360</td>\n",
       "      <td>America/Los_Angeles</td>\n",
       "      <td>NaN</td>\n",
       "      <td>NaN</td>\n",
       "      <td>0 days 06:10:22</td>\n",
       "    </tr>\n",
       "    <tr>\n",
       "      <th>29295</th>\n",
       "      <td>5dcdffbdf9af8b220a19be8b</td>\n",
       "      <td>2019-10-29 17:22:32+00:00</td>\n",
       "      <td>2019-10-31 01:57:20+00:00</td>\n",
       "      <td>2019-10-29 17:21:33+00:00</td>\n",
       "      <td>6.316210</td>\n",
       "      <td>2_39_78_367_2019-10-29 17:22:32.086306</td>\n",
       "      <td>2</td>\n",
       "      <td>CA-494</td>\n",
       "      <td>2-39-78-367</td>\n",
       "      <td>America/Los_Angeles</td>\n",
       "      <td>1470.0</td>\n",
       "      <td>[{'WhPerMile': 292, 'kWhRequested': 14.6, 'mil...</td>\n",
       "      <td>1 days 08:34:48</td>\n",
       "    </tr>\n",
       "    <tr>\n",
       "      <th>31285</th>\n",
       "      <td>5bc91740f9af8b0dc677b860</td>\n",
       "      <td>2018-05-04 19:08:37+00:00</td>\n",
       "      <td>2018-05-04 22:07:47+00:00</td>\n",
       "      <td>2018-05-04 19:07:40+00:00</td>\n",
       "      <td>0.551722</td>\n",
       "      <td>2_39_78_363_2018-05-04 19:08:36.642114</td>\n",
       "      <td>2</td>\n",
       "      <td>CA-320</td>\n",
       "      <td>2-39-78-363</td>\n",
       "      <td>America/Los_Angeles</td>\n",
       "      <td>NaN</td>\n",
       "      <td>NaN</td>\n",
       "      <td>0 days 02:59:10</td>\n",
       "    </tr>\n",
       "    <tr>\n",
       "      <th>31287</th>\n",
       "      <td>5bc91740f9af8b0dc677b862</td>\n",
       "      <td>2018-05-04 19:23:52+00:00</td>\n",
       "      <td>2018-05-05 00:04:15+00:00</td>\n",
       "      <td>2018-05-04 19:22:52+00:00</td>\n",
       "      <td>0.912297</td>\n",
       "      <td>2_39_78_367_2018-05-04 19:23:51.897392</td>\n",
       "      <td>2</td>\n",
       "      <td>CA-494</td>\n",
       "      <td>2-39-78-367</td>\n",
       "      <td>America/Los_Angeles</td>\n",
       "      <td>NaN</td>\n",
       "      <td>NaN</td>\n",
       "      <td>0 days 04:40:23</td>\n",
       "    </tr>\n",
       "    <tr>\n",
       "      <th>31403</th>\n",
       "      <td>5bc917d0f9af8b0dc677b8d6</td>\n",
       "      <td>2018-05-07 20:47:51+00:00</td>\n",
       "      <td>2018-05-08 02:16:00+00:00</td>\n",
       "      <td>2018-05-07 20:47:50+00:00</td>\n",
       "      <td>14.967000</td>\n",
       "      <td>2_39_139_567_2018-05-07 20:47:50.862655</td>\n",
       "      <td>2</td>\n",
       "      <td>CA-513</td>\n",
       "      <td>2-39-139-567</td>\n",
       "      <td>America/Los_Angeles</td>\n",
       "      <td>NaN</td>\n",
       "      <td>NaN</td>\n",
       "      <td>0 days 05:28:09</td>\n",
       "    </tr>\n",
       "    <tr>\n",
       "      <th>35840</th>\n",
       "      <td>5bc92c03f9af8b0dc677ca2b</td>\n",
       "      <td>2018-07-19 15:57:19+00:00</td>\n",
       "      <td>2018-07-19 22:49:56+00:00</td>\n",
       "      <td>2018-07-19 15:56:21+00:00</td>\n",
       "      <td>1.336511</td>\n",
       "      <td>2_39_78_366_2018-07-19 15:57:19.401534</td>\n",
       "      <td>2</td>\n",
       "      <td>CA-323</td>\n",
       "      <td>2-39-78-366</td>\n",
       "      <td>America/Los_Angeles</td>\n",
       "      <td>NaN</td>\n",
       "      <td>NaN</td>\n",
       "      <td>0 days 06:52:37</td>\n",
       "    </tr>\n",
       "    <tr>\n",
       "      <th>38884</th>\n",
       "      <td>5bc937f6f9af8b0dc677d60f</td>\n",
       "      <td>2018-08-29 05:25:08+00:00</td>\n",
       "      <td>2018-08-29 13:08:26+00:00</td>\n",
       "      <td>2018-08-29 05:24:11+00:00</td>\n",
       "      <td>1.416971</td>\n",
       "      <td>2_39_78_363_2018-08-29 05:25:08.060741</td>\n",
       "      <td>2</td>\n",
       "      <td>CA-320</td>\n",
       "      <td>2-39-78-363</td>\n",
       "      <td>America/Los_Angeles</td>\n",
       "      <td>NaN</td>\n",
       "      <td>NaN</td>\n",
       "      <td>0 days 07:43:18</td>\n",
       "    </tr>\n",
       "    <tr>\n",
       "      <th>39875</th>\n",
       "      <td>5bc93c1cf9af8b0dc677d9ee</td>\n",
       "      <td>2018-09-11 15:15:01+00:00</td>\n",
       "      <td>2018-09-11 20:38:32+00:00</td>\n",
       "      <td>2018-09-11 15:14:02+00:00</td>\n",
       "      <td>1.050226</td>\n",
       "      <td>2_39_78_367_2018-09-11 15:15:01.134140</td>\n",
       "      <td>2</td>\n",
       "      <td>CA-494</td>\n",
       "      <td>2-39-78-367</td>\n",
       "      <td>America/Los_Angeles</td>\n",
       "      <td>NaN</td>\n",
       "      <td>NaN</td>\n",
       "      <td>0 days 05:23:31</td>\n",
       "    </tr>\n",
       "    <tr>\n",
       "      <th>41263</th>\n",
       "      <td>5bc94185f9af8b0dc677df5a</td>\n",
       "      <td>2018-09-27 22:58:45+00:00</td>\n",
       "      <td>2018-09-28 21:58:26+00:00</td>\n",
       "      <td>2018-09-27 22:57:45+00:00</td>\n",
       "      <td>4.443405</td>\n",
       "      <td>2_39_78_367_2018-09-27 22:58:45.258702</td>\n",
       "      <td>2</td>\n",
       "      <td>CA-494</td>\n",
       "      <td>2-39-78-367</td>\n",
       "      <td>America/Los_Angeles</td>\n",
       "      <td>NaN</td>\n",
       "      <td>NaN</td>\n",
       "      <td>0 days 22:59:41</td>\n",
       "    </tr>\n",
       "    <tr>\n",
       "      <th>42102</th>\n",
       "      <td>5be2fcd7f9af8b2b0edfa0ee</td>\n",
       "      <td>2018-10-08 19:14:32+00:00</td>\n",
       "      <td>2018-10-09 00:54:50+00:00</td>\n",
       "      <td>2018-10-08 19:13:32+00:00</td>\n",
       "      <td>1.104249</td>\n",
       "      <td>2_39_78_361_2018-10-08 19:14:31.785466</td>\n",
       "      <td>2</td>\n",
       "      <td>CA-493</td>\n",
       "      <td>2-39-78-361</td>\n",
       "      <td>America/Los_Angeles</td>\n",
       "      <td>NaN</td>\n",
       "      <td>NaN</td>\n",
       "      <td>0 days 05:40:18</td>\n",
       "    </tr>\n",
       "    <tr>\n",
       "      <th>42342</th>\n",
       "      <td>5be2fdcaf9af8b2b0edfa1de</td>\n",
       "      <td>2018-10-11 15:58:47+00:00</td>\n",
       "      <td>2018-10-11 20:06:02+00:00</td>\n",
       "      <td>2018-10-11 15:57:47+00:00</td>\n",
       "      <td>0.714337</td>\n",
       "      <td>2_39_78_360_2018-10-11 15:58:47.225713</td>\n",
       "      <td>2</td>\n",
       "      <td>CA-322</td>\n",
       "      <td>2-39-78-360</td>\n",
       "      <td>America/Los_Angeles</td>\n",
       "      <td>NaN</td>\n",
       "      <td>NaN</td>\n",
       "      <td>0 days 04:07:15</td>\n",
       "    </tr>\n",
       "    <tr>\n",
       "      <th>42347</th>\n",
       "      <td>5be2fdcaf9af8b2b0edfa1e3</td>\n",
       "      <td>2018-10-11 16:14:05+00:00</td>\n",
       "      <td>2018-10-12 01:39:58+00:00</td>\n",
       "      <td>2018-10-11 16:13:08+00:00</td>\n",
       "      <td>1.831132</td>\n",
       "      <td>2_39_78_365_2018-10-11 16:14:04.947860</td>\n",
       "      <td>2</td>\n",
       "      <td>CA-321</td>\n",
       "      <td>2-39-78-365</td>\n",
       "      <td>America/Los_Angeles</td>\n",
       "      <td>NaN</td>\n",
       "      <td>NaN</td>\n",
       "      <td>0 days 09:25:53</td>\n",
       "    </tr>\n",
       "    <tr>\n",
       "      <th>42434</th>\n",
       "      <td>5be2fe25f9af8b2b0edfa23a</td>\n",
       "      <td>2018-10-12 15:59:07+00:00</td>\n",
       "      <td>2018-10-13 00:19:49+00:00</td>\n",
       "      <td>2018-10-12 15:58:09+00:00</td>\n",
       "      <td>1.441147</td>\n",
       "      <td>2_39_78_360_2018-10-12 15:59:07.388438</td>\n",
       "      <td>2</td>\n",
       "      <td>CA-322</td>\n",
       "      <td>2-39-78-360</td>\n",
       "      <td>America/Los_Angeles</td>\n",
       "      <td>NaN</td>\n",
       "      <td>NaN</td>\n",
       "      <td>0 days 08:20:42</td>\n",
       "    </tr>\n",
       "    <tr>\n",
       "      <th>42452</th>\n",
       "      <td>5be2fe25f9af8b2b0edfa24c</td>\n",
       "      <td>2018-10-12 18:40:37+00:00</td>\n",
       "      <td>2018-10-13 00:34:06+00:00</td>\n",
       "      <td>2018-10-12 18:39:38+00:00</td>\n",
       "      <td>1.145796</td>\n",
       "      <td>2_39_78_365_2018-10-12 18:40:37.245744</td>\n",
       "      <td>2</td>\n",
       "      <td>CA-321</td>\n",
       "      <td>2-39-78-365</td>\n",
       "      <td>America/Los_Angeles</td>\n",
       "      <td>NaN</td>\n",
       "      <td>NaN</td>\n",
       "      <td>0 days 05:53:29</td>\n",
       "    </tr>\n",
       "    <tr>\n",
       "      <th>42618</th>\n",
       "      <td>5be2febbf9af8b2b0edfa2f2</td>\n",
       "      <td>2018-10-15 15:42:14+00:00</td>\n",
       "      <td>2018-10-15 20:39:47+00:00</td>\n",
       "      <td>2018-10-15 15:41:14+00:00</td>\n",
       "      <td>0.858423</td>\n",
       "      <td>2_39_78_360_2018-10-15 15:42:13.677037</td>\n",
       "      <td>2</td>\n",
       "      <td>CA-322</td>\n",
       "      <td>2-39-78-360</td>\n",
       "      <td>America/Los_Angeles</td>\n",
       "      <td>NaN</td>\n",
       "      <td>NaN</td>\n",
       "      <td>0 days 04:57:33</td>\n",
       "    </tr>\n",
       "    <tr>\n",
       "      <th>43484</th>\n",
       "      <td>5be634cdf9af8b34ee236867</td>\n",
       "      <td>2018-10-26 20:27:53+00:00</td>\n",
       "      <td>2018-10-27 00:56:04+00:00</td>\n",
       "      <td>2018-10-26 20:26:53+00:00</td>\n",
       "      <td>0.871274</td>\n",
       "      <td>2_39_78_365_2018-10-26 20:27:53.015524</td>\n",
       "      <td>2</td>\n",
       "      <td>CA-321</td>\n",
       "      <td>2-39-78-365</td>\n",
       "      <td>America/Los_Angeles</td>\n",
       "      <td>NaN</td>\n",
       "      <td>NaN</td>\n",
       "      <td>0 days 04:28:11</td>\n",
       "    </tr>\n",
       "    <tr>\n",
       "      <th>44040</th>\n",
       "      <td>5c2e85daf9af8b13dab07564</td>\n",
       "      <td>2018-11-04 02:10:08+00:00</td>\n",
       "      <td>2018-11-04 02:55:22+00:00</td>\n",
       "      <td>2018-11-04 01:40:31+00:00</td>\n",
       "      <td>0.988647</td>\n",
       "      <td>2_39_78_364_2018-11-04 02:10:08.418061</td>\n",
       "      <td>2</td>\n",
       "      <td>CA-495</td>\n",
       "      <td>2-39-78-364</td>\n",
       "      <td>America/Los_Angeles</td>\n",
       "      <td>NaN</td>\n",
       "      <td>NaN</td>\n",
       "      <td>0 days 00:45:14</td>\n",
       "    </tr>\n",
       "    <tr>\n",
       "      <th>44041</th>\n",
       "      <td>5c2e85daf9af8b13dab07565</td>\n",
       "      <td>2018-11-04 03:56:17+00:00</td>\n",
       "      <td>2018-11-04 04:15:00+00:00</td>\n",
       "      <td>2018-11-04 03:14:55+00:00</td>\n",
       "      <td>0.521000</td>\n",
       "      <td>2_39_129_17_2018-11-04 03:56:16.817298</td>\n",
       "      <td>2</td>\n",
       "      <td>CA-307</td>\n",
       "      <td>2-39-129-17</td>\n",
       "      <td>America/Los_Angeles</td>\n",
       "      <td>NaN</td>\n",
       "      <td>NaN</td>\n",
       "      <td>0 days 00:18:43</td>\n",
       "    </tr>\n",
       "    <tr>\n",
       "      <th>44042</th>\n",
       "      <td>5c2e85daf9af8b13dab07566</td>\n",
       "      <td>2018-11-04 04:33:19+00:00</td>\n",
       "      <td>2018-11-04 04:52:37+00:00</td>\n",
       "      <td>2018-11-04 03:52:29+00:00</td>\n",
       "      <td>2.051000</td>\n",
       "      <td>2_39_139_28_2018-11-04 04:33:18.910858</td>\n",
       "      <td>2</td>\n",
       "      <td>CA-303</td>\n",
       "      <td>2-39-139-28</td>\n",
       "      <td>America/Los_Angeles</td>\n",
       "      <td>516.0</td>\n",
       "      <td>[{'WhPerMile': 250, 'kWhRequested': 12.5, 'mil...</td>\n",
       "      <td>0 days 00:19:18</td>\n",
       "    </tr>\n",
       "    <tr>\n",
       "      <th>44199</th>\n",
       "      <td>5c2e8674f9af8b13dab07603</td>\n",
       "      <td>2018-11-07 03:40:06+00:00</td>\n",
       "      <td>2018-11-10 02:39:58+00:00</td>\n",
       "      <td>2018-11-07 03:39:08+00:00</td>\n",
       "      <td>12.220490</td>\n",
       "      <td>2_39_78_360_2018-11-07 03:40:06.365714</td>\n",
       "      <td>2</td>\n",
       "      <td>CA-322</td>\n",
       "      <td>2-39-78-360</td>\n",
       "      <td>America/Los_Angeles</td>\n",
       "      <td>NaN</td>\n",
       "      <td>NaN</td>\n",
       "      <td>2 days 22:59:52</td>\n",
       "    </tr>\n",
       "    <tr>\n",
       "      <th>51110</th>\n",
       "      <td>5e7fec1af9af8b1fc4c8d3e0</td>\n",
       "      <td>2020-03-12 20:20:15+00:00</td>\n",
       "      <td>2020-03-13 00:22:12+00:00</td>\n",
       "      <td>2020-03-12 20:20:06+00:00</td>\n",
       "      <td>0.773462</td>\n",
       "      <td>2_39_78_366_2020-03-12 20:20:14.592808</td>\n",
       "      <td>2</td>\n",
       "      <td>CA-323</td>\n",
       "      <td>2-39-78-366</td>\n",
       "      <td>America/Los_Angeles</td>\n",
       "      <td>560.0</td>\n",
       "      <td>[{'WhPerMile': 400, 'kWhRequested': 32.0, 'mil...</td>\n",
       "      <td>0 days 04:01:57</td>\n",
       "    </tr>\n",
       "    <tr>\n",
       "      <th>62146</th>\n",
       "      <td>5ce1f55bf9af8b1e78b1315c</td>\n",
       "      <td>2019-05-03 18:35:38+00:00</td>\n",
       "      <td>2019-05-03 22:10:42+00:00</td>\n",
       "      <td>2019-05-03 18:34:40+00:00</td>\n",
       "      <td>5.803000</td>\n",
       "      <td>1_1_191_789_2019-05-03 18:35:38.365680</td>\n",
       "      <td>1</td>\n",
       "      <td>AG-4F52</td>\n",
       "      <td>1-1-191-789</td>\n",
       "      <td>America/Los_Angeles</td>\n",
       "      <td>483.0</td>\n",
       "      <td>[{'WhPerMile': 350, 'kWhRequested': 7.0, 'mile...</td>\n",
       "      <td>0 days 03:35:04</td>\n",
       "    </tr>\n",
       "  </tbody>\n",
       "</table>\n",
       "</div>"
      ],
      "text/plain": [
       "                             id            connectionTime  \\\n",
       "22219  5c942ca4f9af8b06b04b3bb4 2019-03-05 19:13:55+00:00   \n",
       "22253  5c957e1cf9af8b42f440af03 2019-03-06 20:26:30+00:00   \n",
       "23562  5cca3a22f9af8b49aaa4cba0 2019-04-15 20:24:13+00:00   \n",
       "23586  5ccb8ba6f9af8b4d9721df00 2019-04-16 16:11:08+00:00   \n",
       "27689  5d856f1ff9af8b0c7bdf245c 2019-09-04 16:35:04+00:00   \n",
       "27740  5d86c0a5f9af8b1022a81870 2019-09-05 18:44:57+00:00   \n",
       "29295  5dcdffbdf9af8b220a19be8b 2019-10-29 17:22:32+00:00   \n",
       "31285  5bc91740f9af8b0dc677b860 2018-05-04 19:08:37+00:00   \n",
       "31287  5bc91740f9af8b0dc677b862 2018-05-04 19:23:52+00:00   \n",
       "31403  5bc917d0f9af8b0dc677b8d6 2018-05-07 20:47:51+00:00   \n",
       "35840  5bc92c03f9af8b0dc677ca2b 2018-07-19 15:57:19+00:00   \n",
       "38884  5bc937f6f9af8b0dc677d60f 2018-08-29 05:25:08+00:00   \n",
       "39875  5bc93c1cf9af8b0dc677d9ee 2018-09-11 15:15:01+00:00   \n",
       "41263  5bc94185f9af8b0dc677df5a 2018-09-27 22:58:45+00:00   \n",
       "42102  5be2fcd7f9af8b2b0edfa0ee 2018-10-08 19:14:32+00:00   \n",
       "42342  5be2fdcaf9af8b2b0edfa1de 2018-10-11 15:58:47+00:00   \n",
       "42347  5be2fdcaf9af8b2b0edfa1e3 2018-10-11 16:14:05+00:00   \n",
       "42434  5be2fe25f9af8b2b0edfa23a 2018-10-12 15:59:07+00:00   \n",
       "42452  5be2fe25f9af8b2b0edfa24c 2018-10-12 18:40:37+00:00   \n",
       "42618  5be2febbf9af8b2b0edfa2f2 2018-10-15 15:42:14+00:00   \n",
       "43484  5be634cdf9af8b34ee236867 2018-10-26 20:27:53+00:00   \n",
       "44040  5c2e85daf9af8b13dab07564 2018-11-04 02:10:08+00:00   \n",
       "44041  5c2e85daf9af8b13dab07565 2018-11-04 03:56:17+00:00   \n",
       "44042  5c2e85daf9af8b13dab07566 2018-11-04 04:33:19+00:00   \n",
       "44199  5c2e8674f9af8b13dab07603 2018-11-07 03:40:06+00:00   \n",
       "51110  5e7fec1af9af8b1fc4c8d3e0 2020-03-12 20:20:15+00:00   \n",
       "62146  5ce1f55bf9af8b1e78b1315c 2019-05-03 18:35:38+00:00   \n",
       "\n",
       "                 disconnectTime          doneChargingTime  kWhDelivered  \\\n",
       "22219 2019-03-05 22:50:39+00:00 2019-03-05 19:12:56+00:00      0.706655   \n",
       "22253 2019-03-07 01:48:54+00:00 2019-03-06 20:25:34+00:00      1.046381   \n",
       "23562 2019-04-15 23:39:04+00:00 2019-04-15 20:23:14+00:00      0.635278   \n",
       "23586 2019-04-16 19:10:48+00:00 2019-04-16 16:10:11+00:00      0.585977   \n",
       "27689 2019-09-05 00:44:27+00:00 2019-09-04 16:34:05+00:00      1.584500   \n",
       "27740 2019-09-06 00:55:19+00:00 2019-09-05 18:43:57+00:00      1.067230   \n",
       "29295 2019-10-31 01:57:20+00:00 2019-10-29 17:21:33+00:00      6.316210   \n",
       "31285 2018-05-04 22:07:47+00:00 2018-05-04 19:07:40+00:00      0.551722   \n",
       "31287 2018-05-05 00:04:15+00:00 2018-05-04 19:22:52+00:00      0.912297   \n",
       "31403 2018-05-08 02:16:00+00:00 2018-05-07 20:47:50+00:00     14.967000   \n",
       "35840 2018-07-19 22:49:56+00:00 2018-07-19 15:56:21+00:00      1.336511   \n",
       "38884 2018-08-29 13:08:26+00:00 2018-08-29 05:24:11+00:00      1.416971   \n",
       "39875 2018-09-11 20:38:32+00:00 2018-09-11 15:14:02+00:00      1.050226   \n",
       "41263 2018-09-28 21:58:26+00:00 2018-09-27 22:57:45+00:00      4.443405   \n",
       "42102 2018-10-09 00:54:50+00:00 2018-10-08 19:13:32+00:00      1.104249   \n",
       "42342 2018-10-11 20:06:02+00:00 2018-10-11 15:57:47+00:00      0.714337   \n",
       "42347 2018-10-12 01:39:58+00:00 2018-10-11 16:13:08+00:00      1.831132   \n",
       "42434 2018-10-13 00:19:49+00:00 2018-10-12 15:58:09+00:00      1.441147   \n",
       "42452 2018-10-13 00:34:06+00:00 2018-10-12 18:39:38+00:00      1.145796   \n",
       "42618 2018-10-15 20:39:47+00:00 2018-10-15 15:41:14+00:00      0.858423   \n",
       "43484 2018-10-27 00:56:04+00:00 2018-10-26 20:26:53+00:00      0.871274   \n",
       "44040 2018-11-04 02:55:22+00:00 2018-11-04 01:40:31+00:00      0.988647   \n",
       "44041 2018-11-04 04:15:00+00:00 2018-11-04 03:14:55+00:00      0.521000   \n",
       "44042 2018-11-04 04:52:37+00:00 2018-11-04 03:52:29+00:00      2.051000   \n",
       "44199 2018-11-10 02:39:58+00:00 2018-11-07 03:39:08+00:00     12.220490   \n",
       "51110 2020-03-13 00:22:12+00:00 2020-03-12 20:20:06+00:00      0.773462   \n",
       "62146 2019-05-03 22:10:42+00:00 2019-05-03 18:34:40+00:00      5.803000   \n",
       "\n",
       "                                     sessionID  siteID  spaceID     stationID  \\\n",
       "22219   2_39_78_367_2019-03-05 19:13:55.113078       2   CA-494   2-39-78-367   \n",
       "22253   2_39_78_367_2019-03-06 20:26:30.479644       2   CA-494   2-39-78-367   \n",
       "23562   2_39_78_367_2019-04-15 20:24:13.365605       2   CA-494   2-39-78-367   \n",
       "23586   2_39_78_367_2019-04-16 16:11:07.939710       2   CA-494   2-39-78-367   \n",
       "27689   2_39_78_367_2019-09-04 16:35:04.129327       2   CA-494   2-39-78-367   \n",
       "27740   2_39_78_360_2019-09-05 18:44:57.410168       2   CA-322   2-39-78-360   \n",
       "29295   2_39_78_367_2019-10-29 17:22:32.086306       2   CA-494   2-39-78-367   \n",
       "31285   2_39_78_363_2018-05-04 19:08:36.642114       2   CA-320   2-39-78-363   \n",
       "31287   2_39_78_367_2018-05-04 19:23:51.897392       2   CA-494   2-39-78-367   \n",
       "31403  2_39_139_567_2018-05-07 20:47:50.862655       2   CA-513  2-39-139-567   \n",
       "35840   2_39_78_366_2018-07-19 15:57:19.401534       2   CA-323   2-39-78-366   \n",
       "38884   2_39_78_363_2018-08-29 05:25:08.060741       2   CA-320   2-39-78-363   \n",
       "39875   2_39_78_367_2018-09-11 15:15:01.134140       2   CA-494   2-39-78-367   \n",
       "41263   2_39_78_367_2018-09-27 22:58:45.258702       2   CA-494   2-39-78-367   \n",
       "42102   2_39_78_361_2018-10-08 19:14:31.785466       2   CA-493   2-39-78-361   \n",
       "42342   2_39_78_360_2018-10-11 15:58:47.225713       2   CA-322   2-39-78-360   \n",
       "42347   2_39_78_365_2018-10-11 16:14:04.947860       2   CA-321   2-39-78-365   \n",
       "42434   2_39_78_360_2018-10-12 15:59:07.388438       2   CA-322   2-39-78-360   \n",
       "42452   2_39_78_365_2018-10-12 18:40:37.245744       2   CA-321   2-39-78-365   \n",
       "42618   2_39_78_360_2018-10-15 15:42:13.677037       2   CA-322   2-39-78-360   \n",
       "43484   2_39_78_365_2018-10-26 20:27:53.015524       2   CA-321   2-39-78-365   \n",
       "44040   2_39_78_364_2018-11-04 02:10:08.418061       2   CA-495   2-39-78-364   \n",
       "44041   2_39_129_17_2018-11-04 03:56:16.817298       2   CA-307   2-39-129-17   \n",
       "44042   2_39_139_28_2018-11-04 04:33:18.910858       2   CA-303   2-39-139-28   \n",
       "44199   2_39_78_360_2018-11-07 03:40:06.365714       2   CA-322   2-39-78-360   \n",
       "51110   2_39_78_366_2020-03-12 20:20:14.592808       2   CA-323   2-39-78-366   \n",
       "62146   1_1_191_789_2019-05-03 18:35:38.365680       1  AG-4F52   1-1-191-789   \n",
       "\n",
       "                  timezone  userID  \\\n",
       "22219  America/Los_Angeles     NaN   \n",
       "22253  America/Los_Angeles     NaN   \n",
       "23562  America/Los_Angeles  1154.0   \n",
       "23586  America/Los_Angeles  1154.0   \n",
       "27689  America/Los_Angeles     NaN   \n",
       "27740  America/Los_Angeles     NaN   \n",
       "29295  America/Los_Angeles  1470.0   \n",
       "31285  America/Los_Angeles     NaN   \n",
       "31287  America/Los_Angeles     NaN   \n",
       "31403  America/Los_Angeles     NaN   \n",
       "35840  America/Los_Angeles     NaN   \n",
       "38884  America/Los_Angeles     NaN   \n",
       "39875  America/Los_Angeles     NaN   \n",
       "41263  America/Los_Angeles     NaN   \n",
       "42102  America/Los_Angeles     NaN   \n",
       "42342  America/Los_Angeles     NaN   \n",
       "42347  America/Los_Angeles     NaN   \n",
       "42434  America/Los_Angeles     NaN   \n",
       "42452  America/Los_Angeles     NaN   \n",
       "42618  America/Los_Angeles     NaN   \n",
       "43484  America/Los_Angeles     NaN   \n",
       "44040  America/Los_Angeles     NaN   \n",
       "44041  America/Los_Angeles     NaN   \n",
       "44042  America/Los_Angeles   516.0   \n",
       "44199  America/Los_Angeles     NaN   \n",
       "51110  America/Los_Angeles   560.0   \n",
       "62146  America/Los_Angeles   483.0   \n",
       "\n",
       "                                              userInputs totalConnectionTime  \n",
       "22219                                                NaN     0 days 03:36:44  \n",
       "22253                                                NaN     0 days 05:22:24  \n",
       "23562  [{'WhPerMile': 308, 'kWhRequested': 9.24, 'mil...     0 days 03:14:51  \n",
       "23586  [{'WhPerMile': 308, 'kWhRequested': 6.16, 'mil...     0 days 02:59:40  \n",
       "27689                                                NaN     0 days 08:09:23  \n",
       "27740                                                NaN     0 days 06:10:22  \n",
       "29295  [{'WhPerMile': 292, 'kWhRequested': 14.6, 'mil...     1 days 08:34:48  \n",
       "31285                                                NaN     0 days 02:59:10  \n",
       "31287                                                NaN     0 days 04:40:23  \n",
       "31403                                                NaN     0 days 05:28:09  \n",
       "35840                                                NaN     0 days 06:52:37  \n",
       "38884                                                NaN     0 days 07:43:18  \n",
       "39875                                                NaN     0 days 05:23:31  \n",
       "41263                                                NaN     0 days 22:59:41  \n",
       "42102                                                NaN     0 days 05:40:18  \n",
       "42342                                                NaN     0 days 04:07:15  \n",
       "42347                                                NaN     0 days 09:25:53  \n",
       "42434                                                NaN     0 days 08:20:42  \n",
       "42452                                                NaN     0 days 05:53:29  \n",
       "42618                                                NaN     0 days 04:57:33  \n",
       "43484                                                NaN     0 days 04:28:11  \n",
       "44040                                                NaN     0 days 00:45:14  \n",
       "44041                                                NaN     0 days 00:18:43  \n",
       "44042  [{'WhPerMile': 250, 'kWhRequested': 12.5, 'mil...     0 days 00:19:18  \n",
       "44199                                                NaN     2 days 22:59:52  \n",
       "51110  [{'WhPerMile': 400, 'kWhRequested': 32.0, 'mil...     0 days 04:01:57  \n",
       "62146  [{'WhPerMile': 350, 'kWhRequested': 7.0, 'mile...     0 days 03:35:04  "
      ]
     },
     "execution_count": 12,
     "metadata": {},
     "output_type": "execute_result"
    }
   ],
   "source": [
    "print('In these', Charging_set[Charging_set['doneChargingTime'] < Charging_set['connectionTime']].shape[0], 'columns the doneChargingTime is earlier than the connectionTime.')\n",
    "Charging_set[Charging_set['doneChargingTime'] < Charging_set['connectionTime']]\n",
    "# Charging_set[(Charging_set['doneChargingTime'] < Charging_set['connectionTime']) & Charging_set['userInputs'].isnull()] #-> not because of the userInput"
   ]
  },
  {
   "cell_type": "markdown",
   "id": "3b04a77c-c2ac-495e-bd3d-cfdfe73d4058",
   "metadata": {},
   "source": [
    "Since doneChargingTime cannot be earier than the connectionTime, we delete these values. Later, these values will be estimated."
   ]
  },
  {
   "cell_type": "code",
   "execution_count": 13,
   "id": "df1a070f-f993-41d1-a817-62decf6196a9",
   "metadata": {},
   "outputs": [],
   "source": [
    "Charging_set.loc[Charging_set['doneChargingTime'] < Charging_set['connectionTime'], 'doneChargingTime'] = np.nan\n",
    "# print('In these', Charging_set[Charging_set['doneChargingTime'] < Charging_set['connectionTime']].shape[0], 'columns the doneChargingTime is earlier than the connectionTime.')"
   ]
  },
  {
   "cell_type": "markdown",
   "id": "59365749-9e48-4591-b055-717298c5c7c2",
   "metadata": {},
   "source": [
    "We estimate the missing values by adding the average charging time per kWh * the kWh that were delivered to the connectionTime."
   ]
  },
  {
   "cell_type": "code",
   "execution_count": 14,
   "id": "f32a1e85-eb36-4e61-a791-d84680d9cc33",
   "metadata": {},
   "outputs": [
    {
     "name": "stdout",
     "output_type": "stream",
     "text": [
      "Occuring data types:  [<class 'pandas._libs.tslibs.timestamps.Timestamp'>]\n",
      "Min. value:  2018-04-25 13:21:10+00:00 \n",
      "Max. value:  2021-09-15 00:49:17+00:00\n",
      "The column does not contain missing values.\n"
     ]
    }
   ],
   "source": [
    "TotalChargingTime = Charging_set['doneChargingTime'] - Charging_set['connectionTime']\n",
    "AverageTimePerKwh = (TotalChargingTime/Charging_set['kWhDelivered']).mean()\n",
    "# print(pd.to_datetime('2019-03-05 19:13:55+00:00')+AverageTimePerKwh*0.706655)\n",
    "Charging_set['doneChargingTime'] = Charging_set['doneChargingTime'].fillna(value=Charging_set['connectionTime']+AverageTimePerKwh*Charging_set['kWhDelivered']).dt.round('1s')\n",
    "dataTypes('doneChargingTime', Charging_set)\n",
    "valueRange('doneChargingTime', Charging_set)\n",
    "missingValues('doneChargingTime', Charging_set)"
   ]
  },
  {
   "cell_type": "markdown",
   "id": "66aeed3b-c04b-4708-bb7e-eb8fcbb60613",
   "metadata": {},
   "source": [
    "### new Column: totalChargingTime - total time the EV was charging"
   ]
  },
  {
   "cell_type": "code",
   "execution_count": 15,
   "id": "ee05acd7-3c52-4404-ae93-a12551c81e0c",
   "metadata": {},
   "outputs": [
    {
     "name": "stdout",
     "output_type": "stream",
     "text": [
      "Occuring data types:  [<class 'pandas._libs.tslibs.timedeltas.Timedelta'>]\n",
      "Min. value:  0 days 00:00:00 \n",
      "Max. value:  8 days 08:00:57\n",
      "The column does not contain missing values.\n"
     ]
    }
   ],
   "source": [
    "Charging_set['totalChargingTime'] = Charging_set['doneChargingTime'] - Charging_set['connectionTime']\n",
    "dataTypes('totalChargingTime', Charging_set)\n",
    "valueRange('totalChargingTime', Charging_set)\n",
    "missingValues('totalChargingTime', Charging_set)"
   ]
  },
  {
   "cell_type": "markdown",
   "id": "18131ff5-662b-4f28-97ba-971674f39316",
   "metadata": {},
   "source": [
    "### Column: kWhDelivered - amount of energy delivered during the session"
   ]
  },
  {
   "cell_type": "code",
   "execution_count": 16,
   "id": "00e058f9-df1c-4a9d-879b-31c75c91e98d",
   "metadata": {},
   "outputs": [
    {
     "name": "stdout",
     "output_type": "stream",
     "text": [
      "Occuring data types:  [<class 'float'>]\n",
      "Min. value:  0.501 \n",
      "Max. value:  108.79724166666666\n",
      "The column does not contain missing values.\n"
     ]
    }
   ],
   "source": [
    "dataTypes('kWhDelivered', Charging_set)\n",
    "valueRange('kWhDelivered', Charging_set)\n",
    "missingValues('kWhDelivered', Charging_set)"
   ]
  },
  {
   "cell_type": "markdown",
   "id": "1a411815-0e11-4711-950d-5e9f7a6b3cbf",
   "metadata": {},
   "source": [
    "### Column: sessionID - unique identifier for the session"
   ]
  },
  {
   "cell_type": "code",
   "execution_count": 17,
   "id": "58fab568-ab0f-4e55-9f19-14799fdecda7",
   "metadata": {},
   "outputs": [
    {
     "name": "stdout",
     "output_type": "stream",
     "text": [
      "Occuring data types:  [<class 'str'>]\n",
      "Min. value:  1_1_178_817_2018-09-13 15:24:32.185314 \n",
      "Max. value:  2_39_95_444_2021-07-14 16:54:32.800222\n",
      "The column does not contain missing values.\n"
     ]
    }
   ],
   "source": [
    "dataTypes('sessionID', Charging_set)\n",
    "valueRange('sessionID', Charging_set)\n",
    "missingValues('sessionID', Charging_set)"
   ]
  },
  {
   "cell_type": "markdown",
   "id": "c7ee9f4c-311e-42be-8e11-dbd577caaae1",
   "metadata": {},
   "source": [
    "Where ist the difference to the column id?"
   ]
  },
  {
   "cell_type": "markdown",
   "id": "4cdeaacb-4d98-491a-973b-8a150410a2c3",
   "metadata": {},
   "source": [
    "### Column: siteID - unique identifier for the site"
   ]
  },
  {
   "cell_type": "code",
   "execution_count": 18,
   "id": "e618e552-5214-474d-9308-8a572a11cc32",
   "metadata": {},
   "outputs": [
    {
     "name": "stdout",
     "output_type": "stream",
     "text": [
      "Occuring data types:  [<class 'int'>]\n",
      "Min. value:  1 \n",
      "Max. value:  2\n",
      "The column does not contain missing values.\n"
     ]
    }
   ],
   "source": [
    "dataTypes('siteID', Charging_set)\n",
    "valueRange('siteID', Charging_set)\n",
    "missingValues('siteID', Charging_set)"
   ]
  },
  {
   "cell_type": "markdown",
   "id": "607cf2d7-eb5a-486e-8f79-baa8f9966c75",
   "metadata": {},
   "source": [
    "### Column: spaceID - unique identifier for the parking space"
   ]
  },
  {
   "cell_type": "code",
   "execution_count": 19,
   "id": "c293aa11-e75c-4687-8ce8-e38f523277aa",
   "metadata": {},
   "outputs": [
    {
     "name": "stdout",
     "output_type": "stream",
     "text": [
      "Occuring data types:  [<class 'str'>]\n",
      "Min. value:  11900388 \n",
      "Max. value:  CA-513\n",
      "The column does not contain missing values.\n"
     ]
    }
   ],
   "source": [
    "dataTypes('spaceID', Charging_set)\n",
    "valueRange('spaceID', Charging_set)\n",
    "missingValues('spaceID', Charging_set)"
   ]
  },
  {
   "cell_type": "markdown",
   "id": "76a1e0d2-2ab0-4938-a79f-e89e5f8ea92e",
   "metadata": {},
   "source": [
    "You can see that the spaceIDs are structured differently (CA..., AG..., numbers)"
   ]
  },
  {
   "cell_type": "markdown",
   "id": "511f1c9a-1417-4846-8bb1-0721262a4997",
   "metadata": {},
   "source": [
    "### Column: stationID - unique identifier for the EVSE"
   ]
  },
  {
   "cell_type": "code",
   "execution_count": 20,
   "id": "44206837-3b90-4e60-bee4-e7af402d0f20",
   "metadata": {},
   "outputs": [
    {
     "name": "stdout",
     "output_type": "stream",
     "text": [
      "Occuring data types:  [<class 'str'>]\n",
      "Min. value:  1-1-178-817 \n",
      "Max. value:  2-39-95-444\n",
      "The column does not contain missing values.\n"
     ]
    }
   ],
   "source": [
    "dataTypes('stationID', Charging_set)\n",
    "valueRange('stationID', Charging_set)\n",
    "missingValues('stationID', Charging_set)"
   ]
  },
  {
   "cell_type": "markdown",
   "id": "7f18154b-6873-4232-bd69-0655b05bebd1",
   "metadata": {},
   "source": [
    "### deleted Column: timezone - timezone of the site, based on pytz format"
   ]
  },
  {
   "cell_type": "code",
   "execution_count": 21,
   "id": "f4f9bc3a-1dda-4e4f-9df0-32bc0ead7f6a",
   "metadata": {},
   "outputs": [
    {
     "name": "stdout",
     "output_type": "stream",
     "text": [
      "Occuring data types:  [<class 'str'>]\n",
      "Min. value:  America/Los_Angeles \n",
      "Max. value:  America/Los_Angeles\n",
      "The column does not contain missing values.\n",
      "Occuring values:  ['America/Los_Angeles']\n"
     ]
    }
   ],
   "source": [
    "dataTypes('timezone', Charging_set)\n",
    "valueRange('timezone', Charging_set)\n",
    "missingValues('timezone', Charging_set)\n",
    "print( 'Occuring values: ', Charging_set['timezone'].unique())"
   ]
  },
  {
   "cell_type": "markdown",
   "id": "cff9c9fd-b604-42c9-9b39-459ef3547e63",
   "metadata": {},
   "source": [
    "The column 'timezone' only contains identical values. Therefore, it can be deleted."
   ]
  },
  {
   "cell_type": "code",
   "execution_count": 22,
   "id": "bd896003-9337-4a87-ab08-b0b191b219cb",
   "metadata": {},
   "outputs": [],
   "source": [
    "Charging_set = Charging_set.drop(['timezone'], axis=1)"
   ]
  },
  {
   "cell_type": "markdown",
   "id": "0fb93329-1946-490a-9140-4ca17269cf02",
   "metadata": {},
   "source": [
    "### new Column: userInformation - indication whether user information is given"
   ]
  },
  {
   "cell_type": "code",
   "execution_count": 23,
   "id": "1cb11043-d143-4008-8886-01c441d35287",
   "metadata": {
    "scrolled": true
   },
   "outputs": [],
   "source": [
    "Charging_set['userInformation'] = Charging_set['userID'].notnull() | Charging_set['userInputs'].notnull()"
   ]
  },
  {
   "cell_type": "markdown",
   "id": "59a4ce6d-5e02-4d37-8b87-0b58922bbec2",
   "metadata": {},
   "source": [
    "The new column indicates whether userID or userInputs is available. Dataset with user information: Charging_set[Charging_set['userInformation']]"
   ]
  },
  {
   "cell_type": "markdown",
   "id": "7f89d232-b8f9-4ca1-9415-123a00ad9813",
   "metadata": {},
   "source": [
    "### Column: userID - unique identifier of the user, if provided"
   ]
  },
  {
   "cell_type": "code",
   "execution_count": 24,
   "id": "26d30880-5a70-4d45-86f5-ee67f379f8ff",
   "metadata": {},
   "outputs": [
    {
     "name": "stdout",
     "output_type": "stream",
     "text": [
      "Occuring data types:  [<class 'float'>]\n",
      "Min. value:  1.0 \n",
      "Max. value:  19923.0\n",
      "The column contains 17263 missing values. This corresponds to 25.98 %.\n",
      "All missing values are NaN values.\n"
     ]
    }
   ],
   "source": [
    "dataTypes('userID', Charging_set)\n",
    "valueRange('userID', Charging_set)\n",
    "missingValues('userID', Charging_set)\n",
    "if Charging_set['userID'].isnull().sum() == Charging_set['userID'].isna().sum() :\n",
    "    print('All missing values are NaN values.')"
   ]
  },
  {
   "cell_type": "markdown",
   "id": "267e96c8-812e-4553-8d7a-89475035ec01",
   "metadata": {},
   "source": [
    "### Column: userInputs - inputs provided by the user"
   ]
  },
  {
   "cell_type": "code",
   "execution_count": 25,
   "id": "2047c911-a8cb-4878-a149-ffe1c5da73db",
   "metadata": {},
   "outputs": [
    {
     "name": "stdout",
     "output_type": "stream",
     "text": [
      "Occuring data types:  [<class 'str'> <class 'float'>]\n",
      "The column contains 17263 missing values. This corresponds to 25.98 %.\n",
      "All missing values are NaN values.\n"
     ]
    },
    {
     "data": {
      "text/plain": [
       "\"[{'WhPerMile': 400, 'kWhRequested': 8.0, 'milesRequested': 20, 'minutesAvailable': 65, 'modifiedAt': 'Thu, 02 Jan 2020 14:00:03 GMT', 'paymentRequired': True, 'requestedDeparture': 'Thu, 02 Jan 2020 15:04:58 GMT', 'userID': 1117}, {'WhPerMile': 400, 'kWhRequested': 8.0, 'milesRequested': 20, 'minutesAvailable': 65, 'modifiedAt': 'Thu, 02 Jan 2020 14:00:19 GMT', 'paymentRequired': True, 'requestedDeparture': 'Thu, 02 Jan 2020 15:04:58 GMT', 'userID': 1117}]\""
      ]
     },
     "execution_count": 25,
     "metadata": {},
     "output_type": "execute_result"
    }
   ],
   "source": [
    "dataTypes('userInputs', Charging_set)\n",
    "missingValues('userInputs', Charging_set)\n",
    "if Charging_set['userInputs'].isnull().sum() == Charging_set['userInputs'].isna().sum() :\n",
    "    print('All missing values are NaN values.')\n",
    "Charging_set.at[3, 'userInputs']"
   ]
  },
  {
   "cell_type": "markdown",
   "id": "b41f6a51-d3b8-476c-8a44-01693404c8df",
   "metadata": {},
   "source": [
    "Since the values of a string cannot be processed well, we convert them into lists containing Pandas Series."
   ]
  },
  {
   "cell_type": "code",
   "execution_count": 26,
   "id": "a35dc657-caf2-41b5-a84b-850996bf3c57",
   "metadata": {},
   "outputs": [
    {
     "name": "stdout",
     "output_type": "stream",
     "text": [
      "[WhPerMile                                       400\n",
      "kWhRequested                                    8.0\n",
      "milesRequested                                   20\n",
      "minutesAvailable                                 65\n",
      "modifiedAt            Thu, 02 Jan 2020 14:00:03 GMT\n",
      "paymentRequired                                True\n",
      "requestedDeparture    Thu, 02 Jan 2020 15:04:58 GMT\n",
      "userID                                         1117\n",
      "dtype: object, WhPerMile                                       400\n",
      "kWhRequested                                    8.0\n",
      "milesRequested                                   20\n",
      "minutesAvailable                                 65\n",
      "modifiedAt            Thu, 02 Jan 2020 14:00:19 GMT\n",
      "paymentRequired                                True\n",
      "requestedDeparture    Thu, 02 Jan 2020 15:04:58 GMT\n",
      "userID                                         1117\n",
      "dtype: object]\n"
     ]
    }
   ],
   "source": [
    "def toPandasSeries (input):\n",
    "    if isinstance(input, str) :\n",
    "        input = ast.literal_eval(input)\n",
    "        result = []\n",
    "        for entry in input :\n",
    "            result.append(pd.Series(entry))\n",
    "        return result\n",
    "    else :\n",
    "        return np.nan\n",
    "\n",
    "Charging_set['userInputs'] = Charging_set['userInputs'].apply(toPandasSeries)\n",
    "print(Charging_set.at[3, 'userInputs'])"
   ]
  },
  {
   "cell_type": "markdown",
   "id": "e6b81f32-3cac-47c8-8827-723ab66ab8c4",
   "metadata": {},
   "source": [
    "### Dataset description"
   ]
  },
  {
   "cell_type": "code",
   "execution_count": 27,
   "id": "4500ed71-9203-4dfa-8d4b-9752b695f540",
   "metadata": {
    "scrolled": true
   },
   "outputs": [
    {
     "name": "stdout",
     "output_type": "stream",
     "text": [
      "<class 'pandas.core.frame.DataFrame'>\n",
      "RangeIndex: 66450 entries, 0 to 66449\n",
      "Data columns (total 14 columns):\n",
      " #   Column               Non-Null Count  Dtype              \n",
      "---  ------               --------------  -----              \n",
      " 0   id                   66450 non-null  object             \n",
      " 1   connectionTime       66450 non-null  datetime64[ns, UTC]\n",
      " 2   disconnectTime       66450 non-null  datetime64[ns, UTC]\n",
      " 3   doneChargingTime     66450 non-null  datetime64[ns, UTC]\n",
      " 4   kWhDelivered         66450 non-null  float64            \n",
      " 5   sessionID            66450 non-null  object             \n",
      " 6   siteID               66450 non-null  int64              \n",
      " 7   spaceID              66450 non-null  object             \n",
      " 8   stationID            66450 non-null  object             \n",
      " 9   userID               49187 non-null  float64            \n",
      " 10  userInputs           49187 non-null  object             \n",
      " 11  totalConnectionTime  66450 non-null  timedelta64[ns]    \n",
      " 12  totalChargingTime    66450 non-null  timedelta64[ns]    \n",
      " 13  userInformation      66450 non-null  bool               \n",
      "dtypes: bool(1), datetime64[ns, UTC](3), float64(2), int64(1), object(5), timedelta64[ns](2)\n",
      "memory usage: 6.7+ MB\n"
     ]
    }
   ],
   "source": [
    "Charging_set.info()\n",
    "Charging_set\n",
    "Charging_set.to_csv('charging_sessions_preprocessed.csv', index=False)"
   ]
  },
  {
   "cell_type": "markdown",
   "id": "622ce60d-d7b9-4dea-9ede-f5d25df628e1",
   "metadata": {},
   "source": [
    "## Weather Burbank Airport Dataset"
   ]
  },
  {
   "cell_type": "markdown",
   "id": "ade3f1db-763c-478a-b325-8125865d57ea",
   "metadata": {},
   "source": [
    "Read in the data as a dataframe. Interpret the date columns as dates."
   ]
  },
  {
   "cell_type": "code",
   "execution_count": 28,
   "id": "1a314334-0512-42f2-90d8-b9cdf191da68",
   "metadata": {},
   "outputs": [
    {
     "name": "stdout",
     "output_type": "stream",
     "text": [
      "Columns:  Index(['city', 'timestamp', 'temperature', 'cloud_cover',\n",
      "       'cloud_cover_description', 'pressure', 'windspeed', 'precipitation',\n",
      "       'felt_temperature'],\n",
      "      dtype='object')\n",
      "Number of rows:  29244\n"
     ]
    }
   ],
   "source": [
    "Weather_set = pd.read_csv('weather_burbank_airport.csv', parse_dates=['timestamp'])\n",
    "print('Columns: ', Weather_set.columns)\n",
    "print('Number of rows: ', Weather_set.shape[0])"
   ]
  },
  {
   "cell_type": "markdown",
   "id": "8d7a3e08-a4a3-4288-84a2-600df674239d",
   "metadata": {},
   "source": [
    "### deleted Column: city"
   ]
  },
  {
   "cell_type": "code",
   "execution_count": 29,
   "id": "6a9961d9-4264-4feb-8d82-17809aee33a8",
   "metadata": {},
   "outputs": [
    {
     "name": "stdout",
     "output_type": "stream",
     "text": [
      "Occuring data types:  [<class 'str'>]\n",
      "Min. value:  Burbank \n",
      "Max. value:  Burbank\n",
      "The column does not contain missing values.\n",
      "Occuring values:  ['Burbank']\n"
     ]
    }
   ],
   "source": [
    "dataTypes('city', Weather_set)\n",
    "valueRange('city', Weather_set)\n",
    "missingValues('city', Weather_set)\n",
    "print( 'Occuring values: ', Weather_set['city'].unique())"
   ]
  },
  {
   "cell_type": "markdown",
   "id": "b95842ab-93c1-46ee-a74a-a0f08bfeb4d1",
   "metadata": {},
   "source": [
    "The column 'city' only contains identical values. Therefore, it can be deleted."
   ]
  },
  {
   "cell_type": "code",
   "execution_count": 30,
   "id": "17db8dd8-abb0-4c24-9a5d-65b46228ca6a",
   "metadata": {},
   "outputs": [],
   "source": [
    "Weather_set = Weather_set.drop(['city'], axis=1)"
   ]
  },
  {
   "cell_type": "markdown",
   "id": "6aa6685a-03ca-40a9-b962-21da61cf7dda",
   "metadata": {},
   "source": [
    "### Column: timestamp"
   ]
  },
  {
   "cell_type": "code",
   "execution_count": 31,
   "id": "4a10cd7d-8050-4d31-8cda-df7f12dd0754",
   "metadata": {},
   "outputs": [
    {
     "name": "stdout",
     "output_type": "stream",
     "text": [
      "Occuring data types:  [<class 'pandas._libs.tslibs.timestamps.Timestamp'>]\n",
      "Min. value:  2018-01-01 08:53:00 \n",
      "Max. value:  2021-01-01 07:53:00\n",
      "The column does not contain missing values.\n",
      "The rows are ordered by increasing time.\n",
      "Number of rows in the Charging Sessions Dataset with values after 2021-01-01 07:53:00:  8910\n",
      "Occuring time intervals:  <TimedeltaArray>\n",
      "[              NaT, '0 days 01:00:00', '0 days 00:43:00', '0 days 00:05:00',\n",
      " '0 days 00:12:00', '0 days 00:37:00', '0 days 00:23:00', '0 days 00:31:00',\n",
      " '0 days 00:17:00', '0 days 00:04:00', '0 days 00:11:00', '0 days 00:28:00',\n",
      " '0 days 00:41:00', '0 days 00:19:00', '0 days 00:39:00', '0 days 00:21:00',\n",
      " '0 days 00:38:00', '0 days 00:20:00', '0 days 00:02:00', '0 days 00:08:00',\n",
      " '0 days 00:15:00', '0 days 00:24:00', '0 days 00:14:00', '0 days 00:46:00',\n",
      " '0 days 00:36:00', '0 days 00:10:00', '0 days 00:09:00', '0 days 00:51:00',\n",
      " '0 days 00:48:00', '0 days 00:03:00', '0 days 00:30:00', '0 days 00:16:00',\n",
      " '0 days 00:42:00', '0 days 00:49:00', '0 days 00:29:00', '0 days 00:32:00',\n",
      " '0 days 00:44:00', '0 days 00:07:00', '0 days 00:34:00', '0 days 00:13:00',\n",
      " '0 days 00:26:00', '0 days 00:47:00', '0 days 00:58:00', '0 days 00:50:00',\n",
      " '0 days 00:45:00', '0 days 00:40:00', '0 days 00:52:00', '0 days 00:55:00',\n",
      " '0 days 00:53:00', '0 days 00:57:00', '0 days 00:54:00', '0 days 00:06:00',\n",
      " '0 days 00:35:00', '0 days 00:25:00', '0 days 00:18:00', '0 days 00:33:00',\n",
      " '0 days 00:27:00', '0 days 00:22:00', '0 days 00:01:00', '0 days 00:59:00',\n",
      " '0 days 00:56:00', '0 days 03:00:00', '0 days 04:00:00', '0 days 02:00:00',\n",
      " '0 days 06:00:00', '0 days 17:00:00', '0 days 01:15:00', '0 days 01:03:00',\n",
      " '1 days 14:00:00', '0 days 07:30:00']\n",
      "Length: 70, dtype: timedelta64[ns]\n"
     ]
    }
   ],
   "source": [
    "dataTypes('timestamp', Weather_set)\n",
    "valueRange('timestamp', Weather_set)\n",
    "missingValues('timestamp', Weather_set)\n",
    "if Weather_set['timestamp'].is_monotonic_increasing :\n",
    "    print('The rows are ordered by increasing time.')\n",
    "print('Number of rows in the Charging Sessions Dataset with values after 2021-01-01 07:53:00: ', len(Charging_set[Charging_set['connectionTime'] > '2021-01-01 07:53:00']))\n",
    "print('Occuring time intervals: ', Weather_set['timestamp'].diff().unique())"
   ]
  },
  {
   "attachments": {},
   "cell_type": "markdown",
   "id": "81c5ef31-a438-478b-9454-6c15c8a695b8",
   "metadata": {},
   "source": [
    "The Charging Session Dataset contains data between 2018-04-25 11:08:04+00:00 and 2021-09-14 14:46:28+00:00.\n",
    "\n",
    "The Weather Burbank Airport Dataset contains data between 2018-01-01 08:53:00 and 2021-01-01 07:53:00.\n",
    "\n",
    "Problem: this is not the same time span!"
   ]
  },
  {
   "cell_type": "markdown",
   "id": "199227c7-c276-498e-8fd5-1ca42cc4741c",
   "metadata": {},
   "source": [
    "### Column: temperature"
   ]
  },
  {
   "cell_type": "code",
   "execution_count": 32,
   "id": "fa1c6c15-eb2c-426f-9eb6-247b19d21557",
   "metadata": {},
   "outputs": [
    {
     "name": "stdout",
     "output_type": "stream",
     "text": [
      "Occuring data types:  [<class 'float'>]\n",
      "Min. value:  2.0 \n",
      "Max. value:  46.0\n",
      "The column contains 25 missing values. This corresponds to 0.04 %.\n"
     ]
    }
   ],
   "source": [
    "dataTypes('temperature', Weather_set)\n",
    "valueRange('temperature', Weather_set)\n",
    "missingValues('temperature', Weather_set)"
   ]
  },
  {
   "cell_type": "markdown",
   "id": "bbfb210e-1f4b-465e-a412-2ec68bc08da6",
   "metadata": {},
   "source": [
    "In order not to lose rows with missing values, we replace these. As the data ist sorted by time and therefore the true values are close to the surrounding values, we perform a forward fill for the missing values."
   ]
  },
  {
   "cell_type": "code",
   "execution_count": 33,
   "id": "8255d6e6-1bf2-40f6-a235-c0463c60c7e8",
   "metadata": {},
   "outputs": [
    {
     "name": "stdout",
     "output_type": "stream",
     "text": [
      "The column does not contain missing values.\n"
     ]
    }
   ],
   "source": [
    "Weather_set['temperature'] = Weather_set['temperature'].ffill()\n",
    "missingValues('temperature', Weather_set)"
   ]
  },
  {
   "cell_type": "markdown",
   "id": "7904f859-445e-4b08-98de-c52f91f20fae",
   "metadata": {},
   "source": [
    "### Column: cloud_cover"
   ]
  },
  {
   "cell_type": "code",
   "execution_count": 34,
   "id": "e8c9e343-5c9a-4e62-b8e4-4f93207343e4",
   "metadata": {},
   "outputs": [
    {
     "name": "stdout",
     "output_type": "stream",
     "text": [
      "Occuring data types:  [<class 'float'>]\n",
      "Min. value:  4.0 \n",
      "Max. value:  47.0\n",
      "The column contains 20 missing values. This corresponds to 0.03 %.\n"
     ]
    }
   ],
   "source": [
    "dataTypes('cloud_cover', Weather_set)\n",
    "valueRange('cloud_cover', Weather_set)\n",
    "missingValues('cloud_cover', Weather_set)"
   ]
  },
  {
   "cell_type": "markdown",
   "id": "a26e9f19-46b2-4037-b122-e483d65c02ef",
   "metadata": {},
   "source": [
    "In order not to lose rows with missing values, we replace these. As the data ist sorted by time and therefore the true values are close to the surrounding values, we perform a forward fill for the missing values."
   ]
  },
  {
   "cell_type": "code",
   "execution_count": 35,
   "id": "d5fb6e92-5bb1-4cad-b5cc-66f7fc293e95",
   "metadata": {},
   "outputs": [
    {
     "name": "stdout",
     "output_type": "stream",
     "text": [
      "The column does not contain missing values.\n"
     ]
    }
   ],
   "source": [
    "Weather_set['cloud_cover'] = Weather_set['cloud_cover'].ffill()\n",
    "missingValues('cloud_cover', Weather_set)"
   ]
  },
  {
   "cell_type": "markdown",
   "id": "861e2c8f-d8c5-47fe-b90e-a42cb4a486b2",
   "metadata": {},
   "source": [
    "### Column: cloud_cover_description"
   ]
  },
  {
   "cell_type": "code",
   "execution_count": 36,
   "id": "09053086-20aa-4010-b433-aa713685674e",
   "metadata": {},
   "outputs": [
    {
     "name": "stdout",
     "output_type": "stream",
     "text": [
      "Occuring data types:  [<class 'str'> <class 'float'>]\n",
      "The column contains 20 missing values. This corresponds to 0.03 %.\n"
     ]
    }
   ],
   "source": [
    "dataTypes('cloud_cover_description', Weather_set)\n",
    "missingValues('cloud_cover_description', Weather_set)"
   ]
  },
  {
   "cell_type": "markdown",
   "id": "426b1184-28d6-4827-a448-9b3f5e653e66",
   "metadata": {},
   "source": [
    "In order not to lose rows with missing values, we replace these. As the data ist sorted by time and therefore the true values are close to the surrounding values, we perform a forward fill for the missing values."
   ]
  },
  {
   "cell_type": "code",
   "execution_count": 37,
   "id": "3ad57dcd-5975-4fc0-b19a-0d1322c2b85a",
   "metadata": {},
   "outputs": [
    {
     "name": "stdout",
     "output_type": "stream",
     "text": [
      "The column does not contain missing values.\n"
     ]
    }
   ],
   "source": [
    "Weather_set['cloud_cover_description'] = Weather_set['cloud_cover_description'].ffill()\n",
    "missingValues('cloud_cover_description', Weather_set)"
   ]
  },
  {
   "cell_type": "code",
   "execution_count": 38,
   "id": "aef28262-9b23-4818-8e0e-d7425afb7a18",
   "metadata": {},
   "outputs": [
    {
     "data": {
      "text/plain": [
       "cloud_cover_description\n",
       "Fair                       17140\n",
       "Cloudy                      4937\n",
       "Partly Cloudy               2668\n",
       "Mostly Cloudy               1831\n",
       "Light Rain                   896\n",
       "Haze                         579\n",
       "Smoke                        329\n",
       "Fog                          325\n",
       "Rain                         247\n",
       "Heavy Rain                   120\n",
       "Fair / Windy                  74\n",
       "T-Storm                       18\n",
       "Thunder in the Vicinity       17\n",
       "Partly Cloudy / Windy         14\n",
       "Light Rain / Windy            10\n",
       "Mostly Cloudy / Windy         10\n",
       "Cloudy / Windy                 9\n",
       "Heavy Rain / Windy             7\n",
       "Blowing Dust                   5\n",
       "Heavy T-Storm                  4\n",
       "Rain / Windy                   2\n",
       "Thunder                        1\n",
       "Light Rain with Thunder        1\n",
       "Name: count, dtype: int64"
      ]
     },
     "execution_count": 38,
     "metadata": {},
     "output_type": "execute_result"
    }
   ],
   "source": [
    "Weather_set[\"cloud_cover_description\"].value_counts()"
   ]
  },
  {
   "cell_type": "markdown",
   "id": "7d515d0d-d33a-4115-9c2d-c36375856a27",
   "metadata": {},
   "source": [
    "It could be useful to group the classes."
   ]
  },
  {
   "cell_type": "markdown",
   "id": "9745a187-6f57-42cc-ac6f-afa973f45bf6",
   "metadata": {},
   "source": [
    "### Column: pressure"
   ]
  },
  {
   "cell_type": "code",
   "execution_count": 39,
   "id": "33f71ae5-0976-41f2-a694-1a3f34e2791d",
   "metadata": {},
   "outputs": [
    {
     "name": "stdout",
     "output_type": "stream",
     "text": [
      "Occuring data types:  [<class 'float'>]\n",
      "Min. value:  971.0 \n",
      "Max. value:  999.65\n",
      "The column contains 8 missing values. This corresponds to 0.01 %.\n"
     ]
    }
   ],
   "source": [
    "dataTypes('pressure', Weather_set)\n",
    "valueRange('pressure', Weather_set)\n",
    "missingValues('pressure', Weather_set)"
   ]
  },
  {
   "cell_type": "markdown",
   "id": "cf3591da-5ea9-4789-a027-beab72dea509",
   "metadata": {},
   "source": [
    "In order not to lose rows with missing values, we replace these. As the data ist sorted by time and therefore the true values are close to the surrounding values, we perform a forward fill for the missing values."
   ]
  },
  {
   "cell_type": "code",
   "execution_count": 40,
   "id": "665c811f-01de-49fd-b974-07827b087766",
   "metadata": {},
   "outputs": [
    {
     "name": "stdout",
     "output_type": "stream",
     "text": [
      "The column does not contain missing values.\n"
     ]
    }
   ],
   "source": [
    "Weather_set['pressure'] = Weather_set['pressure'].ffill()\n",
    "missingValues('pressure', Weather_set)"
   ]
  },
  {
   "cell_type": "markdown",
   "id": "5cf29649-a5c5-4601-bce1-d9d443ee528b",
   "metadata": {},
   "source": [
    "### Column: windspeed"
   ]
  },
  {
   "cell_type": "code",
   "execution_count": 41,
   "id": "cc0bb97f-9465-43c1-b4a9-d3c1242da42e",
   "metadata": {},
   "outputs": [
    {
     "name": "stdout",
     "output_type": "stream",
     "text": [
      "Occuring data types:  [<class 'float'>]\n",
      "Min. value:  0.0 \n",
      "Max. value:  57.0\n",
      "The column contains 86 missing values. This corresponds to 0.13 %.\n"
     ]
    }
   ],
   "source": [
    "dataTypes('windspeed', Weather_set)\n",
    "valueRange('windspeed', Weather_set)\n",
    "missingValues('windspeed', Weather_set)"
   ]
  },
  {
   "cell_type": "markdown",
   "id": "530cc7c7-d654-4dae-a93a-19d64ac00731",
   "metadata": {},
   "source": [
    "In order not to lose rows with missing values, we replace these. As the data ist sorted by time and therefore the true values are close to the surrounding values, we perform a forward fill for the missing values."
   ]
  },
  {
   "cell_type": "code",
   "execution_count": 42,
   "id": "f708b221-61d4-4dec-9cbb-db93bc0d78e0",
   "metadata": {},
   "outputs": [
    {
     "name": "stdout",
     "output_type": "stream",
     "text": [
      "The column does not contain missing values.\n"
     ]
    }
   ],
   "source": [
    "Weather_set['windspeed'] = Weather_set['windspeed'].ffill()\n",
    "missingValues('windspeed', Weather_set)"
   ]
  },
  {
   "cell_type": "markdown",
   "id": "46c6c420-4209-463a-ab1c-49bc66a10190",
   "metadata": {},
   "source": [
    "### Column: precipitation"
   ]
  },
  {
   "cell_type": "code",
   "execution_count": 43,
   "id": "dc0457f9-cf02-484e-a48c-15acb36f2670",
   "metadata": {},
   "outputs": [
    {
     "name": "stdout",
     "output_type": "stream",
     "text": [
      "Occuring data types:  [<class 'float'>]\n",
      "Min. value:  0.0 \n",
      "Max. value:  18.54\n",
      "The column does not contain missing values.\n"
     ]
    }
   ],
   "source": [
    "dataTypes('precipitation', Weather_set)\n",
    "valueRange('precipitation', Weather_set)\n",
    "missingValues('precipitation', Weather_set)"
   ]
  },
  {
   "cell_type": "markdown",
   "id": "1b42b3c0-ac47-41b0-837f-1944311f8887",
   "metadata": {},
   "source": [
    "### Column: felt_temperature"
   ]
  },
  {
   "cell_type": "code",
   "execution_count": 44,
   "id": "f6074f55-940a-410e-829b-1af8705bcfc1",
   "metadata": {},
   "outputs": [
    {
     "name": "stdout",
     "output_type": "stream",
     "text": [
      "Occuring data types:  [<class 'float'>]\n",
      "Min. value:  0.0 \n",
      "Max. value:  42.0\n",
      "The column contains 26 missing values. This corresponds to 0.04 %.\n"
     ]
    }
   ],
   "source": [
    "dataTypes('felt_temperature', Weather_set)\n",
    "valueRange('felt_temperature', Weather_set)\n",
    "missingValues('felt_temperature', Weather_set)"
   ]
  },
  {
   "cell_type": "markdown",
   "id": "b71da9f4-4f19-4576-a62e-8e159733ff15",
   "metadata": {},
   "source": [
    "In order not to lose rows with missing values, we replace these. As the data ist sorted by time and therefore the true values are close to the surrounding values, we perform a forward fill for the missing values."
   ]
  },
  {
   "cell_type": "code",
   "execution_count": 45,
   "id": "a35a2ad0-5da6-4b9e-a887-d1e2afa9c6da",
   "metadata": {},
   "outputs": [
    {
     "name": "stdout",
     "output_type": "stream",
     "text": [
      "The column does not contain missing values.\n"
     ]
    }
   ],
   "source": [
    "Weather_set['felt_temperature'] = Weather_set['felt_temperature'].ffill()\n",
    "missingValues('felt_temperature', Weather_set)"
   ]
  },
  {
   "cell_type": "markdown",
   "id": "be1112f9-0cb9-4133-9592-029fb5e38a27",
   "metadata": {},
   "source": [
    "### Dataset description"
   ]
  },
  {
   "cell_type": "code",
   "execution_count": 46,
   "id": "2f780826-591e-427e-a8e4-86fa37e71cc4",
   "metadata": {},
   "outputs": [
    {
     "name": "stdout",
     "output_type": "stream",
     "text": [
      "<class 'pandas.core.frame.DataFrame'>\n",
      "RangeIndex: 29244 entries, 0 to 29243\n",
      "Data columns (total 8 columns):\n",
      " #   Column                   Non-Null Count  Dtype         \n",
      "---  ------                   --------------  -----         \n",
      " 0   timestamp                29244 non-null  datetime64[ns]\n",
      " 1   temperature              29244 non-null  float64       \n",
      " 2   cloud_cover              29244 non-null  float64       \n",
      " 3   cloud_cover_description  29244 non-null  object        \n",
      " 4   pressure                 29244 non-null  float64       \n",
      " 5   windspeed                29244 non-null  float64       \n",
      " 6   precipitation            29244 non-null  float64       \n",
      " 7   felt_temperature         29244 non-null  float64       \n",
      "dtypes: datetime64[ns](1), float64(6), object(1)\n",
      "memory usage: 1.8+ MB\n"
     ]
    }
   ],
   "source": [
    "Weather_set.info()\n",
    "Weather_set\n",
    "Weather_set.to_csv('weather_burbank_airport_preprocessed.csv', index=False)"
   ]
  },
  {
   "cell_type": "code",
   "execution_count": 47,
   "metadata": {},
   "outputs": [
    {
     "data": {
      "text/html": [
       "<div>\n",
       "<style scoped>\n",
       "    .dataframe tbody tr th:only-of-type {\n",
       "        vertical-align: middle;\n",
       "    }\n",
       "\n",
       "    .dataframe tbody tr th {\n",
       "        vertical-align: top;\n",
       "    }\n",
       "\n",
       "    .dataframe thead th {\n",
       "        text-align: right;\n",
       "    }\n",
       "</style>\n",
       "<table border=\"1\" class=\"dataframe\">\n",
       "  <thead>\n",
       "    <tr style=\"text-align: right;\">\n",
       "      <th></th>\n",
       "      <th>kWhDelivered</th>\n",
       "      <th>siteID</th>\n",
       "      <th>userID</th>\n",
       "      <th>totalConnectionTime</th>\n",
       "      <th>totalChargingTime</th>\n",
       "    </tr>\n",
       "  </thead>\n",
       "  <tbody>\n",
       "    <tr>\n",
       "      <th>count</th>\n",
       "      <td>66450.000000</td>\n",
       "      <td>66450.000000</td>\n",
       "      <td>49187.000000</td>\n",
       "      <td>66450</td>\n",
       "      <td>66450</td>\n",
       "    </tr>\n",
       "    <tr>\n",
       "      <th>mean</th>\n",
       "      <td>11.787916</td>\n",
       "      <td>1.472656</td>\n",
       "      <td>1800.494582</td>\n",
       "      <td>0 days 06:17:34.578209179</td>\n",
       "      <td>0 days 03:45:43.122919488</td>\n",
       "    </tr>\n",
       "    <tr>\n",
       "      <th>std</th>\n",
       "      <td>10.314789</td>\n",
       "      <td>0.499256</td>\n",
       "      <td>2617.548614</td>\n",
       "      <td>0 days 04:51:41.391314114</td>\n",
       "      <td>0 days 03:25:17.286723493</td>\n",
       "    </tr>\n",
       "    <tr>\n",
       "      <th>min</th>\n",
       "      <td>0.501000</td>\n",
       "      <td>1.000000</td>\n",
       "      <td>1.000000</td>\n",
       "      <td>0 days 00:02:04</td>\n",
       "      <td>0 days 00:00:00</td>\n",
       "    </tr>\n",
       "    <tr>\n",
       "      <th>25%</th>\n",
       "      <td>5.097000</td>\n",
       "      <td>1.000000</td>\n",
       "      <td>431.000000</td>\n",
       "      <td>0 days 02:51:57.750000</td>\n",
       "      <td>0 days 01:40:29</td>\n",
       "    </tr>\n",
       "    <tr>\n",
       "      <th>50%</th>\n",
       "      <td>9.140000</td>\n",
       "      <td>1.000000</td>\n",
       "      <td>818.000000</td>\n",
       "      <td>0 days 06:11:44</td>\n",
       "      <td>0 days 02:53:50</td>\n",
       "    </tr>\n",
       "    <tr>\n",
       "      <th>75%</th>\n",
       "      <td>14.183000</td>\n",
       "      <td>2.000000</td>\n",
       "      <td>1805.000000</td>\n",
       "      <td>0 days 09:13:31.500000</td>\n",
       "      <td>0 days 04:57:02.250000</td>\n",
       "    </tr>\n",
       "    <tr>\n",
       "      <th>max</th>\n",
       "      <td>108.797242</td>\n",
       "      <td>2.000000</td>\n",
       "      <td>19923.000000</td>\n",
       "      <td>10 days 05:16:09</td>\n",
       "      <td>8 days 08:00:57</td>\n",
       "    </tr>\n",
       "  </tbody>\n",
       "</table>\n",
       "</div>"
      ],
      "text/plain": [
       "       kWhDelivered        siteID        userID        totalConnectionTime  \\\n",
       "count  66450.000000  66450.000000  49187.000000                      66450   \n",
       "mean      11.787916      1.472656   1800.494582  0 days 06:17:34.578209179   \n",
       "std       10.314789      0.499256   2617.548614  0 days 04:51:41.391314114   \n",
       "min        0.501000      1.000000      1.000000            0 days 00:02:04   \n",
       "25%        5.097000      1.000000    431.000000     0 days 02:51:57.750000   \n",
       "50%        9.140000      1.000000    818.000000            0 days 06:11:44   \n",
       "75%       14.183000      2.000000   1805.000000     0 days 09:13:31.500000   \n",
       "max      108.797242      2.000000  19923.000000           10 days 05:16:09   \n",
       "\n",
       "               totalChargingTime  \n",
       "count                      66450  \n",
       "mean   0 days 03:45:43.122919488  \n",
       "std    0 days 03:25:17.286723493  \n",
       "min              0 days 00:00:00  \n",
       "25%              0 days 01:40:29  \n",
       "50%              0 days 02:53:50  \n",
       "75%       0 days 04:57:02.250000  \n",
       "max              8 days 08:00:57  "
      ]
     },
     "execution_count": 47,
     "metadata": {},
     "output_type": "execute_result"
    }
   ],
   "source": [
    "Charging_set.describe()"
   ]
  },
  {
   "cell_type": "code",
   "execution_count": null,
   "id": "d46bf6d7",
   "metadata": {},
   "outputs": [],
   "source": []
  },
  {
   "cell_type": "code",
   "execution_count": 48,
   "id": "bd97445d",
   "metadata": {},
   "outputs": [
    {
     "data": {
      "text/html": [
       "<div>\n",
       "<style scoped>\n",
       "    .dataframe tbody tr th:only-of-type {\n",
       "        vertical-align: middle;\n",
       "    }\n",
       "\n",
       "    .dataframe tbody tr th {\n",
       "        vertical-align: top;\n",
       "    }\n",
       "\n",
       "    .dataframe thead th {\n",
       "        text-align: right;\n",
       "    }\n",
       "</style>\n",
       "<table border=\"1\" class=\"dataframe\">\n",
       "  <thead>\n",
       "    <tr style=\"text-align: right;\">\n",
       "      <th></th>\n",
       "      <th>id</th>\n",
       "      <th>connectionTime</th>\n",
       "      <th>disconnectTime</th>\n",
       "      <th>doneChargingTime</th>\n",
       "      <th>kWhDelivered</th>\n",
       "      <th>sessionID</th>\n",
       "      <th>siteID</th>\n",
       "      <th>spaceID</th>\n",
       "      <th>stationID</th>\n",
       "      <th>userID</th>\n",
       "      <th>userInputs</th>\n",
       "      <th>totalConnectionTime</th>\n",
       "      <th>totalChargingTime</th>\n",
       "      <th>userInformation</th>\n",
       "    </tr>\n",
       "  </thead>\n",
       "  <tbody>\n",
       "    <tr>\n",
       "      <th>0</th>\n",
       "      <td>5e23b149f9af8b5fe4b973cf</td>\n",
       "      <td>2020-01-02 13:08:54+00:00</td>\n",
       "      <td>2020-01-02 19:11:15+00:00</td>\n",
       "      <td>2020-01-02 17:31:35+00:00</td>\n",
       "      <td>25.016</td>\n",
       "      <td>1_1_179_810_2020-01-02 13:08:53.870034</td>\n",
       "      <td>1</td>\n",
       "      <td>AG-3F30</td>\n",
       "      <td>1-1-179-810</td>\n",
       "      <td>194.0</td>\n",
       "      <td>[[250, 25.0, 100, 463, Thu, 02 Jan 2020 13:09:...</td>\n",
       "      <td>0 days 06:02:21</td>\n",
       "      <td>0 days 04:22:41</td>\n",
       "      <td>True</td>\n",
       "    </tr>\n",
       "    <tr>\n",
       "      <th>1</th>\n",
       "      <td>5e23b149f9af8b5fe4b973d0</td>\n",
       "      <td>2020-01-02 13:36:50+00:00</td>\n",
       "      <td>2020-01-02 22:38:21+00:00</td>\n",
       "      <td>2020-01-02 20:18:05+00:00</td>\n",
       "      <td>33.097</td>\n",
       "      <td>1_1_193_825_2020-01-02 13:36:49.599853</td>\n",
       "      <td>1</td>\n",
       "      <td>AG-1F01</td>\n",
       "      <td>1-1-193-825</td>\n",
       "      <td>4275.0</td>\n",
       "      <td>[[280, 70.0, 250, 595, Thu, 02 Jan 2020 13:37:...</td>\n",
       "      <td>0 days 09:01:31</td>\n",
       "      <td>0 days 06:41:15</td>\n",
       "      <td>True</td>\n",
       "    </tr>\n",
       "    <tr>\n",
       "      <th>2</th>\n",
       "      <td>5e23b149f9af8b5fe4b973d1</td>\n",
       "      <td>2020-01-02 13:56:35+00:00</td>\n",
       "      <td>2020-01-03 00:39:22+00:00</td>\n",
       "      <td>2020-01-02 16:35:06+00:00</td>\n",
       "      <td>6.521</td>\n",
       "      <td>1_1_193_829_2020-01-02 13:56:35.214993</td>\n",
       "      <td>1</td>\n",
       "      <td>AG-1F03</td>\n",
       "      <td>1-1-193-829</td>\n",
       "      <td>344.0</td>\n",
       "      <td>[[400, 8.0, 20, 60, Thu, 02 Jan 2020 13:57:17 ...</td>\n",
       "      <td>0 days 10:42:47</td>\n",
       "      <td>0 days 02:38:31</td>\n",
       "      <td>True</td>\n",
       "    </tr>\n",
       "    <tr>\n",
       "      <th>3</th>\n",
       "      <td>5e23b149f9af8b5fe4b973d2</td>\n",
       "      <td>2020-01-02 13:59:58+00:00</td>\n",
       "      <td>2020-01-02 16:38:39+00:00</td>\n",
       "      <td>2020-01-02 15:18:45+00:00</td>\n",
       "      <td>2.355</td>\n",
       "      <td>1_1_193_820_2020-01-02 13:59:58.309319</td>\n",
       "      <td>1</td>\n",
       "      <td>AG-1F04</td>\n",
       "      <td>1-1-193-820</td>\n",
       "      <td>1117.0</td>\n",
       "      <td>[[400, 8.0, 20, 65, Thu, 02 Jan 2020 14:00:03 ...</td>\n",
       "      <td>0 days 02:38:41</td>\n",
       "      <td>0 days 01:18:47</td>\n",
       "      <td>True</td>\n",
       "    </tr>\n",
       "    <tr>\n",
       "      <th>4</th>\n",
       "      <td>5e23b149f9af8b5fe4b973d3</td>\n",
       "      <td>2020-01-02 14:00:01+00:00</td>\n",
       "      <td>2020-01-02 22:08:40+00:00</td>\n",
       "      <td>2020-01-02 18:17:30+00:00</td>\n",
       "      <td>13.375</td>\n",
       "      <td>1_1_193_819_2020-01-02 14:00:00.779967</td>\n",
       "      <td>1</td>\n",
       "      <td>AG-1F06</td>\n",
       "      <td>1-1-193-819</td>\n",
       "      <td>334.0</td>\n",
       "      <td>[[400, 16.0, 40, 504, Thu, 02 Jan 2020 14:00:1...</td>\n",
       "      <td>0 days 08:08:39</td>\n",
       "      <td>0 days 04:17:29</td>\n",
       "      <td>True</td>\n",
       "    </tr>\n",
       "  </tbody>\n",
       "</table>\n",
       "</div>"
      ],
      "text/plain": [
       "                         id            connectionTime  \\\n",
       "0  5e23b149f9af8b5fe4b973cf 2020-01-02 13:08:54+00:00   \n",
       "1  5e23b149f9af8b5fe4b973d0 2020-01-02 13:36:50+00:00   \n",
       "2  5e23b149f9af8b5fe4b973d1 2020-01-02 13:56:35+00:00   \n",
       "3  5e23b149f9af8b5fe4b973d2 2020-01-02 13:59:58+00:00   \n",
       "4  5e23b149f9af8b5fe4b973d3 2020-01-02 14:00:01+00:00   \n",
       "\n",
       "             disconnectTime          doneChargingTime  kWhDelivered  \\\n",
       "0 2020-01-02 19:11:15+00:00 2020-01-02 17:31:35+00:00        25.016   \n",
       "1 2020-01-02 22:38:21+00:00 2020-01-02 20:18:05+00:00        33.097   \n",
       "2 2020-01-03 00:39:22+00:00 2020-01-02 16:35:06+00:00         6.521   \n",
       "3 2020-01-02 16:38:39+00:00 2020-01-02 15:18:45+00:00         2.355   \n",
       "4 2020-01-02 22:08:40+00:00 2020-01-02 18:17:30+00:00        13.375   \n",
       "\n",
       "                                sessionID  siteID  spaceID    stationID  \\\n",
       "0  1_1_179_810_2020-01-02 13:08:53.870034       1  AG-3F30  1-1-179-810   \n",
       "1  1_1_193_825_2020-01-02 13:36:49.599853       1  AG-1F01  1-1-193-825   \n",
       "2  1_1_193_829_2020-01-02 13:56:35.214993       1  AG-1F03  1-1-193-829   \n",
       "3  1_1_193_820_2020-01-02 13:59:58.309319       1  AG-1F04  1-1-193-820   \n",
       "4  1_1_193_819_2020-01-02 14:00:00.779967       1  AG-1F06  1-1-193-819   \n",
       "\n",
       "   userID                                         userInputs  \\\n",
       "0   194.0  [[250, 25.0, 100, 463, Thu, 02 Jan 2020 13:09:...   \n",
       "1  4275.0  [[280, 70.0, 250, 595, Thu, 02 Jan 2020 13:37:...   \n",
       "2   344.0  [[400, 8.0, 20, 60, Thu, 02 Jan 2020 13:57:17 ...   \n",
       "3  1117.0  [[400, 8.0, 20, 65, Thu, 02 Jan 2020 14:00:03 ...   \n",
       "4   334.0  [[400, 16.0, 40, 504, Thu, 02 Jan 2020 14:00:1...   \n",
       "\n",
       "  totalConnectionTime totalChargingTime  userInformation  \n",
       "0     0 days 06:02:21   0 days 04:22:41             True  \n",
       "1     0 days 09:01:31   0 days 06:41:15             True  \n",
       "2     0 days 10:42:47   0 days 02:38:31             True  \n",
       "3     0 days 02:38:41   0 days 01:18:47             True  \n",
       "4     0 days 08:08:39   0 days 04:17:29             True  "
      ]
     },
     "execution_count": 48,
     "metadata": {},
     "output_type": "execute_result"
    }
   ],
   "source": [
    "Charging_set.head()"
   ]
  },
  {
   "cell_type": "code",
   "execution_count": 49,
   "id": "05c059b8",
   "metadata": {},
   "outputs": [
    {
     "name": "stdout",
     "output_type": "stream",
     "text": [
      "          stationID  total_time_potential_usage_per_station\n",
      "0       1-1-179-810                              95384200.0\n",
      "1       1-1-193-825                              94919887.0\n",
      "2       1-1-193-829                              94717743.0\n",
      "3       1-1-193-820                              94731812.0\n",
      "4       1-1-193-819                              94898789.0\n",
      "...             ...                                     ...\n",
      "21348  2-39-131-565                              50016207.0\n",
      "21686   2-39-82-384                              82609117.0\n",
      "22775  2-39-125-559                              91344566.0\n",
      "24152   2-39-82-385                              85454833.0\n",
      "46086  2-39-81-4550                              25846124.0\n",
      "\n",
      "[107 rows x 2 columns]\n"
     ]
    }
   ],
   "source": [
    "## calculate the total potential time each station could be utilized by subtracting the minimal timestamp from the maximum timestamp of each station.\n",
    "\n",
    "# Convert 'time' to datetime\n",
    "Charging_set['connectionTime'] = pd.to_datetime(Charging_set['connectionTime'])\n",
    "Charging_set['disconnectTime'] = pd.to_datetime(Charging_set['disconnectTime'])\n",
    "\n",
    "# Extract the minimum and maximum timestamps\n",
    "Charging_set['min_timestamp_per_station'] = Charging_set.groupby('stationID')['connectionTime'].transform('min')\n",
    "Charging_set['max_timestamp_per_station'] = Charging_set.groupby('stationID')['disconnectTime'].transform('max')\n",
    "\n",
    "#calculate total potential time each station could be used\n",
    "Charging_set['total_time_potential_usage_per_station'] = (Charging_set['max_timestamp_per_station'] - Charging_set['min_timestamp_per_station']).dt.total_seconds()\n",
    "\n",
    "# Drop intermediate columns if not needed\n",
    "Charging_set = Charging_set.drop(['min_timestamp_per_station', 'max_timestamp_per_station'], axis=1)\n",
    "\n",
    "print(Charging_set[['stationID', 'total_time_potential_usage_per_station']].drop_duplicates())\n",
    "\n",
    "total_time_df = Charging_set[['stationID', 'total_time_potential_usage_per_station']].drop_duplicates()\n",
    "\n",
    "total_time_df.to_csv('total_time_df.csv', index=False)\n"
   ]
  },
  {
   "cell_type": "code",
   "execution_count": 50,
   "id": "3bcf1c8b",
   "metadata": {},
   "outputs": [
    {
     "name": "stdout",
     "output_type": "stream",
     "text": [
      "stationID\n",
      "1-1-178-817   285 days 23:47:21\n",
      "1-1-178-823   358 days 23:11:06\n",
      "1-1-178-824   266 days 22:46:38\n",
      "1-1-178-828   315 days 23:51:32\n",
      "1-1-179-777   191 days 08:34:33\n",
      "                     ...       \n",
      "2-39-91-441   117 days 18:44:31\n",
      "2-39-92-436   149 days 15:21:39\n",
      "2-39-92-442   146 days 14:52:06\n",
      "2-39-95-27    212 days 05:31:35\n",
      "2-39-95-444   107 days 14:13:16\n",
      "Name: totalConnectionTime, Length: 107, dtype: timedelta64[ns]\n"
     ]
    }
   ],
   "source": [
    "## Calculate the actual time each station is utelized\n",
    "\n",
    "total_time_spend_per_station = Charging_set.groupby('stationID')['totalConnectionTime'].sum()\n",
    "print(total_time_spend_per_station)"
   ]
  },
  {
   "cell_type": "code",
   "execution_count": 51,
   "id": "b894c7a2",
   "metadata": {},
   "outputs": [
    {
     "name": "stdout",
     "output_type": "stream",
     "text": [
      "<class 'pandas.core.frame.DataFrame'>\n",
      "RangeIndex: 66450 entries, 0 to 66449\n",
      "Data columns (total 15 columns):\n",
      " #   Column                                  Non-Null Count  Dtype              \n",
      "---  ------                                  --------------  -----              \n",
      " 0   id                                      66450 non-null  object             \n",
      " 1   connectionTime                          66450 non-null  datetime64[ns, UTC]\n",
      " 2   disconnectTime                          66450 non-null  datetime64[ns, UTC]\n",
      " 3   doneChargingTime                        66450 non-null  datetime64[ns, UTC]\n",
      " 4   kWhDelivered                            66450 non-null  float64            \n",
      " 5   sessionID                               66450 non-null  object             \n",
      " 6   siteID                                  66450 non-null  int64              \n",
      " 7   spaceID                                 66450 non-null  object             \n",
      " 8   stationID                               66450 non-null  object             \n",
      " 9   userID                                  49187 non-null  float64            \n",
      " 10  userInputs                              49187 non-null  object             \n",
      " 11  totalConnectionTime                     66450 non-null  timedelta64[ns]    \n",
      " 12  totalChargingTime                       66450 non-null  timedelta64[ns]    \n",
      " 13  userInformation                         66450 non-null  bool               \n",
      " 14  total_time_potential_usage_per_station  66450 non-null  float64            \n",
      "dtypes: bool(1), datetime64[ns, UTC](3), float64(3), int64(1), object(5), timedelta64[ns](2)\n",
      "memory usage: 7.2+ MB\n"
     ]
    }
   ],
   "source": [
    "Charging_set.info()"
   ]
  },
  {
   "cell_type": "code",
   "execution_count": 52,
   "id": "ca89b1d3",
   "metadata": {},
   "outputs": [
    {
     "data": {
      "text/html": [
       "<div>\n",
       "<style scoped>\n",
       "    .dataframe tbody tr th:only-of-type {\n",
       "        vertical-align: middle;\n",
       "    }\n",
       "\n",
       "    .dataframe tbody tr th {\n",
       "        vertical-align: top;\n",
       "    }\n",
       "\n",
       "    .dataframe thead th {\n",
       "        text-align: right;\n",
       "    }\n",
       "</style>\n",
       "<table border=\"1\" class=\"dataframe\">\n",
       "  <thead>\n",
       "    <tr style=\"text-align: right;\">\n",
       "      <th></th>\n",
       "      <th>id</th>\n",
       "      <th>connectionTime</th>\n",
       "      <th>disconnectTime</th>\n",
       "      <th>doneChargingTime</th>\n",
       "      <th>kWhDelivered</th>\n",
       "      <th>sessionID</th>\n",
       "      <th>siteID</th>\n",
       "      <th>spaceID</th>\n",
       "      <th>stationID</th>\n",
       "      <th>userID</th>\n",
       "      <th>userInputs</th>\n",
       "      <th>totalConnectionTime</th>\n",
       "      <th>totalChargingTime</th>\n",
       "      <th>userInformation</th>\n",
       "      <th>total_time_potential_usage_per_station</th>\n",
       "      <th>occupyingStation</th>\n",
       "      <th>totalChargingTimeNumber</th>\n",
       "      <th>totalConnectionTimeNumber</th>\n",
       "    </tr>\n",
       "  </thead>\n",
       "  <tbody>\n",
       "    <tr>\n",
       "      <th>0</th>\n",
       "      <td>5e23b149f9af8b5fe4b973cf</td>\n",
       "      <td>2020-01-02 13:08:54+00:00</td>\n",
       "      <td>2020-01-02 19:11:15+00:00</td>\n",
       "      <td>2020-01-02 17:31:35+00:00</td>\n",
       "      <td>25.016</td>\n",
       "      <td>1_1_179_810_2020-01-02 13:08:53.870034</td>\n",
       "      <td>1</td>\n",
       "      <td>AG-3F30</td>\n",
       "      <td>1-1-179-810</td>\n",
       "      <td>194.0</td>\n",
       "      <td>[[250, 25.0, 100, 463, Thu, 02 Jan 2020 13:09:...</td>\n",
       "      <td>0 days 06:02:21</td>\n",
       "      <td>0 days 04:22:41</td>\n",
       "      <td>True</td>\n",
       "      <td>95384200.0</td>\n",
       "      <td>5980.0</td>\n",
       "      <td>15761.0</td>\n",
       "      <td>21741.0</td>\n",
       "    </tr>\n",
       "    <tr>\n",
       "      <th>1</th>\n",
       "      <td>5e23b149f9af8b5fe4b973d0</td>\n",
       "      <td>2020-01-02 13:36:50+00:00</td>\n",
       "      <td>2020-01-02 22:38:21+00:00</td>\n",
       "      <td>2020-01-02 20:18:05+00:00</td>\n",
       "      <td>33.097</td>\n",
       "      <td>1_1_193_825_2020-01-02 13:36:49.599853</td>\n",
       "      <td>1</td>\n",
       "      <td>AG-1F01</td>\n",
       "      <td>1-1-193-825</td>\n",
       "      <td>4275.0</td>\n",
       "      <td>[[280, 70.0, 250, 595, Thu, 02 Jan 2020 13:37:...</td>\n",
       "      <td>0 days 09:01:31</td>\n",
       "      <td>0 days 06:41:15</td>\n",
       "      <td>True</td>\n",
       "      <td>94919887.0</td>\n",
       "      <td>8416.0</td>\n",
       "      <td>24075.0</td>\n",
       "      <td>32491.0</td>\n",
       "    </tr>\n",
       "    <tr>\n",
       "      <th>2</th>\n",
       "      <td>5e23b149f9af8b5fe4b973d1</td>\n",
       "      <td>2020-01-02 13:56:35+00:00</td>\n",
       "      <td>2020-01-03 00:39:22+00:00</td>\n",
       "      <td>2020-01-02 16:35:06+00:00</td>\n",
       "      <td>6.521</td>\n",
       "      <td>1_1_193_829_2020-01-02 13:56:35.214993</td>\n",
       "      <td>1</td>\n",
       "      <td>AG-1F03</td>\n",
       "      <td>1-1-193-829</td>\n",
       "      <td>344.0</td>\n",
       "      <td>[[400, 8.0, 20, 60, Thu, 02 Jan 2020 13:57:17 ...</td>\n",
       "      <td>0 days 10:42:47</td>\n",
       "      <td>0 days 02:38:31</td>\n",
       "      <td>True</td>\n",
       "      <td>94717743.0</td>\n",
       "      <td>29056.0</td>\n",
       "      <td>9511.0</td>\n",
       "      <td>38567.0</td>\n",
       "    </tr>\n",
       "    <tr>\n",
       "      <th>3</th>\n",
       "      <td>5e23b149f9af8b5fe4b973d2</td>\n",
       "      <td>2020-01-02 13:59:58+00:00</td>\n",
       "      <td>2020-01-02 16:38:39+00:00</td>\n",
       "      <td>2020-01-02 15:18:45+00:00</td>\n",
       "      <td>2.355</td>\n",
       "      <td>1_1_193_820_2020-01-02 13:59:58.309319</td>\n",
       "      <td>1</td>\n",
       "      <td>AG-1F04</td>\n",
       "      <td>1-1-193-820</td>\n",
       "      <td>1117.0</td>\n",
       "      <td>[[400, 8.0, 20, 65, Thu, 02 Jan 2020 14:00:03 ...</td>\n",
       "      <td>0 days 02:38:41</td>\n",
       "      <td>0 days 01:18:47</td>\n",
       "      <td>True</td>\n",
       "      <td>94731812.0</td>\n",
       "      <td>4794.0</td>\n",
       "      <td>4727.0</td>\n",
       "      <td>9521.0</td>\n",
       "    </tr>\n",
       "    <tr>\n",
       "      <th>4</th>\n",
       "      <td>5e23b149f9af8b5fe4b973d3</td>\n",
       "      <td>2020-01-02 14:00:01+00:00</td>\n",
       "      <td>2020-01-02 22:08:40+00:00</td>\n",
       "      <td>2020-01-02 18:17:30+00:00</td>\n",
       "      <td>13.375</td>\n",
       "      <td>1_1_193_819_2020-01-02 14:00:00.779967</td>\n",
       "      <td>1</td>\n",
       "      <td>AG-1F06</td>\n",
       "      <td>1-1-193-819</td>\n",
       "      <td>334.0</td>\n",
       "      <td>[[400, 16.0, 40, 504, Thu, 02 Jan 2020 14:00:1...</td>\n",
       "      <td>0 days 08:08:39</td>\n",
       "      <td>0 days 04:17:29</td>\n",
       "      <td>True</td>\n",
       "      <td>94898789.0</td>\n",
       "      <td>13870.0</td>\n",
       "      <td>15449.0</td>\n",
       "      <td>29319.0</td>\n",
       "    </tr>\n",
       "  </tbody>\n",
       "</table>\n",
       "</div>"
      ],
      "text/plain": [
       "                         id            connectionTime  \\\n",
       "0  5e23b149f9af8b5fe4b973cf 2020-01-02 13:08:54+00:00   \n",
       "1  5e23b149f9af8b5fe4b973d0 2020-01-02 13:36:50+00:00   \n",
       "2  5e23b149f9af8b5fe4b973d1 2020-01-02 13:56:35+00:00   \n",
       "3  5e23b149f9af8b5fe4b973d2 2020-01-02 13:59:58+00:00   \n",
       "4  5e23b149f9af8b5fe4b973d3 2020-01-02 14:00:01+00:00   \n",
       "\n",
       "             disconnectTime          doneChargingTime  kWhDelivered  \\\n",
       "0 2020-01-02 19:11:15+00:00 2020-01-02 17:31:35+00:00        25.016   \n",
       "1 2020-01-02 22:38:21+00:00 2020-01-02 20:18:05+00:00        33.097   \n",
       "2 2020-01-03 00:39:22+00:00 2020-01-02 16:35:06+00:00         6.521   \n",
       "3 2020-01-02 16:38:39+00:00 2020-01-02 15:18:45+00:00         2.355   \n",
       "4 2020-01-02 22:08:40+00:00 2020-01-02 18:17:30+00:00        13.375   \n",
       "\n",
       "                                sessionID  siteID  spaceID    stationID  \\\n",
       "0  1_1_179_810_2020-01-02 13:08:53.870034       1  AG-3F30  1-1-179-810   \n",
       "1  1_1_193_825_2020-01-02 13:36:49.599853       1  AG-1F01  1-1-193-825   \n",
       "2  1_1_193_829_2020-01-02 13:56:35.214993       1  AG-1F03  1-1-193-829   \n",
       "3  1_1_193_820_2020-01-02 13:59:58.309319       1  AG-1F04  1-1-193-820   \n",
       "4  1_1_193_819_2020-01-02 14:00:00.779967       1  AG-1F06  1-1-193-819   \n",
       "\n",
       "   userID                                         userInputs  \\\n",
       "0   194.0  [[250, 25.0, 100, 463, Thu, 02 Jan 2020 13:09:...   \n",
       "1  4275.0  [[280, 70.0, 250, 595, Thu, 02 Jan 2020 13:37:...   \n",
       "2   344.0  [[400, 8.0, 20, 60, Thu, 02 Jan 2020 13:57:17 ...   \n",
       "3  1117.0  [[400, 8.0, 20, 65, Thu, 02 Jan 2020 14:00:03 ...   \n",
       "4   334.0  [[400, 16.0, 40, 504, Thu, 02 Jan 2020 14:00:1...   \n",
       "\n",
       "  totalConnectionTime totalChargingTime  userInformation  \\\n",
       "0     0 days 06:02:21   0 days 04:22:41             True   \n",
       "1     0 days 09:01:31   0 days 06:41:15             True   \n",
       "2     0 days 10:42:47   0 days 02:38:31             True   \n",
       "3     0 days 02:38:41   0 days 01:18:47             True   \n",
       "4     0 days 08:08:39   0 days 04:17:29             True   \n",
       "\n",
       "   total_time_potential_usage_per_station  occupyingStation  \\\n",
       "0                              95384200.0            5980.0   \n",
       "1                              94919887.0            8416.0   \n",
       "2                              94717743.0           29056.0   \n",
       "3                              94731812.0            4794.0   \n",
       "4                              94898789.0           13870.0   \n",
       "\n",
       "   totalChargingTimeNumber  totalConnectionTimeNumber  \n",
       "0                  15761.0                    21741.0  \n",
       "1                  24075.0                    32491.0  \n",
       "2                   9511.0                    38567.0  \n",
       "3                   4727.0                     9521.0  \n",
       "4                  15449.0                    29319.0  "
      ]
     },
     "execution_count": 52,
     "metadata": {},
     "output_type": "execute_result"
    }
   ],
   "source": [
    "Charging_set['occupyingStation'] = (Charging_set['totalConnectionTime'] - Charging_set['totalChargingTime']).dt.total_seconds().astype('float64')\n",
    "Charging_set['totalChargingTimeNumber'] = Charging_set['totalChargingTime'].dt.total_seconds().astype('float64')\n",
    "Charging_set['totalConnectionTimeNumber'] = Charging_set['totalConnectionTime'].dt.total_seconds().astype('float64')\n",
    "Charging_set.head()"
   ]
  },
  {
   "cell_type": "code",
   "execution_count": 53,
   "id": "f9ef5d53",
   "metadata": {},
   "outputs": [
    {
     "data": {
      "text/html": [
       "<div>\n",
       "<style scoped>\n",
       "    .dataframe tbody tr th:only-of-type {\n",
       "        vertical-align: middle;\n",
       "    }\n",
       "\n",
       "    .dataframe tbody tr th {\n",
       "        vertical-align: top;\n",
       "    }\n",
       "\n",
       "    .dataframe thead th {\n",
       "        text-align: right;\n",
       "    }\n",
       "</style>\n",
       "<table border=\"1\" class=\"dataframe\">\n",
       "  <thead>\n",
       "    <tr style=\"text-align: right;\">\n",
       "      <th></th>\n",
       "      <th>siteID</th>\n",
       "      <th>stationID</th>\n",
       "      <th>total_time_potential_usage_per_station</th>\n",
       "      <th>total_time_spend_per_station_connected</th>\n",
       "      <th>total_time_spend_per_station_charged</th>\n",
       "    </tr>\n",
       "  </thead>\n",
       "  <tbody>\n",
       "    <tr>\n",
       "      <th>0</th>\n",
       "      <td>1</td>\n",
       "      <td>1-1-179-810</td>\n",
       "      <td>95384200.0</td>\n",
       "      <td>16376796.0</td>\n",
       "      <td>10545940.0</td>\n",
       "    </tr>\n",
       "    <tr>\n",
       "      <th>1</th>\n",
       "      <td>1</td>\n",
       "      <td>1-1-193-825</td>\n",
       "      <td>94919887.0</td>\n",
       "      <td>22526512.0</td>\n",
       "      <td>14757166.0</td>\n",
       "    </tr>\n",
       "    <tr>\n",
       "      <th>2</th>\n",
       "      <td>1</td>\n",
       "      <td>1-1-193-829</td>\n",
       "      <td>94717743.0</td>\n",
       "      <td>21508359.0</td>\n",
       "      <td>14021398.0</td>\n",
       "    </tr>\n",
       "    <tr>\n",
       "      <th>3</th>\n",
       "      <td>1</td>\n",
       "      <td>1-1-193-820</td>\n",
       "      <td>94731812.0</td>\n",
       "      <td>24930716.0</td>\n",
       "      <td>14406728.0</td>\n",
       "    </tr>\n",
       "    <tr>\n",
       "      <th>4</th>\n",
       "      <td>1</td>\n",
       "      <td>1-1-193-819</td>\n",
       "      <td>94898789.0</td>\n",
       "      <td>26779844.0</td>\n",
       "      <td>15879716.0</td>\n",
       "    </tr>\n",
       "  </tbody>\n",
       "</table>\n",
       "</div>"
      ],
      "text/plain": [
       "   siteID    stationID  total_time_potential_usage_per_station  \\\n",
       "0       1  1-1-179-810                              95384200.0   \n",
       "1       1  1-1-193-825                              94919887.0   \n",
       "2       1  1-1-193-829                              94717743.0   \n",
       "3       1  1-1-193-820                              94731812.0   \n",
       "4       1  1-1-193-819                              94898789.0   \n",
       "\n",
       "   total_time_spend_per_station_connected  \\\n",
       "0                              16376796.0   \n",
       "1                              22526512.0   \n",
       "2                              21508359.0   \n",
       "3                              24930716.0   \n",
       "4                              26779844.0   \n",
       "\n",
       "   total_time_spend_per_station_charged  \n",
       "0                            10545940.0  \n",
       "1                            14757166.0  \n",
       "2                            14021398.0  \n",
       "3                            14406728.0  \n",
       "4                            15879716.0  "
      ]
     },
     "execution_count": 53,
     "metadata": {},
     "output_type": "execute_result"
    }
   ],
   "source": [
    "# Calculate the times needed\n",
    "Charging_set['total_time_spend_per_station_connected'] = Charging_set.groupby('stationID')['totalConnectionTimeNumber'].transform('sum')\n",
    "Charging_set['total_time_spend_per_station_charged'] = Charging_set.groupby('stationID')['totalChargingTimeNumber'].transform('sum')\n",
    "\n",
    "\n",
    "Charging_set_Utilization = (Charging_set[['siteID','stationID', 'total_time_potential_usage_per_station', 'total_time_spend_per_station_connected', 'total_time_spend_per_station_charged']].drop_duplicates())\n",
    "Charging_set_Utilization.head()"
   ]
  },
  {
   "cell_type": "code",
   "execution_count": 54,
   "id": "3e18ac08",
   "metadata": {},
   "outputs": [
    {
     "data": {
      "text/html": [
       "<div>\n",
       "<style scoped>\n",
       "    .dataframe tbody tr th:only-of-type {\n",
       "        vertical-align: middle;\n",
       "    }\n",
       "\n",
       "    .dataframe tbody tr th {\n",
       "        vertical-align: top;\n",
       "    }\n",
       "\n",
       "    .dataframe thead th {\n",
       "        text-align: right;\n",
       "    }\n",
       "</style>\n",
       "<table border=\"1\" class=\"dataframe\">\n",
       "  <thead>\n",
       "    <tr style=\"text-align: right;\">\n",
       "      <th></th>\n",
       "      <th>siteID</th>\n",
       "      <th>stationID</th>\n",
       "      <th>total_time_potential_usage_per_station</th>\n",
       "      <th>total_time_spend_per_station_connected</th>\n",
       "      <th>total_time_spend_per_station_charged</th>\n",
       "      <th>station_utilization_connection_rate</th>\n",
       "      <th>station_utilization_charging_rate</th>\n",
       "      <th>station_utilization_charging_if_connected_rate</th>\n",
       "    </tr>\n",
       "  </thead>\n",
       "  <tbody>\n",
       "    <tr>\n",
       "      <th>0</th>\n",
       "      <td>1</td>\n",
       "      <td>1-1-179-810</td>\n",
       "      <td>95384200.0</td>\n",
       "      <td>16376796.0</td>\n",
       "      <td>10545940.0</td>\n",
       "      <td>0.171693</td>\n",
       "      <td>0.110563</td>\n",
       "      <td>0.643956</td>\n",
       "    </tr>\n",
       "    <tr>\n",
       "      <th>1</th>\n",
       "      <td>1</td>\n",
       "      <td>1-1-193-825</td>\n",
       "      <td>94919887.0</td>\n",
       "      <td>22526512.0</td>\n",
       "      <td>14757166.0</td>\n",
       "      <td>0.237321</td>\n",
       "      <td>0.155470</td>\n",
       "      <td>0.655102</td>\n",
       "    </tr>\n",
       "    <tr>\n",
       "      <th>2</th>\n",
       "      <td>1</td>\n",
       "      <td>1-1-193-829</td>\n",
       "      <td>94717743.0</td>\n",
       "      <td>21508359.0</td>\n",
       "      <td>14021398.0</td>\n",
       "      <td>0.227078</td>\n",
       "      <td>0.148033</td>\n",
       "      <td>0.651905</td>\n",
       "    </tr>\n",
       "    <tr>\n",
       "      <th>3</th>\n",
       "      <td>1</td>\n",
       "      <td>1-1-193-820</td>\n",
       "      <td>94731812.0</td>\n",
       "      <td>24930716.0</td>\n",
       "      <td>14406728.0</td>\n",
       "      <td>0.263172</td>\n",
       "      <td>0.152079</td>\n",
       "      <td>0.577871</td>\n",
       "    </tr>\n",
       "    <tr>\n",
       "      <th>4</th>\n",
       "      <td>1</td>\n",
       "      <td>1-1-193-819</td>\n",
       "      <td>94898789.0</td>\n",
       "      <td>26779844.0</td>\n",
       "      <td>15879716.0</td>\n",
       "      <td>0.282194</td>\n",
       "      <td>0.167333</td>\n",
       "      <td>0.592973</td>\n",
       "    </tr>\n",
       "  </tbody>\n",
       "</table>\n",
       "</div>"
      ],
      "text/plain": [
       "   siteID    stationID  total_time_potential_usage_per_station  \\\n",
       "0       1  1-1-179-810                              95384200.0   \n",
       "1       1  1-1-193-825                              94919887.0   \n",
       "2       1  1-1-193-829                              94717743.0   \n",
       "3       1  1-1-193-820                              94731812.0   \n",
       "4       1  1-1-193-819                              94898789.0   \n",
       "\n",
       "   total_time_spend_per_station_connected  \\\n",
       "0                              16376796.0   \n",
       "1                              22526512.0   \n",
       "2                              21508359.0   \n",
       "3                              24930716.0   \n",
       "4                              26779844.0   \n",
       "\n",
       "   total_time_spend_per_station_charged  station_utilization_connection_rate  \\\n",
       "0                            10545940.0                             0.171693   \n",
       "1                            14757166.0                             0.237321   \n",
       "2                            14021398.0                             0.227078   \n",
       "3                            14406728.0                             0.263172   \n",
       "4                            15879716.0                             0.282194   \n",
       "\n",
       "   station_utilization_charging_rate  \\\n",
       "0                           0.110563   \n",
       "1                           0.155470   \n",
       "2                           0.148033   \n",
       "3                           0.152079   \n",
       "4                           0.167333   \n",
       "\n",
       "   station_utilization_charging_if_connected_rate  \n",
       "0                                        0.643956  \n",
       "1                                        0.655102  \n",
       "2                                        0.651905  \n",
       "3                                        0.577871  \n",
       "4                                        0.592973  "
      ]
     },
     "execution_count": 54,
     "metadata": {},
     "output_type": "execute_result"
    }
   ],
   "source": [
    "# calculate the utilization rates per station\n",
    "Charging_set_Utilization['station_utilization_connection_rate'] = (Charging_set_Utilization['total_time_spend_per_station_connected'] / Charging_set_Utilization['total_time_potential_usage_per_station'])\n",
    "Charging_set_Utilization['station_utilization_charging_rate'] = (Charging_set_Utilization['total_time_spend_per_station_charged'] / Charging_set_Utilization['total_time_potential_usage_per_station'])\n",
    "Charging_set_Utilization['station_utilization_charging_if_connected_rate'] = (Charging_set_Utilization['total_time_spend_per_station_charged'] / Charging_set_Utilization['total_time_spend_per_station_connected'])\n",
    "Charging_set_Utilization.head()"
   ]
  },
  {
   "cell_type": "code",
   "execution_count": 55,
   "id": "228ef575",
   "metadata": {},
   "outputs": [],
   "source": [
    "Charging_set_Utilization.to_csv('charging_sessions_utilization.csv', index=False)"
   ]
  },
  {
   "cell_type": "code",
   "execution_count": 56,
   "id": "23ebb446",
   "metadata": {},
   "outputs": [
    {
     "data": {
      "text/html": [
       "<div>\n",
       "<style scoped>\n",
       "    .dataframe tbody tr th:only-of-type {\n",
       "        vertical-align: middle;\n",
       "    }\n",
       "\n",
       "    .dataframe tbody tr th {\n",
       "        vertical-align: top;\n",
       "    }\n",
       "\n",
       "    .dataframe thead th {\n",
       "        text-align: right;\n",
       "    }\n",
       "</style>\n",
       "<table border=\"1\" class=\"dataframe\">\n",
       "  <thead>\n",
       "    <tr style=\"text-align: right;\">\n",
       "      <th></th>\n",
       "      <th>siteID</th>\n",
       "      <th>stationID</th>\n",
       "      <th>total_time_potential_usage_per_station</th>\n",
       "      <th>total_time_spend_per_station_connected</th>\n",
       "      <th>total_time_spend_per_station_charged</th>\n",
       "      <th>station_utilization_connection_rate</th>\n",
       "      <th>station_utilization_charging_rate</th>\n",
       "      <th>station_utilization_charging_if_connected_rate</th>\n",
       "      <th>total_time_potential_usage_per_site</th>\n",
       "      <th>total_time_connected_usage_per_site</th>\n",
       "      <th>total_time_charged_usage_per_site</th>\n",
       "      <th>site_utilization_connection_rate</th>\n",
       "      <th>site_utilization_charging_rate</th>\n",
       "      <th>site_utilization_charging_if_connected_rate</th>\n",
       "    </tr>\n",
       "  </thead>\n",
       "  <tbody>\n",
       "    <tr>\n",
       "      <th>0</th>\n",
       "      <td>1</td>\n",
       "      <td>1-1-179-810</td>\n",
       "      <td>95384200.0</td>\n",
       "      <td>16376796.0</td>\n",
       "      <td>10545940.0</td>\n",
       "      <td>0.171693</td>\n",
       "      <td>0.110563</td>\n",
       "      <td>0.643956</td>\n",
       "      <td>3.327240e+12</td>\n",
       "      <td>6.568157e+11</td>\n",
       "      <td>4.006143e+11</td>\n",
       "      <td>-2.670424e+12</td>\n",
       "      <td>-2.926626e+12</td>\n",
       "      <td>-2.562015e+11</td>\n",
       "    </tr>\n",
       "    <tr>\n",
       "      <th>1</th>\n",
       "      <td>1</td>\n",
       "      <td>1-1-193-825</td>\n",
       "      <td>94919887.0</td>\n",
       "      <td>22526512.0</td>\n",
       "      <td>14757166.0</td>\n",
       "      <td>0.237321</td>\n",
       "      <td>0.155470</td>\n",
       "      <td>0.655102</td>\n",
       "      <td>3.327240e+12</td>\n",
       "      <td>6.568157e+11</td>\n",
       "      <td>4.006143e+11</td>\n",
       "      <td>-2.670424e+12</td>\n",
       "      <td>-2.926626e+12</td>\n",
       "      <td>-2.562015e+11</td>\n",
       "    </tr>\n",
       "    <tr>\n",
       "      <th>2</th>\n",
       "      <td>1</td>\n",
       "      <td>1-1-193-829</td>\n",
       "      <td>94717743.0</td>\n",
       "      <td>21508359.0</td>\n",
       "      <td>14021398.0</td>\n",
       "      <td>0.227078</td>\n",
       "      <td>0.148033</td>\n",
       "      <td>0.651905</td>\n",
       "      <td>3.327240e+12</td>\n",
       "      <td>6.568157e+11</td>\n",
       "      <td>4.006143e+11</td>\n",
       "      <td>-2.670424e+12</td>\n",
       "      <td>-2.926626e+12</td>\n",
       "      <td>-2.562015e+11</td>\n",
       "    </tr>\n",
       "    <tr>\n",
       "      <th>3</th>\n",
       "      <td>1</td>\n",
       "      <td>1-1-193-820</td>\n",
       "      <td>94731812.0</td>\n",
       "      <td>24930716.0</td>\n",
       "      <td>14406728.0</td>\n",
       "      <td>0.263172</td>\n",
       "      <td>0.152079</td>\n",
       "      <td>0.577871</td>\n",
       "      <td>3.327240e+12</td>\n",
       "      <td>6.568157e+11</td>\n",
       "      <td>4.006143e+11</td>\n",
       "      <td>-2.670424e+12</td>\n",
       "      <td>-2.926626e+12</td>\n",
       "      <td>-2.562015e+11</td>\n",
       "    </tr>\n",
       "    <tr>\n",
       "      <th>4</th>\n",
       "      <td>1</td>\n",
       "      <td>1-1-193-819</td>\n",
       "      <td>94898789.0</td>\n",
       "      <td>26779844.0</td>\n",
       "      <td>15879716.0</td>\n",
       "      <td>0.282194</td>\n",
       "      <td>0.167333</td>\n",
       "      <td>0.592973</td>\n",
       "      <td>3.327240e+12</td>\n",
       "      <td>6.568157e+11</td>\n",
       "      <td>4.006143e+11</td>\n",
       "      <td>-2.670424e+12</td>\n",
       "      <td>-2.926626e+12</td>\n",
       "      <td>-2.562015e+11</td>\n",
       "    </tr>\n",
       "  </tbody>\n",
       "</table>\n",
       "</div>"
      ],
      "text/plain": [
       "   siteID    stationID  total_time_potential_usage_per_station  \\\n",
       "0       1  1-1-179-810                              95384200.0   \n",
       "1       1  1-1-193-825                              94919887.0   \n",
       "2       1  1-1-193-829                              94717743.0   \n",
       "3       1  1-1-193-820                              94731812.0   \n",
       "4       1  1-1-193-819                              94898789.0   \n",
       "\n",
       "   total_time_spend_per_station_connected  \\\n",
       "0                              16376796.0   \n",
       "1                              22526512.0   \n",
       "2                              21508359.0   \n",
       "3                              24930716.0   \n",
       "4                              26779844.0   \n",
       "\n",
       "   total_time_spend_per_station_charged  station_utilization_connection_rate  \\\n",
       "0                            10545940.0                             0.171693   \n",
       "1                            14757166.0                             0.237321   \n",
       "2                            14021398.0                             0.227078   \n",
       "3                            14406728.0                             0.263172   \n",
       "4                            15879716.0                             0.282194   \n",
       "\n",
       "   station_utilization_charging_rate  \\\n",
       "0                           0.110563   \n",
       "1                           0.155470   \n",
       "2                           0.148033   \n",
       "3                           0.152079   \n",
       "4                           0.167333   \n",
       "\n",
       "   station_utilization_charging_if_connected_rate  \\\n",
       "0                                        0.643956   \n",
       "1                                        0.655102   \n",
       "2                                        0.651905   \n",
       "3                                        0.577871   \n",
       "4                                        0.592973   \n",
       "\n",
       "   total_time_potential_usage_per_site  total_time_connected_usage_per_site  \\\n",
       "0                         3.327240e+12                         6.568157e+11   \n",
       "1                         3.327240e+12                         6.568157e+11   \n",
       "2                         3.327240e+12                         6.568157e+11   \n",
       "3                         3.327240e+12                         6.568157e+11   \n",
       "4                         3.327240e+12                         6.568157e+11   \n",
       "\n",
       "   total_time_charged_usage_per_site  site_utilization_connection_rate  \\\n",
       "0                       4.006143e+11                     -2.670424e+12   \n",
       "1                       4.006143e+11                     -2.670424e+12   \n",
       "2                       4.006143e+11                     -2.670424e+12   \n",
       "3                       4.006143e+11                     -2.670424e+12   \n",
       "4                       4.006143e+11                     -2.670424e+12   \n",
       "\n",
       "   site_utilization_charging_rate  site_utilization_charging_if_connected_rate  \n",
       "0                   -2.926626e+12                                -2.562015e+11  \n",
       "1                   -2.926626e+12                                -2.562015e+11  \n",
       "2                   -2.926626e+12                                -2.562015e+11  \n",
       "3                   -2.926626e+12                                -2.562015e+11  \n",
       "4                   -2.926626e+12                                -2.562015e+11  "
      ]
     },
     "execution_count": 56,
     "metadata": {},
     "output_type": "execute_result"
    }
   ],
   "source": [
    "# calculate the utilization rate of each site by summing up the TOTAL times and then calculating the rate.\n",
    "Charging_set_Utilization['total_time_potential_usage_per_site'] = Charging_set.groupby('siteID')['total_time_potential_usage_per_station'].transform('sum')\n",
    "Charging_set_Utilization['total_time_connected_usage_per_site'] = Charging_set.groupby('siteID')['total_time_spend_per_station_connected'].transform('sum')\n",
    "Charging_set_Utilization['total_time_charged_usage_per_site'] = Charging_set.groupby('siteID')['total_time_spend_per_station_charged'].transform('sum')\n",
    "\n",
    "Charging_set_Utilization['site_utilization_connection_rate'] = Charging_set_Utilization['total_time_connected_usage_per_site'] - Charging_set_Utilization['total_time_potential_usage_per_site']\n",
    "Charging_set_Utilization['site_utilization_charging_rate'] = Charging_set_Utilization['total_time_charged_usage_per_site'] - Charging_set_Utilization['total_time_potential_usage_per_site']\n",
    "Charging_set_Utilization['site_utilization_charging_if_connected_rate'] = Charging_set_Utilization['total_time_charged_usage_per_site'] - Charging_set_Utilization['total_time_connected_usage_per_site']\n",
    "\n",
    "Charging_set_Utilization.head()"
   ]
  },
  {
   "cell_type": "markdown",
   "id": "6603abf3",
   "metadata": {},
   "source": [
    "### Visualizing Utilization Rate"
   ]
  },
  {
   "cell_type": "code",
   "execution_count": 57,
   "id": "0fa8f7bc",
   "metadata": {},
   "outputs": [
    {
     "name": "stdout",
     "output_type": "stream",
     "text": [
      "siteID\n",
      "1    0.175432\n",
      "2    0.117336\n",
      "Name: station_utilization_connection_rate, dtype: float64\n",
      "siteID\n",
      "1    0.106656\n",
      "2    0.091288\n",
      "Name: station_utilization_charging_rate, dtype: float64\n",
      "siteID\n",
      "1    0.605677\n",
      "2    0.767667\n",
      "Name: station_utilization_charging_if_connected_rate, dtype: float64\n"
     ]
    }
   ],
   "source": [
    "# visualize the mean utilization rate of the stations grouped by each site to evaluate the utilization rate per site.\n",
    "mean_connection_utilization_by_site = Charging_set_Utilization.groupby('siteID')['station_utilization_connection_rate'].mean()\n",
    "print(mean_connection_utilization_by_site)\n",
    "mean_charging_utilization_by_site = Charging_set_Utilization.groupby('siteID')['station_utilization_charging_rate'].mean()\n",
    "print(mean_charging_utilization_by_site)\n",
    "mean_charging_if_conncted_utilization_by_site = Charging_set_Utilization.groupby('siteID')['station_utilization_charging_if_connected_rate'].mean()\n",
    "print(mean_charging_if_conncted_utilization_by_site)"
   ]
  },
  {
   "cell_type": "code",
   "execution_count": 58,
   "id": "cadb0a9a",
   "metadata": {},
   "outputs": [
    {
     "data": {
      "image/png": "[encoded data removed]",
      "text/plain": [
       "<Figure size 640x480 with 1 Axes>"
      ]
     },
     "metadata": {},
     "output_type": "display_data"
    }
   ],
   "source": [
    "import matplotlib.pyplot as plt\n",
    "means_df = pd.DataFrame({\n",
    "    'Connection Utilization': mean_connection_utilization_by_site,\n",
    "    'Charging Utilization': mean_charging_utilization_by_site,\n",
    "})\n",
    "means_df.plot(kind='bar', rot=0, colormap='viridis')\n",
    "plt.xlabel('Site ID')\n",
    "plt.ylabel('Mean Utilization Rate')\n",
    "plt.title('Mean Utilization Rates by Site')\n",
    "plt.legend(title='Utilization Type')\n",
    "plt.show()\n"
   ]
  },
  {
   "cell_type": "code",
   "execution_count": 59,
   "id": "c0b2a64d",
   "metadata": {},
   "outputs": [
    {
     "data": {
      "image/png": "[encoded data removed]",
      "text/plain": [
       "<Figure size 640x480 with 1 Axes>"
      ]
     },
     "metadata": {},
     "output_type": "display_data"
    }
   ],
   "source": [
    "mean_charging_if_conncted_utilization_by_site.plot(kind='bar', rot=0, color='skyblue')\n",
    "plt.xlabel('Site ID')\n",
    "plt.ylabel('Mean Utilization Rate')\n",
    "plt.title('Mean Utilization Rate by Site')\n",
    "plt.show()"
   ]
  },
  {
   "cell_type": "markdown",
   "id": "25833a48",
   "metadata": {},
   "source": [
    "## Hier kann noch die Mean utilization rate in anderer Art errechnet werden. Es wird nicht der mean aller stations genommen sondern die einzelnen Utilization zeiten zusammengerechnet und direkt eine Rate berechnet. So haben stations nicht alle die selbe Gewichtung, sondern nach der gesamten Nutzung"
   ]
  },
  {
   "cell_type": "markdown",
   "id": "53c8c976",
   "metadata": {},
   "source": []
  }
 ],
 "metadata": {
  "kernelspec": {
   "display_name": "Python 3 (ipykernel)",
   "language": "python",
   "name": "python3"
  },
  "language_info": {
   "codemirror_mode": {
    "name": "ipython",
    "version": 3
   },
   "file_extension": ".py",
   "mimetype": "text/x-python",
   "name": "python",
   "nbconvert_exporter": "python",
   "pygments_lexer": "ipython3",
   "version": "3.8.18"
  }
 },
 "nbformat": 4,
 "nbformat_minor": 5
}
