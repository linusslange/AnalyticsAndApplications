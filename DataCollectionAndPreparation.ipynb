{
 "cells": [
  {
   "cell_type": "markdown",
   "id": "827a722b-0073-462e-aa96-2b603b3544fc",
   "metadata": {},
   "source": [
    "# Task 1: Data Collection and Preparation"
   ]
  },
  {
   "cell_type": "code",
   "execution_count": 1,
   "id": "a50c5213-5731-49cd-be73-66b896fa6f11",
   "metadata": {},
   "outputs": [],
   "source": [
    "import pandas as pd"
   ]
  },
  {
   "cell_type": "markdown",
   "id": "c9f24730-e348-4e17-94a2-d26f37939c58",
   "metadata": {},
   "source": [
    "## Charging Sessions Dataset"
   ]
  },
  {
   "cell_type": "markdown",
   "id": "205e97f0-3292-444e-b9c5-00c5fd55df82",
   "metadata": {},
   "source": [
    "Read in the data as a dataframe. Interpret the date columns as dates."
   ]
  },
  {
   "cell_type": "code",
   "execution_count": 2,
   "id": "d4f6b558-5f33-4982-9d5f-73c74642fa28",
   "metadata": {},
   "outputs": [
    {
     "name": "stdout",
     "output_type": "stream",
     "text": [
      "Columns:  Index(['Unnamed: 0', 'id', 'connectionTime', 'disconnectTime',\n",
      "       'doneChargingTime', 'kWhDelivered', 'sessionID', 'siteID', 'spaceID',\n",
      "       'stationID', 'timezone', 'userID', 'userInputs'],\n",
      "      dtype='object')\n",
      "Number of rows:  66450\n"
     ]
    }
   ],
   "source": [
    "Charging_set = pd.read_csv('charging_sessions.csv', parse_dates=['connectionTime','disconnectTime','doneChargingTime'])\n",
    "print('Columns: ', Charging_set.columns)\n",
    "print('Number of rows: ', Charging_set.shape[0])"
   ]
  },
  {
   "cell_type": "markdown",
   "id": "40b7091b-9419-4cce-a8ff-0387d34b631f",
   "metadata": {},
   "source": [
    "Define functions to analyze the columns."
   ]
  },
  {
   "cell_type": "code",
   "execution_count": 3,
   "id": "e548998d-f4a5-495b-8307-10d685807496",
   "metadata": {},
   "outputs": [],
   "source": [
    "def missingValues(columnName, dataSet) :\n",
    "    if (dataSet[columnName].isnull().any()):\n",
    "        percentage = round(dataSet[columnName].isnull().sum()/Charging_set.shape[0]*100, 2)\n",
    "        print('The column contains', dataSet[columnName].isnull().sum(), 'missing values. This corresponds to', percentage, '%.')\n",
    "    else:\n",
    "        print('The column does not contain missing values.')\n",
    "\n",
    "def valueRange(columnName, dataSet) :\n",
    "    print('Min. value: ', dataSet[columnName].min(), '\\nMax. value: ', dataSet[columnName].max())\n",
    "\n",
    "def dataTypes(columnName, dataSet):\n",
    "    print('Occuring data types: ', dataSet[columnName].apply(type).unique())"
   ]
  },
  {
   "cell_type": "markdown",
   "id": "ec36e172-505c-4090-b2fa-6b52cd317ec1",
   "metadata": {},
   "source": [
    "### Column: number"
   ]
  },
  {
   "cell_type": "markdown",
   "id": "2673fdae-37bc-4dce-9471-c0d626a5cf26",
   "metadata": {},
   "source": [
    "Rename the unnamed column."
   ]
  },
  {
   "cell_type": "code",
   "execution_count": 4,
   "id": "ff87c0eb-386a-44dc-b805-c6e238f2c14b",
   "metadata": {},
   "outputs": [
    {
     "name": "stdout",
     "output_type": "stream",
     "text": [
      "Occuring data types:  [<class 'int'>]\n",
      "Min. value:  0 \n",
      "Max. value:  15291\n",
      "The column does not contain missing values.\n"
     ]
    }
   ],
   "source": [
    "Charging_set.rename(columns={'Unnamed: 0': 'number'}, inplace=True)\n",
    "dataTypes('number', Charging_set)\n",
    "valueRange('number', Charging_set)\n",
    "missingValues('number', Charging_set)"
   ]
  },
  {
   "cell_type": "markdown",
   "id": "fa0039b4-59f7-4ae9-8ffc-85c0b24700ad",
   "metadata": {},
   "source": [
    "BRAUCHEN WIR DIE SPALTE?"
   ]
  },
  {
   "cell_type": "markdown",
   "id": "3ed4dcd0-3444-43e6-b1d8-e4277c21b112",
   "metadata": {},
   "source": [
    "### Column: id"
   ]
  },
  {
   "cell_type": "code",
   "execution_count": 5,
   "id": "e22029b7-3865-43cb-a20e-5426b475c0c0",
   "metadata": {},
   "outputs": [
    {
     "name": "stdout",
     "output_type": "stream",
     "text": [
      "Occuring data types:  [<class 'str'>]\n",
      "Min. value:  5bc90cb9f9af8b0d7fe77cd2 \n",
      "Max. value:  6155053bf9af8b76960e16d1\n",
      "The column does not contain missing values.\n"
     ]
    }
   ],
   "source": [
    "dataTypes('id', Charging_set)\n",
    "valueRange('id', Charging_set)\n",
    "missingValues('id', Charging_set)"
   ]
  },
  {
   "cell_type": "markdown",
   "id": "f6222860-4c53-4a52-9c75-2325fe5b5c91",
   "metadata": {},
   "source": [
    "### Column: connectionTime"
   ]
  },
  {
   "cell_type": "code",
   "execution_count": 6,
   "id": "8c3c2c51-8cdf-436b-8c39-79911cdc4ce9",
   "metadata": {},
   "outputs": [
    {
     "name": "stdout",
     "output_type": "stream",
     "text": [
      "Occuring data types:  [<class 'pandas._libs.tslibs.timestamps.Timestamp'>]\n",
      "Min. value:  2018-04-25 11:08:04+00:00 \n",
      "Max. value:  2021-09-14 05:43:39+00:00\n",
      "The column does not contain missing values.\n"
     ]
    }
   ],
   "source": [
    "dataTypes('connectionTime', Charging_set)\n",
    "valueRange('connectionTime', Charging_set)\n",
    "missingValues('connectionTime', Charging_set)"
   ]
  },
  {
   "cell_type": "markdown",
   "id": "32b72304-0612-4364-b41b-13934e15928f",
   "metadata": {},
   "source": [
    "### Column: disconnectTime"
   ]
  },
  {
   "cell_type": "code",
   "execution_count": 7,
   "id": "2caa5717-1ef3-45f6-bb10-0a0374275b27",
   "metadata": {},
   "outputs": [
    {
     "name": "stdout",
     "output_type": "stream",
     "text": [
      "Occuring data types:  [<class 'pandas._libs.tslibs.timestamps.Timestamp'>]\n",
      "Min. value:  2018-04-25 13:20:10+00:00 \n",
      "Max. value:  2021-09-14 14:46:28+00:00\n",
      "The column does not contain missing values.\n"
     ]
    }
   ],
   "source": [
    "dataTypes('disconnectTime', Charging_set)\n",
    "valueRange('disconnectTime', Charging_set)\n",
    "missingValues('disconnectTime', Charging_set)"
   ]
  },
  {
   "cell_type": "markdown",
   "id": "0f373286-fecd-477e-b7d6-779686bf8912",
   "metadata": {},
   "source": [
    "### Column: doneChargingTime"
   ]
  },
  {
   "cell_type": "code",
   "execution_count": 8,
   "id": "67453ca3-2595-49f6-8005-6e9e5cea8824",
   "metadata": {},
   "outputs": [
    {
     "name": "stdout",
     "output_type": "stream",
     "text": [
      "Occuring data types:  [<class 'pandas._libs.tslibs.timestamps.Timestamp'>\n",
      " <class 'pandas._libs.tslibs.nattype.NaTType'>]\n",
      "Min. value:  2018-04-25 13:21:10+00:00 \n",
      "Max. value:  2021-09-14 14:46:22+00:00\n",
      "The column contains 4088 missing values. This corresponds to 6.15 %.\n"
     ]
    }
   ],
   "source": [
    "dataTypes('doneChargingTime', Charging_set)\n",
    "valueRange('doneChargingTime', Charging_set)\n",
    "missingValues('doneChargingTime', Charging_set)"
   ]
  },
  {
   "cell_type": "markdown",
   "id": "52128f93-9e08-4f60-ba3c-a67a5ab7f893",
   "metadata": {},
   "source": [
    "WOHER KOMMEN DIE FEHLENDEN WERTE?\n",
    "\n",
    "-> LIEGT NICHT DARAN, DASS NICHT GELADEN WURDE"
   ]
  },
  {
   "cell_type": "markdown",
   "id": "58fa0ed3-586a-46e0-8222-d1c9fb6cccc8",
   "metadata": {},
   "source": [
    "### new Column: totalConnectionTime"
   ]
  },
  {
   "cell_type": "code",
   "execution_count": 9,
   "id": "7c828473-5c62-4ab0-89bb-aebcb57c5b6e",
   "metadata": {},
   "outputs": [
    {
     "name": "stdout",
     "output_type": "stream",
     "text": [
      "Occuring data types:  [<class 'pandas._libs.tslibs.timedeltas.Timedelta'>]\n",
      "Min. value:  0 days 00:02:04 \n",
      "Max. value:  10 days 05:16:09\n",
      "The column does not contain missing values.\n"
     ]
    }
   ],
   "source": [
    "Charging_set['totalConnectionTime'] = Charging_set['disconnectTime'] - Charging_set['connectionTime']\n",
    "dataTypes('totalConnectionTime', Charging_set)\n",
    "valueRange('totalConnectionTime', Charging_set)\n",
    "missingValues('totalConnectionTime', Charging_set)"
   ]
  },
  {
   "cell_type": "markdown",
   "id": "66aeed3b-c04b-4708-bb7e-eb8fcbb60613",
   "metadata": {},
   "source": [
    "### new Column: totalChargingTime"
   ]
  },
  {
   "cell_type": "code",
   "execution_count": 10,
   "id": "ee05acd7-3c52-4404-ae93-a12551c81e0c",
   "metadata": {},
   "outputs": [
    {
     "name": "stdout",
     "output_type": "stream",
     "text": [
      "Occuring data types:  [<class 'pandas._libs.tslibs.timedeltas.Timedelta'>\n",
      " <class 'pandas._libs.tslibs.nattype.NaTType'>]\n",
      "Min. value:  -1 days +23:18:38 \n",
      "Max. value:  8 days 08:00:57\n",
      "The column contains 4088 missing values. This corresponds to 6.15 %.\n"
     ]
    }
   ],
   "source": [
    "Charging_set['totalChargingTime'] = Charging_set['doneChargingTime'] - Charging_set['connectionTime']\n",
    "dataTypes('totalChargingTime', Charging_set)\n",
    "valueRange('totalChargingTime', Charging_set)\n",
    "missingValues('totalChargingTime', Charging_set)"
   ]
  },
  {
   "cell_type": "markdown",
   "id": "8efbb7d1-3b28-4cce-b2f4-a73c3ab1ffae",
   "metadata": {},
   "source": [
    " WARUM IST doneChargingTime > disconnectTime?"
   ]
  },
  {
   "cell_type": "markdown",
   "id": "18131ff5-662b-4f28-97ba-971674f39316",
   "metadata": {},
   "source": [
    "### Column: kWhDelivered"
   ]
  },
  {
   "cell_type": "code",
   "execution_count": 11,
   "id": "00e058f9-df1c-4a9d-879b-31c75c91e98d",
   "metadata": {},
   "outputs": [
    {
     "name": "stdout",
     "output_type": "stream",
     "text": [
      "Occuring data types:  [<class 'float'>]\n",
      "Min. value:  0.501 \n",
      "Max. value:  108.79724166666666\n",
      "The column does not contain missing values.\n"
     ]
    }
   ],
   "source": [
    "dataTypes('kWhDelivered', Charging_set)\n",
    "valueRange('kWhDelivered', Charging_set)\n",
    "missingValues('kWhDelivered', Charging_set)"
   ]
  },
  {
   "cell_type": "markdown",
   "id": "1a411815-0e11-4711-950d-5e9f7a6b3cbf",
   "metadata": {},
   "source": [
    "### Column: sessionID"
   ]
  },
  {
   "cell_type": "code",
   "execution_count": 12,
   "id": "58fab568-ab0f-4e55-9f19-14799fdecda7",
   "metadata": {},
   "outputs": [
    {
     "name": "stdout",
     "output_type": "stream",
     "text": [
      "Occuring data types:  [<class 'str'>]\n",
      "Min. value:  1_1_178_817_2018-09-13 15:24:32.185314 \n",
      "Max. value:  2_39_95_444_2021-07-14 16:54:32.800222\n",
      "The column does not contain missing values.\n"
     ]
    }
   ],
   "source": [
    "dataTypes('sessionID', Charging_set)\n",
    "valueRange('sessionID', Charging_set)\n",
    "missingValues('sessionID', Charging_set)"
   ]
  },
  {
   "cell_type": "markdown",
   "id": "4cdeaacb-4d98-491a-973b-8a150410a2c3",
   "metadata": {},
   "source": [
    "### Column: siteID"
   ]
  },
  {
   "cell_type": "code",
   "execution_count": 13,
   "id": "e618e552-5214-474d-9308-8a572a11cc32",
   "metadata": {},
   "outputs": [
    {
     "name": "stdout",
     "output_type": "stream",
     "text": [
      "Occuring data types:  [<class 'int'>]\n",
      "Min. value:  1 \n",
      "Max. value:  2\n",
      "The column does not contain missing values.\n"
     ]
    }
   ],
   "source": [
    "dataTypes('siteID', Charging_set)\n",
    "valueRange('siteID', Charging_set)\n",
    "missingValues('siteID', Charging_set)"
   ]
  },
  {
   "cell_type": "markdown",
   "id": "607cf2d7-eb5a-486e-8f79-baa8f9966c75",
   "metadata": {},
   "source": [
    "### Column: spaceID"
   ]
  },
  {
   "cell_type": "code",
   "execution_count": 14,
   "id": "c293aa11-e75c-4687-8ce8-e38f523277aa",
   "metadata": {},
   "outputs": [
    {
     "name": "stdout",
     "output_type": "stream",
     "text": [
      "Occuring data types:  [<class 'str'>]\n",
      "Min. value:  11900388 \n",
      "Max. value:  CA-513\n",
      "The column does not contain missing values.\n"
     ]
    }
   ],
   "source": [
    "dataTypes('spaceID', Charging_set)\n",
    "valueRange('spaceID', Charging_set)\n",
    "missingValues('spaceID', Charging_set)"
   ]
  },
  {
   "cell_type": "markdown",
   "id": "76a1e0d2-2ab0-4938-a79f-e89e5f8ea92e",
   "metadata": {},
   "source": [
    "SIND UNTERSCHIEDLICHE ID TYPEN (CA..., AG..., ZAHLEN) EIN PROBLEM?"
   ]
  },
  {
   "cell_type": "markdown",
   "id": "511f1c9a-1417-4846-8bb1-0721262a4997",
   "metadata": {},
   "source": [
    "### Column: stationID"
   ]
  },
  {
   "cell_type": "code",
   "execution_count": 15,
   "id": "44206837-3b90-4e60-bee4-e7af402d0f20",
   "metadata": {},
   "outputs": [
    {
     "name": "stdout",
     "output_type": "stream",
     "text": [
      "Occuring data types:  [<class 'str'>]\n",
      "Min. value:  1-1-178-817 \n",
      "Max. value:  2-39-95-444\n",
      "The column does not contain missing values.\n"
     ]
    }
   ],
   "source": [
    "dataTypes('stationID', Charging_set)\n",
    "valueRange('stationID', Charging_set)\n",
    "missingValues('stationID', Charging_set)"
   ]
  },
  {
   "cell_type": "markdown",
   "id": "7f18154b-6873-4232-bd69-0655b05bebd1",
   "metadata": {},
   "source": [
    "### Column: timezone"
   ]
  },
  {
   "cell_type": "code",
   "execution_count": 16,
   "id": "f4f9bc3a-1dda-4e4f-9df0-32bc0ead7f6a",
   "metadata": {},
   "outputs": [
    {
     "name": "stdout",
     "output_type": "stream",
     "text": [
      "Occuring data types:  [<class 'str'>]\n",
      "Min. value:  America/Los_Angeles \n",
      "Max. value:  America/Los_Angeles\n",
      "The column does not contain missing values.\n",
      "Occuring values:  ['America/Los_Angeles']\n"
     ]
    }
   ],
   "source": [
    "dataTypes('timezone', Charging_set)\n",
    "valueRange('timezone', Charging_set)\n",
    "missingValues('timezone', Charging_set)\n",
    "print( 'Occuring values: ', Charging_set['timezone'].unique())"
   ]
  },
  {
   "cell_type": "markdown",
   "id": "cff9c9fd-b604-42c9-9b39-459ef3547e63",
   "metadata": {},
   "source": [
    "The column 'timezone' only contains identical values. Therefore, it can be deleted."
   ]
  },
  {
   "cell_type": "code",
   "execution_count": 17,
   "id": "bd896003-9337-4a87-ab08-b0b191b219cb",
   "metadata": {},
   "outputs": [],
   "source": [
    "Charging_set = Charging_set.drop(['timezone'], axis=1)"
   ]
  },
  {
   "cell_type": "markdown",
   "id": "7f89d232-b8f9-4ca1-9415-123a00ad9813",
   "metadata": {},
   "source": [
    "### Column: userID"
   ]
  },
  {
   "cell_type": "code",
   "execution_count": 40,
   "id": "26d30880-5a70-4d45-86f5-ee67f379f8ff",
   "metadata": {},
   "outputs": [
    {
     "name": "stdout",
     "output_type": "stream",
     "text": [
      "Occuring data types:  [<class 'float'>]\n",
      "Min. value:  1.0 \n",
      "Max. value:  19923.0\n",
      "The column contains 17263 missing values. This corresponds to 25.98 %.\n"
     ]
    }
   ],
   "source": [
    "dataTypes('userID', Charging_set)\n",
    "valueRange('userID', Charging_set)\n",
    "missingValues('userID', Charging_set)"
   ]
  },
  {
   "cell_type": "markdown",
   "id": "f79554d1-fa79-4da2-89a8-c071dbccfc55",
   "metadata": {},
   "source": [
    "SOLLEN NaN WERTE ERSETZT WERDEN?"
   ]
  },
  {
   "cell_type": "markdown",
   "id": "267e96c8-812e-4553-8d7a-89475035ec01",
   "metadata": {},
   "source": [
    "### Column: userInputs"
   ]
  },
  {
   "cell_type": "code",
   "execution_count": 19,
   "id": "2047c911-a8cb-4878-a149-ffe1c5da73db",
   "metadata": {},
   "outputs": [
    {
     "name": "stdout",
     "output_type": "stream",
     "text": [
      "Occuring data types:  [<class 'str'> <class 'float'>]\n",
      "The column contains 17263 missing values. This corresponds to 25.98 %.\n"
     ]
    },
    {
     "data": {
      "text/plain": [
       "\"[{'WhPerMile': 400, 'kWhRequested': 8.0, 'milesRequested': 20, 'minutesAvailable': 65, 'modifiedAt': 'Thu, 02 Jan 2020 14:00:03 GMT', 'paymentRequired': True, 'requestedDeparture': 'Thu, 02 Jan 2020 15:04:58 GMT', 'userID': 1117}, {'WhPerMile': 400, 'kWhRequested': 8.0, 'milesRequested': 20, 'minutesAvailable': 65, 'modifiedAt': 'Thu, 02 Jan 2020 14:00:19 GMT', 'paymentRequired': True, 'requestedDeparture': 'Thu, 02 Jan 2020 15:04:58 GMT', 'userID': 1117}]\""
      ]
     },
     "execution_count": 19,
     "metadata": {},
     "output_type": "execute_result"
    }
   ],
   "source": [
    "dataTypes('userInputs', Charging_set)\n",
    "missingValues('userInputs', Charging_set)\n",
    "Charging_set.at[3, 'userInputs']"
   ]
  },
  {
   "cell_type": "markdown",
   "id": "b41f6a51-d3b8-476c-8a44-01693404c8df",
   "metadata": {},
   "source": [
    "PROBLEM: TEILWEISE SIND MEHRERE USER INPUTS VORHANDEN"
   ]
  },
  {
   "cell_type": "markdown",
   "id": "e6b81f32-3cac-47c8-8827-723ab66ab8c4",
   "metadata": {},
   "source": [
    "### Dataset description"
   ]
  },
  {
   "cell_type": "code",
   "execution_count": 20,
   "id": "4500ed71-9203-4dfa-8d4b-9752b695f540",
   "metadata": {
    "scrolled": true
   },
   "outputs": [
    {
     "name": "stdout",
     "output_type": "stream",
     "text": [
      "<class 'pandas.core.frame.DataFrame'>\n",
      "RangeIndex: 66450 entries, 0 to 66449\n",
      "Data columns (total 14 columns):\n",
      " #   Column               Non-Null Count  Dtype              \n",
      "---  ------               --------------  -----              \n",
      " 0   number               66450 non-null  int64              \n",
      " 1   id                   66450 non-null  object             \n",
      " 2   connectionTime       66450 non-null  datetime64[ns, UTC]\n",
      " 3   disconnectTime       66450 non-null  datetime64[ns, UTC]\n",
      " 4   doneChargingTime     62362 non-null  datetime64[ns, UTC]\n",
      " 5   kWhDelivered         66450 non-null  float64            \n",
      " 6   sessionID            66450 non-null  object             \n",
      " 7   siteID               66450 non-null  int64              \n",
      " 8   spaceID              66450 non-null  object             \n",
      " 9   stationID            66450 non-null  object             \n",
      " 10  userID               49187 non-null  float64            \n",
      " 11  userInputs           49187 non-null  object             \n",
      " 12  totalConnectionTime  66450 non-null  timedelta64[ns]    \n",
      " 13  totalChargingTime    62362 non-null  timedelta64[ns]    \n",
      "dtypes: datetime64[ns, UTC](3), float64(2), int64(2), object(5), timedelta64[ns](2)\n",
      "memory usage: 7.1+ MB\n"
     ]
    },
    {
     "data": {
      "text/html": [
       "<div>\n",
       "<style scoped>\n",
       "    .dataframe tbody tr th:only-of-type {\n",
       "        vertical-align: middle;\n",
       "    }\n",
       "\n",
       "    .dataframe tbody tr th {\n",
       "        vertical-align: top;\n",
       "    }\n",
       "\n",
       "    .dataframe thead th {\n",
       "        text-align: right;\n",
       "    }\n",
       "</style>\n",
       "<table border=\"1\" class=\"dataframe\">\n",
       "  <thead>\n",
       "    <tr style=\"text-align: right;\">\n",
       "      <th></th>\n",
       "      <th>number</th>\n",
       "      <th>id</th>\n",
       "      <th>connectionTime</th>\n",
       "      <th>disconnectTime</th>\n",
       "      <th>doneChargingTime</th>\n",
       "      <th>kWhDelivered</th>\n",
       "      <th>sessionID</th>\n",
       "      <th>siteID</th>\n",
       "      <th>spaceID</th>\n",
       "      <th>stationID</th>\n",
       "      <th>userID</th>\n",
       "      <th>userInputs</th>\n",
       "      <th>totalConnectionTime</th>\n",
       "      <th>totalChargingTime</th>\n",
       "    </tr>\n",
       "  </thead>\n",
       "  <tbody>\n",
       "    <tr>\n",
       "      <th>0</th>\n",
       "      <td>0</td>\n",
       "      <td>5e23b149f9af8b5fe4b973cf</td>\n",
       "      <td>2020-01-02 13:08:54+00:00</td>\n",
       "      <td>2020-01-02 19:11:15+00:00</td>\n",
       "      <td>2020-01-02 17:31:35+00:00</td>\n",
       "      <td>25.016</td>\n",
       "      <td>1_1_179_810_2020-01-02 13:08:53.870034</td>\n",
       "      <td>1</td>\n",
       "      <td>AG-3F30</td>\n",
       "      <td>1-1-179-810</td>\n",
       "      <td>194.0</td>\n",
       "      <td>[{'WhPerMile': 250, 'kWhRequested': 25.0, 'mil...</td>\n",
       "      <td>0 days 06:02:21</td>\n",
       "      <td>0 days 04:22:41</td>\n",
       "    </tr>\n",
       "    <tr>\n",
       "      <th>1</th>\n",
       "      <td>1</td>\n",
       "      <td>5e23b149f9af8b5fe4b973d0</td>\n",
       "      <td>2020-01-02 13:36:50+00:00</td>\n",
       "      <td>2020-01-02 22:38:21+00:00</td>\n",
       "      <td>2020-01-02 20:18:05+00:00</td>\n",
       "      <td>33.097</td>\n",
       "      <td>1_1_193_825_2020-01-02 13:36:49.599853</td>\n",
       "      <td>1</td>\n",
       "      <td>AG-1F01</td>\n",
       "      <td>1-1-193-825</td>\n",
       "      <td>4275.0</td>\n",
       "      <td>[{'WhPerMile': 280, 'kWhRequested': 70.0, 'mil...</td>\n",
       "      <td>0 days 09:01:31</td>\n",
       "      <td>0 days 06:41:15</td>\n",
       "    </tr>\n",
       "    <tr>\n",
       "      <th>2</th>\n",
       "      <td>2</td>\n",
       "      <td>5e23b149f9af8b5fe4b973d1</td>\n",
       "      <td>2020-01-02 13:56:35+00:00</td>\n",
       "      <td>2020-01-03 00:39:22+00:00</td>\n",
       "      <td>2020-01-02 16:35:06+00:00</td>\n",
       "      <td>6.521</td>\n",
       "      <td>1_1_193_829_2020-01-02 13:56:35.214993</td>\n",
       "      <td>1</td>\n",
       "      <td>AG-1F03</td>\n",
       "      <td>1-1-193-829</td>\n",
       "      <td>344.0</td>\n",
       "      <td>[{'WhPerMile': 400, 'kWhRequested': 8.0, 'mile...</td>\n",
       "      <td>0 days 10:42:47</td>\n",
       "      <td>0 days 02:38:31</td>\n",
       "    </tr>\n",
       "    <tr>\n",
       "      <th>3</th>\n",
       "      <td>3</td>\n",
       "      <td>5e23b149f9af8b5fe4b973d2</td>\n",
       "      <td>2020-01-02 13:59:58+00:00</td>\n",
       "      <td>2020-01-02 16:38:39+00:00</td>\n",
       "      <td>2020-01-02 15:18:45+00:00</td>\n",
       "      <td>2.355</td>\n",
       "      <td>1_1_193_820_2020-01-02 13:59:58.309319</td>\n",
       "      <td>1</td>\n",
       "      <td>AG-1F04</td>\n",
       "      <td>1-1-193-820</td>\n",
       "      <td>1117.0</td>\n",
       "      <td>[{'WhPerMile': 400, 'kWhRequested': 8.0, 'mile...</td>\n",
       "      <td>0 days 02:38:41</td>\n",
       "      <td>0 days 01:18:47</td>\n",
       "    </tr>\n",
       "    <tr>\n",
       "      <th>4</th>\n",
       "      <td>4</td>\n",
       "      <td>5e23b149f9af8b5fe4b973d3</td>\n",
       "      <td>2020-01-02 14:00:01+00:00</td>\n",
       "      <td>2020-01-02 22:08:40+00:00</td>\n",
       "      <td>2020-01-02 18:17:30+00:00</td>\n",
       "      <td>13.375</td>\n",
       "      <td>1_1_193_819_2020-01-02 14:00:00.779967</td>\n",
       "      <td>1</td>\n",
       "      <td>AG-1F06</td>\n",
       "      <td>1-1-193-819</td>\n",
       "      <td>334.0</td>\n",
       "      <td>[{'WhPerMile': 400, 'kWhRequested': 16.0, 'mil...</td>\n",
       "      <td>0 days 08:08:39</td>\n",
       "      <td>0 days 04:17:29</td>\n",
       "    </tr>\n",
       "    <tr>\n",
       "      <th>...</th>\n",
       "      <td>...</td>\n",
       "      <td>...</td>\n",
       "      <td>...</td>\n",
       "      <td>...</td>\n",
       "      <td>...</td>\n",
       "      <td>...</td>\n",
       "      <td>...</td>\n",
       "      <td>...</td>\n",
       "      <td>...</td>\n",
       "      <td>...</td>\n",
       "      <td>...</td>\n",
       "      <td>...</td>\n",
       "      <td>...</td>\n",
       "      <td>...</td>\n",
       "    </tr>\n",
       "    <tr>\n",
       "      <th>66445</th>\n",
       "      <td>10083</td>\n",
       "      <td>5d574ad2f9af8b4c10c03652</td>\n",
       "      <td>2019-07-31 18:08:04+00:00</td>\n",
       "      <td>2019-07-31 23:29:18+00:00</td>\n",
       "      <td>2019-07-31 23:30:18+00:00</td>\n",
       "      <td>28.787</td>\n",
       "      <td>1_1_179_809_2019-07-31 18:08:04.432654</td>\n",
       "      <td>1</td>\n",
       "      <td>AG-3F27</td>\n",
       "      <td>1-1-179-809</td>\n",
       "      <td>393.0</td>\n",
       "      <td>[{'WhPerMile': 240, 'kWhRequested': 31.2, 'mil...</td>\n",
       "      <td>0 days 05:21:14</td>\n",
       "      <td>0 days 05:22:14</td>\n",
       "    </tr>\n",
       "    <tr>\n",
       "      <th>66446</th>\n",
       "      <td>10084</td>\n",
       "      <td>5d574ad2f9af8b4c10c03653</td>\n",
       "      <td>2019-07-31 18:40:41+00:00</td>\n",
       "      <td>2019-08-01 00:59:42+00:00</td>\n",
       "      <td>2019-07-31 21:44:23+00:00</td>\n",
       "      <td>7.787</td>\n",
       "      <td>1_1_179_810_2019-07-31 18:40:40.900203</td>\n",
       "      <td>1</td>\n",
       "      <td>AG-3F30</td>\n",
       "      <td>1-1-179-810</td>\n",
       "      <td>220.0</td>\n",
       "      <td>[{'WhPerMile': 333, 'kWhRequested': 6.66, 'mil...</td>\n",
       "      <td>0 days 06:19:01</td>\n",
       "      <td>0 days 03:03:42</td>\n",
       "    </tr>\n",
       "    <tr>\n",
       "      <th>66447</th>\n",
       "      <td>10085</td>\n",
       "      <td>5d574ad2f9af8b4c10c03654</td>\n",
       "      <td>2019-07-31 19:04:40+00:00</td>\n",
       "      <td>2019-07-31 22:44:22+00:00</td>\n",
       "      <td>2019-07-31 22:45:21+00:00</td>\n",
       "      <td>11.274</td>\n",
       "      <td>1_1_191_795_2019-07-31 19:04:40.098273</td>\n",
       "      <td>1</td>\n",
       "      <td>AG-4F51</td>\n",
       "      <td>1-1-191-795</td>\n",
       "      <td>1974.0</td>\n",
       "      <td>[{'WhPerMile': 333, 'kWhRequested': 19.98, 'mi...</td>\n",
       "      <td>0 days 03:39:42</td>\n",
       "      <td>0 days 03:40:41</td>\n",
       "    </tr>\n",
       "    <tr>\n",
       "      <th>66448</th>\n",
       "      <td>10086</td>\n",
       "      <td>5d574ad2f9af8b4c10c03655</td>\n",
       "      <td>2019-07-31 19:19:47+00:00</td>\n",
       "      <td>2019-08-01 00:34:51+00:00</td>\n",
       "      <td>2019-07-31 21:25:30+00:00</td>\n",
       "      <td>11.589</td>\n",
       "      <td>1_1_191_778_2019-07-31 19:19:46.919358</td>\n",
       "      <td>1</td>\n",
       "      <td>AG-4F43</td>\n",
       "      <td>1-1-191-778</td>\n",
       "      <td>942.0</td>\n",
       "      <td>[{'WhPerMile': 275, 'kWhRequested': 22.0, 'mil...</td>\n",
       "      <td>0 days 05:15:04</td>\n",
       "      <td>0 days 02:05:43</td>\n",
       "    </tr>\n",
       "    <tr>\n",
       "      <th>66449</th>\n",
       "      <td>10087</td>\n",
       "      <td>5d574ad2f9af8b4c10c03656</td>\n",
       "      <td>2019-07-31 19:21:47+00:00</td>\n",
       "      <td>2019-07-31 22:00:04+00:00</td>\n",
       "      <td>2019-07-31 20:51:34+00:00</td>\n",
       "      <td>0.897</td>\n",
       "      <td>1_1_178_817_2019-07-31 19:21:46.727697</td>\n",
       "      <td>1</td>\n",
       "      <td>AG-1F09</td>\n",
       "      <td>1-1-178-817</td>\n",
       "      <td>NaN</td>\n",
       "      <td>NaN</td>\n",
       "      <td>0 days 02:38:17</td>\n",
       "      <td>0 days 01:29:47</td>\n",
       "    </tr>\n",
       "  </tbody>\n",
       "</table>\n",
       "<p>66450 rows × 14 columns</p>\n",
       "</div>"
      ],
      "text/plain": [
       "       number                        id            connectionTime  \\\n",
       "0           0  5e23b149f9af8b5fe4b973cf 2020-01-02 13:08:54+00:00   \n",
       "1           1  5e23b149f9af8b5fe4b973d0 2020-01-02 13:36:50+00:00   \n",
       "2           2  5e23b149f9af8b5fe4b973d1 2020-01-02 13:56:35+00:00   \n",
       "3           3  5e23b149f9af8b5fe4b973d2 2020-01-02 13:59:58+00:00   \n",
       "4           4  5e23b149f9af8b5fe4b973d3 2020-01-02 14:00:01+00:00   \n",
       "...       ...                       ...                       ...   \n",
       "66445   10083  5d574ad2f9af8b4c10c03652 2019-07-31 18:08:04+00:00   \n",
       "66446   10084  5d574ad2f9af8b4c10c03653 2019-07-31 18:40:41+00:00   \n",
       "66447   10085  5d574ad2f9af8b4c10c03654 2019-07-31 19:04:40+00:00   \n",
       "66448   10086  5d574ad2f9af8b4c10c03655 2019-07-31 19:19:47+00:00   \n",
       "66449   10087  5d574ad2f9af8b4c10c03656 2019-07-31 19:21:47+00:00   \n",
       "\n",
       "                 disconnectTime          doneChargingTime  kWhDelivered  \\\n",
       "0     2020-01-02 19:11:15+00:00 2020-01-02 17:31:35+00:00        25.016   \n",
       "1     2020-01-02 22:38:21+00:00 2020-01-02 20:18:05+00:00        33.097   \n",
       "2     2020-01-03 00:39:22+00:00 2020-01-02 16:35:06+00:00         6.521   \n",
       "3     2020-01-02 16:38:39+00:00 2020-01-02 15:18:45+00:00         2.355   \n",
       "4     2020-01-02 22:08:40+00:00 2020-01-02 18:17:30+00:00        13.375   \n",
       "...                         ...                       ...           ...   \n",
       "66445 2019-07-31 23:29:18+00:00 2019-07-31 23:30:18+00:00        28.787   \n",
       "66446 2019-08-01 00:59:42+00:00 2019-07-31 21:44:23+00:00         7.787   \n",
       "66447 2019-07-31 22:44:22+00:00 2019-07-31 22:45:21+00:00        11.274   \n",
       "66448 2019-08-01 00:34:51+00:00 2019-07-31 21:25:30+00:00        11.589   \n",
       "66449 2019-07-31 22:00:04+00:00 2019-07-31 20:51:34+00:00         0.897   \n",
       "\n",
       "                                    sessionID  siteID  spaceID    stationID  \\\n",
       "0      1_1_179_810_2020-01-02 13:08:53.870034       1  AG-3F30  1-1-179-810   \n",
       "1      1_1_193_825_2020-01-02 13:36:49.599853       1  AG-1F01  1-1-193-825   \n",
       "2      1_1_193_829_2020-01-02 13:56:35.214993       1  AG-1F03  1-1-193-829   \n",
       "3      1_1_193_820_2020-01-02 13:59:58.309319       1  AG-1F04  1-1-193-820   \n",
       "4      1_1_193_819_2020-01-02 14:00:00.779967       1  AG-1F06  1-1-193-819   \n",
       "...                                       ...     ...      ...          ...   \n",
       "66445  1_1_179_809_2019-07-31 18:08:04.432654       1  AG-3F27  1-1-179-809   \n",
       "66446  1_1_179_810_2019-07-31 18:40:40.900203       1  AG-3F30  1-1-179-810   \n",
       "66447  1_1_191_795_2019-07-31 19:04:40.098273       1  AG-4F51  1-1-191-795   \n",
       "66448  1_1_191_778_2019-07-31 19:19:46.919358       1  AG-4F43  1-1-191-778   \n",
       "66449  1_1_178_817_2019-07-31 19:21:46.727697       1  AG-1F09  1-1-178-817   \n",
       "\n",
       "       userID                                         userInputs  \\\n",
       "0       194.0  [{'WhPerMile': 250, 'kWhRequested': 25.0, 'mil...   \n",
       "1      4275.0  [{'WhPerMile': 280, 'kWhRequested': 70.0, 'mil...   \n",
       "2       344.0  [{'WhPerMile': 400, 'kWhRequested': 8.0, 'mile...   \n",
       "3      1117.0  [{'WhPerMile': 400, 'kWhRequested': 8.0, 'mile...   \n",
       "4       334.0  [{'WhPerMile': 400, 'kWhRequested': 16.0, 'mil...   \n",
       "...       ...                                                ...   \n",
       "66445   393.0  [{'WhPerMile': 240, 'kWhRequested': 31.2, 'mil...   \n",
       "66446   220.0  [{'WhPerMile': 333, 'kWhRequested': 6.66, 'mil...   \n",
       "66447  1974.0  [{'WhPerMile': 333, 'kWhRequested': 19.98, 'mi...   \n",
       "66448   942.0  [{'WhPerMile': 275, 'kWhRequested': 22.0, 'mil...   \n",
       "66449     NaN                                                NaN   \n",
       "\n",
       "      totalConnectionTime totalChargingTime  \n",
       "0         0 days 06:02:21   0 days 04:22:41  \n",
       "1         0 days 09:01:31   0 days 06:41:15  \n",
       "2         0 days 10:42:47   0 days 02:38:31  \n",
       "3         0 days 02:38:41   0 days 01:18:47  \n",
       "4         0 days 08:08:39   0 days 04:17:29  \n",
       "...                   ...               ...  \n",
       "66445     0 days 05:21:14   0 days 05:22:14  \n",
       "66446     0 days 06:19:01   0 days 03:03:42  \n",
       "66447     0 days 03:39:42   0 days 03:40:41  \n",
       "66448     0 days 05:15:04   0 days 02:05:43  \n",
       "66449     0 days 02:38:17   0 days 01:29:47  \n",
       "\n",
       "[66450 rows x 14 columns]"
      ]
     },
     "execution_count": 20,
     "metadata": {},
     "output_type": "execute_result"
    }
   ],
   "source": [
    "Charging_set.info()\n",
    "Charging_set"
   ]
  },
  {
   "cell_type": "markdown",
   "id": "622ce60d-d7b9-4dea-9ede-f5d25df628e1",
   "metadata": {},
   "source": [
    "## Weather Burbank Airport Dataset"
   ]
  },
  {
   "cell_type": "markdown",
   "id": "ade3f1db-763c-478a-b325-8125865d57ea",
   "metadata": {},
   "source": [
    "Read in the data as a dataframe. Interpret the date columns as dates."
   ]
  },
  {
   "cell_type": "code",
   "execution_count": 21,
   "id": "1a314334-0512-42f2-90d8-b9cdf191da68",
   "metadata": {},
   "outputs": [
    {
     "name": "stdout",
     "output_type": "stream",
     "text": [
      "Columns:  Index(['city', 'timestamp', 'temperature', 'cloud_cover',\n",
      "       'cloud_cover_description', 'pressure', 'windspeed', 'precipitation',\n",
      "       'felt_temperature'],\n",
      "      dtype='object')\n",
      "Number of rows:  29244\n"
     ]
    }
   ],
   "source": [
    "Weather_set = pd.read_csv('weather_burbank_airport.csv', parse_dates=['timestamp'])\n",
    "print('Columns: ', Weather_set.columns)\n",
    "print('Number of rows: ', Weather_set.shape[0])"
   ]
  },
  {
   "cell_type": "markdown",
   "id": "8d7a3e08-a4a3-4288-84a2-600df674239d",
   "metadata": {},
   "source": [
    "### Column: city"
   ]
  },
  {
   "cell_type": "code",
   "execution_count": 22,
   "id": "6a9961d9-4264-4feb-8d82-17809aee33a8",
   "metadata": {},
   "outputs": [
    {
     "name": "stdout",
     "output_type": "stream",
     "text": [
      "Occuring data types:  [<class 'str'>]\n",
      "Min. value:  Burbank \n",
      "Max. value:  Burbank\n",
      "The column does not contain missing values.\n",
      "Occuring values:  ['Burbank']\n"
     ]
    }
   ],
   "source": [
    "dataTypes('city', Weather_set)\n",
    "valueRange('city', Weather_set)\n",
    "missingValues('city', Weather_set)\n",
    "print( 'Occuring values: ', Weather_set['city'].unique())"
   ]
  },
  {
   "cell_type": "markdown",
   "id": "b95842ab-93c1-46ee-a74a-a0f08bfeb4d1",
   "metadata": {},
   "source": [
    "The column 'city' only contains identical values. Therefore, it can be deleted."
   ]
  },
  {
   "cell_type": "code",
   "execution_count": 23,
   "id": "17db8dd8-abb0-4c24-9a5d-65b46228ca6a",
   "metadata": {},
   "outputs": [],
   "source": [
    "Weather_set = Weather_set.drop(['city'], axis=1)"
   ]
  },
  {
   "cell_type": "markdown",
   "id": "6aa6685a-03ca-40a9-b962-21da61cf7dda",
   "metadata": {},
   "source": [
    "### Column: timestamp"
   ]
  },
  {
   "cell_type": "code",
   "execution_count": 24,
   "id": "4a10cd7d-8050-4d31-8cda-df7f12dd0754",
   "metadata": {},
   "outputs": [
    {
     "name": "stdout",
     "output_type": "stream",
     "text": [
      "Occuring data types:  [<class 'pandas._libs.tslibs.timestamps.Timestamp'>]\n",
      "Min. value:  2018-01-01 08:53:00 \n",
      "Max. value:  2021-01-01 07:53:00\n",
      "The column does not contain missing values.\n",
      "The rows are ordered by increasing time.\n"
     ]
    }
   ],
   "source": [
    "dataTypes('timestamp', Weather_set)\n",
    "valueRange('timestamp', Weather_set)\n",
    "missingValues('timestamp', Weather_set)\n",
    "if Weather_set['timestamp'].is_monotonic_increasing :\n",
    "    print('The rows are ordered by increasing time.')"
   ]
  },
  {
   "attachments": {},
   "cell_type": "markdown",
   "id": "81c5ef31-a438-478b-9454-6c15c8a695b8",
   "metadata": {},
   "source": [
    "The Charging Session Dataset contains data between 2018-04-25 11:08:04+00:00 and 2021-09-14 14:46:28+00:00.\n",
    "\n",
    "The Weather Burbank Airport Dataset contains data between 2018-01-01 08:53:00 and 2021-01-01 07:53:00.\n",
    "\n",
    "Problem: this is not the same time span!"
   ]
  },
  {
   "cell_type": "markdown",
   "id": "199227c7-c276-498e-8fd5-1ca42cc4741c",
   "metadata": {},
   "source": [
    "### Column: temperature"
   ]
  },
  {
   "cell_type": "code",
   "execution_count": 25,
   "id": "fa1c6c15-eb2c-426f-9eb6-247b19d21557",
   "metadata": {},
   "outputs": [
    {
     "name": "stdout",
     "output_type": "stream",
     "text": [
      "Occuring data types:  [<class 'float'>]\n",
      "Min. value:  2.0 \n",
      "Max. value:  46.0\n",
      "The column contains 25 missing values. This corresponds to 0.04 %.\n"
     ]
    }
   ],
   "source": [
    "dataTypes('temperature', Weather_set)\n",
    "valueRange('temperature', Weather_set)\n",
    "missingValues('temperature', Weather_set)"
   ]
  },
  {
   "cell_type": "markdown",
   "id": "bbfb210e-1f4b-465e-a412-2ec68bc08da6",
   "metadata": {},
   "source": [
    "In order not to lose rows with missing values, we replace these. As the data ist sorted by time and therefore the true values are close to the surrounding values, we perform a forward fill for the missing values."
   ]
  },
  {
   "cell_type": "code",
   "execution_count": 26,
   "id": "8255d6e6-1bf2-40f6-a235-c0463c60c7e8",
   "metadata": {},
   "outputs": [
    {
     "name": "stdout",
     "output_type": "stream",
     "text": [
      "The column does not contain missing values.\n"
     ]
    }
   ],
   "source": [
    "Weather_set['temperature'] = Weather_set['temperature'].ffill()\n",
    "missingValues('temperature', Weather_set)"
   ]
  },
  {
   "cell_type": "markdown",
   "id": "7904f859-445e-4b08-98de-c52f91f20fae",
   "metadata": {},
   "source": [
    "### Column: cloud_cover"
   ]
  },
  {
   "cell_type": "code",
   "execution_count": 27,
   "id": "e8c9e343-5c9a-4e62-b8e4-4f93207343e4",
   "metadata": {},
   "outputs": [
    {
     "name": "stdout",
     "output_type": "stream",
     "text": [
      "Occuring data types:  [<class 'float'>]\n",
      "Min. value:  4.0 \n",
      "Max. value:  47.0\n",
      "The column contains 20 missing values. This corresponds to 0.03 %.\n"
     ]
    }
   ],
   "source": [
    "dataTypes('cloud_cover', Weather_set)\n",
    "valueRange('cloud_cover', Weather_set)\n",
    "missingValues('cloud_cover', Weather_set)"
   ]
  },
  {
   "cell_type": "markdown",
   "id": "a26e9f19-46b2-4037-b122-e483d65c02ef",
   "metadata": {},
   "source": [
    "In order not to lose rows with missing values, we replace these. As the data ist sorted by time and therefore the true values are close to the surrounding values, we perform a forward fill for the missing values."
   ]
  },
  {
   "cell_type": "code",
   "execution_count": 28,
   "id": "d5fb6e92-5bb1-4cad-b5cc-66f7fc293e95",
   "metadata": {},
   "outputs": [
    {
     "name": "stdout",
     "output_type": "stream",
     "text": [
      "The column does not contain missing values.\n"
     ]
    }
   ],
   "source": [
    "Weather_set['cloud_cover'] = Weather_set['cloud_cover'].ffill()\n",
    "missingValues('cloud_cover', Weather_set)"
   ]
  },
  {
   "cell_type": "markdown",
   "id": "861e2c8f-d8c5-47fe-b90e-a42cb4a486b2",
   "metadata": {},
   "source": [
    "### Column: cloud_cover_description"
   ]
  },
  {
   "cell_type": "code",
   "execution_count": 29,
   "id": "09053086-20aa-4010-b433-aa713685674e",
   "metadata": {},
   "outputs": [
    {
     "name": "stdout",
     "output_type": "stream",
     "text": [
      "Occuring data types:  [<class 'str'> <class 'float'>]\n",
      "The column contains 20 missing values. This corresponds to 0.03 %.\n"
     ]
    }
   ],
   "source": [
    "dataTypes('cloud_cover_description', Weather_set)\n",
    "missingValues('cloud_cover_description', Weather_set)"
   ]
  },
  {
   "cell_type": "markdown",
   "id": "426b1184-28d6-4827-a448-9b3f5e653e66",
   "metadata": {},
   "source": [
    "In order not to lose rows with missing values, we replace these. As the data ist sorted by time and therefore the true values are close to the surrounding values, we perform a forward fill for the missing values."
   ]
  },
  {
   "cell_type": "code",
   "execution_count": 30,
   "id": "3ad57dcd-5975-4fc0-b19a-0d1322c2b85a",
   "metadata": {},
   "outputs": [
    {
     "name": "stdout",
     "output_type": "stream",
     "text": [
      "The column does not contain missing values.\n"
     ]
    }
   ],
   "source": [
    "Weather_set['cloud_cover_description'] = Weather_set['cloud_cover_description'].ffill()\n",
    "missingValues('cloud_cover_description', Weather_set)"
   ]
  },
  {
   "cell_type": "code",
   "execution_count": 42,
   "id": "aef28262-9b23-4818-8e0e-d7425afb7a18",
   "metadata": {},
   "outputs": [
    {
     "data": {
      "text/plain": [
       "cloud_cover_description\n",
       "Fair                       17140\n",
       "Cloudy                      4937\n",
       "Partly Cloudy               2668\n",
       "Mostly Cloudy               1831\n",
       "Light Rain                   896\n",
       "Haze                         579\n",
       "Smoke                        329\n",
       "Fog                          325\n",
       "Rain                         247\n",
       "Heavy Rain                   120\n",
       "Fair / Windy                  74\n",
       "T-Storm                       18\n",
       "Thunder in the Vicinity       17\n",
       "Partly Cloudy / Windy         14\n",
       "Light Rain / Windy            10\n",
       "Mostly Cloudy / Windy         10\n",
       "Cloudy / Windy                 9\n",
       "Heavy Rain / Windy             7\n",
       "Blowing Dust                   5\n",
       "Heavy T-Storm                  4\n",
       "Rain / Windy                   2\n",
       "Thunder                        1\n",
       "Light Rain with Thunder        1\n",
       "Name: count, dtype: int64"
      ]
     },
     "execution_count": 42,
     "metadata": {},
     "output_type": "execute_result"
    }
   ],
   "source": [
    "Weather_set[\"cloud_cover_description\"].value_counts()"
   ]
  },
  {
   "cell_type": "markdown",
   "id": "7d515d0d-d33a-4115-9c2d-c36375856a27",
   "metadata": {},
   "source": [
    "WIE SOLLEN DIE KATEGORISCHEN DATEN GESPEICHERT WERDEN?"
   ]
  },
  {
   "cell_type": "markdown",
   "id": "9745a187-6f57-42cc-ac6f-afa973f45bf6",
   "metadata": {},
   "source": [
    "### Column: pressure"
   ]
  },
  {
   "cell_type": "code",
   "execution_count": 31,
   "id": "33f71ae5-0976-41f2-a694-1a3f34e2791d",
   "metadata": {},
   "outputs": [
    {
     "name": "stdout",
     "output_type": "stream",
     "text": [
      "Occuring data types:  [<class 'float'>]\n",
      "Min. value:  971.0 \n",
      "Max. value:  999.65\n",
      "The column contains 8 missing values. This corresponds to 0.01 %.\n"
     ]
    }
   ],
   "source": [
    "dataTypes('pressure', Weather_set)\n",
    "valueRange('pressure', Weather_set)\n",
    "missingValues('pressure', Weather_set)"
   ]
  },
  {
   "cell_type": "markdown",
   "id": "cf3591da-5ea9-4789-a027-beab72dea509",
   "metadata": {},
   "source": [
    "In order not to lose rows with missing values, we replace these. As the data ist sorted by time and therefore the true values are close to the surrounding values, we perform a forward fill for the missing values."
   ]
  },
  {
   "cell_type": "code",
   "execution_count": 32,
   "id": "665c811f-01de-49fd-b974-07827b087766",
   "metadata": {},
   "outputs": [
    {
     "name": "stdout",
     "output_type": "stream",
     "text": [
      "The column does not contain missing values.\n"
     ]
    }
   ],
   "source": [
    "Weather_set['pressure'] = Weather_set['pressure'].ffill()\n",
    "missingValues('pressure', Weather_set)"
   ]
  },
  {
   "cell_type": "markdown",
   "id": "5cf29649-a5c5-4601-bce1-d9d443ee528b",
   "metadata": {},
   "source": [
    "### Column: windspeed"
   ]
  },
  {
   "cell_type": "code",
   "execution_count": 33,
   "id": "cc0bb97f-9465-43c1-b4a9-d3c1242da42e",
   "metadata": {},
   "outputs": [
    {
     "name": "stdout",
     "output_type": "stream",
     "text": [
      "Occuring data types:  [<class 'float'>]\n",
      "Min. value:  0.0 \n",
      "Max. value:  57.0\n",
      "The column contains 86 missing values. This corresponds to 0.13 %.\n"
     ]
    }
   ],
   "source": [
    "dataTypes('windspeed', Weather_set)\n",
    "valueRange('windspeed', Weather_set)\n",
    "missingValues('windspeed', Weather_set)"
   ]
  },
  {
   "cell_type": "markdown",
   "id": "530cc7c7-d654-4dae-a93a-19d64ac00731",
   "metadata": {},
   "source": [
    "In order not to lose rows with missing values, we replace these. As the data ist sorted by time and therefore the true values are close to the surrounding values, we perform a forward fill for the missing values."
   ]
  },
  {
   "cell_type": "code",
   "execution_count": 34,
   "id": "f708b221-61d4-4dec-9cbb-db93bc0d78e0",
   "metadata": {},
   "outputs": [
    {
     "name": "stdout",
     "output_type": "stream",
     "text": [
      "The column does not contain missing values.\n"
     ]
    }
   ],
   "source": [
    "Weather_set['windspeed'] = Weather_set['windspeed'].ffill()\n",
    "missingValues('windspeed', Weather_set)"
   ]
  },
  {
   "cell_type": "markdown",
   "id": "46c6c420-4209-463a-ab1c-49bc66a10190",
   "metadata": {},
   "source": [
    "### Column: precipitation"
   ]
  },
  {
   "cell_type": "code",
   "execution_count": 35,
   "id": "dc0457f9-cf02-484e-a48c-15acb36f2670",
   "metadata": {},
   "outputs": [
    {
     "name": "stdout",
     "output_type": "stream",
     "text": [
      "Occuring data types:  [<class 'float'>]\n",
      "Min. value:  0.0 \n",
      "Max. value:  18.54\n",
      "The column does not contain missing values.\n"
     ]
    }
   ],
   "source": [
    "dataTypes('precipitation', Weather_set)\n",
    "valueRange('precipitation', Weather_set)\n",
    "missingValues('precipitation', Weather_set)"
   ]
  },
  {
   "cell_type": "markdown",
   "id": "1b42b3c0-ac47-41b0-837f-1944311f8887",
   "metadata": {},
   "source": [
    "### Column: felt_temperature"
   ]
  },
  {
   "cell_type": "code",
   "execution_count": 36,
   "id": "f6074f55-940a-410e-829b-1af8705bcfc1",
   "metadata": {},
   "outputs": [
    {
     "name": "stdout",
     "output_type": "stream",
     "text": [
      "Occuring data types:  [<class 'float'>]\n",
      "Min. value:  0.0 \n",
      "Max. value:  42.0\n",
      "The column contains 26 missing values. This corresponds to 0.04 %.\n"
     ]
    }
   ],
   "source": [
    "dataTypes('felt_temperature', Weather_set)\n",
    "valueRange('felt_temperature', Weather_set)\n",
    "missingValues('felt_temperature', Weather_set)"
   ]
  },
  {
   "cell_type": "markdown",
   "id": "b71da9f4-4f19-4576-a62e-8e159733ff15",
   "metadata": {},
   "source": [
    "In order not to lose rows with missing values, we replace these. As the data ist sorted by time and therefore the true values are close to the surrounding values, we perform a forward fill for the missing values."
   ]
  },
  {
   "cell_type": "code",
   "execution_count": 37,
   "id": "a35a2ad0-5da6-4b9e-a887-d1e2afa9c6da",
   "metadata": {},
   "outputs": [
    {
     "name": "stdout",
     "output_type": "stream",
     "text": [
      "The column does not contain missing values.\n"
     ]
    }
   ],
   "source": [
    "Weather_set['felt_temperature'] = Weather_set['felt_temperature'].ffill()\n",
    "missingValues('felt_temperature', Weather_set)"
   ]
  },
  {
   "cell_type": "markdown",
   "id": "be1112f9-0cb9-4133-9592-029fb5e38a27",
   "metadata": {},
   "source": [
    "### Dataset description"
   ]
  },
  {
   "cell_type": "code",
   "execution_count": 38,
   "id": "2f780826-591e-427e-a8e4-86fa37e71cc4",
   "metadata": {},
   "outputs": [
    {
     "name": "stdout",
     "output_type": "stream",
     "text": [
      "<class 'pandas.core.frame.DataFrame'>\n",
      "RangeIndex: 29244 entries, 0 to 29243\n",
      "Data columns (total 8 columns):\n",
      " #   Column                   Non-Null Count  Dtype         \n",
      "---  ------                   --------------  -----         \n",
      " 0   timestamp                29244 non-null  datetime64[ns]\n",
      " 1   temperature              29244 non-null  float64       \n",
      " 2   cloud_cover              29244 non-null  float64       \n",
      " 3   cloud_cover_description  29244 non-null  object        \n",
      " 4   pressure                 29244 non-null  float64       \n",
      " 5   windspeed                29244 non-null  float64       \n",
      " 6   precipitation            29244 non-null  float64       \n",
      " 7   felt_temperature         29244 non-null  float64       \n",
      "dtypes: datetime64[ns](1), float64(6), object(1)\n",
      "memory usage: 1.8+ MB\n"
     ]
    },
    {
     "data": {
      "text/html": [
       "<div>\n",
       "<style scoped>\n",
       "    .dataframe tbody tr th:only-of-type {\n",
       "        vertical-align: middle;\n",
       "    }\n",
       "\n",
       "    .dataframe tbody tr th {\n",
       "        vertical-align: top;\n",
       "    }\n",
       "\n",
       "    .dataframe thead th {\n",
       "        text-align: right;\n",
       "    }\n",
       "</style>\n",
       "<table border=\"1\" class=\"dataframe\">\n",
       "  <thead>\n",
       "    <tr style=\"text-align: right;\">\n",
       "      <th></th>\n",
       "      <th>timestamp</th>\n",
       "      <th>temperature</th>\n",
       "      <th>cloud_cover</th>\n",
       "      <th>cloud_cover_description</th>\n",
       "      <th>pressure</th>\n",
       "      <th>windspeed</th>\n",
       "      <th>precipitation</th>\n",
       "      <th>felt_temperature</th>\n",
       "    </tr>\n",
       "  </thead>\n",
       "  <tbody>\n",
       "    <tr>\n",
       "      <th>0</th>\n",
       "      <td>2018-01-01 08:53:00</td>\n",
       "      <td>9.0</td>\n",
       "      <td>33.0</td>\n",
       "      <td>Fair</td>\n",
       "      <td>991.75</td>\n",
       "      <td>9.0</td>\n",
       "      <td>0.0</td>\n",
       "      <td>8.0</td>\n",
       "    </tr>\n",
       "    <tr>\n",
       "      <th>1</th>\n",
       "      <td>2018-01-01 09:53:00</td>\n",
       "      <td>9.0</td>\n",
       "      <td>33.0</td>\n",
       "      <td>Fair</td>\n",
       "      <td>992.08</td>\n",
       "      <td>0.0</td>\n",
       "      <td>0.0</td>\n",
       "      <td>9.0</td>\n",
       "    </tr>\n",
       "    <tr>\n",
       "      <th>2</th>\n",
       "      <td>2018-01-01 10:53:00</td>\n",
       "      <td>9.0</td>\n",
       "      <td>21.0</td>\n",
       "      <td>Haze</td>\n",
       "      <td>992.08</td>\n",
       "      <td>0.0</td>\n",
       "      <td>0.0</td>\n",
       "      <td>9.0</td>\n",
       "    </tr>\n",
       "    <tr>\n",
       "      <th>3</th>\n",
       "      <td>2018-01-01 11:53:00</td>\n",
       "      <td>9.0</td>\n",
       "      <td>29.0</td>\n",
       "      <td>Partly Cloudy</td>\n",
       "      <td>992.08</td>\n",
       "      <td>0.0</td>\n",
       "      <td>0.0</td>\n",
       "      <td>9.0</td>\n",
       "    </tr>\n",
       "    <tr>\n",
       "      <th>4</th>\n",
       "      <td>2018-01-01 12:53:00</td>\n",
       "      <td>8.0</td>\n",
       "      <td>33.0</td>\n",
       "      <td>Fair</td>\n",
       "      <td>992.08</td>\n",
       "      <td>0.0</td>\n",
       "      <td>0.0</td>\n",
       "      <td>8.0</td>\n",
       "    </tr>\n",
       "    <tr>\n",
       "      <th>...</th>\n",
       "      <td>...</td>\n",
       "      <td>...</td>\n",
       "      <td>...</td>\n",
       "      <td>...</td>\n",
       "      <td>...</td>\n",
       "      <td>...</td>\n",
       "      <td>...</td>\n",
       "      <td>...</td>\n",
       "    </tr>\n",
       "    <tr>\n",
       "      <th>29239</th>\n",
       "      <td>2021-01-01 03:53:00</td>\n",
       "      <td>13.0</td>\n",
       "      <td>33.0</td>\n",
       "      <td>Fair</td>\n",
       "      <td>986.81</td>\n",
       "      <td>0.0</td>\n",
       "      <td>0.0</td>\n",
       "      <td>13.0</td>\n",
       "    </tr>\n",
       "    <tr>\n",
       "      <th>29240</th>\n",
       "      <td>2021-01-01 04:53:00</td>\n",
       "      <td>12.0</td>\n",
       "      <td>33.0</td>\n",
       "      <td>Fair</td>\n",
       "      <td>986.81</td>\n",
       "      <td>11.0</td>\n",
       "      <td>0.0</td>\n",
       "      <td>12.0</td>\n",
       "    </tr>\n",
       "    <tr>\n",
       "      <th>29241</th>\n",
       "      <td>2021-01-01 05:53:00</td>\n",
       "      <td>12.0</td>\n",
       "      <td>33.0</td>\n",
       "      <td>Fair</td>\n",
       "      <td>987.47</td>\n",
       "      <td>9.0</td>\n",
       "      <td>0.0</td>\n",
       "      <td>12.0</td>\n",
       "    </tr>\n",
       "    <tr>\n",
       "      <th>29242</th>\n",
       "      <td>2021-01-01 06:53:00</td>\n",
       "      <td>11.0</td>\n",
       "      <td>33.0</td>\n",
       "      <td>Fair</td>\n",
       "      <td>987.14</td>\n",
       "      <td>13.0</td>\n",
       "      <td>0.0</td>\n",
       "      <td>11.0</td>\n",
       "    </tr>\n",
       "    <tr>\n",
       "      <th>29243</th>\n",
       "      <td>2021-01-01 07:53:00</td>\n",
       "      <td>10.0</td>\n",
       "      <td>33.0</td>\n",
       "      <td>Fair</td>\n",
       "      <td>987.80</td>\n",
       "      <td>6.0</td>\n",
       "      <td>0.0</td>\n",
       "      <td>10.0</td>\n",
       "    </tr>\n",
       "  </tbody>\n",
       "</table>\n",
       "<p>29244 rows × 8 columns</p>\n",
       "</div>"
      ],
      "text/plain": [
       "                timestamp  temperature  cloud_cover cloud_cover_description  \\\n",
       "0     2018-01-01 08:53:00          9.0         33.0                    Fair   \n",
       "1     2018-01-01 09:53:00          9.0         33.0                    Fair   \n",
       "2     2018-01-01 10:53:00          9.0         21.0                    Haze   \n",
       "3     2018-01-01 11:53:00          9.0         29.0           Partly Cloudy   \n",
       "4     2018-01-01 12:53:00          8.0         33.0                    Fair   \n",
       "...                   ...          ...          ...                     ...   \n",
       "29239 2021-01-01 03:53:00         13.0         33.0                    Fair   \n",
       "29240 2021-01-01 04:53:00         12.0         33.0                    Fair   \n",
       "29241 2021-01-01 05:53:00         12.0         33.0                    Fair   \n",
       "29242 2021-01-01 06:53:00         11.0         33.0                    Fair   \n",
       "29243 2021-01-01 07:53:00         10.0         33.0                    Fair   \n",
       "\n",
       "       pressure  windspeed  precipitation  felt_temperature  \n",
       "0        991.75        9.0            0.0               8.0  \n",
       "1        992.08        0.0            0.0               9.0  \n",
       "2        992.08        0.0            0.0               9.0  \n",
       "3        992.08        0.0            0.0               9.0  \n",
       "4        992.08        0.0            0.0               8.0  \n",
       "...         ...        ...            ...               ...  \n",
       "29239    986.81        0.0            0.0              13.0  \n",
       "29240    986.81       11.0            0.0              12.0  \n",
       "29241    987.47        9.0            0.0              12.0  \n",
       "29242    987.14       13.0            0.0              11.0  \n",
       "29243    987.80        6.0            0.0              10.0  \n",
       "\n",
       "[29244 rows x 8 columns]"
      ]
     },
     "execution_count": 38,
     "metadata": {},
     "output_type": "execute_result"
    }
   ],
   "source": [
    "Weather_set.info()\n",
    "Weather_set"
   ]
  },
  {
   "cell_type": "code",
   "execution_count": null,
   "id": "ef56c541-9bf6-4870-b2a6-5b306309e197",
   "metadata": {},
   "outputs": [],
   "source": []
  }
 ],
 "metadata": {
  "kernelspec": {
   "display_name": "Python 3 (ipykernel)",
   "language": "python",
   "name": "python3"
  },
  "language_info": {
   "codemirror_mode": {
    "name": "ipython",
    "version": 3
   },
   "file_extension": ".py",
   "mimetype": "text/x-python",
   "name": "python",
   "nbconvert_exporter": "python",
   "pygments_lexer": "ipython3",
   "version": "3.11.5"
  }
 },
 "nbformat": 4,
 "nbformat_minor": 5
}
