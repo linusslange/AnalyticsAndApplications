{
 "cells": [
  {
   "cell_type": "markdown",
   "metadata": {},
   "source": [
    "# Charging Site Characteristics\n",
    "\n",
    "### Task Decsription\n",
    "The hub operator provided you with the data set, but has seemed to forget\n",
    "which site was supplying which data... Can you find out which of the two sites is the public one?\n",
    "Try to combine data understanding from previous descriptive analytics with domain knowledge\n",
    "(business understanding) of how private vs. public charging hubs might differ in operation. Explain\n",
    "your line of thought!"
   ]
  },
  {
   "cell_type": "markdown",
   "metadata": {},
   "source": [
    "Importing Libraries"
   ]
  },
  {
   "cell_type": "code",
   "execution_count": 1,
   "metadata": {},
   "outputs": [
    {
     "ename": "ModuleNotFoundError",
     "evalue": "No module named 'matplotlib'",
     "output_type": "error",
     "traceback": [
      "\u001b[0;31m---------------------------------------------------------------------------\u001b[0m",
      "\u001b[0;31mModuleNotFoundError\u001b[0m                       Traceback (most recent call last)",
      "Cell \u001b[0;32mIn[1], line 2\u001b[0m\n\u001b[1;32m      1\u001b[0m \u001b[38;5;28;01mimport\u001b[39;00m \u001b[38;5;21;01mpandas\u001b[39;00m \u001b[38;5;28;01mas\u001b[39;00m \u001b[38;5;21;01mpd\u001b[39;00m\n\u001b[0;32m----> 2\u001b[0m \u001b[38;5;28;01mimport\u001b[39;00m \u001b[38;5;21;01mmatplotlib\u001b[39;00m\u001b[38;5;21;01m.\u001b[39;00m\u001b[38;5;21;01mpyplot\u001b[39;00m \u001b[38;5;28;01mas\u001b[39;00m \u001b[38;5;21;01mplt\u001b[39;00m\n\u001b[1;32m      3\u001b[0m \u001b[38;5;28;01mimport\u001b[39;00m \u001b[38;5;21;01mnumpy\u001b[39;00m \u001b[38;5;28;01mas\u001b[39;00m \u001b[38;5;21;01mnp\u001b[39;00m\n\u001b[1;32m      4\u001b[0m \u001b[38;5;28;01mimport\u001b[39;00m \u001b[38;5;21;01mast\u001b[39;00m\n",
      "\u001b[0;31mModuleNotFoundError\u001b[0m: No module named 'matplotlib'"
     ]
    }
   ],
   "source": [
    "import pandas as pd\n",
    "import matplotlib.pyplot as plt\n",
    "import numpy as np\n",
    "import ast"
   ]
  },
  {
   "cell_type": "markdown",
   "metadata": {},
   "source": [
    "### Reading in the data"
   ]
  },
  {
   "cell_type": "code",
   "execution_count": null,
   "metadata": {},
   "outputs": [
    {
     "name": "stdout",
     "output_type": "stream",
     "text": [
      "66450\n",
      "65037\n",
      "65037\n",
      "65037\n",
      "<class 'pandas.core.frame.DataFrame'>\n",
      "Int64Index: 65037 entries, 0 to 65036\n",
      "Data columns (total 14 columns):\n",
      " #   Column               Non-Null Count  Dtype                              \n",
      "---  ------               --------------  -----                              \n",
      " 0   id                   65037 non-null  object                             \n",
      " 1   connectionTime       65037 non-null  datetime64[ns, America/Los_Angeles]\n",
      " 2   disconnectTime       65037 non-null  datetime64[ns, America/Los_Angeles]\n",
      " 3   doneChargingTime     65037 non-null  datetime64[ns, America/Los_Angeles]\n",
      " 4   kWhDelivered         65037 non-null  float64                            \n",
      " 5   sessionID            65037 non-null  object                             \n",
      " 6   siteID               65037 non-null  int64                              \n",
      " 7   spaceID              65037 non-null  object                             \n",
      " 8   stationID            65037 non-null  object                             \n",
      " 9   userID               47822 non-null  float64                            \n",
      " 10  userInputs           47822 non-null  object                             \n",
      " 11  totalConnectionTime  65037 non-null  object                             \n",
      " 12  totalChargingTime    65037 non-null  object                             \n",
      " 13  userInformation      65037 non-null  bool                               \n",
      "dtypes: bool(1), datetime64[ns, America/Los_Angeles](3), float64(2), int64(1), object(7)\n",
      "memory usage: 7.0+ MB\n",
      "None\n",
      "                         id            connectionTime  \\\n",
      "0  5e23b149f9af8b5fe4b973cf 2020-01-02 05:08:54-08:00   \n",
      "1  5e23b149f9af8b5fe4b973d0 2020-01-02 05:36:50-08:00   \n",
      "2  5e23b149f9af8b5fe4b973d1 2020-01-02 05:56:35-08:00   \n",
      "3  5e23b149f9af8b5fe4b973d2 2020-01-02 05:59:58-08:00   \n",
      "\n",
      "             disconnectTime          doneChargingTime  kWhDelivered  \\\n",
      "0 2020-01-02 11:11:15-08:00 2020-01-02 09:31:35-08:00        25.016   \n",
      "1 2020-01-02 14:38:21-08:00 2020-01-02 12:18:05-08:00        33.097   \n",
      "2 2020-01-02 16:39:22-08:00 2020-01-02 08:35:06-08:00         6.521   \n",
      "3 2020-01-02 08:38:39-08:00 2020-01-02 07:18:45-08:00         2.355   \n",
      "\n",
      "                                sessionID  siteID  spaceID    stationID  \\\n",
      "0  1_1_179_810_2020-01-02 13:08:53.870034       1  AG-3F30  1-1-179-810   \n",
      "1  1_1_193_825_2020-01-02 13:36:49.599853       1  AG-1F01  1-1-193-825   \n",
      "2  1_1_193_829_2020-01-02 13:56:35.214993       1  AG-1F03  1-1-193-829   \n",
      "3  1_1_193_820_2020-01-02 13:59:58.309319       1  AG-1F04  1-1-193-820   \n",
      "\n",
      "   userID                                         userInputs  \\\n",
      "0   194.0  [{'WhPerMile': 250, 'kWhRequested': 25.0, 'mil...   \n",
      "1  4275.0  [{'WhPerMile': 280, 'kWhRequested': 70.0, 'mil...   \n",
      "2   344.0  [{'WhPerMile': 400, 'kWhRequested': 8.0, 'mile...   \n",
      "3  1117.0  [{'WhPerMile': 400, 'kWhRequested': 8.0, 'mile...   \n",
      "\n",
      "  totalConnectionTime totalChargingTime  userInformation  \n",
      "0     0 days 06:02:21   0 days 04:22:41             True  \n",
      "1     0 days 09:01:31   0 days 06:41:15             True  \n",
      "2     0 days 10:42:47   0 days 02:38:31             True  \n",
      "3     0 days 02:38:41   0 days 01:18:47             True  \n"
     ]
    }
   ],
   "source": [
    "df_charging_sessions = pd.read_csv(\"charging_sessions_preprocessed.csv\",  parse_dates=['connectionTime','disconnectTime','doneChargingTime']);\n",
    "\n",
    "# convert to local time\n",
    "df_charging_sessions[\"connectionTime\"] = df_charging_sessions[\"connectionTime\"].dt.tz_convert(\"America/Los_Angeles\")\n",
    "df_charging_sessions[\"disconnectTime\"] = df_charging_sessions[\"disconnectTime\"].dt.tz_convert(\"America/Los_Angeles\")\n",
    "df_charging_sessions[\"doneChargingTime\"] = df_charging_sessions[\"doneChargingTime\"].dt.tz_convert(\"America/Los_Angeles\")\n",
    "\n",
    "# drop duplicates\n",
    "print(len(df_charging_sessions['sessionID']))\n",
    "print(len(df_charging_sessions['sessionID'].unique()))\n",
    "df_charging_sessions = df_charging_sessions.drop_duplicates()\n",
    "print(len(df_charging_sessions['sessionID']))\n",
    "print(len(df_charging_sessions['sessionID'].unique()))\n",
    "\n",
    "print(df_charging_sessions.info())\n",
    "print(df_charging_sessions.head(4))"
   ]
  },
  {
   "cell_type": "markdown",
   "metadata": {},
   "source": [
    "After dropping the duplicates, each session is unique."
   ]
  },
  {
   "cell_type": "code",
   "execution_count": null,
   "metadata": {},
   "outputs": [
    {
     "name": "stdout",
     "output_type": "stream",
     "text": [
      "There are two different Sites with the following IDs: [1 2].\n",
      "The sites will be further looked at in the dataframes df_sessions_site1 and df_sessions_site2.\n",
      "Site 1:\n",
      "                         id            connectionTime  \\\n",
      "0  5e23b149f9af8b5fe4b973cf 2020-01-02 05:08:54-08:00   \n",
      "1  5e23b149f9af8b5fe4b973d0 2020-01-02 05:36:50-08:00   \n",
      "2  5e23b149f9af8b5fe4b973d1 2020-01-02 05:56:35-08:00   \n",
      "3  5e23b149f9af8b5fe4b973d2 2020-01-02 05:59:58-08:00   \n",
      "\n",
      "             disconnectTime          doneChargingTime  kWhDelivered  \\\n",
      "0 2020-01-02 11:11:15-08:00 2020-01-02 09:31:35-08:00        25.016   \n",
      "1 2020-01-02 14:38:21-08:00 2020-01-02 12:18:05-08:00        33.097   \n",
      "2 2020-01-02 16:39:22-08:00 2020-01-02 08:35:06-08:00         6.521   \n",
      "3 2020-01-02 08:38:39-08:00 2020-01-02 07:18:45-08:00         2.355   \n",
      "\n",
      "                                sessionID  siteID  spaceID    stationID  \\\n",
      "0  1_1_179_810_2020-01-02 13:08:53.870034       1  AG-3F30  1-1-179-810   \n",
      "1  1_1_193_825_2020-01-02 13:36:49.599853       1  AG-1F01  1-1-193-825   \n",
      "2  1_1_193_829_2020-01-02 13:56:35.214993       1  AG-1F03  1-1-193-829   \n",
      "3  1_1_193_820_2020-01-02 13:59:58.309319       1  AG-1F04  1-1-193-820   \n",
      "\n",
      "   userID                                         userInputs  \\\n",
      "0   194.0  [{'WhPerMile': 250, 'kWhRequested': 25.0, 'mil...   \n",
      "1  4275.0  [{'WhPerMile': 280, 'kWhRequested': 70.0, 'mil...   \n",
      "2   344.0  [{'WhPerMile': 400, 'kWhRequested': 8.0, 'mile...   \n",
      "3  1117.0  [{'WhPerMile': 400, 'kWhRequested': 8.0, 'mile...   \n",
      "\n",
      "  totalConnectionTime totalChargingTime  userInformation  \n",
      "0     0 days 06:02:21   0 days 04:22:41             True  \n",
      "1     0 days 09:01:31   0 days 06:41:15             True  \n",
      "2     0 days 10:42:47   0 days 02:38:31             True  \n",
      "3     0 days 02:38:41   0 days 01:18:47             True  \n",
      "------------------------------------------------------------------------------------------------------------------------\n",
      "Site 2:\n",
      "                             id            connectionTime  \\\n",
      "20179  5c412c1df9af8b12cb56c27c 2019-01-01 09:41:45-08:00   \n",
      "20180  5c412c1df9af8b12cb56c27d 2019-01-01 10:09:17-08:00   \n",
      "20181  5c412c1df9af8b12cb56c27e 2019-01-01 10:39:25-08:00   \n",
      "20182  5c412c1df9af8b12cb56c27f 2019-01-01 11:18:53-08:00   \n",
      "\n",
      "                 disconnectTime          doneChargingTime  kWhDelivered  \\\n",
      "20179 2019-01-01 10:39:21-08:00 2019-01-01 10:40:21-08:00         0.900   \n",
      "20180 2019-01-01 18:39:32-08:00 2019-01-01 12:16:10-08:00        12.534   \n",
      "20181 2019-01-01 11:18:49-08:00 2019-01-01 11:19:47-08:00         0.883   \n",
      "20182 2019-01-01 12:14:07-08:00 2019-01-01 11:59:08-08:00         0.879   \n",
      "\n",
      "                                     sessionID  siteID spaceID     stationID  \\\n",
      "20179  2_39_138_566_2019-01-01 17:41:44.784919       2  CA-512  2-39-138-566   \n",
      "20180   2_39_79_379_2019-01-01 18:09:16.991864       2  CA-327   2-39-79-379   \n",
      "20181  2_39_138_566_2019-01-01 18:39:24.566872       2  CA-512  2-39-138-566   \n",
      "20182  2_39_138_566_2019-01-01 19:18:52.843645       2  CA-512  2-39-138-566   \n",
      "\n",
      "       userID                                         userInputs  \\\n",
      "20179     NaN                                                NaN   \n",
      "20180   558.0  [{'WhPerMile': 222, 'kWhRequested': 17.76, 'mi...   \n",
      "20181     NaN                                                NaN   \n",
      "20182     NaN                                                NaN   \n",
      "\n",
      "      totalConnectionTime totalChargingTime  userInformation  \n",
      "20179     0 days 00:57:36   0 days 00:58:36            False  \n",
      "20180     0 days 08:30:15   0 days 02:06:53             True  \n",
      "20181     0 days 00:39:24   0 days 00:40:22            False  \n",
      "20182     0 days 00:55:14   0 days 00:40:15            False  \n"
     ]
    }
   ],
   "source": [
    "print(f\"There are two different Sites with the following IDs: {df_charging_sessions['siteID'].unique()}.\")\n",
    "df_sessions_site1 = df_charging_sessions[df_charging_sessions['siteID']==1]\n",
    "df_sessions_site2 = df_charging_sessions[df_charging_sessions['siteID']==2]\n",
    "print(\"The sites will be further looked at in the dataframes df_sessions_site1 and df_sessions_site2.\")\n",
    "print(\"Site 1:\")\n",
    "print(df_sessions_site1.head(4))\n",
    "print(\"------------------------------------------------------------------------------------------------------------------------\")\n",
    "print(\"Site 2:\")\n",
    "print(df_sessions_site2.head(4))"
   ]
  },
  {
   "cell_type": "markdown",
   "metadata": {},
   "source": [
    "### Data Exploration\n",
    "A first data exploration has already taken place during data pre-processing. But to get a feel for the patterns of each site, a second data exploration is done."
   ]
  },
  {
   "cell_type": "code",
   "execution_count": null,
   "metadata": {},
   "outputs": [
    {
     "name": "stdout",
     "output_type": "stream",
     "text": [
      "470806\n",
      "439712\n"
     ]
    }
   ],
   "source": [
    "# sizes\n",
    "print(df_sessions_site1.size)\n",
    "print(df_sessions_site2.size)"
   ]
  },
  {
   "cell_type": "code",
   "execution_count": null,
   "metadata": {},
   "outputs": [
    {
     "name": "stdout",
     "output_type": "stream",
     "text": [
      "The first day of measurement of the feature connectionTime in site 1 is: 2018-09-05 04:04:13-07:00\n",
      "The first day of measurement of the feature connectionTime in site 2 is: 2018-04-25 04:08:04-07:00\n",
      "The first day of measurement of the feature disconnectTime in site 1 is: 2018-09-05 07:09:02-07:00\n",
      "The first day of measurement of the feature disconnectTime in site 2 is: 2018-04-25 06:20:10-07:00\n",
      "The first day of measurement of the feature doneChargingTime in site 1 is: 2018-09-05 07:45:29-07:00\n",
      "The first day of measurement of the feature doneChargingTime in site 2 is: 2018-04-25 06:21:10-07:00\n"
     ]
    }
   ],
   "source": [
    "# analyzing times: connectionTime, disconnectTime, doneChargingTime\n",
    "\n",
    "# first day of measurement\n",
    "print(f\"The first day of measurement of the feature connectionTime in site 1 is: {df_sessions_site1['connectionTime'].min()}\")\n",
    "print(f\"The first day of measurement of the feature connectionTime in site 2 is: {df_sessions_site2['connectionTime'].min()}\")\n",
    "print(f\"The first day of measurement of the feature disconnectTime in site 1 is: {df_sessions_site1['disconnectTime'].min()}\")\n",
    "print(f\"The first day of measurement of the feature disconnectTime in site 2 is: {df_sessions_site2['disconnectTime'].min()}\")\n",
    "print(f\"The first day of measurement of the feature doneChargingTime in site 1 is: {df_sessions_site1['doneChargingTime'].min()}\")\n",
    "print(f\"The first day of measurement of the feature doneChargingTime in site 2 is: {df_sessions_site2['doneChargingTime'].min()}\")\n"
   ]
  },
  {
   "cell_type": "code",
   "execution_count": null,
   "metadata": {},
   "outputs": [
    {
     "name": "stdout",
     "output_type": "stream",
     "text": [
      "The last day of measurement of the feature connectionTime in site 1 is: 2021-09-13 22:43:39-07:00\n",
      "The last day of measurement of the feature connectionTime in site 2 is: 2021-09-13 18:52:37-07:00\n",
      "The last day of measurement of the feature disconnectTime in site 1 is: 2021-09-14 07:46:28-07:00\n",
      "The last day of measurement of the feature disconnectTime in site 2 is: 2021-09-13 20:05:10-07:00\n",
      "The last day of measurement of the feature doneChargingTime in site 1 is: 2021-09-14 07:46:22-07:00\n",
      "The last day of measurement of the feature doneChargingTime in site 2 is: 2021-09-14 17:49:17-07:00\n"
     ]
    }
   ],
   "source": [
    "# last day of measurement\n",
    "print(f\"The last day of measurement of the feature connectionTime in site 1 is: {df_sessions_site1['connectionTime'].max()}\")\n",
    "print(f\"The last day of measurement of the feature connectionTime in site 2 is: {df_sessions_site2['connectionTime'].max()}\")\n",
    "print(f\"The last day of measurement of the feature disconnectTime in site 1 is: {df_sessions_site1['disconnectTime'].max()}\")\n",
    "print(f\"The last day of measurement of the feature disconnectTime in site 2 is: {df_sessions_site2['disconnectTime'].max()}\")\n",
    "print(f\"The last day of measurement of the feature doneChargingTime in site 1 is: {df_sessions_site1['doneChargingTime'].max()}\")\n",
    "print(f\"The last day of measurement of the feature doneChargingTime in site 2 is: {df_sessions_site2['doneChargingTime'].max()}\")"
   ]
  },
  {
   "cell_type": "markdown",
   "metadata": {},
   "source": [
    "The first day of measurement in site 1 is 09/05/2018, which was a Wednesday, in site 2 it is the 04/25/2018, which was also a Wednesday.\n",
    "The last day was in both cases 09/14/2021, a Tuesday."
   ]
  },
  {
   "cell_type": "code",
   "execution_count": null,
   "metadata": {},
   "outputs": [
    {
     "name": "stdout",
     "output_type": "stream",
     "text": [
      "This is the overall amount of kWh delivered in site 1: 472656.9637172223\n",
      "This is the overall amount of kWh delivered in site 2: 290505.93629162735\n",
      "This is the maximum amount of kWh delivered in one session in site 1: 108.79724166666666\n",
      "This is the maximum amount of kWh delivered in one session in site 2: 77.7\n",
      "This is the average amount of kWh delivered in one session in site 1: 14.055040700503174\n",
      "This is the average amount of kWh delivered in one session in site 2: 9.249424869193485\n"
     ]
    }
   ],
   "source": [
    "# analyzing kWhDelivered\n",
    "print(f\"This is the overall amount of kWh delivered in site 1: {df_sessions_site1['kWhDelivered'].sum()}\")\n",
    "print(f\"This is the overall amount of kWh delivered in site 2: {df_sessions_site2['kWhDelivered'].sum()}\")\n",
    "print(f\"This is the maximum amount of kWh delivered in one session in site 1: {df_sessions_site1['kWhDelivered'].max()}\")\n",
    "print(f\"This is the maximum amount of kWh delivered in one session in site 2: {df_sessions_site2['kWhDelivered'].max()}\")\n",
    "print(f\"This is the average amount of kWh delivered in one session in site 1: {df_sessions_site1['kWhDelivered'].mean()}\")\n",
    "print(f\"This is the average amount of kWh delivered in one session in site 2: {df_sessions_site2['kWhDelivered'].mean()}\")"
   ]
  },
  {
   "cell_type": "markdown",
   "metadata": {},
   "source": [
    "As you can see, there is more charging going on in site 1. In fact, it's almost 40% more. The average amount of kWh delivered is 5 kWh higher and the highest amount delivered in a session is over 50 kWh higher. So there is a significant difference in the amount of kWh delivered."
   ]
  },
  {
   "cell_type": "code",
   "execution_count": null,
   "metadata": {},
   "outputs": [
    {
     "name": "stdout",
     "output_type": "stream",
     "text": [
      "Site 1 has 52 parking spaces.\n",
      "Site 2 has 55 parking spaces.\n",
      "These are the IDs of the parking spaces in site 1 ['AG-3F30' 'AG-1F01' 'AG-1F03' 'AG-1F04' 'AG-1F06' 'AG-1F13' 'AG-1F09'\n",
      " 'AG-4F34' 'AG-1F11' 'AG-1F08' 'AG-3F22' 'AG-1F14' 'AG-1F07' 'AG-1F12'\n",
      " 'AG-3F29' 'AG-1F05' 'AG-3F18' 'AG-1F10' 'AG-3F16' 'AG-4F37' 'AG-1F02'\n",
      " 'AG-3F28' 'AG-3F25' 'AG-3F24' 'AG-3F33' 'AG-3F23' 'AG-3F31' 'AG-3F32'\n",
      " 'AG-3F27' 'AG-3F26' 'AG-3F20' 'AG-3F17' 'AG-3F21' 'AG-3F19' 'AG-4F44'\n",
      " 'AG-4F52' 'AG-4F41' 'AG-4F48' 'AG-4F35' 'AG-4F50' 'AG-3F15' 'AG-4F51'\n",
      " 'AG-4F47' 'AG-4F46' 'AG-4F49' 'AG-4F43' 'AG-4F42' 'AG-4F45' 'AG-4F36'\n",
      " 'AG-4F38' 'AG-4F40' 'AG-4F39']\n",
      "These are the IDs of the parking spaces in site 2 ['CA-512' 'CA-327' 'CA-326' 'CA-303' 'CA-325' 'CA-311' 'CA-309' 'CA-491'\n",
      " 'CA-493' 'CA-499' 'CA-323' 'CA-313' 'CA-324' 'CA-513' 'CA-305' 'CA-317'\n",
      " 'CA-510' 'CA-315' 'CA-321' 'CA-490' 'CA-497' 'CA-489' 'CA-319' 'CA-492'\n",
      " 'CA-494' 'CA-502' 'CA-500' 'CA-495' 'CA-498' 'CA-304' 'CA-307' 'CA-306'\n",
      " 'CA-501' 'CA-318' 'CA-308' 'CA-316' 'CA-312' 'CA-320' 'CA-212' 'CA-508'\n",
      " 'CA-322' 'CA-314' 'CA-503' 'CA-504' 'CA-496' 'CA-310' 'CA-506' 'CA-149'\n",
      " 'CA-509' 'CA-507' 'CA-511' 'CA-213' 'CA-505' 'CA-148' '11900388']\n"
     ]
    }
   ],
   "source": [
    "# exploring spaceID\n",
    "print(f\"Site 1 has {len(df_sessions_site1['spaceID'].unique())} parking spaces.\")\n",
    "print(f\"Site 2 has {len(df_sessions_site2['spaceID'].unique())} parking spaces.\")\n",
    "print(f\"These are the IDs of the parking spaces in site 1 {df_sessions_site1['spaceID'].unique()}\")\n",
    "print(f\"These are the IDs of the parking spaces in site 2 {df_sessions_site2['spaceID'].unique()}\")"
   ]
  },
  {
   "cell_type": "markdown",
   "metadata": {},
   "source": [
    "There is no significant difference in the amount of parking spaces. One can see that the Naming of the IDs is different though. In site 1 the parking space start with AG followed by a dash, one integer, then the letter F and the two integers. In site 2 the ID consists of CA, a dash and 3 integers. Note that there is one space ID in site 2 with the ID 11900388."
   ]
  },
  {
   "cell_type": "code",
   "execution_count": null,
   "metadata": {},
   "outputs": [
    {
     "name": "stdout",
     "output_type": "stream",
     "text": [
      "The amount of EVSEs in site 1 is 52.\n",
      "The amount of EVSEs in site 2 is 55.\n"
     ]
    }
   ],
   "source": [
    "# analyzing stationID\n",
    "print(f\"The amount of EVSEs in site 1 is {len(df_sessions_site1['stationID'].unique())}.\")\n",
    "print(f\"The amount of EVSEs in site 2 is {len(df_sessions_site2['stationID'].unique())}.\")\n"
   ]
  },
  {
   "cell_type": "markdown",
   "metadata": {},
   "source": [
    "In both sites the amount of EVSEs is the same as the amount of parking spaces. So, one can assume that each parking space contains an ESVE."
   ]
  },
  {
   "cell_type": "code",
   "execution_count": null,
   "metadata": {},
   "outputs": [
    {
     "name": "stdout",
     "output_type": "stream",
     "text": [
      "In site 1 523 different users exist.\n",
      "In site 2 572 different users exist.\n",
      "In site 1 33629 times user information was given.\n",
      "In site 2 31408 times user information was given.\n"
     ]
    }
   ],
   "source": [
    "# analyzing the users\n",
    "print(f\"In site 1 {len(df_sessions_site1['userID'].unique())} different users exist.\")\n",
    "print(f\"In site 2 {len(df_sessions_site2['userID'].unique())} different users exist.\")\n",
    "print(f\"In site 1 {df_sessions_site1['userInformation'].count()} times user information was given.\")\n",
    "print(f\"In site 2 {df_sessions_site2['userInformation'].count()} times user information was given.\")"
   ]
  },
  {
   "cell_type": "markdown",
   "metadata": {},
   "source": [
    "### Descriptive Analysis\n",
    "Now we try to describe the data in more detail to find trends and characteristics. For each site, they are compared to find differences and therefore indicators of which site is public and which is private."
   ]
  },
  {
   "cell_type": "code",
   "execution_count": null,
   "metadata": {},
   "outputs": [],
   "source": [
    "def createGroupedBarChart(x_values, y1_values, y2_values, title, x_label, y_label):\n",
    "    x_length = 0;\n",
    "    if(len(y1_values) > len(y2_values)):\n",
    "        x_length = len(y1_values)\n",
    "    else:\n",
    "        x_length = len(y2_values)\n",
    "    # set width of bar \n",
    "    barWidth = 0.25\n",
    "    fig = plt.subplots(figsize =(12, 8)) \n",
    "\n",
    "    # Set position of bar on X axis \n",
    "    br1 = np.arange(x_length) \n",
    "    br2 = [x + barWidth for x in br1] \n",
    "\n",
    "    # Make the plot\n",
    "    plt.bar(br1, y1_values, width = barWidth, \n",
    "        edgecolor ='grey', label ='site 1') \n",
    "    plt.bar(br2, y2_values, width = barWidth, \n",
    "        edgecolor ='grey', label ='site 2') \n",
    " \n",
    "    # Adding Xticks \n",
    "    plt.xlabel(x_label, fontweight ='bold', fontsize = 15) \n",
    "    plt.ylabel(y_label, fontweight ='bold', fontsize = 15) \n",
    "    plt.xticks([r + barWidth for r in range(len(y1_values))], x_values)\n",
    "    plt.title(title)\n",
    " \n",
    "    plt.legend()\n",
    "    plt.show() \n",
    " "
   ]
  },
  {
   "cell_type": "code",
   "execution_count": null,
   "metadata": {},
   "outputs": [],
   "source": [
    "# new column dayOfWeek\n",
    "df_sessions_site1 = df_sessions_site1.copy()\n",
    "df_sessions_site1['dayOfWeek'] = df_sessions_site1['connectionTime'].dt.dayofweek\n",
    "df_sessions_site1['dayOfWeek'] = df_sessions_site1['dayOfWeek'].map({\n",
    "    0: 'Monday',\n",
    "    1: 'Tuesday',\n",
    "    2: 'Wednesday',\n",
    "    3: 'Thursday',\n",
    "    4: 'Friday',\n",
    "    5: 'Saturday',\n",
    "    6: 'Sunday'\n",
    "})\n",
    "\n",
    "df_sessions_site2 = df_sessions_site2.copy()\n",
    "df_sessions_site2['dayOfWeek'] = df_sessions_site2['connectionTime'].dt.dayofweek\n",
    "df_sessions_site2['dayOfWeek'] = df_sessions_site2['dayOfWeek'].map({\n",
    "    0: 'Monday',\n",
    "    1: 'Tuesday',\n",
    "    2: 'Wednesday',\n",
    "    3: 'Thursday',\n",
    "    4: 'Friday',\n",
    "    5: 'Saturday',\n",
    "    6: 'Sunday'\n",
    "})"
   ]
  },
  {
   "cell_type": "markdown",
   "metadata": {},
   "source": [
    "We will now look at the charging behaviour on different days of the week. As one of the sites is only available to employees, the charging behaviour could change at the weekend."
   ]
  },
  {
   "cell_type": "code",
   "execution_count": null,
   "metadata": {},
   "outputs": [],
   "source": [
    "# count unqiue session for each day and order the days\n",
    "cats = [ 'Monday', 'Tuesday', 'Wednesday', 'Thursday', 'Friday', 'Saturday', 'Sunday']\n",
    "sessions_per_weekday_site1 = df_sessions_site1.groupby('dayOfWeek')['sessionID'].nunique()\n",
    "sessions_per_weekday_site1 = sessions_per_weekday_site1.groupby(['dayOfWeek']).sum().reindex(cats)\n",
    "\n",
    "sessions_per_weekday_site2 = df_sessions_site2.groupby('dayOfWeek')['sessionID'].nunique()\n",
    "sessions_per_weekday_site2= sessions_per_weekday_site2.groupby(['dayOfWeek']).sum().reindex(cats) "
   ]
  },
  {
   "cell_type": "code",
   "execution_count": null,
   "metadata": {},
   "outputs": [
    {
     "data": {
      "image/png": "[encoded data removed]",
      "text/plain": [
       "<Figure size 864x576 with 1 Axes>"
      ]
     },
     "metadata": {},
     "output_type": "display_data"
    }
   ],
   "source": [
    "days = sessions_per_weekday_site1.keys()\n",
    "title = 'Number of charging processes per weekday (grouped)'\n",
    "x_label = 'Days'\n",
    "y_label = 'Number of charging sessions'\n",
    "createGroupedBarChart(days, sessions_per_weekday_site1, sessions_per_weekday_site2, title, x_label, y_label)"
   ]
  },
  {
   "cell_type": "markdown",
   "metadata": {},
   "source": [
    "During the week more charging takes place at site 1. However, the opposite is true for the weekend. In general, there are fewer charging sessions on weekends, but most of them are on site 2. This could be an indicator that site 1 is the private site that only employees of a company can access. The number of sessions would decrease at weekends because employees do not work or work less on these days and therefore do not charge their EVs.\n",
    "Let's also have a look on the amount of kWh delivered."
   ]
  },
  {
   "cell_type": "code",
   "execution_count": null,
   "metadata": {},
   "outputs": [
    {
     "data": {
      "image/png": "[encoded data removed]",
      "text/plain": [
       "<Figure size 864x576 with 1 Axes>"
      ]
     },
     "metadata": {},
     "output_type": "display_data"
    }
   ],
   "source": [
    "days = sessions_per_weekday_site1.keys()\n",
    "amount_kWh_per_weekday_site1 = df_sessions_site1.groupby('dayOfWeek')['kWhDelivered'].sum()\n",
    "amount_kWh_per_weekday_site1 = amount_kWh_per_weekday_site1.groupby(['dayOfWeek']).sum().reindex(cats)\n",
    "amount_kWh_per_weekday_site2 = df_sessions_site2.groupby('dayOfWeek')['kWhDelivered'].sum()\n",
    "amount_kWh_per_weekday_site2 = amount_kWh_per_weekday_site2.groupby(['dayOfWeek']).sum().reindex(cats)\n",
    "title = 'Amount of kWh delivered per weekday (grouped)'\n",
    "x_label = 'Days'\n",
    "y_label = 'Amount of kWh delivered'\n",
    "createGroupedBarChart(days, amount_kWh_per_weekday_site1, amount_kWh_per_weekday_site2, title, x_label, y_label)"
   ]
  },
  {
   "cell_type": "markdown",
   "metadata": {},
   "source": [
    "<p>This corresponds to the results for the number of charging sessions during the week. </p>\n",
    "<p>In the following we will look at the charging behaviour during the day. As we have seen before, there is a big difference between weekdays and weekends. For that reason we will differentiate those days.</p>"
   ]
  },
  {
   "cell_type": "code",
   "execution_count": null,
   "metadata": {},
   "outputs": [],
   "source": [
    "def createSessionCounterDataframe(x_values, counted_column, old_df):\n",
    "    new_df = pd.DataFrame([(x, siteID) for x in x_values for siteID in old_df['siteID'].unique()],\n",
    "                          columns = [counted_column, 'siteID'])\n",
    "    counter_df = old_df.groupby([counted_column, 'siteID']).agg({'sessionID': 'nunique'}).reset_index()\n",
    "    new_df = pd.merge(new_df, counter_df, how='left', on=[counted_column, 'siteID'])\n",
    "    new_df['sessionID'] = new_df['sessionID'].fillna(0).astype(int)\n",
    "    new_df.rename(columns={'sessionID': 'sessionCount'}, inplace=True)\n",
    "    return new_df"
   ]
  },
  {
   "cell_type": "code",
   "execution_count": null,
   "metadata": {},
   "outputs": [],
   "source": [
    "# add features weekday, connectionHour and disconnectHour\n",
    "weekday_order = ['Monday', 'Tuesday', 'Wednesday', 'Thursday', 'Friday', 'Saturday', 'Sunday']\n",
    "df_charging_sessions['dayOfWeek'] = df_charging_sessions['connectionTime'].dt.dayofweek\n",
    "df_charging_sessions['dayOfWeek'] = df_charging_sessions['dayOfWeek'].map({\n",
    "    0: 'Monday',\n",
    "    1: 'Tuesday',\n",
    "    2: 'Wednesday',\n",
    "    3: 'Thursday',\n",
    "    4: 'Friday',\n",
    "    5: 'Saturday',\n",
    "    6: 'Sunday'\n",
    "})\n",
    "df_charging_sessions[\"connectionHour\"] = df_charging_sessions[\"connectionTime\"].dt.hour\n",
    "df_charging_sessions[\"disconnectHour\"] = df_charging_sessions[\"disconnectTime\"].dt.hour\n",
    "\n",
    "# split into weekdays and weekends\n",
    "charging_sessions_weekdays = df_charging_sessions[(df_charging_sessions['dayOfWeek'] == 'Monday') | (df_charging_sessions['dayOfWeek'] == 'Tuesday') | (df_charging_sessions['dayOfWeek'] == 'Wednesday') | (df_charging_sessions['dayOfWeek'] == 'Thursday') | (df_charging_sessions['dayOfWeek'] == 'Friday')]\n",
    "charging_sessions_weekends = df_charging_sessions[(df_charging_sessions['dayOfWeek'] == 'Saturday') | (df_charging_sessions['dayOfWeek'] == 'Sunday')]\n",
    "\n",
    "# create dataframe with connectionHour and counts of unique sessionIDs for weekdays\n",
    "hours_of_day = list(range(24))\n",
    "session_count_weekdays = createSessionCounterDataframe(hours_of_day, 'connectionHour', charging_sessions_weekdays)\n",
    "\n",
    "# create dataframe with connectionHour and counts of unique sessionIDs for weekends\n",
    "session_count_weekends = createSessionCounterDataframe(hours_of_day, 'connectionHour', charging_sessions_weekends)"
   ]
  },
  {
   "cell_type": "code",
   "execution_count": null,
   "metadata": {},
   "outputs": [
    {
     "data": {
      "image/png": "[encoded data removed]",
      "text/plain": [
       "<Figure size 864x576 with 1 Axes>"
      ]
     },
     "metadata": {},
     "output_type": "display_data"
    },
    {
     "data": {
      "image/png": "[encoded data removed]",
      "text/plain": [
       "<Figure size 864x576 with 1 Axes>"
      ]
     },
     "metadata": {},
     "output_type": "display_data"
    }
   ],
   "source": [
    "hours = session_count_weekdays['connectionHour'].unique()\n",
    "session_count_site1_weekdays = session_count_weekdays[session_count_weekdays['siteID'] == 1]['sessionCount']\n",
    "session_count_site2_weekdays = session_count_weekdays[session_count_weekdays['siteID'] == 2]['sessionCount']\n",
    "title = 'Number of sessions per connection hour on weekdays'\n",
    "x_label = 'Connection hours'\n",
    "y_label = 'Number of sessions'\n",
    "createGroupedBarChart(hours, session_count_site1_weekdays, session_count_site2_weekdays, title, x_label, y_label)\n",
    "\n",
    "hours = session_count_weekends['connectionHour'].unique()\n",
    "session_count_site1_weekends = session_count_weekends[session_count_weekends['siteID'] == 1]['sessionCount']\n",
    "session_count_site2_weekends = session_count_weekends[session_count_weekends['siteID'] == 2]['sessionCount']\n",
    "title = 'Number of sessions per connection hour on weekends'\n",
    "x_label = 'Connection hours'\n",
    "y_label = 'Number of sessions'\n",
    "createGroupedBarChart(hours, session_count_site1_weekends, session_count_site2_weekends, title, x_label, y_label)"
   ]
  },
  {
   "cell_type": "markdown",
   "metadata": {},
   "source": [
    "<p>During the week, the number of sessions starts to increase rapidly around 5 a.m. at site 1. At 7 a.m. most sessions are started, i.e. cars are connected. After that, the number of sessions decreases with small increases in between. From 17:00 to 23:00, the number slowly approaches 0, so very few EVs are connected in this time frame. For site 2, the situation is slightly different. The rise to its peak at 8 a.m. starts a little later, at 6 a.m. At 8 a.m. the number of sessions in site 2 is double that of site 1. It remains higher until 11 a.m. As of 5 p.m., the numbers on both sites show a similar behaviour. In the evening hours there are again significantly more charging sessions in site 2 than in site 1.</p>\n",
    "<p>During the weekend, the behaviour of both sites is similar. Very few sessions are started at the beginning of the day. The number increases rapidly around 7 a.m. and decreases from noon until the night. However, in site 2 the number is significantly higher.</p>"
   ]
  },
  {
   "cell_type": "code",
   "execution_count": null,
   "metadata": {},
   "outputs": [
    {
     "data": {
      "image/png": "[encoded data removed]",
      "text/plain": [
       "<Figure size 864x576 with 1 Axes>"
      ]
     },
     "metadata": {},
     "output_type": "display_data"
    },
    {
     "data": {
      "image/png": "[encoded data removed]",
      "text/plain": [
       "<Figure size 864x576 with 1 Axes>"
      ]
     },
     "metadata": {},
     "output_type": "display_data"
    }
   ],
   "source": [
    "# create dataframe with connectionHour and counts of unique sessionIDs\n",
    "hours = list(range(24))\n",
    "df_sessionCount_disconnectHour_weekdays = createSessionCounterDataframe(hours, 'disconnectHour',charging_sessions_weekdays)\n",
    "df_sessionCount_disconnectHour_weekends = createSessionCounterDataframe(hours, 'disconnectHour',charging_sessions_weekends)\n",
    "\n",
    "session_count_site1 = df_sessionCount_disconnectHour_weekdays[df_sessionCount_disconnectHour_weekdays['siteID'] == 1]['sessionCount']\n",
    "session_count_site2 = df_sessionCount_disconnectHour_weekdays[df_sessionCount_disconnectHour_weekdays['siteID'] == 2]['sessionCount']\n",
    "title = 'Number of sessions per disconnect hour on weekdays'\n",
    "x_label = 'Hours when disconnected'\n",
    "y_label = 'Number of sessions'\n",
    "createGroupedBarChart(hours, session_count_site1, session_count_site2, title, x_label, y_label)\n",
    "\n",
    "hours = df_sessionCount_disconnectHour_weekends['disconnectHour'].unique()\n",
    "session_count_site1 = df_sessionCount_disconnectHour_weekends[df_sessionCount_disconnectHour_weekends['siteID'] == 1]['sessionCount']\n",
    "session_count_site2 = df_sessionCount_disconnectHour_weekends[df_sessionCount_disconnectHour_weekends['siteID'] == 2]['sessionCount']\n",
    "title = 'Number of sessions per disconnect hour on weekends'\n",
    "x_label = 'Hours when disconnected'\n",
    "y_label = 'Number of sessions'\n",
    "createGroupedBarChart(hours, session_count_site1, session_count_site2, title, x_label, y_label)\n"
   ]
  },
  {
   "cell_type": "markdown",
   "metadata": {},
   "source": [
    "Beschreibung hinzufügen"
   ]
  },
  {
   "cell_type": "markdown",
   "metadata": {},
   "source": [
    "In the following, we will have a closer look at the users. First of all, we analyze the number of registered users on each site.\n",
    "Afterwards, we want to see how the amount of users who must pay for charging differs between the two sites. "
   ]
  },
  {
   "cell_type": "code",
   "execution_count": null,
   "metadata": {},
   "outputs": [
    {
     "name": "stdout",
     "output_type": "stream",
     "text": [
      "0         194.0\n",
      "1        4275.0\n",
      "2         344.0\n",
      "3        1117.0\n",
      "4         334.0\n",
      "          ...  \n",
      "66445     393.0\n",
      "66446     220.0\n",
      "66447    1974.0\n",
      "66448     942.0\n",
      "66449       NaN\n",
      "Name: userID, Length: 66450, dtype: float64\n"
     ]
    }
   ],
   "source": [
    "print(df_charging_sessions['userID'])"
   ]
  },
  {
   "cell_type": "code",
   "execution_count": null,
   "metadata": {},
   "outputs": [
    {
     "name": "stdout",
     "output_type": "stream",
     "text": [
      "Empty DataFrame\n",
      "Columns: [id, userID, siteID, userInputs, paymentRequired]\n",
      "Index: []\n"
     ]
    }
   ],
   "source": [
    "df_user_info = df_charging_sessions[df_charging_sessions['userInformation']==True] \n",
    "df_user_info = df_user_info[['id','userID','siteID', 'userInputs']]\n",
    "def extract_payment_required(dict_list):\n",
    "    try:\n",
    "        dict_list = ast.literal_eval(dict_list)\n",
    "        for entry in dict_list:\n",
    "            return entry.get('paymentRequired')\n",
    "    except AttributeError as e:\n",
    "        print(f\"Attribute Error: {e}\")\n",
    "        return None\n",
    "\n",
    "df_user_info['paymentRequired'] = df_user_info['userInputs'].apply(extract_payment_required)\n",
    "print(df_user_info[df_user_info['paymentRequired']==False])"
   ]
  },
  {
   "cell_type": "markdown",
   "metadata": {},
   "source": [
    "Every user has to pay. Therefore, no information can be gained from this column.\n",
    "# umformulierne -> für diese Aufgabe"
   ]
  },
  {
   "cell_type": "code",
   "execution_count": null,
   "metadata": {},
   "outputs": [
    {
     "name": "stdout",
     "output_type": "stream",
     "text": [
      "[WhPerMile                                       400\n",
      "kWhRequested                                      8\n",
      "milesRequested                                   20\n",
      "minutesAvailable                                 65\n",
      "modifiedAt            Thu, 02 Jan 2020 14:00:03 GMT\n",
      "paymentRequired                                True\n",
      "requestedDeparture    Thu, 02 Jan 2020 15:04:58 GMT\n",
      "userID                                         1117\n",
      "dtype: object, WhPerMile                                       400\n",
      "kWhRequested                                      8\n",
      "milesRequested                                   20\n",
      "minutesAvailable                                 65\n",
      "modifiedAt            Thu, 02 Jan 2020 14:00:19 GMT\n",
      "paymentRequired                                True\n",
      "requestedDeparture    Thu, 02 Jan 2020 15:04:58 GMT\n",
      "userID                                         1117\n",
      "dtype: object]\n"
     ]
    }
   ],
   "source": []
  },
  {
   "cell_type": "markdown",
   "metadata": {},
   "source": []
  },
  {
   "cell_type": "markdown",
   "metadata": {},
   "source": [
    "relativ auf registered users eingehen"
   ]
  }
 ],
 "metadata": {
  "kernelspec": {
   "display_name": "Python 3",
   "language": "python",
   "name": "python3"
  },
  "language_info": {
   "codemirror_mode": {
    "name": "ipython",
    "version": 3
   },
   "file_extension": ".py",
   "mimetype": "text/x-python",
   "name": "python",
   "nbconvert_exporter": "python",
   "pygments_lexer": "ipython3",
   "version": "3.9.6"
  }
 },
 "nbformat": 4,
 "nbformat_minor": 2
}
