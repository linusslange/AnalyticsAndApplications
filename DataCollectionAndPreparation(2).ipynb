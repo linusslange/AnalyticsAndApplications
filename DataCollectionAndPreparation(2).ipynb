{
 "cells": [
  {
   "cell_type": "markdown",
   "id": "827a722b-0073-462e-aa96-2b603b3544fc",
   "metadata": {},
   "source": [
    "# Task 1: Data Collection and Preparation"
   ]
  },
  {
   "cell_type": "code",
   "execution_count": 1,
   "id": "a50c5213-5731-49cd-be73-66b896fa6f11",
   "metadata": {},
   "outputs": [],
   "source": [
    "import pandas as pd\n",
    "import ast\n",
    "import numpy as np"
   ]
  },
  {
   "cell_type": "markdown",
   "id": "c9f24730-e348-4e17-94a2-d26f37939c58",
   "metadata": {},
   "source": [
    "## Charging Sessions Dataset"
   ]
  },
  {
   "cell_type": "markdown",
   "id": "205e97f0-3292-444e-b9c5-00c5fd55df82",
   "metadata": {},
   "source": [
    "Read in the data as a dataframe. Interpret the date columns as dates."
   ]
  },
  {
   "cell_type": "markdown",
   "id": "622ce60d-d7b9-4dea-9ede-f5d25df628e1",
   "metadata": {},
   "source": [
    "## Weather Burbank Airport Dataset"
   ]
  },
  {
   "cell_type": "markdown",
   "id": "ade3f1db-763c-478a-b325-8125865d57ea",
   "metadata": {},
   "source": [
    "Read in the data as a dataframe. Interpret the date columns as dates."
   ]
  },
  {
   "cell_type": "code",
   "execution_count": 17,
   "id": "1a314334-0512-42f2-90d8-b9cdf191da68",
   "metadata": {},
   "outputs": [
    {
     "name": "stdout",
     "output_type": "stream",
     "text": [
      "Columns:  Index(['city', 'timestamp', 'temperature', 'cloud_cover',\n",
      "       'cloud_cover_description', 'pressure', 'windspeed', 'precipitation',\n",
      "       'felt_temperature'],\n",
      "      dtype='object')\n",
      "Number of rows:  29244\n"
     ]
    }
   ],
   "source": [
    "Weather_set = pd.read_csv('weather_burbank_airport.csv', parse_dates=['timestamp'])\n",
    "print('Columns: ', Weather_set.columns)\n",
    "print('Number of rows: ', Weather_set.shape[0])"
   ]
  },
  {
   "cell_type": "markdown",
   "id": "4853189d-2dec-4664-8cf1-964e93929eab",
   "metadata": {},
   "source": [
    "We delete all rows that contain exactly the same values."
   ]
  },
  {
   "cell_type": "code",
   "execution_count": 18,
   "id": "c469ddfd-1312-485d-bc22-9e91767c1a8a",
   "metadata": {},
   "outputs": [
    {
     "name": "stdout",
     "output_type": "stream",
     "text": [
      "Number of duplicate rows:  0\n"
     ]
    }
   ],
   "source": [
    "numRows = Weather_set.shape[0]\n",
    "Weather_set = Weather_set.drop_duplicates()\n",
    "print('Number of duplicate rows: ', numRows-Weather_set.shape[0])"
   ]
  },
  {
   "cell_type": "code",
   "execution_count": 19,
   "id": "4cbd5fc2",
   "metadata": {},
   "outputs": [],
   "source": [
    "def missingValues(columnName, dataSet) :\n",
    "    if (dataSet[columnName].isnull().any()):\n",
    "        percentage = round(dataSet[columnName].isnull().sum()/dataSet.shape[0]*100, 2)\n",
    "        print('The column contains', dataSet[columnName].isnull().sum(), 'missing values. This corresponds to', percentage, '%.')\n",
    "    else:\n",
    "        print('The column does not contain missing values.')\n",
    "\n",
    "def valueRange(columnName, dataSet) :\n",
    "    print('Min. value: ', dataSet[columnName].min(), '\\nMax. value: ', dataSet[columnName].max())\n",
    "\n",
    "def dataTypes(columnName, dataSet):\n",
    "    print('Occuring data types: ', dataSet[columnName].apply(type).unique())"
   ]
  },
  {
   "cell_type": "markdown",
   "id": "8d7a3e08-a4a3-4288-84a2-600df674239d",
   "metadata": {},
   "source": [
    "### deleted Column: city"
   ]
  },
  {
   "cell_type": "code",
   "execution_count": 20,
   "id": "6a9961d9-4264-4feb-8d82-17809aee33a8",
   "metadata": {},
   "outputs": [
    {
     "name": "stdout",
     "output_type": "stream",
     "text": [
      "Occuring data types:  [<class 'str'>]\n",
      "Min. value:  Burbank \n",
      "Max. value:  Burbank\n",
      "The column does not contain missing values.\n",
      "Occuring values:  ['Burbank']\n"
     ]
    }
   ],
   "source": [
    "dataTypes('city', Weather_set)\n",
    "valueRange('city', Weather_set)\n",
    "missingValues('city', Weather_set)\n",
    "print( 'Occuring values: ', Weather_set['city'].unique())"
   ]
  },
  {
   "cell_type": "code",
   "execution_count": 21,
   "id": "7ebafabd",
   "metadata": {},
   "outputs": [
    {
     "name": "stdout",
     "output_type": "stream",
     "text": [
      "Occuring data types:  [<class 'pandas._libs.tslibs.timestamps.Timestamp'>]\n",
      "Min. value:  2018-01-01 08:53:00 \n",
      "Max. value:  2021-01-01 07:53:00\n",
      "The column does not contain missing values.\n",
      "The rows are ordered by increasing time.\n",
      "Occuring time intervals:  <TimedeltaArray>\n",
      "[              NaT, '0 days 01:00:00', '0 days 00:43:00', '0 days 00:05:00',\n",
      " '0 days 00:12:00', '0 days 00:37:00', '0 days 00:23:00', '0 days 00:31:00',\n",
      " '0 days 00:17:00', '0 days 00:04:00', '0 days 00:11:00', '0 days 00:28:00',\n",
      " '0 days 00:41:00', '0 days 00:19:00', '0 days 00:39:00', '0 days 00:21:00',\n",
      " '0 days 00:38:00', '0 days 00:20:00', '0 days 00:02:00', '0 days 00:08:00',\n",
      " '0 days 00:15:00', '0 days 00:24:00', '0 days 00:14:00', '0 days 00:46:00',\n",
      " '0 days 00:36:00', '0 days 00:10:00', '0 days 00:09:00', '0 days 00:51:00',\n",
      " '0 days 00:48:00', '0 days 00:03:00', '0 days 00:30:00', '0 days 00:16:00',\n",
      " '0 days 00:42:00', '0 days 00:49:00', '0 days 00:29:00', '0 days 00:32:00',\n",
      " '0 days 00:44:00', '0 days 00:07:00', '0 days 00:34:00', '0 days 00:13:00',\n",
      " '0 days 00:26:00', '0 days 00:47:00', '0 days 00:58:00', '0 days 00:50:00',\n",
      " '0 days 00:45:00', '0 days 00:40:00', '0 days 00:52:00', '0 days 00:55:00',\n",
      " '0 days 00:53:00', '0 days 00:57:00', '0 days 00:54:00', '0 days 00:06:00',\n",
      " '0 days 00:35:00', '0 days 00:25:00', '0 days 00:18:00', '0 days 00:33:00',\n",
      " '0 days 00:27:00', '0 days 00:22:00', '0 days 00:01:00', '0 days 00:59:00',\n",
      " '0 days 00:56:00', '0 days 03:00:00', '0 days 04:00:00', '0 days 02:00:00',\n",
      " '0 days 06:00:00', '0 days 17:00:00', '0 days 01:15:00', '0 days 01:03:00',\n",
      " '1 days 14:00:00', '0 days 07:30:00']\n",
      "Length: 70, dtype: timedelta64[ns]\n"
     ]
    }
   ],
   "source": [
    "\n",
    "\n",
    "dataTypes('timestamp', Weather_set)\n",
    "valueRange('timestamp', Weather_set)\n",
    "missingValues('timestamp', Weather_set)\n",
    "if Weather_set['timestamp'].is_monotonic_increasing :\n",
    "    print('The rows are ordered by increasing time.')\n",
    "print('Occuring time intervals: ', Weather_set['timestamp'].diff().unique())\n",
    "\n"
   ]
  },
  {
   "cell_type": "markdown",
   "id": "b95842ab-93c1-46ee-a74a-a0f08bfeb4d1",
   "metadata": {},
   "source": [
    "The column 'city' only contains identical values. Therefore, it can be deleted."
   ]
  },
  {
   "cell_type": "code",
   "execution_count": 22,
   "id": "17db8dd8-abb0-4c24-9a5d-65b46228ca6a",
   "metadata": {},
   "outputs": [],
   "source": [
    "Weather_set = Weather_set.drop(['city'], axis=1)"
   ]
  },
  {
   "cell_type": "markdown",
   "id": "6aa6685a-03ca-40a9-b962-21da61cf7dda",
   "metadata": {},
   "source": [
    "### Column: timestamp"
   ]
  },
  {
   "attachments": {},
   "cell_type": "markdown",
   "id": "81c5ef31-a438-478b-9454-6c15c8a695b8",
   "metadata": {},
   "source": [
    "The Charging Session Dataset contains data between 2018-04-25 11:08:04+00:00 and 2021-09-14 14:46:28+00:00.\n",
    "\n",
    "The Weather Burbank Airport Dataset contains data between 2018-01-01 08:53:00 and 2021-01-01 07:53:00.\n",
    "\n",
    "Problem: this is not the same time span!"
   ]
  },
  {
   "cell_type": "markdown",
   "id": "199227c7-c276-498e-8fd5-1ca42cc4741c",
   "metadata": {},
   "source": [
    "### Column: temperature"
   ]
  },
  {
   "cell_type": "code",
   "execution_count": 23,
   "id": "fa1c6c15-eb2c-426f-9eb6-247b19d21557",
   "metadata": {},
   "outputs": [
    {
     "name": "stdout",
     "output_type": "stream",
     "text": [
      "Occuring data types:  [<class 'float'>]\n",
      "Min. value:  2.0 \n",
      "Max. value:  46.0\n",
      "The column contains 25 missing values. This corresponds to 0.09 %.\n"
     ]
    }
   ],
   "source": [
    "dataTypes('temperature', Weather_set)\n",
    "valueRange('temperature', Weather_set)\n",
    "missingValues('temperature', Weather_set)"
   ]
  },
  {
   "cell_type": "markdown",
   "id": "bbfb210e-1f4b-465e-a412-2ec68bc08da6",
   "metadata": {},
   "source": [
    "In order not to lose rows with missing values, we replace these. As the data ist sorted by time and therefore the true values are close to the surrounding values, we perform a forward fill for the missing values."
   ]
  },
  {
   "cell_type": "code",
   "execution_count": 24,
   "id": "8255d6e6-1bf2-40f6-a235-c0463c60c7e8",
   "metadata": {},
   "outputs": [
    {
     "name": "stdout",
     "output_type": "stream",
     "text": [
      "The column does not contain missing values.\n"
     ]
    }
   ],
   "source": [
    "Weather_set['temperature'] = Weather_set['temperature'].ffill()\n",
    "missingValues('temperature', Weather_set)"
   ]
  },
  {
   "cell_type": "markdown",
   "id": "7904f859-445e-4b08-98de-c52f91f20fae",
   "metadata": {},
   "source": [
    "### Column: cloud_cover"
   ]
  },
  {
   "cell_type": "code",
   "execution_count": 25,
   "id": "e8c9e343-5c9a-4e62-b8e4-4f93207343e4",
   "metadata": {},
   "outputs": [
    {
     "name": "stdout",
     "output_type": "stream",
     "text": [
      "Occuring data types:  [<class 'float'>]\n",
      "Min. value:  4.0 \n",
      "Max. value:  47.0\n",
      "The column contains 20 missing values. This corresponds to 0.07 %.\n"
     ]
    }
   ],
   "source": [
    "dataTypes('cloud_cover', Weather_set)\n",
    "valueRange('cloud_cover', Weather_set)\n",
    "missingValues('cloud_cover', Weather_set)"
   ]
  },
  {
   "cell_type": "markdown",
   "id": "a26e9f19-46b2-4037-b122-e483d65c02ef",
   "metadata": {},
   "source": [
    "In order not to lose rows with missing values, we replace these. As the data ist sorted by time and therefore the true values are close to the surrounding values, we perform a forward fill for the missing values."
   ]
  },
  {
   "cell_type": "code",
   "execution_count": 26,
   "id": "d5fb6e92-5bb1-4cad-b5cc-66f7fc293e95",
   "metadata": {},
   "outputs": [
    {
     "name": "stdout",
     "output_type": "stream",
     "text": [
      "The column does not contain missing values.\n"
     ]
    }
   ],
   "source": [
    "Weather_set['cloud_cover'] = Weather_set['cloud_cover'].ffill()\n",
    "missingValues('cloud_cover', Weather_set)"
   ]
  },
  {
   "cell_type": "markdown",
   "id": "861e2c8f-d8c5-47fe-b90e-a42cb4a486b2",
   "metadata": {},
   "source": [
    "### Column: cloud_cover_description"
   ]
  },
  {
   "cell_type": "code",
   "execution_count": 27,
   "id": "09053086-20aa-4010-b433-aa713685674e",
   "metadata": {},
   "outputs": [
    {
     "name": "stdout",
     "output_type": "stream",
     "text": [
      "Occuring data types:  [<class 'str'> <class 'float'>]\n",
      "The column contains 20 missing values. This corresponds to 0.07 %.\n"
     ]
    }
   ],
   "source": [
    "dataTypes('cloud_cover_description', Weather_set)\n",
    "missingValues('cloud_cover_description', Weather_set)"
   ]
  },
  {
   "cell_type": "markdown",
   "id": "426b1184-28d6-4827-a448-9b3f5e653e66",
   "metadata": {},
   "source": [
    "In order not to lose rows with missing values, we replace these. As the data ist sorted by time and therefore the true values are close to the surrounding values, we perform a forward fill for the missing values."
   ]
  },
  {
   "cell_type": "code",
   "execution_count": 28,
   "id": "3ad57dcd-5975-4fc0-b19a-0d1322c2b85a",
   "metadata": {},
   "outputs": [
    {
     "name": "stdout",
     "output_type": "stream",
     "text": [
      "The column does not contain missing values.\n"
     ]
    }
   ],
   "source": [
    "Weather_set['cloud_cover_description'] = Weather_set['cloud_cover_description'].ffill()\n",
    "missingValues('cloud_cover_description', Weather_set)"
   ]
  },
  {
   "cell_type": "code",
   "execution_count": 29,
   "id": "aef28262-9b23-4818-8e0e-d7425afb7a18",
   "metadata": {},
   "outputs": [
    {
     "data": {
      "text/plain": [
       "cloud_cover_description\n",
       "Fair                       17140\n",
       "Cloudy                      4937\n",
       "Partly Cloudy               2668\n",
       "Mostly Cloudy               1831\n",
       "Light Rain                   896\n",
       "Haze                         579\n",
       "Smoke                        329\n",
       "Fog                          325\n",
       "Rain                         247\n",
       "Heavy Rain                   120\n",
       "Fair / Windy                  74\n",
       "T-Storm                       18\n",
       "Thunder in the Vicinity       17\n",
       "Partly Cloudy / Windy         14\n",
       "Light Rain / Windy            10\n",
       "Mostly Cloudy / Windy         10\n",
       "Cloudy / Windy                 9\n",
       "Heavy Rain / Windy             7\n",
       "Blowing Dust                   5\n",
       "Heavy T-Storm                  4\n",
       "Rain / Windy                   2\n",
       "Thunder                        1\n",
       "Light Rain with Thunder        1\n",
       "Name: count, dtype: int64"
      ]
     },
     "execution_count": 29,
     "metadata": {},
     "output_type": "execute_result"
    }
   ],
   "source": [
    "Weather_set[\"cloud_cover_description\"].value_counts()"
   ]
  },
  {
   "cell_type": "markdown",
   "id": "7d515d0d-d33a-4115-9c2d-c36375856a27",
   "metadata": {},
   "source": [
    "It could be useful to group the classes."
   ]
  },
  {
   "cell_type": "markdown",
   "id": "9745a187-6f57-42cc-ac6f-afa973f45bf6",
   "metadata": {},
   "source": [
    "### Column: pressure"
   ]
  },
  {
   "cell_type": "code",
   "execution_count": 30,
   "id": "33f71ae5-0976-41f2-a694-1a3f34e2791d",
   "metadata": {},
   "outputs": [
    {
     "name": "stdout",
     "output_type": "stream",
     "text": [
      "Occuring data types:  [<class 'float'>]\n",
      "Min. value:  971.0 \n",
      "Max. value:  999.65\n",
      "The column contains 8 missing values. This corresponds to 0.03 %.\n"
     ]
    }
   ],
   "source": [
    "dataTypes('pressure', Weather_set)\n",
    "valueRange('pressure', Weather_set)\n",
    "missingValues('pressure', Weather_set)"
   ]
  },
  {
   "cell_type": "markdown",
   "id": "cf3591da-5ea9-4789-a027-beab72dea509",
   "metadata": {},
   "source": [
    "In order not to lose rows with missing values, we replace these. As the data ist sorted by time and therefore the true values are close to the surrounding values, we perform a forward fill for the missing values."
   ]
  },
  {
   "cell_type": "code",
   "execution_count": 31,
   "id": "665c811f-01de-49fd-b974-07827b087766",
   "metadata": {},
   "outputs": [
    {
     "name": "stdout",
     "output_type": "stream",
     "text": [
      "The column does not contain missing values.\n"
     ]
    }
   ],
   "source": [
    "Weather_set['pressure'] = Weather_set['pressure'].ffill()\n",
    "missingValues('pressure', Weather_set)"
   ]
  },
  {
   "cell_type": "markdown",
   "id": "5cf29649-a5c5-4601-bce1-d9d443ee528b",
   "metadata": {},
   "source": [
    "### Column: windspeed"
   ]
  },
  {
   "cell_type": "code",
   "execution_count": 32,
   "id": "cc0bb97f-9465-43c1-b4a9-d3c1242da42e",
   "metadata": {},
   "outputs": [
    {
     "name": "stdout",
     "output_type": "stream",
     "text": [
      "Occuring data types:  [<class 'float'>]\n",
      "Min. value:  0.0 \n",
      "Max. value:  57.0\n",
      "The column contains 86 missing values. This corresponds to 0.29 %.\n"
     ]
    }
   ],
   "source": [
    "dataTypes('windspeed', Weather_set)\n",
    "valueRange('windspeed', Weather_set)\n",
    "missingValues('windspeed', Weather_set)"
   ]
  },
  {
   "cell_type": "markdown",
   "id": "530cc7c7-d654-4dae-a93a-19d64ac00731",
   "metadata": {},
   "source": [
    "In order not to lose rows with missing values, we replace these. As the data ist sorted by time and therefore the true values are close to the surrounding values, we perform a forward fill for the missing values."
   ]
  },
  {
   "cell_type": "code",
   "execution_count": 33,
   "id": "f708b221-61d4-4dec-9cbb-db93bc0d78e0",
   "metadata": {},
   "outputs": [
    {
     "name": "stdout",
     "output_type": "stream",
     "text": [
      "The column does not contain missing values.\n"
     ]
    }
   ],
   "source": [
    "Weather_set['windspeed'] = Weather_set['windspeed'].ffill()\n",
    "missingValues('windspeed', Weather_set)"
   ]
  },
  {
   "cell_type": "markdown",
   "id": "46c6c420-4209-463a-ab1c-49bc66a10190",
   "metadata": {},
   "source": [
    "### Column: precipitation"
   ]
  },
  {
   "cell_type": "code",
   "execution_count": 34,
   "id": "dc0457f9-cf02-484e-a48c-15acb36f2670",
   "metadata": {},
   "outputs": [
    {
     "name": "stdout",
     "output_type": "stream",
     "text": [
      "Occuring data types:  [<class 'float'>]\n",
      "Min. value:  0.0 \n",
      "Max. value:  18.54\n",
      "The column does not contain missing values.\n"
     ]
    }
   ],
   "source": [
    "dataTypes('precipitation', Weather_set)\n",
    "valueRange('precipitation', Weather_set)\n",
    "missingValues('precipitation', Weather_set)"
   ]
  },
  {
   "cell_type": "markdown",
   "id": "1b42b3c0-ac47-41b0-837f-1944311f8887",
   "metadata": {},
   "source": [
    "### Column: felt_temperature"
   ]
  },
  {
   "cell_type": "code",
   "execution_count": 35,
   "id": "f6074f55-940a-410e-829b-1af8705bcfc1",
   "metadata": {},
   "outputs": [
    {
     "name": "stdout",
     "output_type": "stream",
     "text": [
      "Occuring data types:  [<class 'float'>]\n",
      "Min. value:  0.0 \n",
      "Max. value:  42.0\n",
      "The column contains 26 missing values. This corresponds to 0.09 %.\n"
     ]
    }
   ],
   "source": [
    "dataTypes('felt_temperature', Weather_set)\n",
    "valueRange('felt_temperature', Weather_set)\n",
    "missingValues('felt_temperature', Weather_set)"
   ]
  },
  {
   "cell_type": "markdown",
   "id": "b71da9f4-4f19-4576-a62e-8e159733ff15",
   "metadata": {},
   "source": [
    "In order not to lose rows with missing values, we replace these. As the data ist sorted by time and therefore the true values are close to the surrounding values, we perform a forward fill for the missing values."
   ]
  },
  {
   "cell_type": "code",
   "execution_count": 36,
   "id": "a35a2ad0-5da6-4b9e-a887-d1e2afa9c6da",
   "metadata": {},
   "outputs": [
    {
     "name": "stdout",
     "output_type": "stream",
     "text": [
      "The column does not contain missing values.\n"
     ]
    }
   ],
   "source": [
    "Weather_set['felt_temperature'] = Weather_set['felt_temperature'].ffill()\n",
    "missingValues('felt_temperature', Weather_set)"
   ]
  },
  {
   "cell_type": "markdown",
   "id": "be1112f9-0cb9-4133-9592-029fb5e38a27",
   "metadata": {},
   "source": [
    "### Dataset description"
   ]
  },
  {
   "cell_type": "code",
   "execution_count": 37,
   "id": "2f780826-591e-427e-a8e4-86fa37e71cc4",
   "metadata": {},
   "outputs": [
    {
     "name": "stdout",
     "output_type": "stream",
     "text": [
      "<class 'pandas.core.frame.DataFrame'>\n",
      "RangeIndex: 29244 entries, 0 to 29243\n",
      "Data columns (total 8 columns):\n",
      " #   Column                   Non-Null Count  Dtype         \n",
      "---  ------                   --------------  -----         \n",
      " 0   timestamp                29244 non-null  datetime64[ns]\n",
      " 1   temperature              29244 non-null  float64       \n",
      " 2   cloud_cover              29244 non-null  float64       \n",
      " 3   cloud_cover_description  29244 non-null  object        \n",
      " 4   pressure                 29244 non-null  float64       \n",
      " 5   windspeed                29244 non-null  float64       \n",
      " 6   precipitation            29244 non-null  float64       \n",
      " 7   felt_temperature         29244 non-null  float64       \n",
      "dtypes: datetime64[ns](1), float64(6), object(1)\n",
      "memory usage: 1.8+ MB\n"
     ]
    }
   ],
   "source": [
    "Weather_set.info()\n",
    "Weather_set\n",
    "Weather_set.to_csv('weather_burbank_airport_preprocessed.csv', index=False)"
   ]
  }
 ],
 "metadata": {
  "kernelspec": {
   "display_name": "Python 3 (ipykernel)",
   "language": "python",
   "name": "python3"
  },
  "language_info": {
   "codemirror_mode": {
    "name": "ipython",
    "version": 3
   },
   "file_extension": ".py",
   "mimetype": "text/x-python",
   "name": "python",
   "nbconvert_exporter": "python",
   "pygments_lexer": "ipython3",
   "version": "3.8.18"
  }
 },
 "nbformat": 4,
 "nbformat_minor": 5
}
